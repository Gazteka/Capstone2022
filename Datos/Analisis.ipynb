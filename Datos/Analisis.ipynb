{
 "cells": [
  {
   "cell_type": "markdown",
   "metadata": {},
   "source": [
    "# Importación y preprocesamiento\n"
   ]
  },
  {
   "cell_type": "code",
   "execution_count": 4,
   "metadata": {},
   "outputs": [],
   "source": [
    "import pandas as pd\n",
    "import numpy as np\n",
    "import matplotlib.pyplot as plt\n",
    "from scipy import stats\n",
    "from fitter import Fitter, get_common_distributions, get_distributions"
   ]
  },
  {
   "cell_type": "code",
   "execution_count": 5,
   "metadata": {},
   "outputs": [],
   "source": [
    "# Abrimos y ajustamos los datos para leerlos\n",
    "datos_pacientes = pd.read_csv(\"Datos.csv\",sep = \";\")\n",
    "datos_pacientes[\"Marca de tiempo\"] = pd.to_datetime(datos_pacientes[\"Marca de tiempo\"])\n",
    "datos_operaciones = pd.read_csv(\"Datos operaciones origen urgencias.csv\")\n",
    "\n",
    "datos_operaciones = datos_operaciones.iloc[:,:5]\n",
    "datos_operaciones = datos_operaciones.drop(datos_operaciones.columns[3],axis = 1)"
   ]
  },
  {
   "cell_type": "code",
   "execution_count": 6,
   "metadata": {},
   "outputs": [],
   "source": [
    "#Estas son las áreas que aparecen en el diagrama entregado\n",
    "areas_mapa_profe = [\"URG101_003\",\"DIV101_603\",\"DIV101_604\",\"DIV101_703\",\"DIV102_203\",\"DIV103_107\",\"DIV103_204\",\n",
    "\"DIV104_602\",\"OPR101_011\",\"OPR101_033\",\"OPR102_001\",\"OPR102_003\",\"End\"]"
   ]
  },
  {
   "cell_type": "code",
   "execution_count": 7,
   "metadata": {},
   "outputs": [],
   "source": [
    "# Lo primero que haremos será filtrar los datos para obtener el nodo \"Outisde\"\n",
    "filtro_fuera = (~datos_pacientes[\"Area\"].isin(areas_mapa_profe))\n",
    "datos_pacientes.loc[filtro_fuera,\"Area\"] = \"Outside\""
   ]
  },
  {
   "cell_type": "code",
   "execution_count": 8,
   "metadata": {},
   "outputs": [],
   "source": [
    "#Eliminamos las filas donde el valor actual y el anterior corresponden al nodo outside, dejamos el primero,\n",
    "#marcando así la entrada del paciente al nodo outside, pero solo una vez \n",
    "filtro_doble_fuera = (~datos_pacientes[\"Area\"].isin(areas_mapa_profe))&((~datos_pacientes[\"Area\"].shift(1).isin(areas_mapa_profe)))\n",
    "datos_pacientes = datos_pacientes[~filtro_doble_fuera]\n"
   ]
  },
  {
   "cell_type": "code",
   "execution_count": 9,
   "metadata": {},
   "outputs": [],
   "source": [
    "datos_pacientes[\"Hora derivacion\"] = datos_pacientes[\"Marca de tiempo\"].shift(-1)\n",
    "datos_pacientes[\"Estadia\"] = datos_pacientes[\"Hora derivacion\"]  - datos_pacientes[\"Marca de tiempo\"]\n",
    "datos_pacientes[\"Estadia\"] = datos_pacientes[\"Estadia\"]/np.timedelta64(1,\"h\")\n",
    "datos_pacientes[\"Siguiente Área\"] = datos_pacientes[\"Area\"].shift(-1)"
   ]
  },
  {
   "cell_type": "code",
   "execution_count": 7,
   "metadata": {},
   "outputs": [],
   "source": [
    "import pylab as pl"
   ]
  },
  {
   "cell_type": "code",
   "execution_count": 87,
   "metadata": {},
   "outputs": [],
   "source": [
    "plt.style.use('ggplot')"
   ]
  },
  {
   "cell_type": "code",
   "execution_count": 88,
   "metadata": {},
   "outputs": [
    {
     "name": "stdout",
     "output_type": "stream",
     "text": [
      "Probabilidad de transición desde la sala de urgencias (DIV101_703)\n",
      "Outside       34.680135\n",
      "End           23.456790\n",
      "DIV103_204    11.111111\n",
      "DIV104_602     7.182941\n",
      "DIV101_604     6.060606\n",
      "DIV101_603     5.162738\n",
      "DIV103_107     5.050505\n",
      "DIV102_203     4.040404\n",
      "OPR102_003     3.030303\n",
      "OPR101_033     0.112233\n",
      "OPR102_001     0.112233\n",
      "Name: Siguiente Área, dtype: float64\n"
     ]
    },
    {
     "data": {
      "text/plain": [
       "Text(0.5, 0, 'Horas')"
      ]
     },
     "execution_count": 88,
     "metadata": {},
     "output_type": "execute_result"
    },
    {
     "data": {
      "image/png": "[encoded data removed]",
      "text/plain": [
       "<Figure size 432x288 with 1 Axes>"
      ]
     },
     "metadata": {},
     "output_type": "display_data"
    }
   ],
   "source": [
    "area = \"DIV101_703\"\n",
    "derivacion_urgencia = datos_pacientes[datos_pacientes[\"Area\"] == area][\"Siguiente Área\"]\n",
    "print(f\"Probabilidad de transición desde la sala de urgencias ({area})\")\n",
    "transiciones = (derivacion_urgencia.value_counts()/derivacion_urgencia.shape[0])*100\n",
    "print(transiciones)\n",
    "estadia_urgencia = datos_pacientes[datos_pacientes[\"Area\"] == area][\"Estadia\"]\n",
    "hist = estadia_urgencia.plot.hist(title = f\"Histograma de Estadía en {area}\",bins = 20)\n",
    "hist.set_xlabel(\"Horas\")"
   ]
  },
  {
   "cell_type": "markdown",
   "metadata": {},
   "source": [
    "## Analizamos caso a a caso"
   ]
  },
  {
   "cell_type": "code",
   "execution_count": 8,
   "metadata": {},
   "outputs": [],
   "source": [
    "set_pacientes = set(datos_pacientes[\"Case ID\"])\n",
    "entrada = \"URG101_003\"\n",
    "salida = \"End\"\n",
    "dic_info_pacientes = dict.fromkeys(set_pacientes,{})\n",
    "for paciente in set_pacientes:\n",
    "    info_paciente = datos_pacientes[datos_pacientes[\"Case ID\"] == paciente]\n",
    "    hora_entrada = info_paciente.iloc[0][\"Marca de tiempo\"]\n",
    "    hora_salida = info_paciente.iloc[-1][\"Marca de tiempo\"]\n",
    "    dic_paciente ={\"Entrada\":hora_entrada,\"Salida\":hora_salida}\n",
    "    duracion = hora_salida - hora_entrada\n",
    "    dic_paciente[\"Duracion\"] = duracion/np.timedelta64(1,\"h\")\n",
    "    procedimiento = list(info_paciente[\"Area\"])\n",
    "    ruta = \"\".join(procedimiento)\n",
    "    dic_paciente[\"Ruta\"] = ruta\n",
    "    dic_info_pacientes[paciente] = dic_paciente\n",
    "    "
   ]
  },
  {
   "cell_type": "code",
   "execution_count": 9,
   "metadata": {},
   "outputs": [],
   "source": [
    "df_info_pacientes = pd.DataFrame(dic_info_pacientes).T\n"
   ]
  },
  {
   "cell_type": "markdown",
   "metadata": {},
   "source": [
    "# Estado actual de los KPI"
   ]
  },
  {
   "cell_type": "markdown",
   "metadata": {},
   "source": [
    "### Lead time promedio"
   ]
  },
  {
   "cell_type": "code",
   "execution_count": 91,
   "metadata": {},
   "outputs": [
    {
     "data": {
      "text/plain": [
       "81.9152056901192"
      ]
     },
     "execution_count": 91,
     "metadata": {},
     "output_type": "execute_result"
    }
   ],
   "source": [
    "df_info_pacientes[\"Duracion\"].mean()"
   ]
  },
  {
   "cell_type": "markdown",
   "metadata": {},
   "source": [
    "### 5% de peores casos"
   ]
  },
  {
   "cell_type": "code",
   "execution_count": 92,
   "metadata": {},
   "outputs": [
    {
     "name": "stdout",
     "output_type": "stream",
     "text": [
      "971.1093023255813\n",
      "453.93333333333334\n",
      "4517.7\n"
     ]
    }
   ],
   "source": [
    "duraciones = df_info_pacientes[\"Duracion\"].sort_values()\n",
    "n_5_peor = int(duraciones.shape[0]*0.05)\n",
    "pct_5_peores_casos = duraciones.iloc[-n_5_peor:]\n",
    "print(pct_5_peores_casos.mean())\n",
    "print(pct_5_peores_casos.min())\n",
    "print(pct_5_peores_casos.max())"
   ]
  },
  {
   "cell_type": "markdown",
   "metadata": {},
   "source": [
    "# Analizamos las llegadas"
   ]
  },
  {
   "cell_type": "markdown",
   "metadata": {},
   "source": [
    "### Histograma de llegadas(solo para llegadas en menos de 24 horas)"
   ]
  },
  {
   "cell_type": "code",
   "execution_count": 93,
   "metadata": {},
   "outputs": [
    {
     "data": {
      "text/plain": [
       "Text(0.5, 1.0, 'Tiempo entre llegadas (Para tiempos menores a 24 horas)')"
      ]
     },
     "execution_count": 93,
     "metadata": {},
     "output_type": "execute_result"
    },
    {
     "data": {
      "image/png": "[encoded data removed]",
      "text/plain": [
       "<Figure size 432x288 with 1 Axes>"
      ]
     },
     "metadata": {},
     "output_type": "display_data"
    }
   ],
   "source": [
    "llegadas = df_info_pacientes[\"Entrada\"].sort_values()\n",
    "tiempo_entre_llegadas = (llegadas.shift(-1) - llegadas)/np.timedelta64(1,\"h\")\n",
    "hist = tiempo_entre_llegadas[tiempo_entre_llegadas < 24].hist(bins = 24)\n",
    "hist.set_xlabel(\"Horas\")\n",
    "hist.set_title(\"Tiempo entre llegadas (Para tiempos menores a 24 horas)\")"
   ]
  },
  {
   "cell_type": "code",
   "execution_count": 103,
   "metadata": {},
   "outputs": [
    {
     "name": "stderr",
     "output_type": "stream",
     "text": [
      "WARNING:root:SKIPPED kstwo distribution (taking more than 30 seconds)\n",
      "WARNING:root:SKIPPED levy_stable distribution (taking more than 30 seconds)\n",
      "WARNING:root:SKIPPED ncf distribution (taking more than 30 seconds)\n",
      "WARNING:root:SKIPPED ncx2 distribution (taking more than 30 seconds)\n",
      "WARNING:root:SKIPPED recipinvgauss distribution (taking more than 30 seconds)\n",
      "WARNING:root:SKIPPED rv_continuous distribution (taking more than 30 seconds)\n",
      "WARNING:root:SKIPPED rv_histogram distribution (taking more than 30 seconds)\n"
     ]
    },
    {
     "data": {
      "text/html": [
       "<div>\n",
       "<style scoped>\n",
       "    .dataframe tbody tr th:only-of-type {\n",
       "        vertical-align: middle;\n",
       "    }\n",
       "\n",
       "    .dataframe tbody tr th {\n",
       "        vertical-align: top;\n",
       "    }\n",
       "\n",
       "    .dataframe thead th {\n",
       "        text-align: right;\n",
       "    }\n",
       "</style>\n",
       "<table border=\"1\" class=\"dataframe\">\n",
       "  <thead>\n",
       "    <tr style=\"text-align: right;\">\n",
       "      <th></th>\n",
       "      <th>sumsquare_error</th>\n",
       "      <th>aic</th>\n",
       "      <th>bic</th>\n",
       "      <th>kl_div</th>\n",
       "    </tr>\n",
       "  </thead>\n",
       "  <tbody>\n",
       "    <tr>\n",
       "      <th>halfcauchy</th>\n",
       "      <td>0.027976</td>\n",
       "      <td>820.437217</td>\n",
       "      <td>-8680.704904</td>\n",
       "      <td>inf</td>\n",
       "    </tr>\n",
       "    <tr>\n",
       "      <th>foldcauchy</th>\n",
       "      <td>0.028391</td>\n",
       "      <td>824.091098</td>\n",
       "      <td>-8661.541248</td>\n",
       "      <td>inf</td>\n",
       "    </tr>\n",
       "    <tr>\n",
       "      <th>powerlognorm</th>\n",
       "      <td>0.029278</td>\n",
       "      <td>807.510133</td>\n",
       "      <td>-8628.871488</td>\n",
       "      <td>inf</td>\n",
       "    </tr>\n",
       "    <tr>\n",
       "      <th>pareto</th>\n",
       "      <td>0.030699</td>\n",
       "      <td>807.311675</td>\n",
       "      <td>-8595.657400</td>\n",
       "      <td>inf</td>\n",
       "    </tr>\n",
       "    <tr>\n",
       "      <th>betaprime</th>\n",
       "      <td>0.031229</td>\n",
       "      <td>802.393090</td>\n",
       "      <td>-8574.490752</td>\n",
       "      <td>inf</td>\n",
       "    </tr>\n",
       "  </tbody>\n",
       "</table>\n",
       "</div>"
      ],
      "text/plain": [
       "              sumsquare_error         aic          bic  kl_div\n",
       "halfcauchy           0.027976  820.437217 -8680.704904     inf\n",
       "foldcauchy           0.028391  824.091098 -8661.541248     inf\n",
       "powerlognorm         0.029278  807.510133 -8628.871488     inf\n",
       "pareto               0.030699  807.311675 -8595.657400     inf\n",
       "betaprime            0.031229  802.393090 -8574.490752     inf"
      ]
     },
     "execution_count": 103,
     "metadata": {},
     "output_type": "execute_result"
    },
    {
     "data": {
      "image/png": "[encoded data removed]",
      "text/plain": [
       "<Figure size 432x288 with 1 Axes>"
      ]
     },
     "metadata": {},
     "output_type": "display_data"
    }
   ],
   "source": [
    "tiempo_filtrado = tiempo_entre_llegadas[tiempo_entre_llegadas < 24]\n",
    "fit_llegadas_exp = Fitter(tiempo_filtrado)\n",
    "fit_llegadas_exp.fit()\n",
    "fit_llegadas_exp.summary()"
   ]
  },
  {
   "cell_type": "code",
   "execution_count": 105,
   "metadata": {},
   "outputs": [
    {
     "data": {
      "text/html": [
       "<div>\n",
       "<style scoped>\n",
       "    .dataframe tbody tr th:only-of-type {\n",
       "        vertical-align: middle;\n",
       "    }\n",
       "\n",
       "    .dataframe tbody tr th {\n",
       "        vertical-align: top;\n",
       "    }\n",
       "\n",
       "    .dataframe thead th {\n",
       "        text-align: right;\n",
       "    }\n",
       "</style>\n",
       "<table border=\"1\" class=\"dataframe\">\n",
       "  <thead>\n",
       "    <tr style=\"text-align: right;\">\n",
       "      <th></th>\n",
       "      <th>sumsquare_error</th>\n",
       "      <th>aic</th>\n",
       "      <th>bic</th>\n",
       "      <th>kl_div</th>\n",
       "    </tr>\n",
       "  </thead>\n",
       "  <tbody>\n",
       "    <tr>\n",
       "      <th>expon</th>\n",
       "      <td>0.040003</td>\n",
       "      <td>796.096339</td>\n",
       "      <td>-8379.236682</td>\n",
       "      <td>inf</td>\n",
       "    </tr>\n",
       "  </tbody>\n",
       "</table>\n",
       "</div>"
      ],
      "text/plain": [
       "       sumsquare_error         aic          bic  kl_div\n",
       "expon         0.040003  796.096339 -8379.236682     inf"
      ]
     },
     "execution_count": 105,
     "metadata": {},
     "output_type": "execute_result"
    },
    {
     "data": {
      "image/png": "[encoded data removed]",
      "text/plain": [
       "<Figure size 432x288 with 1 Axes>"
      ]
     },
     "metadata": {},
     "output_type": "display_data"
    }
   ],
   "source": [
    "tiempo_filtrado = tiempo_entre_llegadas[tiempo_entre_llegadas < 24]\n",
    "fit_llegadas_exp = Fitter(tiempo_filtrado, distributions=[\"expon\"])\n",
    "fit_llegadas_exp.fit()\n",
    "fit_llegadas_exp.summary()"
   ]
  },
  {
   "cell_type": "code",
   "execution_count": 107,
   "metadata": {},
   "outputs": [
    {
     "data": {
      "text/plain": [
       "{'expon': (0.0, 5.058066429418743)}"
      ]
     },
     "execution_count": 107,
     "metadata": {},
     "output_type": "execute_result"
    }
   ],
   "source": [
    "ajuste_exponencial = fit_llegadas_exp.get_best(method = \"sumsquare_error\")\n",
    "ajuste_exponencial"
   ]
  },
  {
   "cell_type": "code",
   "execution_count": 15,
   "metadata": {},
   "outputs": [
    {
     "data": {
      "text/plain": [
       "Text(0.5, 0, 'Hora del día')"
      ]
     },
     "execution_count": 15,
     "metadata": {},
     "output_type": "execute_result"
    },
    {
     "data": {
      "image/png": "[encoded data removed]",
      "text/plain": [
       "<Figure size 432x288 with 1 Axes>"
      ]
     },
     "metadata": {
      "needs_background": "light"
     },
     "output_type": "display_data"
    }
   ],
   "source": [
    "horas_entrada = [entrada.hour for entrada in df_info_pacientes[\"Entrada\"]]\n",
    "df_info_pacientes[\"Hora entrada\"] = horas_entrada\n",
    "hist = df_info_pacientes[\"Hora entrada\"].plot.hist(bins = 24,title = \"Distribución de llegadas a lo largo del día\")\n",
    "hist.set_xlabel(\"Hora del día\")"
   ]
  },
  {
   "cell_type": "markdown",
   "metadata": {},
   "source": [
    "# Analisis de operaciones"
   ]
  },
  {
   "cell_type": "code",
   "execution_count": 16,
   "metadata": {},
   "outputs": [
    {
     "name": "stdout",
     "output_type": "stream",
     "text": [
      "2.4310679611650494\n",
      "4.1\n",
      "0.0\n"
     ]
    }
   ],
   "source": [
    "print(datos_operaciones[\"DURACION (hrs)\"].mean())\n",
    "print(datos_operaciones[\"DURACION (hrs)\"].max())\n",
    "print(datos_operaciones[\"DURACION (hrs)\"].min())"
   ]
  },
  {
   "cell_type": "code",
   "execution_count": 17,
   "metadata": {},
   "outputs": [
    {
     "data": {
      "text/plain": [
       "Text(0.5, 0, 'Horas')"
      ]
     },
     "execution_count": 17,
     "metadata": {},
     "output_type": "execute_result"
    },
    {
     "data": {
      "image/png": "[encoded data removed]",
      "text/plain": [
       "<Figure size 432x288 with 1 Axes>"
      ]
     },
     "metadata": {
      "needs_background": "light"
     },
     "output_type": "display_data"
    }
   ],
   "source": [
    "hist = datos_operaciones[\"DURACION (hrs)\"].plot.hist()\n",
    "hist.set_title(\"Distribución de la duración de las operaciones\")\n",
    "hist.set_xlabel(\"Horas\")"
   ]
  },
  {
   "cell_type": "code",
   "execution_count": 18,
   "metadata": {},
   "outputs": [
    {
     "data": {
      "text/plain": [
       "Text(0.5, 1.0, 'Cantidad de operaciones recibidas por paciente')"
      ]
     },
     "execution_count": 18,
     "metadata": {},
     "output_type": "execute_result"
    },
    {
     "data": {
      "image/png": "[encoded data removed]",
      "text/plain": [
       "<Figure size 432x288 with 1 Axes>"
      ]
     },
     "metadata": {
      "needs_background": "light"
     },
     "output_type": "display_data"
    }
   ],
   "source": [
    "hist = datos_operaciones[\"ID\"].value_counts().hist(bins = 20)\n",
    "hist.set_xlabel(\"Número de operaciones recibidas\")\n",
    "hist.set_title(\"Cantidad de operaciones recibidas por paciente\")"
   ]
  },
  {
   "cell_type": "code",
   "execution_count": 19,
   "metadata": {},
   "outputs": [
    {
     "data": {
      "text/plain": [
       "Text(0, 0.5, 'Número de operaciones realizadas')"
      ]
     },
     "execution_count": 19,
     "metadata": {},
     "output_type": "execute_result"
    },
    {
     "data": {
      "image/png": "[encoded data removed]",
      "text/plain": [
       "<Figure size 432x288 with 1 Axes>"
      ]
     },
     "metadata": {
      "needs_background": "light"
     },
     "output_type": "display_data"
    }
   ],
   "source": [
    "barplot = datos_operaciones[\"SALA OPERACIONES\"].value_counts().plot.bar()\n",
    "barplot.set_title(\"Salas más utilizadas para operaciones\")\n",
    "barplot.set_ylabel(\"Número de operaciones realizadas\")"
   ]
  },
  {
   "cell_type": "code",
   "execution_count": 20,
   "metadata": {},
   "outputs": [
    {
     "data": {
      "text/html": [
       "<div>\n",
       "<style scoped>\n",
       "    .dataframe tbody tr th:only-of-type {\n",
       "        vertical-align: middle;\n",
       "    }\n",
       "\n",
       "    .dataframe tbody tr th {\n",
       "        vertical-align: top;\n",
       "    }\n",
       "\n",
       "    .dataframe thead th {\n",
       "        text-align: right;\n",
       "    }\n",
       "</style>\n",
       "<table border=\"1\" class=\"dataframe\">\n",
       "  <thead>\n",
       "    <tr style=\"text-align: right;\">\n",
       "      <th></th>\n",
       "      <th>ID</th>\n",
       "      <th>SALA OPERACIONES</th>\n",
       "      <th>FECHA E INICIO</th>\n",
       "      <th>DURACION (hrs)</th>\n",
       "    </tr>\n",
       "  </thead>\n",
       "  <tbody>\n",
       "    <tr>\n",
       "      <th>0</th>\n",
       "      <td>14548704</td>\n",
       "      <td>OPR101_011</td>\n",
       "      <td>2018-01-02 10:15:00.000</td>\n",
       "      <td>2.8</td>\n",
       "    </tr>\n",
       "    <tr>\n",
       "      <th>1</th>\n",
       "      <td>14557024</td>\n",
       "      <td>OPR101_011</td>\n",
       "      <td>2017-12-22 13:37:00.000</td>\n",
       "      <td>1.6</td>\n",
       "    </tr>\n",
       "    <tr>\n",
       "      <th>2</th>\n",
       "      <td>14557024</td>\n",
       "      <td>OPR101_011</td>\n",
       "      <td>2018-01-12 15:36:00.000</td>\n",
       "      <td>1.2</td>\n",
       "    </tr>\n",
       "    <tr>\n",
       "      <th>3</th>\n",
       "      <td>14562339</td>\n",
       "      <td>OPR101_011</td>\n",
       "      <td>2018-01-03 15:56:00.000</td>\n",
       "      <td>1.3</td>\n",
       "    </tr>\n",
       "    <tr>\n",
       "      <th>4</th>\n",
       "      <td>14568735</td>\n",
       "      <td>OPR101_011</td>\n",
       "      <td>2018-01-05 18:34:00.000</td>\n",
       "      <td>3.2</td>\n",
       "    </tr>\n",
       "    <tr>\n",
       "      <th>...</th>\n",
       "      <td>...</td>\n",
       "      <td>...</td>\n",
       "      <td>...</td>\n",
       "      <td>...</td>\n",
       "    </tr>\n",
       "    <tr>\n",
       "      <th>407</th>\n",
       "      <td>14775043000</td>\n",
       "      <td>OPR102_003</td>\n",
       "      <td>2018-03-15 15:17:00.000</td>\n",
       "      <td>2.4</td>\n",
       "    </tr>\n",
       "    <tr>\n",
       "      <th>408</th>\n",
       "      <td>14799531000</td>\n",
       "      <td>OPR102_003</td>\n",
       "      <td>2018-03-26 13:02:00.000</td>\n",
       "      <td>3.3</td>\n",
       "    </tr>\n",
       "    <tr>\n",
       "      <th>409</th>\n",
       "      <td>14867095000</td>\n",
       "      <td>OPR102_003</td>\n",
       "      <td>2018-04-17 18:25:00.000</td>\n",
       "      <td>3.4</td>\n",
       "    </tr>\n",
       "    <tr>\n",
       "      <th>410</th>\n",
       "      <td>14973437000</td>\n",
       "      <td>OPR102_003</td>\n",
       "      <td>2018-05-30 13:42:00.000</td>\n",
       "      <td>2.4</td>\n",
       "    </tr>\n",
       "    <tr>\n",
       "      <th>411</th>\n",
       "      <td>15057073000</td>\n",
       "      <td>OPR102_003</td>\n",
       "      <td>2018-06-29 14:41:00.000</td>\n",
       "      <td>2.5</td>\n",
       "    </tr>\n",
       "  </tbody>\n",
       "</table>\n",
       "<p>412 rows × 4 columns</p>\n",
       "</div>"
      ],
      "text/plain": [
       "              ID SALA OPERACIONES           FECHA E INICIO  DURACION (hrs)\n",
       "0       14548704       OPR101_011  2018-01-02 10:15:00.000             2.8\n",
       "1       14557024       OPR101_011  2017-12-22 13:37:00.000             1.6\n",
       "2       14557024       OPR101_011  2018-01-12 15:36:00.000             1.2\n",
       "3       14562339       OPR101_011  2018-01-03 15:56:00.000             1.3\n",
       "4       14568735       OPR101_011  2018-01-05 18:34:00.000             3.2\n",
       "..           ...              ...                      ...             ...\n",
       "407  14775043000       OPR102_003  2018-03-15 15:17:00.000             2.4\n",
       "408  14799531000       OPR102_003  2018-03-26 13:02:00.000             3.3\n",
       "409  14867095000       OPR102_003  2018-04-17 18:25:00.000             3.4\n",
       "410  14973437000       OPR102_003  2018-05-30 13:42:00.000             2.4\n",
       "411  15057073000       OPR102_003  2018-06-29 14:41:00.000             2.5\n",
       "\n",
       "[412 rows x 4 columns]"
      ]
     },
     "execution_count": 20,
     "metadata": {},
     "output_type": "execute_result"
    }
   ],
   "source": [
    "datos_operaciones"
   ]
  },
  {
   "cell_type": "code",
   "execution_count": 21,
   "metadata": {},
   "outputs": [
    {
     "data": {
      "text/plain": [
       "['URG101_003',\n",
       " 'DIV101_603',\n",
       " 'DIV101_604',\n",
       " 'DIV101_703',\n",
       " 'DIV102_203',\n",
       " 'DIV103_107',\n",
       " 'DIV103_204',\n",
       " 'DIV104_602',\n",
       " 'OPR101_011',\n",
       " 'OPR101_033',\n",
       " 'OPR102_001',\n",
       " 'OPR102_003',\n",
       " 'End']"
      ]
     },
     "execution_count": 21,
     "metadata": {},
     "output_type": "execute_result"
    }
   ],
   "source": [
    "areas_mapa_profe"
   ]
  },
  {
   "cell_type": "markdown",
   "metadata": {},
   "source": [
    "# Distribuciones por sala"
   ]
  },
  {
   "cell_type": "code",
   "execution_count": 10,
   "metadata": {},
   "outputs": [],
   "source": [
    "from scipy import stats"
   ]
  },
  {
   "cell_type": "code",
   "execution_count": 23,
   "metadata": {
    "scrolled": false
   },
   "outputs": [
    {
     "name": "stdout",
     "output_type": "stream",
     "text": [
      "URG101_003 lista\n",
      "DIV101_603 lista\n",
      "DIV101_604 lista\n",
      "DIV101_703 lista\n",
      "DIV102_203 lista\n",
      "DIV103_107 lista\n",
      "DIV103_204 lista\n",
      "DIV104_602 lista\n",
      "OPR101_011 lista\n",
      "OPR101_033 lista\n",
      "OPR102_001 lista\n"
     ]
    },
    {
     "name": "stderr",
     "output_type": "stream",
     "text": [
      "WARNING:root:SKIPPED expon distribution (taking more than 30 seconds)\n",
      "WARNING:root:SKIPPED beta distribution (taking more than 30 seconds)\n",
      "WARNING:root:SKIPPED lognorm distribution (taking more than 30 seconds)\n"
     ]
    },
    {
     "name": "stdout",
     "output_type": "stream",
     "text": [
      "OPR102_003 lista\n"
     ]
    }
   ],
   "source": [
    "dic_distribuciones = dict.fromkeys(areas_mapa_profe)\n",
    "for area in areas_mapa_profe:\n",
    "    try : \n",
    "        estadia = datos_pacientes[datos_pacientes[\"Area\"] == area][\"Estadia\"]\n",
    "        estadia = np.array(estadia)\n",
    "        f = Fitter(estadia,distributions = [\"expon\",\"beta\",\"lognorm\",\"norm\",])\n",
    "        f.fit()\n",
    "        best = f.get_best(method = \"sumsquare_error\")\n",
    "        dic_distribuciones[area] = best\n",
    "        print(area,\"lista\")\n",
    "    \n",
    "    except:\n",
    "        continue\n",
    "        \n"
   ]
  },
  {
   "cell_type": "markdown",
   "metadata": {},
   "source": [
    "## Test de bondad \n",
    "Recordar que **si el p-value es menor a 0.05 implica que la distribución ajusta de buena manera a los datos**. Si el p-values es mayor a 0.05 significa que no hay información suficiente para justificar que la distribución ajusta de buena manera."
   ]
  },
  {
   "cell_type": "code",
   "execution_count": 24,
   "metadata": {},
   "outputs": [
    {
     "name": "stdout",
     "output_type": "stream",
     "text": [
      "URG101_003\n",
      "Estadístico:12638078.850782946 p-value: 0.0 \n",
      "\n",
      "DIV101_603\n",
      "Estadístico:619327148948223.9 p-value: 0.0 \n",
      "\n",
      "DIV101_604\n",
      "Estadístico:1936609018192349.0 p-value: 0.0 \n",
      "\n",
      "DIV101_703\n",
      "Estadístico:1867711104957.9626 p-value: 0.0 \n",
      "\n",
      "DIV102_203\n",
      "Estadístico:4.560246072839681e+17 p-value: 0.0 \n",
      "\n",
      "DIV103_107\n",
      "Estadístico:231555664610548.38 p-value: 0.0 \n",
      "\n",
      "DIV103_204\n",
      "Estadístico:577668802390145.8 p-value: 0.0 \n",
      "\n",
      "DIV104_602\n",
      "Estadístico:1.4381354933849255e+20 p-value: 0.0 \n",
      "\n",
      "OPR101_011\n",
      "Estadístico:7241.892795703271 p-value: 0.0 \n",
      "\n",
      "OPR101_033\n",
      "Estadístico:-30534.52758811228 p-value: 1.0 \n",
      "\n",
      "OPR102_001\n",
      "Estadístico:-8383.142685368659 p-value: 1.0 \n",
      "\n",
      "OPR102_003\n",
      "Estadístico:275.9708010748603 p-value: 2.3152360752580137e-09 \n",
      "\n"
     ]
    }
   ],
   "source": [
    "import math\n",
    "for area in areas_mapa_profe:\n",
    "    if area != 'End':\n",
    "        estadia = datos_pacientes[datos_pacientes[\"Area\"] == area][\"Estadia\"]\n",
    "        estadia = np.array(estadia)\n",
    "        distribucion = list(dic_distribuciones[area].keys())[0]\n",
    "\n",
    "        if distribucion == 'beta':\n",
    "            param_a = dic_distribuciones[area]['beta'][0]\n",
    "            param_b = dic_distribuciones[area]['beta'][1]\n",
    "            loc = dic_distribuciones[area]['beta'][2]\n",
    "            scale = dic_distribuciones[area]['beta'][3]\n",
    "            esperado = (np.random.beta(a=param_a, b=param_b, size=len(estadia)) - loc) / scale\n",
    "\n",
    "        elif distribucion == 'lognorm':\n",
    "            s = dic_distribuciones[area]['lognorm'][0]\n",
    "            loc = dic_distribuciones[area]['lognorm'][1]\n",
    "            scale = dic_distribuciones[area]['lognorm'][2]\n",
    "                \n",
    "            esperado = (np.random.lognormal(mean=math.log(scale), sigma=s, size=len(estadia)) - loc) / scale\n",
    "\n",
    "        else:\n",
    "            print('Distribucion desconocida')\n",
    "\n",
    "        test_bondad = stats.chisquare(f_obs = estadia, f_exp = esperado)\n",
    "        print(area)\n",
    "        resultado_test = list(test_bondad)\n",
    "        print(f'Estadístico:{resultado_test[0]} p-value: {resultado_test[1]} \\n')"
   ]
  },
  {
   "cell_type": "code",
   "execution_count": 25,
   "metadata": {},
   "outputs": [
    {
     "data": {
      "text/plain": [
       "{'URG101_003': {'beta': (0.9963865319265526,\n",
       "   7.549140779895584,\n",
       "   -5.8548793004373246e-30,\n",
       "   22.24393218386804)},\n",
       " 'DIV101_603': {'beta': (0.3616704354973971,\n",
       "   165.16296501053603,\n",
       "   -7.412371308927781e-26,\n",
       "   6922.807468149733)},\n",
       " 'DIV101_604': {'beta': (0.45703588480386004,\n",
       "   648.4486740488123,\n",
       "   -8.513612931753873e-29,\n",
       "   35054.048864844575)},\n",
       " 'DIV101_703': {'beta': (0.5703786223184792,\n",
       "   110.83109431271232,\n",
       "   -1.462673655225481e-28,\n",
       "   437.32033985936954)},\n",
       " 'DIV102_203': {'beta': (0.24377071043553353,\n",
       "   285.52176298361917,\n",
       "   -1.187635564202615e-26,\n",
       "   5018.705281761797)},\n",
       " 'DIV103_107': {'beta': (0.39836402842306595,\n",
       "   206.40113822847783,\n",
       "   -1.5712666431312037e-28,\n",
       "   10158.914732260619)},\n",
       " 'DIV103_204': {'beta': (0.4888117957179907,\n",
       "   109.8607935613231,\n",
       "   -1.5936649681747108e-28,\n",
       "   5313.91647884571)},\n",
       " 'DIV104_602': {'beta': (0.15192779271070977,\n",
       "   194.10258963560304,\n",
       "   -5.156397043984947e-29,\n",
       "   8814.947865303959)},\n",
       " 'OPR101_011': {'beta': (0.5808873886057251,\n",
       "   7.314059974137125,\n",
       "   0.016666666666666663,\n",
       "   9.742438706572912)},\n",
       " 'OPR101_033': {'beta': (0.05736478890742883,\n",
       "   3.4350433415802044,\n",
       "   0.016666666666666663,\n",
       "   6.4423590423078325)},\n",
       " 'OPR102_001': {'beta': (0.9588287571379162,\n",
       "   4.145262526109068,\n",
       "   0.4499999987184291,\n",
       "   7.6309924849021815)},\n",
       " 'OPR102_003': {'lognorm': (0.2904728151128274,\n",
       "   -2.2507735933696127,\n",
       "   4.3770553314569565)},\n",
       " 'End': None}"
      ]
     },
     "execution_count": 25,
     "metadata": {},
     "output_type": "execute_result"
    }
   ],
   "source": [
    "dic_distribuciones"
   ]
  },
  {
   "cell_type": "code",
   "execution_count": 26,
   "metadata": {},
   "outputs": [],
   "source": [
    "dic_histogramas= {}"
   ]
  },
  {
   "cell_type": "code",
   "execution_count": 27,
   "metadata": {},
   "outputs": [
    {
     "name": "stdout",
     "output_type": "stream",
     "text": [
      "{'lognorm': (1.1325392177517544, -0.1631080499945431, 3.01277091110916)}\n"
     ]
    },
    {
     "data": {
      "text/html": [
       "<div>\n",
       "<style scoped>\n",
       "    .dataframe tbody tr th:only-of-type {\n",
       "        vertical-align: middle;\n",
       "    }\n",
       "\n",
       "    .dataframe tbody tr th {\n",
       "        vertical-align: top;\n",
       "    }\n",
       "\n",
       "    .dataframe thead th {\n",
       "        text-align: right;\n",
       "    }\n",
       "</style>\n",
       "<table border=\"1\" class=\"dataframe\">\n",
       "  <thead>\n",
       "    <tr style=\"text-align: right;\">\n",
       "      <th></th>\n",
       "      <th>sumsquare_error</th>\n",
       "      <th>aic</th>\n",
       "      <th>bic</th>\n",
       "      <th>kl_div</th>\n",
       "    </tr>\n",
       "  </thead>\n",
       "  <tbody>\n",
       "    <tr>\n",
       "      <th>lognorm</th>\n",
       "      <td>0.033620</td>\n",
       "      <td>814.881030</td>\n",
       "      <td>-8519.048424</td>\n",
       "      <td>inf</td>\n",
       "    </tr>\n",
       "    <tr>\n",
       "      <th>chi2</th>\n",
       "      <td>0.037207</td>\n",
       "      <td>794.198271</td>\n",
       "      <td>-8433.592650</td>\n",
       "      <td>inf</td>\n",
       "    </tr>\n",
       "    <tr>\n",
       "      <th>beta</th>\n",
       "      <td>0.062616</td>\n",
       "      <td>758.059596</td>\n",
       "      <td>-7988.039146</td>\n",
       "      <td>inf</td>\n",
       "    </tr>\n",
       "    <tr>\n",
       "      <th>norm</th>\n",
       "      <td>0.228845</td>\n",
       "      <td>853.969495</td>\n",
       "      <td>-6908.970436</td>\n",
       "      <td>inf</td>\n",
       "    </tr>\n",
       "  </tbody>\n",
       "</table>\n",
       "</div>"
      ],
      "text/plain": [
       "         sumsquare_error         aic          bic  kl_div\n",
       "lognorm         0.033620  814.881030 -8519.048424     inf\n",
       "chi2            0.037207  794.198271 -8433.592650     inf\n",
       "beta            0.062616  758.059596 -7988.039146     inf\n",
       "norm            0.228845  853.969495 -6908.970436     inf"
      ]
     },
     "execution_count": 27,
     "metadata": {},
     "output_type": "execute_result"
    },
    {
     "data": {
      "image/png": "[encoded data removed]",
      "text/plain": [
       "<Figure size 432x288 with 1 Axes>"
      ]
     },
     "metadata": {
      "needs_background": "light"
     },
     "output_type": "display_data"
    }
   ],
   "source": [
    "llegadas = df_info_pacientes[\"Entrada\"].sort_values()\n",
    "tiempo_entre_llegadas = (llegadas.shift(-1) - llegadas)/np.timedelta64(1,\"h\")\n",
    "duracion_operaciones = tiempo_entre_llegadas[tiempo_entre_llegadas < 24]\n",
    "duracion_operaciones = np.array(duracion_operaciones)\n",
    "f = Fitter(duracion_operaciones,distributions = [\"norm\",\"beta\",\"lognorm\",\"chi2\"])\n",
    "f.fit()\n",
    "a = f.get_best(method = \"sumsquare_error\")\n",
    "print(a)\n",
    "f.summary()\n"
   ]
  },
  {
   "cell_type": "code",
   "execution_count": 28,
   "metadata": {},
   "outputs": [],
   "source": [
    "dic_histogramas[\"Tiempo_entre_llegadas\"] = a"
   ]
  },
  {
   "cell_type": "markdown",
   "metadata": {},
   "source": [
    "# Transiciones entre salas\n",
    "Aqui se realiza un mapa de calor"
   ]
  },
  {
   "cell_type": "code",
   "execution_count": 29,
   "metadata": {},
   "outputs": [],
   "source": [
    "df_heatmap = pd.DataFrame(index = areas_mapa_profe,columns = areas_mapa_profe)"
   ]
  },
  {
   "cell_type": "code",
   "execution_count": 30,
   "metadata": {},
   "outputs": [],
   "source": [
    "areas_mapa_profe.append(\"Outside\")"
   ]
  },
  {
   "cell_type": "code",
   "execution_count": 31,
   "metadata": {},
   "outputs": [],
   "source": [
    "for area in areas_mapa_profe:\n",
    "    derivacion_urgencia = datos_pacientes[datos_pacientes[\"Area\"] == area][\"Siguiente Área\"]\n",
    "    transiciones = (derivacion_urgencia.value_counts()/derivacion_urgencia.shape[0])*100\n",
    "    df_heatmap[area] = transiciones"
   ]
  },
  {
   "cell_type": "code",
   "execution_count": 32,
   "metadata": {},
   "outputs": [
    {
     "data": {
      "text/html": [
       "<div>\n",
       "<style scoped>\n",
       "    .dataframe tbody tr th:only-of-type {\n",
       "        vertical-align: middle;\n",
       "    }\n",
       "\n",
       "    .dataframe tbody tr th {\n",
       "        vertical-align: top;\n",
       "    }\n",
       "\n",
       "    .dataframe thead th {\n",
       "        text-align: right;\n",
       "    }\n",
       "</style>\n",
       "<table border=\"1\" class=\"dataframe\">\n",
       "  <thead>\n",
       "    <tr style=\"text-align: right;\">\n",
       "      <th></th>\n",
       "      <th>URG101_003</th>\n",
       "      <th>DIV101_603</th>\n",
       "      <th>DIV101_604</th>\n",
       "      <th>DIV101_703</th>\n",
       "      <th>DIV102_203</th>\n",
       "      <th>DIV103_107</th>\n",
       "      <th>DIV103_204</th>\n",
       "      <th>DIV104_602</th>\n",
       "      <th>OPR101_011</th>\n",
       "      <th>OPR101_033</th>\n",
       "      <th>OPR102_001</th>\n",
       "      <th>OPR102_003</th>\n",
       "      <th>End</th>\n",
       "      <th>Outside</th>\n",
       "    </tr>\n",
       "  </thead>\n",
       "  <tbody>\n",
       "    <tr>\n",
       "      <th>URG101_003</th>\n",
       "      <td>0.000000</td>\n",
       "      <td>0.000000</td>\n",
       "      <td>0.000000</td>\n",
       "      <td>0.000000</td>\n",
       "      <td>0.000000</td>\n",
       "      <td>0.000000</td>\n",
       "      <td>0.510204</td>\n",
       "      <td>0.826446</td>\n",
       "      <td>1.724138</td>\n",
       "      <td>2.112676</td>\n",
       "      <td>0.000000</td>\n",
       "      <td>0.657895</td>\n",
       "      <td>99.88466</td>\n",
       "      <td>0.000000</td>\n",
       "    </tr>\n",
       "    <tr>\n",
       "      <th>DIV101_603</th>\n",
       "      <td>0.000000</td>\n",
       "      <td>0.000000</td>\n",
       "      <td>0.000000</td>\n",
       "      <td>5.162738</td>\n",
       "      <td>1.408451</td>\n",
       "      <td>1.923077</td>\n",
       "      <td>0.000000</td>\n",
       "      <td>0.000000</td>\n",
       "      <td>0.000000</td>\n",
       "      <td>0.000000</td>\n",
       "      <td>0.000000</td>\n",
       "      <td>0.000000</td>\n",
       "      <td>0.00000</td>\n",
       "      <td>2.654867</td>\n",
       "    </tr>\n",
       "    <tr>\n",
       "      <th>DIV101_604</th>\n",
       "      <td>0.000000</td>\n",
       "      <td>0.000000</td>\n",
       "      <td>0.000000</td>\n",
       "      <td>6.060606</td>\n",
       "      <td>0.000000</td>\n",
       "      <td>0.000000</td>\n",
       "      <td>0.000000</td>\n",
       "      <td>0.000000</td>\n",
       "      <td>0.000000</td>\n",
       "      <td>0.000000</td>\n",
       "      <td>0.000000</td>\n",
       "      <td>0.000000</td>\n",
       "      <td>0.00000</td>\n",
       "      <td>2.433628</td>\n",
       "    </tr>\n",
       "    <tr>\n",
       "      <th>DIV101_703</th>\n",
       "      <td>99.084668</td>\n",
       "      <td>0.000000</td>\n",
       "      <td>0.000000</td>\n",
       "      <td>0.000000</td>\n",
       "      <td>0.000000</td>\n",
       "      <td>0.000000</td>\n",
       "      <td>1.020408</td>\n",
       "      <td>0.826446</td>\n",
       "      <td>1.724138</td>\n",
       "      <td>12.676056</td>\n",
       "      <td>0.000000</td>\n",
       "      <td>1.315789</td>\n",
       "      <td>0.00000</td>\n",
       "      <td>0.221239</td>\n",
       "    </tr>\n",
       "    <tr>\n",
       "      <th>DIV102_203</th>\n",
       "      <td>0.114416</td>\n",
       "      <td>1.666667</td>\n",
       "      <td>0.000000</td>\n",
       "      <td>4.040404</td>\n",
       "      <td>0.000000</td>\n",
       "      <td>0.000000</td>\n",
       "      <td>0.000000</td>\n",
       "      <td>0.000000</td>\n",
       "      <td>48.275862</td>\n",
       "      <td>0.000000</td>\n",
       "      <td>1.666667</td>\n",
       "      <td>0.000000</td>\n",
       "      <td>0.00000</td>\n",
       "      <td>0.884956</td>\n",
       "    </tr>\n",
       "    <tr>\n",
       "      <th>DIV103_107</th>\n",
       "      <td>0.000000</td>\n",
       "      <td>1.666667</td>\n",
       "      <td>0.000000</td>\n",
       "      <td>5.050505</td>\n",
       "      <td>0.000000</td>\n",
       "      <td>0.000000</td>\n",
       "      <td>0.000000</td>\n",
       "      <td>0.000000</td>\n",
       "      <td>5.172414</td>\n",
       "      <td>0.000000</td>\n",
       "      <td>1.666667</td>\n",
       "      <td>0.000000</td>\n",
       "      <td>0.00000</td>\n",
       "      <td>0.442478</td>\n",
       "    </tr>\n",
       "    <tr>\n",
       "      <th>DIV103_204</th>\n",
       "      <td>0.000000</td>\n",
       "      <td>0.000000</td>\n",
       "      <td>0.000000</td>\n",
       "      <td>11.111111</td>\n",
       "      <td>0.000000</td>\n",
       "      <td>0.000000</td>\n",
       "      <td>0.000000</td>\n",
       "      <td>0.000000</td>\n",
       "      <td>0.000000</td>\n",
       "      <td>48.591549</td>\n",
       "      <td>0.000000</td>\n",
       "      <td>9.868421</td>\n",
       "      <td>0.00000</td>\n",
       "      <td>2.876106</td>\n",
       "    </tr>\n",
       "    <tr>\n",
       "      <th>DIV104_602</th>\n",
       "      <td>0.114416</td>\n",
       "      <td>0.000000</td>\n",
       "      <td>0.000000</td>\n",
       "      <td>7.182941</td>\n",
       "      <td>0.000000</td>\n",
       "      <td>0.000000</td>\n",
       "      <td>12.755102</td>\n",
       "      <td>0.000000</td>\n",
       "      <td>1.724138</td>\n",
       "      <td>7.746479</td>\n",
       "      <td>0.000000</td>\n",
       "      <td>1.973684</td>\n",
       "      <td>0.00000</td>\n",
       "      <td>3.539823</td>\n",
       "    </tr>\n",
       "    <tr>\n",
       "      <th>OPR101_011</th>\n",
       "      <td>0.000000</td>\n",
       "      <td>0.000000</td>\n",
       "      <td>0.000000</td>\n",
       "      <td>0.000000</td>\n",
       "      <td>0.000000</td>\n",
       "      <td>0.000000</td>\n",
       "      <td>0.000000</td>\n",
       "      <td>0.826446</td>\n",
       "      <td>0.000000</td>\n",
       "      <td>0.000000</td>\n",
       "      <td>95.000000</td>\n",
       "      <td>0.000000</td>\n",
       "      <td>0.00000</td>\n",
       "      <td>0.000000</td>\n",
       "    </tr>\n",
       "    <tr>\n",
       "      <th>OPR101_033</th>\n",
       "      <td>0.000000</td>\n",
       "      <td>0.000000</td>\n",
       "      <td>0.000000</td>\n",
       "      <td>0.112233</td>\n",
       "      <td>0.000000</td>\n",
       "      <td>0.000000</td>\n",
       "      <td>4.591837</td>\n",
       "      <td>0.000000</td>\n",
       "      <td>0.000000</td>\n",
       "      <td>0.000000</td>\n",
       "      <td>0.000000</td>\n",
       "      <td>82.894737</td>\n",
       "      <td>0.00000</td>\n",
       "      <td>1.327434</td>\n",
       "    </tr>\n",
       "    <tr>\n",
       "      <th>OPR102_001</th>\n",
       "      <td>0.000000</td>\n",
       "      <td>0.000000</td>\n",
       "      <td>0.000000</td>\n",
       "      <td>0.112233</td>\n",
       "      <td>38.028169</td>\n",
       "      <td>7.692308</td>\n",
       "      <td>0.000000</td>\n",
       "      <td>0.000000</td>\n",
       "      <td>0.000000</td>\n",
       "      <td>0.000000</td>\n",
       "      <td>0.000000</td>\n",
       "      <td>0.000000</td>\n",
       "      <td>0.00000</td>\n",
       "      <td>6.194690</td>\n",
       "    </tr>\n",
       "    <tr>\n",
       "      <th>OPR102_003</th>\n",
       "      <td>0.114416</td>\n",
       "      <td>0.000000</td>\n",
       "      <td>0.000000</td>\n",
       "      <td>3.030303</td>\n",
       "      <td>0.000000</td>\n",
       "      <td>0.000000</td>\n",
       "      <td>37.244898</td>\n",
       "      <td>10.743802</td>\n",
       "      <td>0.000000</td>\n",
       "      <td>0.704225</td>\n",
       "      <td>0.000000</td>\n",
       "      <td>0.000000</td>\n",
       "      <td>0.00000</td>\n",
       "      <td>8.185841</td>\n",
       "    </tr>\n",
       "    <tr>\n",
       "      <th>End</th>\n",
       "      <td>0.114416</td>\n",
       "      <td>80.000000</td>\n",
       "      <td>78.461538</td>\n",
       "      <td>23.456790</td>\n",
       "      <td>52.112676</td>\n",
       "      <td>78.846154</td>\n",
       "      <td>34.183673</td>\n",
       "      <td>75.206612</td>\n",
       "      <td>0.000000</td>\n",
       "      <td>0.000000</td>\n",
       "      <td>0.000000</td>\n",
       "      <td>0.000000</td>\n",
       "      <td>0.00000</td>\n",
       "      <td>71.238938</td>\n",
       "    </tr>\n",
       "  </tbody>\n",
       "</table>\n",
       "</div>"
      ],
      "text/plain": [
       "            URG101_003  DIV101_603  DIV101_604  DIV101_703  DIV102_203  \\\n",
       "URG101_003    0.000000    0.000000    0.000000    0.000000    0.000000   \n",
       "DIV101_603    0.000000    0.000000    0.000000    5.162738    1.408451   \n",
       "DIV101_604    0.000000    0.000000    0.000000    6.060606    0.000000   \n",
       "DIV101_703   99.084668    0.000000    0.000000    0.000000    0.000000   \n",
       "DIV102_203    0.114416    1.666667    0.000000    4.040404    0.000000   \n",
       "DIV103_107    0.000000    1.666667    0.000000    5.050505    0.000000   \n",
       "DIV103_204    0.000000    0.000000    0.000000   11.111111    0.000000   \n",
       "DIV104_602    0.114416    0.000000    0.000000    7.182941    0.000000   \n",
       "OPR101_011    0.000000    0.000000    0.000000    0.000000    0.000000   \n",
       "OPR101_033    0.000000    0.000000    0.000000    0.112233    0.000000   \n",
       "OPR102_001    0.000000    0.000000    0.000000    0.112233   38.028169   \n",
       "OPR102_003    0.114416    0.000000    0.000000    3.030303    0.000000   \n",
       "End           0.114416   80.000000   78.461538   23.456790   52.112676   \n",
       "\n",
       "            DIV103_107  DIV103_204  DIV104_602  OPR101_011  OPR101_033  \\\n",
       "URG101_003    0.000000    0.510204    0.826446    1.724138    2.112676   \n",
       "DIV101_603    1.923077    0.000000    0.000000    0.000000    0.000000   \n",
       "DIV101_604    0.000000    0.000000    0.000000    0.000000    0.000000   \n",
       "DIV101_703    0.000000    1.020408    0.826446    1.724138   12.676056   \n",
       "DIV102_203    0.000000    0.000000    0.000000   48.275862    0.000000   \n",
       "DIV103_107    0.000000    0.000000    0.000000    5.172414    0.000000   \n",
       "DIV103_204    0.000000    0.000000    0.000000    0.000000   48.591549   \n",
       "DIV104_602    0.000000   12.755102    0.000000    1.724138    7.746479   \n",
       "OPR101_011    0.000000    0.000000    0.826446    0.000000    0.000000   \n",
       "OPR101_033    0.000000    4.591837    0.000000    0.000000    0.000000   \n",
       "OPR102_001    7.692308    0.000000    0.000000    0.000000    0.000000   \n",
       "OPR102_003    0.000000   37.244898   10.743802    0.000000    0.704225   \n",
       "End          78.846154   34.183673   75.206612    0.000000    0.000000   \n",
       "\n",
       "            OPR102_001  OPR102_003       End    Outside  \n",
       "URG101_003    0.000000    0.657895  99.88466   0.000000  \n",
       "DIV101_603    0.000000    0.000000   0.00000   2.654867  \n",
       "DIV101_604    0.000000    0.000000   0.00000   2.433628  \n",
       "DIV101_703    0.000000    1.315789   0.00000   0.221239  \n",
       "DIV102_203    1.666667    0.000000   0.00000   0.884956  \n",
       "DIV103_107    1.666667    0.000000   0.00000   0.442478  \n",
       "DIV103_204    0.000000    9.868421   0.00000   2.876106  \n",
       "DIV104_602    0.000000    1.973684   0.00000   3.539823  \n",
       "OPR101_011   95.000000    0.000000   0.00000   0.000000  \n",
       "OPR101_033    0.000000   82.894737   0.00000   1.327434  \n",
       "OPR102_001    0.000000    0.000000   0.00000   6.194690  \n",
       "OPR102_003    0.000000    0.000000   0.00000   8.185841  \n",
       "End           0.000000    0.000000   0.00000  71.238938  "
      ]
     },
     "execution_count": 32,
     "metadata": {},
     "output_type": "execute_result"
    }
   ],
   "source": [
    "df_heatmap.fillna(0)"
   ]
  },
  {
   "cell_type": "code",
   "execution_count": 33,
   "metadata": {},
   "outputs": [
    {
     "data": {
      "text/plain": [
       "<AxesSubplot:>"
      ]
     },
     "execution_count": 33,
     "metadata": {},
     "output_type": "execute_result"
    },
    {
     "data": {
      "image/png": "[encoded data removed]",
      "text/plain": [
       "<Figure size 432x288 with 2 Axes>"
      ]
     },
     "metadata": {
      "needs_background": "light"
     },
     "output_type": "display_data"
    }
   ],
   "source": [
    "import seaborn as sns\n",
    "sns.heatmap(df_heatmap.T,annot = False,cmap = \"YlOrRd\")"
   ]
  },
  {
   "cell_type": "markdown",
   "metadata": {},
   "source": [
    "# Pacientes por día"
   ]
  },
  {
   "cell_type": "code",
   "execution_count": 34,
   "metadata": {},
   "outputs": [],
   "source": [
    "salas_div  = areas_mapa_profe[:-5]"
   ]
  },
  {
   "cell_type": "code",
   "execution_count": 35,
   "metadata": {},
   "outputs": [
    {
     "name": "stdout",
     "output_type": "stream",
     "text": [
      "Media de estadia en div (suma) 17.17735714285716\n"
     ]
    }
   ],
   "source": [
    "estadias_div = []\n",
    "for paciente in set_pacientes :\n",
    "    info_pacientes = datos_pacientes[datos_pacientes[\"Case ID\"] == paciente]\n",
    "    info_hospitalizacion = info_pacientes[info_pacientes[\"Area\"].isin(salas_div)]\n",
    "    estadia = np.sum(info_pacientes[\"Estadia\"])\n",
    "    estadias_div.append(estadia)\n",
    "estadia_serie = pd.Series(estadias_div)\n",
    "estadia_serie = estadia_serie[(estadia_serie >0)]\n",
    "print(\"Media de estadia en div (suma)\",estadia_serie.mean())"
   ]
  },
  {
   "cell_type": "code",
   "execution_count": 36,
   "metadata": {},
   "outputs": [],
   "source": [
    "import datetime"
   ]
  },
  {
   "cell_type": "code",
   "execution_count": 37,
   "metadata": {},
   "outputs": [],
   "source": [
    "def convertir_fecha(date):\n",
    "    fecha = datetime.datetime.strftime(date,\"%Y-%m-%d\")\n",
    "    return fecha"
   ]
  },
  {
   "cell_type": "code",
   "execution_count": 38,
   "metadata": {},
   "outputs": [
    {
     "data": {
      "text/html": [
       "<div>\n",
       "<style scoped>\n",
       "    .dataframe tbody tr th:only-of-type {\n",
       "        vertical-align: middle;\n",
       "    }\n",
       "\n",
       "    .dataframe tbody tr th {\n",
       "        vertical-align: top;\n",
       "    }\n",
       "\n",
       "    .dataframe thead th {\n",
       "        text-align: right;\n",
       "    }\n",
       "</style>\n",
       "<table border=\"1\" class=\"dataframe\">\n",
       "  <thead>\n",
       "    <tr style=\"text-align: right;\">\n",
       "      <th></th>\n",
       "      <th>Entrada</th>\n",
       "      <th>Salida</th>\n",
       "      <th>Duracion</th>\n",
       "      <th>Ruta</th>\n",
       "      <th>Hora entrada</th>\n",
       "      <th>Fecha_entrada</th>\n",
       "    </tr>\n",
       "  </thead>\n",
       "  <tbody>\n",
       "    <tr>\n",
       "      <th>14817280</th>\n",
       "      <td>2018-03-30 18:14:00</td>\n",
       "      <td>2018-03-30 22:06:00</td>\n",
       "      <td>3.866667</td>\n",
       "      <td>URG101_003DIV101_703DIV103_204End</td>\n",
       "      <td>18</td>\n",
       "      <td>2018-03-30</td>\n",
       "    </tr>\n",
       "    <tr>\n",
       "      <th>14931970</th>\n",
       "      <td>2018-05-13 16:37:00</td>\n",
       "      <td>2018-05-14 00:14:00</td>\n",
       "      <td>7.616667</td>\n",
       "      <td>URG101_003DIV101_703DIV102_203OPR102_001OPR101...</td>\n",
       "      <td>16</td>\n",
       "      <td>2018-05-13</td>\n",
       "    </tr>\n",
       "    <tr>\n",
       "      <th>14888963</th>\n",
       "      <td>2018-04-25 16:06:00</td>\n",
       "      <td>2018-04-26 12:26:00</td>\n",
       "      <td>20.333333</td>\n",
       "      <td>URG101_003DIV101_703OutsideEnd</td>\n",
       "      <td>16</td>\n",
       "      <td>2018-04-25</td>\n",
       "    </tr>\n",
       "    <tr>\n",
       "      <th>14696460</th>\n",
       "      <td>2018-02-15 12:04:00</td>\n",
       "      <td>2018-02-16 15:55:00</td>\n",
       "      <td>27.85</td>\n",
       "      <td>URG101_003DIV101_703DIV101_604End</td>\n",
       "      <td>12</td>\n",
       "      <td>2018-02-15</td>\n",
       "    </tr>\n",
       "    <tr>\n",
       "      <th>14579725</th>\n",
       "      <td>2018-01-04 21:05:00</td>\n",
       "      <td>2018-01-04 22:46:00</td>\n",
       "      <td>1.683333</td>\n",
       "      <td>URG101_003DIV101_703End</td>\n",
       "      <td>21</td>\n",
       "      <td>2018-01-04</td>\n",
       "    </tr>\n",
       "    <tr>\n",
       "      <th>...</th>\n",
       "      <td>...</td>\n",
       "      <td>...</td>\n",
       "      <td>...</td>\n",
       "      <td>...</td>\n",
       "      <td>...</td>\n",
       "      <td>...</td>\n",
       "    </tr>\n",
       "    <tr>\n",
       "      <th>14888950</th>\n",
       "      <td>2018-04-25 17:31:00</td>\n",
       "      <td>2018-05-15 14:18:00</td>\n",
       "      <td>476.783333</td>\n",
       "      <td>URG101_003DIV101_703OutsideDIV101_603End</td>\n",
       "      <td>17</td>\n",
       "      <td>2018-04-25</td>\n",
       "    </tr>\n",
       "    <tr>\n",
       "      <th>14682104</th>\n",
       "      <td>2018-02-08 14:27:00</td>\n",
       "      <td>2018-02-09 13:53:00</td>\n",
       "      <td>23.433333</td>\n",
       "      <td>URG101_003DIV101_703DIV104_602End</td>\n",
       "      <td>14</td>\n",
       "      <td>2018-02-08</td>\n",
       "    </tr>\n",
       "    <tr>\n",
       "      <th>14716923</th>\n",
       "      <td>2018-02-23 10:13:00</td>\n",
       "      <td>2018-02-23 18:39:00</td>\n",
       "      <td>8.433333</td>\n",
       "      <td>URG101_003DIV101_703End</td>\n",
       "      <td>10</td>\n",
       "      <td>2018-02-23</td>\n",
       "    </tr>\n",
       "    <tr>\n",
       "      <th>14716925</th>\n",
       "      <td>2018-02-23 17:47:00</td>\n",
       "      <td>2018-02-24 14:22:00</td>\n",
       "      <td>20.583333</td>\n",
       "      <td>URG101_003DIV101_703OutsideEnd</td>\n",
       "      <td>17</td>\n",
       "      <td>2018-02-23</td>\n",
       "    </tr>\n",
       "    <tr>\n",
       "      <th>14870527</th>\n",
       "      <td>2018-04-18 20:37:00</td>\n",
       "      <td>2018-04-19 11:14:00</td>\n",
       "      <td>14.616667</td>\n",
       "      <td>URG101_003DIV101_703DIV104_602End</td>\n",
       "      <td>20</td>\n",
       "      <td>2018-04-18</td>\n",
       "    </tr>\n",
       "  </tbody>\n",
       "</table>\n",
       "<p>867 rows × 6 columns</p>\n",
       "</div>"
      ],
      "text/plain": [
       "                     Entrada              Salida    Duracion  \\\n",
       "14817280 2018-03-30 18:14:00 2018-03-30 22:06:00    3.866667   \n",
       "14931970 2018-05-13 16:37:00 2018-05-14 00:14:00    7.616667   \n",
       "14888963 2018-04-25 16:06:00 2018-04-26 12:26:00   20.333333   \n",
       "14696460 2018-02-15 12:04:00 2018-02-16 15:55:00       27.85   \n",
       "14579725 2018-01-04 21:05:00 2018-01-04 22:46:00    1.683333   \n",
       "...                      ...                 ...         ...   \n",
       "14888950 2018-04-25 17:31:00 2018-05-15 14:18:00  476.783333   \n",
       "14682104 2018-02-08 14:27:00 2018-02-09 13:53:00   23.433333   \n",
       "14716923 2018-02-23 10:13:00 2018-02-23 18:39:00    8.433333   \n",
       "14716925 2018-02-23 17:47:00 2018-02-24 14:22:00   20.583333   \n",
       "14870527 2018-04-18 20:37:00 2018-04-19 11:14:00   14.616667   \n",
       "\n",
       "                                                       Ruta  Hora entrada  \\\n",
       "14817280                  URG101_003DIV101_703DIV103_204End            18   \n",
       "14931970  URG101_003DIV101_703DIV102_203OPR102_001OPR101...            16   \n",
       "14888963                     URG101_003DIV101_703OutsideEnd            16   \n",
       "14696460                  URG101_003DIV101_703DIV101_604End            12   \n",
       "14579725                            URG101_003DIV101_703End            21   \n",
       "...                                                     ...           ...   \n",
       "14888950           URG101_003DIV101_703OutsideDIV101_603End            17   \n",
       "14682104                  URG101_003DIV101_703DIV104_602End            14   \n",
       "14716923                            URG101_003DIV101_703End            10   \n",
       "14716925                     URG101_003DIV101_703OutsideEnd            17   \n",
       "14870527                  URG101_003DIV101_703DIV104_602End            20   \n",
       "\n",
       "         Fecha_entrada  \n",
       "14817280    2018-03-30  \n",
       "14931970    2018-05-13  \n",
       "14888963    2018-04-25  \n",
       "14696460    2018-02-15  \n",
       "14579725    2018-01-04  \n",
       "...                ...  \n",
       "14888950    2018-04-25  \n",
       "14682104    2018-02-08  \n",
       "14716923    2018-02-23  \n",
       "14716925    2018-02-23  \n",
       "14870527    2018-04-18  \n",
       "\n",
       "[867 rows x 6 columns]"
      ]
     },
     "execution_count": 38,
     "metadata": {},
     "output_type": "execute_result"
    }
   ],
   "source": [
    "df_info_pacientes[\"Fecha_entrada\"] = [convertir_fecha(df_info_pacientes[\"Entrada\"].iloc[i]) for i in range(df_info_pacientes[\"Entrada\"].shape[0])]\n",
    "\n",
    "df_info_pacientes"
   ]
  },
  {
   "cell_type": "code",
   "execution_count": 39,
   "metadata": {},
   "outputs": [
    {
     "data": {
      "image/png": "[encoded data removed]",
      "text/plain": [
       "<Figure size 432x288 with 1 Axes>"
      ]
     },
     "metadata": {
      "needs_background": "light"
     },
     "output_type": "display_data"
    }
   ],
   "source": [
    "hist = df_info_pacientes[\"Fecha_entrada\"].value_counts().plot.hist()\n"
   ]
  },
  {
   "cell_type": "code",
   "execution_count": 40,
   "metadata": {},
   "outputs": [
    {
     "name": "stdout",
     "output_type": "stream",
     "text": [
      "Match\n",
      "Match\n",
      "Match\n",
      "Match\n",
      "Match\n",
      "Match\n",
      "Match\n",
      "Match\n",
      "Match\n",
      "Match\n",
      "Match\n",
      "Match\n",
      "Match\n",
      "Match\n",
      "Match\n",
      "Match\n",
      "Match\n",
      "Match\n",
      "Match\n",
      "Match\n",
      "Match\n",
      "Match\n",
      "Match\n",
      "Match\n",
      "Match\n",
      "Match\n",
      "Match\n",
      "Match\n",
      "Match\n",
      "Match\n",
      "Match\n",
      "Match\n",
      "Match\n",
      "Match\n",
      "Match\n",
      "Match\n",
      "Match\n",
      "Match\n",
      "Match\n",
      "Match\n",
      "Match\n",
      "Match\n",
      "Match\n",
      "Match\n",
      "Match\n",
      "Match\n",
      "Match\n",
      "Match\n",
      "Match\n",
      "Match\n",
      "Match\n",
      "Match\n",
      "Match\n",
      "Match\n",
      "Match\n",
      "Match\n",
      "Match\n",
      "Match\n",
      "Match\n",
      "Match\n",
      "Match\n",
      "Match\n",
      "Match\n",
      "Match\n",
      "Match\n",
      "Match\n",
      "Match\n",
      "Match\n",
      "Match\n",
      "Match\n",
      "Match\n",
      "Match\n",
      "Match\n",
      "Match\n",
      "Match\n",
      "Match\n",
      "Match\n",
      "Match\n",
      "Match\n",
      "Match\n",
      "Match\n",
      "Match\n",
      "Match\n",
      "Match\n",
      "Match\n",
      "Match\n",
      "Match\n",
      "Match\n",
      "Match\n",
      "Match\n",
      "Match\n",
      "Match\n",
      "Match\n",
      "Match\n",
      "Match\n",
      "Match\n",
      "Match\n",
      "Match\n",
      "Match\n",
      "Match\n",
      "Match\n",
      "Match\n",
      "Match\n",
      "Match\n",
      "Match\n",
      "Match\n",
      "Match\n",
      "Match\n",
      "Match\n",
      "Match\n",
      "Match\n",
      "Match\n",
      "Match\n",
      "Match\n",
      "Match\n",
      "Match\n",
      "Match\n",
      "Match\n",
      "Match\n",
      "Match\n",
      "Match\n",
      "Match\n",
      "Match\n",
      "Match\n",
      "Match\n",
      "Match\n",
      "Match\n",
      "Match\n",
      "Match\n",
      "Match\n",
      "Match\n",
      "Match\n",
      "Match\n",
      "Match\n",
      "Match\n",
      "Match\n",
      "Match\n",
      "Match\n",
      "Match\n",
      "Match\n",
      "Match\n",
      "Match\n",
      "Match\n",
      "Match\n",
      "Match\n",
      "Match\n",
      "Match\n",
      "Match\n",
      "Match\n",
      "Match\n",
      "Match\n",
      "Match\n",
      "Match\n",
      "Match\n",
      "Match\n",
      "Match\n",
      "Match\n",
      "Match\n",
      "Match\n",
      "Match\n",
      "Match\n",
      "Match\n",
      "Match\n",
      "Match\n",
      "Match\n",
      "Match\n",
      "Match\n",
      "Match\n",
      "Match\n",
      "Match\n",
      "Match\n",
      "Match\n",
      "Match\n",
      "Match\n",
      "Match\n",
      "Match\n",
      "Match\n",
      "Match\n",
      "Match\n",
      "Match\n",
      "Match\n",
      "Match\n",
      "Match\n",
      "Match\n",
      "Match\n",
      "Match\n",
      "Match\n",
      "Match\n",
      "Match\n",
      "Match\n",
      "Match\n",
      "Match\n",
      "Match\n",
      "Match\n",
      "Match\n",
      "Match\n",
      "Match\n",
      "Match\n",
      "Match\n",
      "Match\n",
      "Match\n",
      "Match\n",
      "Match\n",
      "Match\n",
      "Match\n",
      "Match\n",
      "Match\n",
      "Match\n",
      "Match\n",
      "Match\n",
      "Match\n",
      "Match\n",
      "Match\n",
      "Match\n",
      "Match\n",
      "Match\n",
      "Match\n",
      "Match\n",
      "Match\n",
      "Match\n",
      "Match\n",
      "Match\n",
      "Match\n",
      "Match\n",
      "Match\n",
      "Match\n",
      "Match\n",
      "Match\n",
      "Match\n",
      "Match\n",
      "Match\n",
      "Match\n",
      "Match\n",
      "Match\n",
      "Match\n",
      "Match\n",
      "Match\n",
      "Match\n",
      "Match\n",
      "Match\n",
      "Match\n",
      "Match\n",
      "Match\n",
      "Match\n",
      "Match\n",
      "Match\n",
      "Match\n",
      "Match\n",
      "Match\n",
      "Match\n",
      "Match\n",
      "Match\n",
      "Match\n",
      "Match\n",
      "Match\n",
      "Match\n",
      "Match\n",
      "Match\n",
      "Match\n",
      "Match\n",
      "Match\n",
      "Match\n",
      "Match\n",
      "Match\n",
      "Match\n",
      "Match\n",
      "Match\n",
      "Match\n",
      "Match\n",
      "Match\n",
      "Match\n",
      "Match\n",
      "Match\n",
      "Match\n",
      "Match\n",
      "Match\n",
      "Match\n",
      "Match\n",
      "Match\n",
      "Match\n",
      "Match\n",
      "Match\n",
      "Match\n",
      "Match\n",
      "Match\n",
      "Match\n",
      "Match\n",
      "Match\n",
      "Match\n",
      "Match\n",
      "Match\n",
      "Match\n",
      "Match\n",
      "Match\n",
      "Match\n",
      "Match\n",
      "Match\n",
      "Match\n",
      "Match\n",
      "Match\n",
      "Match\n",
      "Match\n",
      "Match\n",
      "Match\n",
      "Match\n",
      "Match\n",
      "Match\n",
      "Match\n",
      "Match\n",
      "Match\n",
      "Match\n",
      "Match\n",
      "Match\n",
      "Match\n",
      "Match\n",
      "Match\n",
      "Match\n",
      "Match\n",
      "Match\n",
      "Match\n",
      "Match\n",
      "Match\n",
      "Match\n",
      "Match\n",
      "Match\n",
      "Match\n",
      "Match\n",
      "Match\n",
      "Match\n",
      "Match\n",
      "Match\n",
      "Match\n",
      "Match\n",
      "Match\n",
      "Match\n",
      "Match\n",
      "Match\n",
      "Match\n",
      "Match\n",
      "Match\n",
      "Match\n",
      "Match\n",
      "Match\n",
      "Match\n",
      "Match\n",
      "Match\n",
      "Match\n",
      "Match\n",
      "Match\n",
      "Match\n",
      "Match\n",
      "Match\n",
      "Match\n",
      "Match\n",
      "Match\n",
      "Match\n",
      "Match\n",
      "Match\n",
      "Match\n",
      "Match\n",
      "Match\n",
      "Match\n",
      "Match\n",
      "Match\n",
      "Match\n",
      "Match\n",
      "Match\n",
      "Match\n",
      "Match\n",
      "Match\n",
      "Match\n",
      "Match\n",
      "Match\n",
      "Match\n",
      "Match\n",
      "Match\n",
      "Match\n",
      "Match\n",
      "Match\n",
      "Match\n",
      "Match\n",
      "Match\n",
      "Match\n",
      "Match\n",
      "Match\n",
      "Match\n",
      "Match\n",
      "Match\n",
      "Match\n",
      "Match\n",
      "Match\n",
      "Match\n",
      "Match\n",
      "Match\n",
      "Match\n",
      "Match\n",
      "Match\n",
      "Match\n",
      "Match\n",
      "Match\n",
      "Match\n",
      "Match\n",
      "Match\n",
      "Match\n",
      "Match\n",
      "Match\n",
      "Match\n",
      "Match\n",
      "Match\n",
      "Match\n",
      "Match\n",
      "Match\n",
      "Match\n",
      "Match\n",
      "Match\n",
      "Match\n",
      "Match\n",
      "Match\n",
      "Match\n",
      "Match\n",
      "Match\n",
      "Match\n",
      "Match\n",
      "Match\n",
      "Match\n",
      "Match\n",
      "Match\n",
      "Match\n",
      "Match\n",
      "Match\n",
      "Match\n",
      "Match\n",
      "Match\n",
      "Match\n",
      "Match\n",
      "Match\n",
      "Match\n",
      "Match\n",
      "Match\n",
      "Match\n",
      "Match\n",
      "Match\n",
      "Match\n",
      "Match\n",
      "Match\n",
      "Match\n",
      "Match\n",
      "Match\n",
      "Match\n",
      "Match\n",
      "Match\n",
      "Match\n",
      "Match\n",
      "Match\n",
      "Match\n",
      "Match\n",
      "Match\n",
      "Match\n",
      "Match\n",
      "Match\n",
      "Match\n",
      "Match\n",
      "Match\n",
      "Match\n",
      "Match\n",
      "Match\n",
      "Match\n",
      "Match\n",
      "Match\n",
      "Match\n",
      "Match\n",
      "Match\n",
      "Match\n",
      "Match\n",
      "Match\n",
      "Match\n",
      "Match\n",
      "Match\n",
      "Match\n",
      "Match\n",
      "Match\n",
      "Match\n",
      "Match\n",
      "Match\n",
      "Match\n",
      "Match\n",
      "Match\n",
      "Match\n",
      "Match\n",
      "Match\n",
      "Match\n",
      "Match\n",
      "Match\n",
      "Match\n",
      "Match\n",
      "Match\n",
      "Match\n",
      "Match\n",
      "Match\n",
      "Match\n",
      "Match\n",
      "Match\n",
      "Match\n",
      "Match\n",
      "Match\n",
      "Match\n",
      "Match\n",
      "Match\n",
      "Match\n",
      "Match\n",
      "Match\n",
      "Match\n",
      "Match\n",
      "Match\n",
      "Match\n",
      "Match\n",
      "Match\n",
      "Match\n",
      "Match\n",
      "Match\n",
      "Match\n",
      "Match\n",
      "Match\n",
      "Match\n",
      "Match\n",
      "Match\n",
      "Match\n",
      "Match\n",
      "Match\n",
      "Match\n",
      "Match\n",
      "Match\n",
      "Match\n",
      "Match\n",
      "Match\n",
      "Match\n",
      "Match\n",
      "Match\n",
      "Match\n",
      "Match\n",
      "Match\n",
      "Match\n",
      "Match\n",
      "Match\n",
      "Match\n",
      "Match\n",
      "Match\n",
      "Match\n",
      "Match\n",
      "Match\n",
      "Match\n",
      "Match\n",
      "Match\n",
      "Match\n",
      "Match\n",
      "Match\n",
      "Match\n",
      "Match\n",
      "Match\n",
      "Match\n",
      "Match\n",
      "Match\n",
      "Match\n",
      "Match\n",
      "Match\n",
      "Match\n",
      "Match\n",
      "Match\n",
      "Match\n",
      "Match\n",
      "Match\n",
      "Match\n",
      "Match\n",
      "Match\n",
      "Match\n",
      "Match\n",
      "Match\n",
      "Match\n",
      "Match\n",
      "Match\n",
      "Match\n",
      "Match\n",
      "Match\n",
      "Match\n",
      "Match\n",
      "Match\n",
      "Match\n",
      "Match\n",
      "Match\n",
      "Match\n",
      "Match\n",
      "Match\n",
      "Match\n",
      "Match\n",
      "Match\n",
      "Match\n",
      "Match\n",
      "Match\n",
      "Match\n",
      "Match\n",
      "Match\n",
      "Match\n",
      "Match\n",
      "Match\n",
      "Match\n",
      "Match\n",
      "Match\n",
      "Match\n",
      "Match\n",
      "Match\n",
      "Match\n",
      "Match\n",
      "Match\n",
      "Match\n",
      "Match\n",
      "Match\n",
      "Match\n",
      "Match\n",
      "Match\n",
      "Match\n",
      "Match\n",
      "Match\n",
      "Match\n",
      "Match\n",
      "Match\n",
      "Match\n",
      "Match\n",
      "Match\n",
      "Match\n",
      "Match\n",
      "Match\n",
      "Match\n",
      "Match\n",
      "Match\n",
      "Match\n",
      "Match\n",
      "Match\n",
      "Match\n",
      "Match\n",
      "Match\n",
      "Match\n",
      "Match\n",
      "Match\n",
      "Match\n",
      "Match\n",
      "Match\n",
      "Match\n",
      "Match\n",
      "Match\n",
      "Match\n",
      "Match\n",
      "Match\n",
      "Match\n",
      "Match\n",
      "Match\n",
      "Match\n",
      "Match\n",
      "Match\n",
      "Match\n",
      "Match\n",
      "Match\n",
      "Match\n",
      "Match\n",
      "Match\n",
      "Match\n",
      "Match\n",
      "Match\n",
      "Match\n",
      "Match\n",
      "Match\n",
      "Match\n",
      "Match\n",
      "Match\n",
      "Match\n",
      "Match\n",
      "Match\n",
      "Match\n",
      "Match\n",
      "Match\n",
      "Match\n",
      "Match\n",
      "Match\n",
      "Match\n",
      "Match\n",
      "Match\n",
      "Match\n",
      "Match\n",
      "Match\n",
      "Match\n",
      "Match\n",
      "Match\n",
      "Match\n",
      "Match\n",
      "Match\n",
      "Match\n",
      "Match\n",
      "Match\n",
      "Match\n",
      "Match\n",
      "Match\n",
      "Match\n",
      "Match\n",
      "Match\n",
      "Match\n",
      "Match\n",
      "Match\n",
      "Match\n",
      "Match\n",
      "Match\n",
      "Match\n",
      "Match\n",
      "Match\n",
      "Match\n",
      "Match\n",
      "Match\n",
      "Match\n",
      "Match\n",
      "Match\n",
      "Match\n",
      "Match\n",
      "Match\n",
      "Match\n",
      "Match\n",
      "Match\n",
      "Match\n",
      "Match\n",
      "Match\n",
      "Match\n",
      "Match\n",
      "Match\n",
      "Match\n",
      "Match\n",
      "Match\n",
      "Match\n",
      "Match\n",
      "Match\n",
      "Match\n",
      "Match\n",
      "Match\n",
      "Match\n",
      "Match\n",
      "Match\n",
      "Match\n",
      "Match\n",
      "Match\n",
      "Match\n",
      "Match\n",
      "Match\n",
      "Match\n",
      "Match\n",
      "Match\n",
      "Match\n",
      "Match\n",
      "Match\n",
      "Match\n",
      "Match\n",
      "Match\n",
      "Match\n",
      "Match\n",
      "Match\n",
      "Match\n",
      "Match\n",
      "Match\n",
      "Match\n",
      "Match\n",
      "Match\n",
      "Match\n",
      "Match\n",
      "Match\n",
      "Match\n",
      "Match\n",
      "Match\n",
      "Match\n",
      "Match\n",
      "Match\n",
      "Match\n",
      "Match\n",
      "Match\n",
      "Match\n",
      "Match\n",
      "Match\n",
      "Match\n",
      "Match\n",
      "Match\n",
      "Match\n",
      "Match\n",
      "Match\n",
      "Match\n",
      "Match\n",
      "Match\n",
      "Match\n",
      "Match\n",
      "Match\n",
      "Match\n",
      "Match\n",
      "Match\n",
      "Match\n",
      "Match\n",
      "Match\n",
      "Match\n",
      "Match\n",
      "Match\n",
      "Match\n",
      "Match\n",
      "Match\n",
      "Match\n",
      "Match\n",
      "Match\n",
      "Match\n",
      "Match\n",
      "Match\n",
      "Match\n",
      "Match\n",
      "Match\n",
      "Match\n",
      "Match\n",
      "Match\n",
      "Match\n",
      "Match\n",
      "Match\n",
      "Match\n",
      "Match\n",
      "Match\n",
      "Match\n",
      "Match\n",
      "Match\n",
      "Match\n",
      "Match\n",
      "Match\n",
      "Match\n",
      "Match\n",
      "Match\n",
      "Match\n",
      "Match\n",
      "Match\n",
      "Match\n",
      "Match\n",
      "Match\n",
      "Match\n",
      "Match\n",
      "Match\n",
      "Match\n",
      "Match\n",
      "Match\n",
      "Match\n",
      "Match\n",
      "Match\n",
      "Match\n",
      "Match\n",
      "Match\n",
      "Match\n",
      "Match\n",
      "Match\n",
      "Match\n",
      "Match\n",
      "Match\n",
      "Match\n",
      "Match\n",
      "Match\n",
      "Match\n",
      "Match\n",
      "Match\n",
      "Match\n",
      "Match\n",
      "Match\n",
      "Match\n",
      "Match\n"
     ]
    }
   ],
   "source": [
    "datos_atencion_urg = pd.read_csv(\"Datos_atencion_urg.csv\")\n",
    "ids_atencion = datos_atencion_urg[\"ID\"]\n",
    "set_atencion_urg = set(ids_atencion)\n",
    "for paciente in set_pacientes:\n",
    "    if paciente not in set_atencion_urg:\n",
    "        print(\"Match\")"
   ]
  },
  {
   "cell_type": "code",
   "execution_count": 41,
   "metadata": {},
   "outputs": [
    {
     "ename": "AttributeError",
     "evalue": "module 'matplotlib.pyplot' has no attribute 'set_title'",
     "output_type": "error",
     "traceback": [
      "\u001b[0;31m---------------------------------------------------------------------------\u001b[0m",
      "\u001b[0;31mAttributeError\u001b[0m                            Traceback (most recent call last)",
      "\u001b[0;32m<ipython-input-41-386f6d0c9659>\u001b[0m in \u001b[0;36m<module>\u001b[0;34m\u001b[0m\n\u001b[1;32m      4\u001b[0m \u001b[0mf\u001b[0m\u001b[0;34m.\u001b[0m\u001b[0mfit\u001b[0m\u001b[0;34m(\u001b[0m\u001b[0;34m)\u001b[0m\u001b[0;34m\u001b[0m\u001b[0;34m\u001b[0m\u001b[0m\n\u001b[1;32m      5\u001b[0m \u001b[0mhist\u001b[0m \u001b[0;34m=\u001b[0m \u001b[0mf\u001b[0m\u001b[0;34m.\u001b[0m\u001b[0msummary\u001b[0m\u001b[0;34m(\u001b[0m\u001b[0;34m)\u001b[0m\u001b[0;34m\u001b[0m\u001b[0;34m\u001b[0m\u001b[0m\n\u001b[0;32m----> 6\u001b[0;31m \u001b[0mplt\u001b[0m\u001b[0;34m.\u001b[0m\u001b[0mset_title\u001b[0m\u001b[0;34m(\u001b[0m\u001b[0;34m\"Estadia en URG101_003 distribución ajustada\"\u001b[0m\u001b[0;34m)\u001b[0m\u001b[0;34m\u001b[0m\u001b[0;34m\u001b[0m\u001b[0m\n\u001b[0m\u001b[1;32m      7\u001b[0m \u001b[0mplt\u001b[0m\u001b[0;34m.\u001b[0m\u001b[0mset_xlabel\u001b[0m\u001b[0;34m(\u001b[0m\u001b[0;34m\"Horas\"\u001b[0m\u001b[0;34m)\u001b[0m\u001b[0;34m\u001b[0m\u001b[0;34m\u001b[0m\u001b[0m\n",
      "\u001b[0;31mAttributeError\u001b[0m: module 'matplotlib.pyplot' has no attribute 'set_title'"
     ]
    },
    {
     "data": {
      "image/png": "[encoded data removed]",
      "text/plain": [
       "<Figure size 432x288 with 1 Axes>"
      ]
     },
     "metadata": {
      "needs_background": "light"
     },
     "output_type": "display_data"
    }
   ],
   "source": [
    "estadia = datos_pacientes[datos_pacientes[\"Area\"] == \"URG101_003\"][\"Estadia\"]\n",
    "estadia = np.array(estadia)\n",
    "f = Fitter(estadia,distributions = [\"beta\"])\n",
    "f.fit()\n",
    "hist = f.summary()\n",
    "plt.set_title(\"Estadia en URG101_003 distribución ajustada\")\n",
    "plt.set_xlabel(\"Horas\")"
   ]
  },
  {
   "cell_type": "code",
   "execution_count": null,
   "metadata": {},
   "outputs": [],
   "source": [
    "help(Fitter.summary)"
   ]
  },
  {
   "cell_type": "markdown",
   "metadata": {},
   "source": [
    "# Ajuste de distribuciones de estadias OPR, DIV y URG"
   ]
  },
  {
   "cell_type": "markdown",
   "metadata": {},
   "source": [
    "### Distribución Operaciones"
   ]
  },
  {
   "cell_type": "code",
   "execution_count": 10,
   "metadata": {},
   "outputs": [
    {
     "name": "stdout",
     "output_type": "stream",
     "text": [
      "Cantidad de datos de estadias en operaciones 412\n"
     ]
    },
    {
     "data": {
      "text/plain": [
       "OPR102_003    152\n",
       "OPR101_033    142\n",
       "OPR102_001     60\n",
       "OPR101_011     58\n",
       "Name: SALA OPERACIONES, dtype: int64"
      ]
     },
     "execution_count": 10,
     "metadata": {},
     "output_type": "execute_result"
    }
   ],
   "source": [
    "print(f'Cantidad de datos de estadias en operaciones {len(datos_operaciones)}')\n",
    "datos_operaciones['SALA OPERACIONES'].value_counts()"
   ]
  },
  {
   "cell_type": "code",
   "execution_count": 96,
   "metadata": {},
   "outputs": [
    {
     "data": {
      "text/plain": [
       "{'whiskers': [<matplotlib.lines.Line2D at 0x261a8e065e0>,\n",
       "  <matplotlib.lines.Line2D at 0x261a8bb25e0>],\n",
       " 'caps': [<matplotlib.lines.Line2D at 0x261a8bb2bb0>,\n",
       "  <matplotlib.lines.Line2D at 0x261a8e15670>],\n",
       " 'boxes': [<matplotlib.lines.Line2D at 0x261a8bb22b0>],\n",
       " 'medians': [<matplotlib.lines.Line2D at 0x261a786ec10>],\n",
       " 'fliers': [<matplotlib.lines.Line2D at 0x261a8c2efd0>],\n",
       " 'means': []}"
      ]
     },
     "execution_count": 96,
     "metadata": {},
     "output_type": "execute_result"
    },
    {
     "data": {
      "image/png": "[encoded data removed]",
      "text/plain": [
       "<Figure size 432x288 with 1 Axes>"
      ]
     },
     "metadata": {
      "needs_background": "light"
     },
     "output_type": "display_data"
    }
   ],
   "source": [
    "plt.boxplot(datos_operaciones['DURACION (hrs)'])"
   ]
  },
  {
   "cell_type": "code",
   "execution_count": 12,
   "metadata": {},
   "outputs": [
    {
     "ename": "KeyboardInterrupt",
     "evalue": "",
     "output_type": "error",
     "traceback": [
      "\u001b[1;31m---------------------------------------------------------------------------\u001b[0m",
      "\u001b[1;31mKeyboardInterrupt\u001b[0m                         Traceback (most recent call last)",
      "\u001b[1;32m~\\AppData\\Local\\Temp/ipykernel_2700/2428182590.py\u001b[0m in \u001b[0;36m<module>\u001b[1;34m\u001b[0m\n\u001b[0;32m      1\u001b[0m \u001b[0mfit_operaciones\u001b[0m \u001b[1;33m=\u001b[0m \u001b[0mFitter\u001b[0m\u001b[1;33m(\u001b[0m\u001b[0mdatos_operaciones\u001b[0m\u001b[1;33m[\u001b[0m\u001b[1;34m'DURACION (hrs)'\u001b[0m\u001b[1;33m]\u001b[0m\u001b[1;33m)\u001b[0m\u001b[1;33m\u001b[0m\u001b[1;33m\u001b[0m\u001b[0m\n\u001b[1;32m----> 2\u001b[1;33m \u001b[0mfit_operaciones\u001b[0m\u001b[1;33m.\u001b[0m\u001b[0mfit\u001b[0m\u001b[1;33m(\u001b[0m\u001b[1;33m)\u001b[0m\u001b[1;33m\u001b[0m\u001b[1;33m\u001b[0m\u001b[0m\n\u001b[0m\u001b[0;32m      3\u001b[0m \u001b[0mfit_operaciones\u001b[0m\u001b[1;33m.\u001b[0m\u001b[0msummary\u001b[0m\u001b[1;33m(\u001b[0m\u001b[1;33m)\u001b[0m\u001b[1;33m\u001b[0m\u001b[1;33m\u001b[0m\u001b[0m\n",
      "\u001b[1;32mc:\\Users\\joaco\\AppData\\Local\\Programs\\Python\\Python38\\lib\\site-packages\\fitter\\fitter.py\u001b[0m in \u001b[0;36mfit\u001b[1;34m(self, amp, progress, n_jobs)\u001b[0m\n\u001b[0;32m    348\u001b[0m         )\n\u001b[0;32m    349\u001b[0m         \u001b[0mpool\u001b[0m \u001b[1;33m=\u001b[0m \u001b[0mParallel\u001b[0m\u001b[1;33m(\u001b[0m\u001b[0mn_jobs\u001b[0m\u001b[1;33m=\u001b[0m\u001b[0mn_jobs\u001b[0m\u001b[1;33m,\u001b[0m \u001b[0mbackend\u001b[0m\u001b[1;33m=\u001b[0m\u001b[1;34m\"threading\"\u001b[0m\u001b[1;33m)\u001b[0m\u001b[1;33m\u001b[0m\u001b[1;33m\u001b[0m\u001b[0m\n\u001b[1;32m--> 350\u001b[1;33m         \u001b[0m_\u001b[0m \u001b[1;33m=\u001b[0m \u001b[0mpool\u001b[0m\u001b[1;33m(\u001b[0m\u001b[0mjobs\u001b[0m\u001b[1;33m)\u001b[0m\u001b[1;33m\u001b[0m\u001b[1;33m\u001b[0m\u001b[0m\n\u001b[0m\u001b[0;32m    351\u001b[0m         self.df_errors = pd.DataFrame(\n\u001b[0;32m    352\u001b[0m             {\n",
      "\u001b[1;32mc:\\Users\\joaco\\AppData\\Local\\Programs\\Python\\Python38\\lib\\site-packages\\joblib\\parallel.py\u001b[0m in \u001b[0;36m__call__\u001b[1;34m(self, iterable)\u001b[0m\n\u001b[0;32m   1054\u001b[0m \u001b[1;33m\u001b[0m\u001b[0m\n\u001b[0;32m   1055\u001b[0m             \u001b[1;32mwith\u001b[0m \u001b[0mself\u001b[0m\u001b[1;33m.\u001b[0m\u001b[0m_backend\u001b[0m\u001b[1;33m.\u001b[0m\u001b[0mretrieval_context\u001b[0m\u001b[1;33m(\u001b[0m\u001b[1;33m)\u001b[0m\u001b[1;33m:\u001b[0m\u001b[1;33m\u001b[0m\u001b[1;33m\u001b[0m\u001b[0m\n\u001b[1;32m-> 1056\u001b[1;33m                 \u001b[0mself\u001b[0m\u001b[1;33m.\u001b[0m\u001b[0mretrieve\u001b[0m\u001b[1;33m(\u001b[0m\u001b[1;33m)\u001b[0m\u001b[1;33m\u001b[0m\u001b[1;33m\u001b[0m\u001b[0m\n\u001b[0m\u001b[0;32m   1057\u001b[0m             \u001b[1;31m# Make sure that we get a last message telling us we are done\u001b[0m\u001b[1;33m\u001b[0m\u001b[1;33m\u001b[0m\u001b[1;33m\u001b[0m\u001b[0m\n\u001b[0;32m   1058\u001b[0m             \u001b[0melapsed_time\u001b[0m \u001b[1;33m=\u001b[0m \u001b[0mtime\u001b[0m\u001b[1;33m.\u001b[0m\u001b[0mtime\u001b[0m\u001b[1;33m(\u001b[0m\u001b[1;33m)\u001b[0m \u001b[1;33m-\u001b[0m \u001b[0mself\u001b[0m\u001b[1;33m.\u001b[0m\u001b[0m_start_time\u001b[0m\u001b[1;33m\u001b[0m\u001b[1;33m\u001b[0m\u001b[0m\n",
      "\u001b[1;32mc:\\Users\\joaco\\AppData\\Local\\Programs\\Python\\Python38\\lib\\site-packages\\joblib\\parallel.py\u001b[0m in \u001b[0;36mretrieve\u001b[1;34m(self)\u001b[0m\n\u001b[0;32m    933\u001b[0m             \u001b[1;32mtry\u001b[0m\u001b[1;33m:\u001b[0m\u001b[1;33m\u001b[0m\u001b[1;33m\u001b[0m\u001b[0m\n\u001b[0;32m    934\u001b[0m                 \u001b[1;32mif\u001b[0m \u001b[0mgetattr\u001b[0m\u001b[1;33m(\u001b[0m\u001b[0mself\u001b[0m\u001b[1;33m.\u001b[0m\u001b[0m_backend\u001b[0m\u001b[1;33m,\u001b[0m \u001b[1;34m'supports_timeout'\u001b[0m\u001b[1;33m,\u001b[0m \u001b[1;32mFalse\u001b[0m\u001b[1;33m)\u001b[0m\u001b[1;33m:\u001b[0m\u001b[1;33m\u001b[0m\u001b[1;33m\u001b[0m\u001b[0m\n\u001b[1;32m--> 935\u001b[1;33m                     \u001b[0mself\u001b[0m\u001b[1;33m.\u001b[0m\u001b[0m_output\u001b[0m\u001b[1;33m.\u001b[0m\u001b[0mextend\u001b[0m\u001b[1;33m(\u001b[0m\u001b[0mjob\u001b[0m\u001b[1;33m.\u001b[0m\u001b[0mget\u001b[0m\u001b[1;33m(\u001b[0m\u001b[0mtimeout\u001b[0m\u001b[1;33m=\u001b[0m\u001b[0mself\u001b[0m\u001b[1;33m.\u001b[0m\u001b[0mtimeout\u001b[0m\u001b[1;33m)\u001b[0m\u001b[1;33m)\u001b[0m\u001b[1;33m\u001b[0m\u001b[1;33m\u001b[0m\u001b[0m\n\u001b[0m\u001b[0;32m    936\u001b[0m                 \u001b[1;32melse\u001b[0m\u001b[1;33m:\u001b[0m\u001b[1;33m\u001b[0m\u001b[1;33m\u001b[0m\u001b[0m\n\u001b[0;32m    937\u001b[0m                     \u001b[0mself\u001b[0m\u001b[1;33m.\u001b[0m\u001b[0m_output\u001b[0m\u001b[1;33m.\u001b[0m\u001b[0mextend\u001b[0m\u001b[1;33m(\u001b[0m\u001b[0mjob\u001b[0m\u001b[1;33m.\u001b[0m\u001b[0mget\u001b[0m\u001b[1;33m(\u001b[0m\u001b[1;33m)\u001b[0m\u001b[1;33m)\u001b[0m\u001b[1;33m\u001b[0m\u001b[1;33m\u001b[0m\u001b[0m\n",
      "\u001b[1;32mc:\\Users\\joaco\\AppData\\Local\\Programs\\Python\\Python38\\lib\\multiprocessing\\pool.py\u001b[0m in \u001b[0;36mget\u001b[1;34m(self, timeout)\u001b[0m\n\u001b[0;32m    763\u001b[0m \u001b[1;33m\u001b[0m\u001b[0m\n\u001b[0;32m    764\u001b[0m     \u001b[1;32mdef\u001b[0m \u001b[0mget\u001b[0m\u001b[1;33m(\u001b[0m\u001b[0mself\u001b[0m\u001b[1;33m,\u001b[0m \u001b[0mtimeout\u001b[0m\u001b[1;33m=\u001b[0m\u001b[1;32mNone\u001b[0m\u001b[1;33m)\u001b[0m\u001b[1;33m:\u001b[0m\u001b[1;33m\u001b[0m\u001b[1;33m\u001b[0m\u001b[0m\n\u001b[1;32m--> 765\u001b[1;33m         \u001b[0mself\u001b[0m\u001b[1;33m.\u001b[0m\u001b[0mwait\u001b[0m\u001b[1;33m(\u001b[0m\u001b[0mtimeout\u001b[0m\u001b[1;33m)\u001b[0m\u001b[1;33m\u001b[0m\u001b[1;33m\u001b[0m\u001b[0m\n\u001b[0m\u001b[0;32m    766\u001b[0m         \u001b[1;32mif\u001b[0m \u001b[1;32mnot\u001b[0m \u001b[0mself\u001b[0m\u001b[1;33m.\u001b[0m\u001b[0mready\u001b[0m\u001b[1;33m(\u001b[0m\u001b[1;33m)\u001b[0m\u001b[1;33m:\u001b[0m\u001b[1;33m\u001b[0m\u001b[1;33m\u001b[0m\u001b[0m\n\u001b[0;32m    767\u001b[0m             \u001b[1;32mraise\u001b[0m \u001b[0mTimeoutError\u001b[0m\u001b[1;33m\u001b[0m\u001b[1;33m\u001b[0m\u001b[0m\n",
      "\u001b[1;32mc:\\Users\\joaco\\AppData\\Local\\Programs\\Python\\Python38\\lib\\multiprocessing\\pool.py\u001b[0m in \u001b[0;36mwait\u001b[1;34m(self, timeout)\u001b[0m\n\u001b[0;32m    760\u001b[0m \u001b[1;33m\u001b[0m\u001b[0m\n\u001b[0;32m    761\u001b[0m     \u001b[1;32mdef\u001b[0m \u001b[0mwait\u001b[0m\u001b[1;33m(\u001b[0m\u001b[0mself\u001b[0m\u001b[1;33m,\u001b[0m \u001b[0mtimeout\u001b[0m\u001b[1;33m=\u001b[0m\u001b[1;32mNone\u001b[0m\u001b[1;33m)\u001b[0m\u001b[1;33m:\u001b[0m\u001b[1;33m\u001b[0m\u001b[1;33m\u001b[0m\u001b[0m\n\u001b[1;32m--> 762\u001b[1;33m         \u001b[0mself\u001b[0m\u001b[1;33m.\u001b[0m\u001b[0m_event\u001b[0m\u001b[1;33m.\u001b[0m\u001b[0mwait\u001b[0m\u001b[1;33m(\u001b[0m\u001b[0mtimeout\u001b[0m\u001b[1;33m)\u001b[0m\u001b[1;33m\u001b[0m\u001b[1;33m\u001b[0m\u001b[0m\n\u001b[0m\u001b[0;32m    763\u001b[0m \u001b[1;33m\u001b[0m\u001b[0m\n\u001b[0;32m    764\u001b[0m     \u001b[1;32mdef\u001b[0m \u001b[0mget\u001b[0m\u001b[1;33m(\u001b[0m\u001b[0mself\u001b[0m\u001b[1;33m,\u001b[0m \u001b[0mtimeout\u001b[0m\u001b[1;33m=\u001b[0m\u001b[1;32mNone\u001b[0m\u001b[1;33m)\u001b[0m\u001b[1;33m:\u001b[0m\u001b[1;33m\u001b[0m\u001b[1;33m\u001b[0m\u001b[0m\n",
      "\u001b[1;32mc:\\Users\\joaco\\AppData\\Local\\Programs\\Python\\Python38\\lib\\threading.py\u001b[0m in \u001b[0;36mwait\u001b[1;34m(self, timeout)\u001b[0m\n\u001b[0;32m    556\u001b[0m             \u001b[0msignaled\u001b[0m \u001b[1;33m=\u001b[0m \u001b[0mself\u001b[0m\u001b[1;33m.\u001b[0m\u001b[0m_flag\u001b[0m\u001b[1;33m\u001b[0m\u001b[1;33m\u001b[0m\u001b[0m\n\u001b[0;32m    557\u001b[0m             \u001b[1;32mif\u001b[0m \u001b[1;32mnot\u001b[0m \u001b[0msignaled\u001b[0m\u001b[1;33m:\u001b[0m\u001b[1;33m\u001b[0m\u001b[1;33m\u001b[0m\u001b[0m\n\u001b[1;32m--> 558\u001b[1;33m                 \u001b[0msignaled\u001b[0m \u001b[1;33m=\u001b[0m \u001b[0mself\u001b[0m\u001b[1;33m.\u001b[0m\u001b[0m_cond\u001b[0m\u001b[1;33m.\u001b[0m\u001b[0mwait\u001b[0m\u001b[1;33m(\u001b[0m\u001b[0mtimeout\u001b[0m\u001b[1;33m)\u001b[0m\u001b[1;33m\u001b[0m\u001b[1;33m\u001b[0m\u001b[0m\n\u001b[0m\u001b[0;32m    559\u001b[0m             \u001b[1;32mreturn\u001b[0m \u001b[0msignaled\u001b[0m\u001b[1;33m\u001b[0m\u001b[1;33m\u001b[0m\u001b[0m\n\u001b[0;32m    560\u001b[0m \u001b[1;33m\u001b[0m\u001b[0m\n",
      "\u001b[1;32mc:\\Users\\joaco\\AppData\\Local\\Programs\\Python\\Python38\\lib\\threading.py\u001b[0m in \u001b[0;36mwait\u001b[1;34m(self, timeout)\u001b[0m\n\u001b[0;32m    300\u001b[0m         \u001b[1;32mtry\u001b[0m\u001b[1;33m:\u001b[0m    \u001b[1;31m# restore state no matter what (e.g., KeyboardInterrupt)\u001b[0m\u001b[1;33m\u001b[0m\u001b[1;33m\u001b[0m\u001b[0m\n\u001b[0;32m    301\u001b[0m             \u001b[1;32mif\u001b[0m \u001b[0mtimeout\u001b[0m \u001b[1;32mis\u001b[0m \u001b[1;32mNone\u001b[0m\u001b[1;33m:\u001b[0m\u001b[1;33m\u001b[0m\u001b[1;33m\u001b[0m\u001b[0m\n\u001b[1;32m--> 302\u001b[1;33m                 \u001b[0mwaiter\u001b[0m\u001b[1;33m.\u001b[0m\u001b[0macquire\u001b[0m\u001b[1;33m(\u001b[0m\u001b[1;33m)\u001b[0m\u001b[1;33m\u001b[0m\u001b[1;33m\u001b[0m\u001b[0m\n\u001b[0m\u001b[0;32m    303\u001b[0m                 \u001b[0mgotit\u001b[0m \u001b[1;33m=\u001b[0m \u001b[1;32mTrue\u001b[0m\u001b[1;33m\u001b[0m\u001b[1;33m\u001b[0m\u001b[0m\n\u001b[0;32m    304\u001b[0m             \u001b[1;32melse\u001b[0m\u001b[1;33m:\u001b[0m\u001b[1;33m\u001b[0m\u001b[1;33m\u001b[0m\u001b[0m\n",
      "\u001b[1;31mKeyboardInterrupt\u001b[0m: "
     ]
    }
   ],
   "source": [
    "fit_operaciones = Fitter(datos_operaciones['DURACION (hrs)'])\n",
    "fit_operaciones.fit()\n",
    "fit_operaciones.summary()"
   ]
  },
  {
   "cell_type": "code",
   "execution_count": 117,
   "metadata": {},
   "outputs": [
    {
     "data": {
      "text/plain": [
       "{'gennorm': (1.7513217591646353, 2.435311534067437, 0.7090240209156644)}"
      ]
     },
     "execution_count": 117,
     "metadata": {},
     "output_type": "execute_result"
    }
   ],
   "source": [
    "dic_distribuciones = {}\n",
    "dic_distribuciones['OPR'] = fit_operaciones.get_best()\n",
    "dic_distribuciones['OPR']"
   ]
  },
  {
   "cell_type": "markdown",
   "metadata": {},
   "source": [
    "### Distribución DIVs"
   ]
  },
  {
   "cell_type": "code",
   "execution_count": 97,
   "metadata": {},
   "outputs": [],
   "source": [
    "DIVs = ['DIV101_603', 'DIV101_604','DIV102_203','DIV103_107', 'DIV103_204', 'DIV104_602','DIV101_703']\n",
    "DIV_101_703 = ['DIV101_703']\n",
    "URGs = ['URG101_003']"
   ]
  },
  {
   "cell_type": "code",
   "execution_count": 180,
   "metadata": {},
   "outputs": [],
   "source": [
    "dic_distribuciones = dict.fromkeys(areas_mapa_profe)\n",
    "estadias_div101_603 = np.array([])\n",
    "estadias_div101_604 = np.array([])\n",
    "estadias_div101_703 = np.array([])\n",
    "estadias_div102_203 = np.array([])\n",
    "estadias_div103_107 = np.array([])\n",
    "estadias_div103_204 = np.array([])\n",
    "estadias_div104_602 = np.array([])\n",
    "estadias_urg = np.array([])\n",
    "\n",
    "for area in areas_mapa_profe:\n",
    "    try : \n",
    "        estadia = datos_pacientes[datos_pacientes[\"Area\"] == area][\"Estadia\"]\n",
    "        estadia = np.array(estadia)\n",
    "\n",
    "        if area == 'URG101_003':\n",
    "            estadias_urg = np.append(estadias_urg, estadia)\n",
    "        elif area == 'DIV101_603':\n",
    "            estadias_div101_603 = np.append(estadias_div101_603, estadia)\n",
    "        elif area == 'DIV101_604':\n",
    "            estadias_div101_604 = np.append(estadias_div101_604, estadia)\n",
    "        elif area == 'DIV101_703':\n",
    "            estadias_div101_703 = np.append(estadias_div101_703, estadia)\n",
    "        elif area == 'DIV102_203':\n",
    "            estadias_div102_203 = np.append(estadias_div102_203, estadia)\n",
    "        elif area == 'DIV103_107':\n",
    "            estadias_div103_107 = np.append(estadias_div103_107, estadia)\n",
    "        elif area == 'DIV103_204':\n",
    "            estadias_div103_204 = np.append(estadias_div103_204, estadia)\n",
    "        elif area == 'DIV104_602':\n",
    "            estadias_div104_602 = np.append(estadias_div104_602, estadia)    \n",
    "    \n",
    "    except:\n",
    "        print('Hubo un error')\n",
    "\n",
    "estadias_div101_603 = estadias_div101_603[estadias_div101_603 != 0]\n",
    "estadias_div101_604 = estadias_div101_604[estadias_div101_604 != 0]\n",
    "estadias_div101_703 = estadias_div101_703[estadias_div101_703 != 0]\n",
    "estadias_div102_203 = estadias_div102_203[estadias_div102_203 != 0]\n",
    "estadias_div103_107 = estadias_div103_107[estadias_div103_107 != 0]\n",
    "estadias_div103_204 = estadias_div103_204[estadias_div103_204 != 0]\n",
    "estadias_div104_602 = estadias_div104_602[estadias_div104_602 != 0]"
   ]
  },
  {
   "cell_type": "code",
   "execution_count": 210,
   "metadata": {},
   "outputs": [
    {
     "data": {
      "image/png": "[encoded data removed]",
      "text/plain": [
       "<Figure size 432x288 with 1 Axes>"
      ]
     },
     "metadata": {
      "needs_background": "light"
     },
     "output_type": "display_data"
    }
   ],
   "source": [
    "#plt.hist(estadias_div101_603, bins=20);\n",
    "#plt.hist(estadias_div101_604, bins=20);\n",
    "#plt.hist(estadias_div101_703, bins=20);\n",
    "plt.hist(estadias_div102_203, bins=20);\n",
    "#plt.hist(estadias_div103_107, bins=20);\n",
    "#plt.hist(estadias_div103_204, bins=20);\n",
    "#plt.hist(estadias_div104_602, bins=20);\n"
   ]
  },
  {
   "cell_type": "code",
   "execution_count": 200,
   "metadata": {},
   "outputs": [
    {
     "name": "stdout",
     "output_type": "stream",
     "text": [
      "# Datos estadias div: 37\n"
     ]
    },
    {
     "data": {
      "image/png": "[encoded data removed]",
      "text/plain": [
       "<Figure size 432x288 with 1 Axes>"
      ]
     },
     "metadata": {
      "needs_background": "light"
     },
     "output_type": "display_data"
    }
   ],
   "source": [
    "estadias_div_set_1 = np.array([])\n",
    "estadias_div_set_1 = np.append(estadias_div_set_1, estadias_div101_603)\n",
    "estadias_div_set_1 = np.append(estadias_div_set_1, estadias_div101_604)\n",
    "estadias_div_set_1 = np.append(estadias_div_set_1, estadias_div103_107)\n",
    "\n",
    "print(f'# Datos estadias div: {len(estadias_div_set_1)}')\n",
    "plt.hist(estadias_div_set_1, bins=20);"
   ]
  },
  {
   "cell_type": "code",
   "execution_count": 100,
   "metadata": {},
   "outputs": [
    {
     "data": {
      "text/plain": [
       "(array([486.,  40.,  15.,   7.,  13.,   1.,   2.,   0.,   0.,   1.]),\n",
       " array([   0.        ,  110.05666667,  220.11333333,  330.17      ,\n",
       "         440.22666667,  550.28333333,  660.34      ,  770.39666667,\n",
       "         880.45333333,  990.51      , 1100.56666667]),\n",
       " <BarContainer object of 10 artists>)"
      ]
     },
     "execution_count": 100,
     "metadata": {},
     "output_type": "execute_result"
    },
    {
     "data": {
      "image/png": "[encoded data removed]",
      "text/plain": [
       "<Figure size 432x288 with 1 Axes>"
      ]
     },
     "metadata": {
      "needs_background": "light"
     },
     "output_type": "display_data"
    }
   ],
   "source": [
    "plt.hist(estadias_div)"
   ]
  },
  {
   "cell_type": "code",
   "execution_count": 154,
   "metadata": {},
   "outputs": [
    {
     "name": "stdout",
     "output_type": "stream",
     "text": [
      "0.25309734513274335\n"
     ]
    },
    {
     "data": {
      "text/plain": [
       "{'whiskers': [<matplotlib.lines.Line2D at 0x261abf12fd0>,\n",
       "  <matplotlib.lines.Line2D at 0x261abf212e0>],\n",
       " 'caps': [<matplotlib.lines.Line2D at 0x261abf215b0>,\n",
       "  <matplotlib.lines.Line2D at 0x261abf21880>],\n",
       " 'boxes': [<matplotlib.lines.Line2D at 0x261abf12d00>],\n",
       " 'medians': [<matplotlib.lines.Line2D at 0x261abf21b50>],\n",
       " 'fliers': [<matplotlib.lines.Line2D at 0x261abf21e20>],\n",
       " 'means': []}"
      ]
     },
     "execution_count": 154,
     "metadata": {},
     "output_type": "execute_result"
    },
    {
     "data": {
      "image/png": "[encoded data removed]",
      "text/plain": [
       "<Figure size 432x288 with 1 Axes>"
      ]
     },
     "metadata": {
      "needs_background": "light"
     },
     "output_type": "display_data"
    }
   ],
   "source": [
    "#plt.boxplot(estadias_urg)\n",
    "s = np.std(estadias_div, ddof=1)\n",
    "mu = np.mean(estadias_div)\n",
    "iqr = stats.iqr(estadias_div)\n",
    "cota_superior = stats.scoreatpercentile(estadias_div, 75) + 3*iqr\n",
    "#cota_inferior = max(stats.scoreatpercentile(estadias_div, 75) - 1.5*iqr, 0)\n",
    "cota_inferior = 0\n",
    "\n",
    "estadias_div_filtrada = [x for x in estadias_div if cota_inferior < x <= cota_superior]\n",
    "\n",
    "#iqr = stats.iqr(estadias_div_filtrada)\n",
    "#cota_superior = stats.scoreatpercentile(estadias_div_filtrada, 75) + 3*iqr\n",
    "#cota_inferior = max(stats.scoreatpercentile(estadias_div_filtrada, 75) - 3*iqr, 0)\n",
    "\n",
    "#estadias_div_filtrada = [x for x in estadias_div_filtrada if cota_inferior < x <= cota_superior]\n",
    "\n",
    "print(len(estadias_div_filtrada)/ len(estadias_div))\n",
    "plt.boxplot(estadias_div_filtrada)"
   ]
  },
  {
   "cell_type": "markdown",
   "metadata": {},
   "source": [
    "Como se puede ver, luego de aplicar un filtro sobre los strong outliers, nos quedamos con el 56% de los datos de estadias en los div ya que gran parte de ellos eran valores 0s que no tenien sentido dentro del contexto de nuestro problema."
   ]
  },
  {
   "cell_type": "code",
   "execution_count": 151,
   "metadata": {},
   "outputs": [
    {
     "data": {
      "text/html": [
       "<div>\n",
       "<style scoped>\n",
       "    .dataframe tbody tr th:only-of-type {\n",
       "        vertical-align: middle;\n",
       "    }\n",
       "\n",
       "    .dataframe tbody tr th {\n",
       "        vertical-align: top;\n",
       "    }\n",
       "\n",
       "    .dataframe thead th {\n",
       "        text-align: right;\n",
       "    }\n",
       "</style>\n",
       "<table border=\"1\" class=\"dataframe\">\n",
       "  <thead>\n",
       "    <tr style=\"text-align: right;\">\n",
       "      <th></th>\n",
       "      <th>sumsquare_error</th>\n",
       "      <th>aic</th>\n",
       "      <th>bic</th>\n",
       "      <th>kl_div</th>\n",
       "    </tr>\n",
       "  </thead>\n",
       "  <tbody>\n",
       "    <tr>\n",
       "      <th>exponpow</th>\n",
       "      <td>0.080507</td>\n",
       "      <td>790.276392</td>\n",
       "      <td>-594.325500</td>\n",
       "      <td>inf</td>\n",
       "    </tr>\n",
       "    <tr>\n",
       "      <th>lognorm</th>\n",
       "      <td>0.080781</td>\n",
       "      <td>815.074064</td>\n",
       "      <td>-594.029082</td>\n",
       "      <td>inf</td>\n",
       "    </tr>\n",
       "    <tr>\n",
       "      <th>gamma</th>\n",
       "      <td>0.080859</td>\n",
       "      <td>809.759742</td>\n",
       "      <td>-593.946002</td>\n",
       "      <td>inf</td>\n",
       "    </tr>\n",
       "    <tr>\n",
       "      <th>chi2</th>\n",
       "      <td>0.080859</td>\n",
       "      <td>809.760180</td>\n",
       "      <td>-593.945997</td>\n",
       "      <td>inf</td>\n",
       "    </tr>\n",
       "    <tr>\n",
       "      <th>cauchy</th>\n",
       "      <td>0.082898</td>\n",
       "      <td>885.369598</td>\n",
       "      <td>-596.244666</td>\n",
       "      <td>inf</td>\n",
       "    </tr>\n",
       "  </tbody>\n",
       "</table>\n",
       "</div>"
      ],
      "text/plain": [
       "          sumsquare_error         aic         bic  kl_div\n",
       "exponpow         0.080507  790.276392 -594.325500     inf\n",
       "lognorm          0.080781  815.074064 -594.029082     inf\n",
       "gamma            0.080859  809.759742 -593.946002     inf\n",
       "chi2             0.080859  809.760180 -593.945997     inf\n",
       "cauchy           0.082898  885.369598 -596.244666     inf"
      ]
     },
     "execution_count": 151,
     "metadata": {},
     "output_type": "execute_result"
    },
    {
     "data": {
      "image/png": "[encoded data removed]",
      "text/plain": [
       "<Figure size 432x288 with 1 Axes>"
      ]
     },
     "metadata": {
      "needs_background": "light"
     },
     "output_type": "display_data"
    }
   ],
   "source": [
    "fit_divs = Fitter(estadias_div_filtrada, distributions = get_common_distributions())\n",
    "fit_divs.fit()\n",
    "fit_divs.summary()"
   ]
  },
  {
   "cell_type": "code",
   "execution_count": 46,
   "metadata": {},
   "outputs": [
    {
     "data": {
      "text/html": [
       "<div>\n",
       "<style scoped>\n",
       "    .dataframe tbody tr th:only-of-type {\n",
       "        vertical-align: middle;\n",
       "    }\n",
       "\n",
       "    .dataframe tbody tr th {\n",
       "        vertical-align: top;\n",
       "    }\n",
       "\n",
       "    .dataframe thead th {\n",
       "        text-align: right;\n",
       "    }\n",
       "</style>\n",
       "<table border=\"1\" class=\"dataframe\">\n",
       "  <thead>\n",
       "    <tr style=\"text-align: right;\">\n",
       "      <th></th>\n",
       "      <th>sumsquare_error</th>\n",
       "      <th>aic</th>\n",
       "      <th>bic</th>\n",
       "      <th>kl_div</th>\n",
       "    </tr>\n",
       "  </thead>\n",
       "  <tbody>\n",
       "    <tr>\n",
       "      <th>lognorm</th>\n",
       "      <td>0.012522</td>\n",
       "      <td>1002.410960</td>\n",
       "      <td>-9025.015616</td>\n",
       "      <td>inf</td>\n",
       "    </tr>\n",
       "    <tr>\n",
       "      <th>gamma</th>\n",
       "      <td>0.015612</td>\n",
       "      <td>1066.589271</td>\n",
       "      <td>-8844.998717</td>\n",
       "      <td>inf</td>\n",
       "    </tr>\n",
       "    <tr>\n",
       "      <th>exponpow</th>\n",
       "      <td>0.023169</td>\n",
       "      <td>1034.092293</td>\n",
       "      <td>-8522.873753</td>\n",
       "      <td>inf</td>\n",
       "    </tr>\n",
       "    <tr>\n",
       "      <th>expon</th>\n",
       "      <td>0.027123</td>\n",
       "      <td>989.688119</td>\n",
       "      <td>-8400.997786</td>\n",
       "      <td>inf</td>\n",
       "    </tr>\n",
       "    <tr>\n",
       "      <th>powerlaw</th>\n",
       "      <td>0.028774</td>\n",
       "      <td>851.907825</td>\n",
       "      <td>-8346.090279</td>\n",
       "      <td>inf</td>\n",
       "    </tr>\n",
       "  </tbody>\n",
       "</table>\n",
       "</div>"
      ],
      "text/plain": [
       "          sumsquare_error          aic          bic  kl_div\n",
       "lognorm          0.012522  1002.410960 -9025.015616     inf\n",
       "gamma            0.015612  1066.589271 -8844.998717     inf\n",
       "exponpow         0.023169  1034.092293 -8522.873753     inf\n",
       "expon            0.027123   989.688119 -8400.997786     inf\n",
       "powerlaw         0.028774   851.907825 -8346.090279     inf"
      ]
     },
     "execution_count": 46,
     "metadata": {},
     "output_type": "execute_result"
    },
    {
     "data": {
      "image/png": "[encoded data removed]",
      "text/plain": [
       "<Figure size 432x288 with 1 Axes>"
      ]
     },
     "metadata": {
      "needs_background": "light"
     },
     "output_type": "display_data"
    }
   ],
   "source": [
    "fit_common_divs = Fitter(estadias_div, distributions = get_common_distributions())\n",
    "fit_common_divs.fit()\n",
    "fit_common_divs.summary()"
   ]
  },
  {
   "cell_type": "code",
   "execution_count": 123,
   "metadata": {},
   "outputs": [
    {
     "data": {
      "text/plain": [
       "{'chi2': {'df': 1.7268846080592222,\n",
       "  'loc': 0.016666666666236507,\n",
       "  'scale': 9.340138195674726}}"
      ]
     },
     "execution_count": 123,
     "metadata": {},
     "output_type": "execute_result"
    }
   ],
   "source": [
    "dic_distribuciones['DIV'] = fit_divs.get_best()\n",
    "dic_distribuciones['DIV']"
   ]
  },
  {
   "cell_type": "code",
   "execution_count": 124,
   "metadata": {},
   "outputs": [],
   "source": [
    "dic_distribuciones['DIV'] = fit_divs.get_best()\n",
    "df = dic_distribuciones['DIV']['chi2']['df']\n",
    "loc = dic_distribuciones['DIV']['chi2']['loc']\n",
    "scale = dic_distribuciones['DIV']['chi2']['scale']"
   ]
  },
  {
   "cell_type": "code",
   "execution_count": 125,
   "metadata": {},
   "outputs": [
    {
     "data": {
      "text/plain": [
       "(array([44., 12., 16., 15., 14.,  7.,  1.,  3.,  7., 12.]),\n",
       " array([1.66666667e-02, 4.84166667e+00, 9.66666667e+00, 1.44916667e+01,\n",
       "        1.93166667e+01, 2.41416667e+01, 2.89666667e+01, 3.37916667e+01,\n",
       "        3.86166667e+01, 4.34416667e+01, 4.82666667e+01]),\n",
       " <BarContainer object of 10 artists>)"
      ]
     },
     "execution_count": 125,
     "metadata": {},
     "output_type": "execute_result"
    },
    {
     "data": {
      "image/png": "[encoded data removed]",
      "text/plain": [
       "<Figure size 432x288 with 1 Axes>"
      ]
     },
     "metadata": {
      "needs_background": "light"
     },
     "output_type": "display_data"
    }
   ],
   "source": [
    "plt.hist(estadias_div_filtrada)"
   ]
  },
  {
   "cell_type": "code",
   "execution_count": 135,
   "metadata": {},
   "outputs": [
    {
     "data": {
      "text/html": [
       "<div>\n",
       "<style scoped>\n",
       "    .dataframe tbody tr th:only-of-type {\n",
       "        vertical-align: middle;\n",
       "    }\n",
       "\n",
       "    .dataframe tbody tr th {\n",
       "        vertical-align: top;\n",
       "    }\n",
       "\n",
       "    .dataframe thead th {\n",
       "        text-align: right;\n",
       "    }\n",
       "</style>\n",
       "<table border=\"1\" class=\"dataframe\">\n",
       "  <thead>\n",
       "    <tr style=\"text-align: right;\">\n",
       "      <th></th>\n",
       "      <th>clases</th>\n",
       "      <th>observed_freq</th>\n",
       "      <th>prob_dist</th>\n",
       "      <th>expected_freq</th>\n",
       "    </tr>\n",
       "  </thead>\n",
       "  <tbody>\n",
       "    <tr>\n",
       "      <th>0</th>\n",
       "      <td>(0, 30)</td>\n",
       "      <td>443</td>\n",
       "      <td>0.572858</td>\n",
       "      <td>269.815905</td>\n",
       "    </tr>\n",
       "    <tr>\n",
       "      <th>1</th>\n",
       "      <td>(6, 24)</td>\n",
       "      <td>0</td>\n",
       "      <td>0.294746</td>\n",
       "      <td>138.825490</td>\n",
       "    </tr>\n",
       "    <tr>\n",
       "      <th>2</th>\n",
       "      <td>(24, 28)</td>\n",
       "      <td>0</td>\n",
       "      <td>0.031720</td>\n",
       "      <td>14.939943</td>\n",
       "    </tr>\n",
       "    <tr>\n",
       "      <th>3</th>\n",
       "      <td>(28, 32)</td>\n",
       "      <td>0</td>\n",
       "      <td>0.025107</td>\n",
       "      <td>11.825605</td>\n",
       "    </tr>\n",
       "    <tr>\n",
       "      <th>4</th>\n",
       "      <td>(32, 39)</td>\n",
       "      <td>4</td>\n",
       "      <td>0.032135</td>\n",
       "      <td>15.135508</td>\n",
       "    </tr>\n",
       "    <tr>\n",
       "      <th>5</th>\n",
       "      <td>(39, 58)</td>\n",
       "      <td>24</td>\n",
       "      <td>0.043434</td>\n",
       "      <td>20.457549</td>\n",
       "    </tr>\n",
       "  </tbody>\n",
       "</table>\n",
       "</div>"
      ],
      "text/plain": [
       "     clases  observed_freq  prob_dist  expected_freq\n",
       "0   (0, 30)            443   0.572858     269.815905\n",
       "1   (6, 24)              0   0.294746     138.825490\n",
       "2  (24, 28)              0   0.031720      14.939943\n",
       "3  (28, 32)              0   0.025107      11.825605\n",
       "4  (32, 39)              4   0.032135      15.135508\n",
       "5  (39, 58)             24   0.043434      20.457549"
      ]
     },
     "execution_count": 135,
     "metadata": {},
     "output_type": "execute_result"
    }
   ],
   "source": [
    "c1, c2, c3, c4, c5, c6 = 0, 0, 0, 0, 0, 0\n",
    "clases_div = [(0,30), (6,24), (24,28), (28,32), (32,39), (39,58)]\n",
    "\n",
    "for estadia in estadias_div:\n",
    "    if estadia <= 30:\n",
    "        c1 += 1\n",
    "    \n",
    "    elif estadia > 30 and estadia <= 24:\n",
    "        c2 += 1\n",
    "\n",
    "    elif estadia > 24 and estadia <= 28:\n",
    "        c3 += 1\n",
    "    \n",
    "    elif estadia > 28 and estadia <= 32:\n",
    "        c4 += 1\n",
    "    \n",
    "    elif estadia > 32 and estadia <= 39:\n",
    "        c5 += 1\n",
    "    \n",
    "    elif estadia > 39 and estadia <= 58:\n",
    "        c6 += 1\n",
    "\n",
    "clases_div_freq = [c1, c2, c3, c4, c5, c6]\n",
    "\n",
    "data_test_div = {\n",
    "    'clases': clases_div,\n",
    "    'observed_freq': clases_div_freq }\n",
    "\n",
    "df_test_div = pd.DataFrame(data_test_div)\n",
    "\n",
    "prob_dist = []\n",
    "params_div = dic_distribuciones['DIV']['chi2']\n",
    "\n",
    "for i in range(0,len(df_test_div)):\n",
    "    rango_inferior = df_test_div['clases'].iloc[i][0]\n",
    "    rango_superior = df_test_div['clases'].iloc[i][1]\n",
    "    prob = stats.chi2.cdf(rango_superior, df=df, loc=loc, scale=scale) - stats.chi2.cdf(rango_inferior, df=df, loc=loc, scale=scale)\n",
    "    prob_dist.append(prob)\n",
    "\n",
    "df_test_div['prob_dist'] = prob_dist \n",
    "df_test_div['prob_dist'] = df_test_div['prob_dist'] / df_test_div['prob_dist'].sum()\n",
    "df_test_div['expected_freq'] = df_test_div['observed_freq'].sum() * df_test_div['prob_dist']\n",
    "df_test_div"
   ]
  },
  {
   "cell_type": "code",
   "execution_count": 128,
   "metadata": {},
   "outputs": [
    {
     "data": {
      "text/plain": [
       "1.0"
      ]
     },
     "execution_count": 128,
     "metadata": {},
     "output_type": "execute_result"
    }
   ],
   "source": [
    "df_test_div['prob_dist'].sum()"
   ]
  },
  {
   "cell_type": "code",
   "execution_count": 132,
   "metadata": {},
   "outputs": [
    {
     "data": {
      "text/plain": [
       "Power_divergenceResult(statistic=445.93039008214254, pvalue=3.7075240638380874e-94)"
      ]
     },
     "execution_count": 132,
     "metadata": {},
     "output_type": "execute_result"
    }
   ],
   "source": [
    "stats.chisquare(df_test_div['observed_freq'], f_exp = df_test_div['expected_freq'])"
   ]
  },
  {
   "cell_type": "code",
   "execution_count": 70,
   "metadata": {},
   "outputs": [
    {
     "name": "stdout",
     "output_type": "stream",
     "text": [
      "Approach 1: The p-value approach to hypothesis testing in the decision rule\n",
      "chisquare-score is: 116.26874335694052  and p value is: 0.0\n",
      "Null Hypothesis is rejected.\n"
     ]
    }
   ],
   "source": [
    "# significance level\n",
    "alpha = 0.05\n",
    "\n",
    "# Calcualtion of Chisquare\n",
    "chi_square = 0\n",
    "for i in range(0, len(df_test_div)):\n",
    "    O = df_test_div['observed_freq'].iloc[i]\n",
    "    E = df_test_div['expected_freq'].iloc[i]\n",
    "    resultado = (O-E)**2 /E\n",
    "    chi_square += resultado\n",
    "\n",
    "print(\"Approach 1: The p-value approach to hypothesis testing in the decision rule\")\n",
    "p_value = 1 - stats.chi2.cdf(chi_square, len(df_test_div['clases']) - 1)\n",
    "conclusion = \"Failed to reject the null hypothesis.\"\n",
    "\n",
    "if p_value <= alpha:\n",
    "    conclusion = \"Null Hypothesis is rejected.\"\n",
    "        \n",
    "print(\"chisquare-score is:\", chi_square, \" and p value is:\", p_value)\n",
    "print(conclusion)"
   ]
  },
  {
   "cell_type": "markdown",
   "metadata": {},
   "source": [
    "### Distribución URGs"
   ]
  },
  {
   "cell_type": "code",
   "execution_count": 137,
   "metadata": {},
   "outputs": [
    {
     "data": {
      "text/plain": [
       "4.912511803588291"
      ]
     },
     "execution_count": 137,
     "metadata": {},
     "output_type": "execute_result"
    }
   ],
   "source": [
    "np.mean(estadias_urg)"
   ]
  },
  {
   "cell_type": "code",
   "execution_count": 186,
   "metadata": {},
   "outputs": [
    {
     "data": {
      "text/plain": [
       "{'whiskers': [<matplotlib.lines.Line2D at 0x1c41e1447c0>,\n",
       "  <matplotlib.lines.Line2D at 0x1c41e144a90>],\n",
       " 'caps': [<matplotlib.lines.Line2D at 0x1c41e144d60>,\n",
       "  <matplotlib.lines.Line2D at 0x1c41e14e070>],\n",
       " 'boxes': [<matplotlib.lines.Line2D at 0x1c41e1444f0>],\n",
       " 'medians': [<matplotlib.lines.Line2D at 0x1c41e14e340>],\n",
       " 'fliers': [<matplotlib.lines.Line2D at 0x1c41e14e610>],\n",
       " 'means': []}"
      ]
     },
     "execution_count": 186,
     "metadata": {},
     "output_type": "execute_result"
    },
    {
     "name": "stderr",
     "output_type": "stream",
     "text": [
      "c:\\Users\\joaco\\AppData\\Local\\Programs\\Python\\Python38\\lib\\site-packages\\scipy\\integrate\\quadpack.py:879: IntegrationWarning: The occurrence of roundoff error is detected, which prevents \n",
      "  the requested tolerance from being achieved.  The error may be \n",
      "  underestimated.\n",
      "  quad_r = quad(f, low, high, args=args, full_output=self.full_output,\n",
      "c:\\Users\\joaco\\AppData\\Local\\Programs\\Python\\Python38\\lib\\site-packages\\scipy\\integrate\\quadpack.py:879: IntegrationWarning: The maximum number of subdivisions (50) has been achieved.\n",
      "  If increasing the limit yields no improvement it is advised to analyze \n",
      "  the integrand in order to determine the difficulties.  If the position of a \n",
      "  local difficulty can be determined (singularity, discontinuity) one will \n",
      "  probably gain from splitting up the interval and calling the integrator \n",
      "  on the subranges.  Perhaps a special-purpose integrator should be used.\n",
      "  quad_r = quad(f, low, high, args=args, full_output=self.full_output,\n"
     ]
    },
    {
     "data": {
      "image/png": "[encoded data removed]",
      "text/plain": [
       "<Figure size 432x288 with 1 Axes>"
      ]
     },
     "metadata": {
      "needs_background": "light"
     },
     "output_type": "display_data"
    }
   ],
   "source": [
    "#plt.boxplot(estadias_urg)\n",
    "s = np.std(estadias_urg, ddof=1)\n",
    "mu = np.mean(estadias_urg)\n",
    "iqr = stats.iqr(estadias_urg)\n",
    "cota_superior = stats.scoreatpercentile(estadias_urg, 75) + 3*iqr\n",
    "cota_inferior = max(stats.scoreatpercentile(estadias_urg, 75) - 3*iqr, 0)\n",
    "\n",
    "estadias_urg_filtrada = [x for x in estadias_urg if cota_inferior < x <= cota_superior]\n",
    "\n",
    "iqr = stats.iqr(estadias_urg_filtrada)\n",
    "cota_superior_filtrada = stats.scoreatpercentile(estadias_urg_filtrada, 75) + 1.5*iqr\n",
    "cota_inferior_filtrada = max(stats.scoreatpercentile(estadias_urg_filtrada, 75) - 1.5*iqr, 0)\n",
    "\n",
    "estadias_urg_filtrada_2 = [x for x in estadias_urg_filtrada if cota_inferior_filtrada < x <= cota_superior_filtrada]\n",
    "\n",
    "\n",
    "plt.boxplot(estadias_urg_filtrada_2)"
   ]
  },
  {
   "cell_type": "code",
   "execution_count": 187,
   "metadata": {},
   "outputs": [
    {
     "name": "stdout",
     "output_type": "stream",
     "text": [
      "4.425983006786172\n",
      "3.879907084785134\n",
      "464\n",
      "1765\n"
     ]
    }
   ],
   "source": [
    "print(np.std(estadias_urg_filtrada, ddof=1))\n",
    "print(np.mean(estadias_urg_filtrada))\n",
    "print(len(estadias_urg) - len(estadias_urg_filtrada_2))\n",
    "print(len(estadias_urg))"
   ]
  },
  {
   "cell_type": "code",
   "execution_count": 180,
   "metadata": {},
   "outputs": [
    {
     "name": "stderr",
     "output_type": "stream",
     "text": [
      "WARNING:root:SKIPPED exponpow distribution (taking more than 30 seconds)\n"
     ]
    },
    {
     "data": {
      "text/html": [
       "<div>\n",
       "<style scoped>\n",
       "    .dataframe tbody tr th:only-of-type {\n",
       "        vertical-align: middle;\n",
       "    }\n",
       "\n",
       "    .dataframe tbody tr th {\n",
       "        vertical-align: top;\n",
       "    }\n",
       "\n",
       "    .dataframe thead th {\n",
       "        text-align: right;\n",
       "    }\n",
       "</style>\n",
       "<table border=\"1\" class=\"dataframe\">\n",
       "  <thead>\n",
       "    <tr style=\"text-align: right;\">\n",
       "      <th></th>\n",
       "      <th>sumsquare_error</th>\n",
       "      <th>aic</th>\n",
       "      <th>bic</th>\n",
       "      <th>kl_div</th>\n",
       "    </tr>\n",
       "  </thead>\n",
       "  <tbody>\n",
       "    <tr>\n",
       "      <th>expon</th>\n",
       "      <td>0.191716</td>\n",
       "      <td>541.950869</td>\n",
       "      <td>-11140.227548</td>\n",
       "      <td>inf</td>\n",
       "    </tr>\n",
       "    <tr>\n",
       "      <th>chi2</th>\n",
       "      <td>0.234008</td>\n",
       "      <td>547.656125</td>\n",
       "      <td>-10880.313913</td>\n",
       "      <td>inf</td>\n",
       "    </tr>\n",
       "    <tr>\n",
       "      <th>lognorm</th>\n",
       "      <td>0.269433</td>\n",
       "      <td>556.450239</td>\n",
       "      <td>-10701.571603</td>\n",
       "      <td>inf</td>\n",
       "    </tr>\n",
       "    <tr>\n",
       "      <th>rayleigh</th>\n",
       "      <td>0.532877</td>\n",
       "      <td>556.187036</td>\n",
       "      <td>-9843.978459</td>\n",
       "      <td>inf</td>\n",
       "    </tr>\n",
       "    <tr>\n",
       "      <th>cauchy</th>\n",
       "      <td>0.598451</td>\n",
       "      <td>630.122450</td>\n",
       "      <td>-9696.823061</td>\n",
       "      <td>inf</td>\n",
       "    </tr>\n",
       "  </tbody>\n",
       "</table>\n",
       "</div>"
      ],
      "text/plain": [
       "          sumsquare_error         aic           bic  kl_div\n",
       "expon            0.191716  541.950869 -11140.227548     inf\n",
       "chi2             0.234008  547.656125 -10880.313913     inf\n",
       "lognorm          0.269433  556.450239 -10701.571603     inf\n",
       "rayleigh         0.532877  556.187036  -9843.978459     inf\n",
       "cauchy           0.598451  630.122450  -9696.823061     inf"
      ]
     },
     "execution_count": 180,
     "metadata": {},
     "output_type": "execute_result"
    },
    {
     "data": {
      "image/png": "[encoded data removed]",
      "text/plain": [
       "<Figure size 432x288 with 1 Axes>"
      ]
     },
     "metadata": {
      "needs_background": "light"
     },
     "output_type": "display_data"
    }
   ],
   "source": [
    "fit_urg = Fitter(estadias_urg_filtrada_2, distributions = get_common_distributions())\n",
    "fit_urg.fit()\n",
    "fit_urg.summary()"
   ]
  },
  {
   "cell_type": "code",
   "execution_count": 164,
   "metadata": {},
   "outputs": [
    {
     "data": {
      "text/plain": [
       "{'expon': {'loc': 0.016666666666666666, 'scale': 2.7776851149861006}}"
      ]
     },
     "execution_count": 164,
     "metadata": {},
     "output_type": "execute_result"
    }
   ],
   "source": [
    "dic_distribuciones['URG'] = fit_urg.get_best()\n",
    "dic_distribuciones['URG']"
   ]
  },
  {
   "cell_type": "markdown",
   "metadata": {},
   "source": [
    "### Test de bondad de ajuste para las estadias de los div, opr y urg"
   ]
  },
  {
   "cell_type": "code",
   "execution_count": 165,
   "metadata": {},
   "outputs": [],
   "source": [
    "from scipy import stats\n",
    "\n",
    "# Escrito acá las distribuciones para no volver a correr el código lento\n",
    "dic_distribuciones = {}\n",
    "dic_distribuciones['OPR'] = {'gnnorem': (1.7513217591646353, 2.435311534067437, 0.7090240209156644)}\n",
    "dic_distribuciones['DIV'] = {'gilbrat': (-2.7780727782429064, 8.426107126901229)}\n",
    "dic_distribuciones['URG'] = {'expon': {'loc': 0.016666666666666666, 'scale': 2.7776851149861006}}\n"
   ]
  },
  {
   "cell_type": "markdown",
   "metadata": {},
   "source": [
    "**Para los tiempos de OPR**     \n",
    "Vemos que los tiempos de estadía en las salas opr se distribuye de manera generalized normal"
   ]
  },
  {
   "cell_type": "code",
   "execution_count": 95,
   "metadata": {},
   "outputs": [],
   "source": [
    "estadias_opr = datos_operaciones['DURACION (hrs)']\n",
    "params_opr_gennorm = dic_distribuciones['OPR']['gennorm']\n",
    "\n",
    "#obs = stats.gennorm.rvs(opr_gennorm_beta, opr_gennorm_loc, opr_gennorm_scale, size=len(estadias_opr))\n"
   ]
  },
  {
   "cell_type": "code",
   "execution_count": 123,
   "metadata": {},
   "outputs": [
    {
     "data": {
      "text/html": [
       "<div>\n",
       "<style scoped>\n",
       "    .dataframe tbody tr th:only-of-type {\n",
       "        vertical-align: middle;\n",
       "    }\n",
       "\n",
       "    .dataframe tbody tr th {\n",
       "        vertical-align: top;\n",
       "    }\n",
       "\n",
       "    .dataframe thead th {\n",
       "        text-align: right;\n",
       "    }\n",
       "</style>\n",
       "<table border=\"1\" class=\"dataframe\">\n",
       "  <thead>\n",
       "    <tr style=\"text-align: right;\">\n",
       "      <th></th>\n",
       "      <th>tiempo</th>\n",
       "      <th>observed_freq</th>\n",
       "      <th>prob_dist</th>\n",
       "      <th>expected_freq</th>\n",
       "    </tr>\n",
       "  </thead>\n",
       "  <tbody>\n",
       "    <tr>\n",
       "      <th>2.4</th>\n",
       "      <td>2.4</td>\n",
       "      <td>35</td>\n",
       "      <td>0.079435</td>\n",
       "      <td>32.727066</td>\n",
       "    </tr>\n",
       "    <tr>\n",
       "      <th>2.8</th>\n",
       "      <td>2.8</td>\n",
       "      <td>32</td>\n",
       "      <td>0.058442</td>\n",
       "      <td>24.078263</td>\n",
       "    </tr>\n",
       "    <tr>\n",
       "      <th>2.5</th>\n",
       "      <td>2.5</td>\n",
       "      <td>32</td>\n",
       "      <td>0.078655</td>\n",
       "      <td>32.405697</td>\n",
       "    </tr>\n",
       "    <tr>\n",
       "      <th>2.2</th>\n",
       "      <td>2.2</td>\n",
       "      <td>30</td>\n",
       "      <td>0.069080</td>\n",
       "      <td>28.460760</td>\n",
       "    </tr>\n",
       "    <tr>\n",
       "      <th>2.3</th>\n",
       "      <td>2.3</td>\n",
       "      <td>30</td>\n",
       "      <td>0.075579</td>\n",
       "      <td>31.138628</td>\n",
       "    </tr>\n",
       "    <tr>\n",
       "      <th>2.6</th>\n",
       "      <td>2.6</td>\n",
       "      <td>30</td>\n",
       "      <td>0.073892</td>\n",
       "      <td>30.443335</td>\n",
       "    </tr>\n",
       "    <tr>\n",
       "      <th>2.9</th>\n",
       "      <td>2.9</td>\n",
       "      <td>25</td>\n",
       "      <td>0.049553</td>\n",
       "      <td>20.415716</td>\n",
       "    </tr>\n",
       "    <tr>\n",
       "      <th>2.7</th>\n",
       "      <td>2.7</td>\n",
       "      <td>21</td>\n",
       "      <td>0.066827</td>\n",
       "      <td>27.532664</td>\n",
       "    </tr>\n",
       "    <tr>\n",
       "      <th>2.0</th>\n",
       "      <td>2.0</td>\n",
       "      <td>19</td>\n",
       "      <td>0.052175</td>\n",
       "      <td>21.496053</td>\n",
       "    </tr>\n",
       "    <tr>\n",
       "      <th>2.1</th>\n",
       "      <td>2.1</td>\n",
       "      <td>18</td>\n",
       "      <td>0.060991</td>\n",
       "      <td>25.128449</td>\n",
       "    </tr>\n",
       "    <tr>\n",
       "      <th>1.7</th>\n",
       "      <td>1.7</td>\n",
       "      <td>16</td>\n",
       "      <td>0.027504</td>\n",
       "      <td>11.331644</td>\n",
       "    </tr>\n",
       "    <tr>\n",
       "      <th>1.9</th>\n",
       "      <td>1.9</td>\n",
       "      <td>15</td>\n",
       "      <td>0.043331</td>\n",
       "      <td>17.852568</td>\n",
       "    </tr>\n",
       "    <tr>\n",
       "      <th>3.1</th>\n",
       "      <td>3.1</td>\n",
       "      <td>14</td>\n",
       "      <td>0.032691</td>\n",
       "      <td>13.468544</td>\n",
       "    </tr>\n",
       "    <tr>\n",
       "      <th>3.0</th>\n",
       "      <td>3.0</td>\n",
       "      <td>13</td>\n",
       "      <td>0.040810</td>\n",
       "      <td>16.813656</td>\n",
       "    </tr>\n",
       "    <tr>\n",
       "      <th>1.6</th>\n",
       "      <td>1.6</td>\n",
       "      <td>13</td>\n",
       "      <td>0.021066</td>\n",
       "      <td>8.679089</td>\n",
       "    </tr>\n",
       "    <tr>\n",
       "      <th>1.8</th>\n",
       "      <td>1.8</td>\n",
       "      <td>12</td>\n",
       "      <td>0.034990</td>\n",
       "      <td>14.415890</td>\n",
       "    </tr>\n",
       "    <tr>\n",
       "      <th>3.2</th>\n",
       "      <td>3.2</td>\n",
       "      <td>12</td>\n",
       "      <td>0.025499</td>\n",
       "      <td>10.505607</td>\n",
       "    </tr>\n",
       "    <tr>\n",
       "      <th>3.3</th>\n",
       "      <td>3.3</td>\n",
       "      <td>10</td>\n",
       "      <td>0.019385</td>\n",
       "      <td>7.986585</td>\n",
       "    </tr>\n",
       "    <tr>\n",
       "      <th>3.4</th>\n",
       "      <td>3.4</td>\n",
       "      <td>9</td>\n",
       "      <td>0.014374</td>\n",
       "      <td>5.922124</td>\n",
       "    </tr>\n",
       "    <tr>\n",
       "      <th>1.5</th>\n",
       "      <td>1.5</td>\n",
       "      <td>6</td>\n",
       "      <td>0.015734</td>\n",
       "      <td>6.482435</td>\n",
       "    </tr>\n",
       "    <tr>\n",
       "      <th>1.4</th>\n",
       "      <td>1.4</td>\n",
       "      <td>4</td>\n",
       "      <td>0.011468</td>\n",
       "      <td>4.724854</td>\n",
       "    </tr>\n",
       "    <tr>\n",
       "      <th>1.3</th>\n",
       "      <td>1.3</td>\n",
       "      <td>4</td>\n",
       "      <td>0.008162</td>\n",
       "      <td>3.362717</td>\n",
       "    </tr>\n",
       "    <tr>\n",
       "      <th>3.8</th>\n",
       "      <td>3.8</td>\n",
       "      <td>2</td>\n",
       "      <td>0.003429</td>\n",
       "      <td>1.412670</td>\n",
       "    </tr>\n",
       "    <tr>\n",
       "      <th>1.1</th>\n",
       "      <td>1.1</td>\n",
       "      <td>2</td>\n",
       "      <td>0.003857</td>\n",
       "      <td>1.589147</td>\n",
       "    </tr>\n",
       "    <tr>\n",
       "      <th>3.5</th>\n",
       "      <td>3.5</td>\n",
       "      <td>1</td>\n",
       "      <td>0.010403</td>\n",
       "      <td>4.286094</td>\n",
       "    </tr>\n",
       "    <tr>\n",
       "      <th>1.2</th>\n",
       "      <td>1.2</td>\n",
       "      <td>1</td>\n",
       "      <td>0.005675</td>\n",
       "      <td>2.338184</td>\n",
       "    </tr>\n",
       "    <tr>\n",
       "      <th>4.1</th>\n",
       "      <td>4.1</td>\n",
       "      <td>1</td>\n",
       "      <td>0.000925</td>\n",
       "      <td>0.381046</td>\n",
       "    </tr>\n",
       "    <tr>\n",
       "      <th>0.8</th>\n",
       "      <td>0.8</td>\n",
       "      <td>1</td>\n",
       "      <td>0.001061</td>\n",
       "      <td>0.436939</td>\n",
       "    </tr>\n",
       "    <tr>\n",
       "      <th>3.6</th>\n",
       "      <td>3.6</td>\n",
       "      <td>1</td>\n",
       "      <td>0.007353</td>\n",
       "      <td>3.029489</td>\n",
       "    </tr>\n",
       "    <tr>\n",
       "      <th>3.7</th>\n",
       "      <td>3.7</td>\n",
       "      <td>1</td>\n",
       "      <td>0.005078</td>\n",
       "      <td>2.092318</td>\n",
       "    </tr>\n",
       "    <tr>\n",
       "      <th>1.0</th>\n",
       "      <td>1.0</td>\n",
       "      <td>1</td>\n",
       "      <td>0.002564</td>\n",
       "      <td>1.056177</td>\n",
       "    </tr>\n",
       "    <tr>\n",
       "      <th>0.0</th>\n",
       "      <td>0.0</td>\n",
       "      <td>1</td>\n",
       "      <td>0.000014</td>\n",
       "      <td>0.005591</td>\n",
       "    </tr>\n",
       "  </tbody>\n",
       "</table>\n",
       "</div>"
      ],
      "text/plain": [
       "     tiempo  observed_freq  prob_dist  expected_freq\n",
       "2.4     2.4             35   0.079435      32.727066\n",
       "2.8     2.8             32   0.058442      24.078263\n",
       "2.5     2.5             32   0.078655      32.405697\n",
       "2.2     2.2             30   0.069080      28.460760\n",
       "2.3     2.3             30   0.075579      31.138628\n",
       "2.6     2.6             30   0.073892      30.443335\n",
       "2.9     2.9             25   0.049553      20.415716\n",
       "2.7     2.7             21   0.066827      27.532664\n",
       "2.0     2.0             19   0.052175      21.496053\n",
       "2.1     2.1             18   0.060991      25.128449\n",
       "1.7     1.7             16   0.027504      11.331644\n",
       "1.9     1.9             15   0.043331      17.852568\n",
       "3.1     3.1             14   0.032691      13.468544\n",
       "3.0     3.0             13   0.040810      16.813656\n",
       "1.6     1.6             13   0.021066       8.679089\n",
       "1.8     1.8             12   0.034990      14.415890\n",
       "3.2     3.2             12   0.025499      10.505607\n",
       "3.3     3.3             10   0.019385       7.986585\n",
       "3.4     3.4              9   0.014374       5.922124\n",
       "1.5     1.5              6   0.015734       6.482435\n",
       "1.4     1.4              4   0.011468       4.724854\n",
       "1.3     1.3              4   0.008162       3.362717\n",
       "3.8     3.8              2   0.003429       1.412670\n",
       "1.1     1.1              2   0.003857       1.589147\n",
       "3.5     3.5              1   0.010403       4.286094\n",
       "1.2     1.2              1   0.005675       2.338184\n",
       "4.1     4.1              1   0.000925       0.381046\n",
       "0.8     0.8              1   0.001061       0.436939\n",
       "3.6     3.6              1   0.007353       3.029489\n",
       "3.7     3.7              1   0.005078       2.092318\n",
       "1.0     1.0              1   0.002564       1.056177\n",
       "0.0     0.0              1   0.000014       0.005591"
      ]
     },
     "execution_count": 123,
     "metadata": {},
     "output_type": "execute_result"
    }
   ],
   "source": [
    "data = {\n",
    "    'tiempo': estadias_opr.value_counts().index, \n",
    "    'observed_freq': estadias_opr.value_counts()\n",
    "}\n",
    "df_opr = pd.DataFrame(data)\n",
    "\n",
    "prob_dist = []\n",
    "for i in range(0,len(df_opr)):\n",
    "    x = df_opr['tiempo'].iloc[i]\n",
    "    prob_dist.append(stats.gennorm.pdf(x, *params_opr_gennorm))\n",
    "\n",
    "df_opr['prob_dist'] = prob_dist\n",
    "df_opr['prob_dist'] = df_opr['prob_dist'] / df_opr['prob_dist'].sum()\n",
    "df_opr['expected_freq'] = df_opr['observed_freq'].sum() * df_opr['prob_dist']\n",
    "df_opr"
   ]
  },
  {
   "cell_type": "code",
   "execution_count": 97,
   "metadata": {},
   "outputs": [
    {
     "name": "stdout",
     "output_type": "stream",
     "text": [
      "200.36785807953274\n"
     ]
    }
   ],
   "source": [
    "# significance level\n",
    "alpha = 0.05\n",
    "\n",
    "# Calcualtion of Chisquare\n",
    "chi_square = 0\n",
    "for i in range(0, len(df_opr)):\n",
    "    O = df_opr['observed_freq'].iloc[i]\n",
    "    E = df_opr['expected_freq'].iloc[i]\n",
    "    resultado = (O-E)**2 /E\n",
    "    chi_square += resultado\n",
    "\n",
    "print(chi_square)"
   ]
  },
  {
   "cell_type": "code",
   "execution_count": 126,
   "metadata": {},
   "outputs": [
    {
     "name": "stdout",
     "output_type": "stream",
     "text": [
      "Approach 1: The p-value approach to hypothesis testing in the decision rule\n",
      "chisquare-score is: 200.36785807953274  and p value is: 0.0\n",
      "Null Hypothesis is rejected.\n"
     ]
    }
   ],
   "source": [
    "print(\"Approach 1: The p-value approach to hypothesis testing in the decision rule\")\n",
    "p_value = 1 - stats.chi2.cdf(chi_square, len(df_opr['tiempo']) - 1)\n",
    "conclusion = \"Failed to reject the null hypothesis.\"\n",
    "\n",
    "if p_value <= alpha:\n",
    "    conclusion = \"Null Hypothesis is rejected.\"\n",
    "        \n",
    "print(\"chisquare-score is:\", chi_square, \" and p value is:\", p_value)\n",
    "print(conclusion)"
   ]
  },
  {
   "cell_type": "code",
   "execution_count": 108,
   "metadata": {},
   "outputs": [
    {
     "data": {
      "text/plain": [
       "Power_divergenceResult(statistic=200.36785807953274, pvalue=1.1078295741844997e-26)"
      ]
     },
     "execution_count": 108,
     "metadata": {},
     "output_type": "execute_result"
    }
   ],
   "source": [
    "stats.chisquare(df_opr['observed_freq'], f_exp = df_opr['expected_freq'])"
   ]
  },
  {
   "cell_type": "markdown",
   "metadata": {},
   "source": [
    "**Para los tiempos de los div**"
   ]
  },
  {
   "cell_type": "code",
   "execution_count": 111,
   "metadata": {},
   "outputs": [],
   "source": [
    "div_params_gilbrat = dic_distribuciones['DIV']['gilbrat']"
   ]
  },
  {
   "cell_type": "code",
   "execution_count": 112,
   "metadata": {},
   "outputs": [
    {
     "data": {
      "text/html": [
       "<div>\n",
       "<style scoped>\n",
       "    .dataframe tbody tr th:only-of-type {\n",
       "        vertical-align: middle;\n",
       "    }\n",
       "\n",
       "    .dataframe tbody tr th {\n",
       "        vertical-align: top;\n",
       "    }\n",
       "\n",
       "    .dataframe thead th {\n",
       "        text-align: right;\n",
       "    }\n",
       "</style>\n",
       "<table border=\"1\" class=\"dataframe\">\n",
       "  <thead>\n",
       "    <tr style=\"text-align: right;\">\n",
       "      <th></th>\n",
       "      <th>tiempo</th>\n",
       "      <th>observed_freq</th>\n",
       "      <th>prob_dist</th>\n",
       "      <th>expected_freq</th>\n",
       "    </tr>\n",
       "  </thead>\n",
       "  <tbody>\n",
       "    <tr>\n",
       "      <th>0.000000</th>\n",
       "      <td>0.000000</td>\n",
       "      <td>335</td>\n",
       "      <td>0.018555</td>\n",
       "      <td>10.483431</td>\n",
       "    </tr>\n",
       "    <tr>\n",
       "      <th>21.866667</th>\n",
       "      <td>21.866667</td>\n",
       "      <td>2</td>\n",
       "      <td>0.002176</td>\n",
       "      <td>1.229566</td>\n",
       "    </tr>\n",
       "    <tr>\n",
       "      <th>2.633333</th>\n",
       "      <td>2.633333</td>\n",
       "      <td>2</td>\n",
       "      <td>0.015983</td>\n",
       "      <td>9.030233</td>\n",
       "    </tr>\n",
       "    <tr>\n",
       "      <th>2.550000</th>\n",
       "      <td>2.550000</td>\n",
       "      <td>2</td>\n",
       "      <td>0.016120</td>\n",
       "      <td>9.107559</td>\n",
       "    </tr>\n",
       "    <tr>\n",
       "      <th>40.150000</th>\n",
       "      <td>40.150000</td>\n",
       "      <td>2</td>\n",
       "      <td>0.000590</td>\n",
       "      <td>0.333573</td>\n",
       "    </tr>\n",
       "    <tr>\n",
       "      <th>...</th>\n",
       "      <td>...</td>\n",
       "      <td>...</td>\n",
       "      <td>...</td>\n",
       "      <td>...</td>\n",
       "    </tr>\n",
       "    <tr>\n",
       "      <th>11.966667</th>\n",
       "      <td>11.966667</td>\n",
       "      <td>1</td>\n",
       "      <td>0.005532</td>\n",
       "      <td>3.125828</td>\n",
       "    </tr>\n",
       "    <tr>\n",
       "      <th>5.616667</th>\n",
       "      <td>5.616667</td>\n",
       "      <td>1</td>\n",
       "      <td>0.011364</td>\n",
       "      <td>6.420669</td>\n",
       "    </tr>\n",
       "    <tr>\n",
       "      <th>9.766667</th>\n",
       "      <td>9.766667</td>\n",
       "      <td>1</td>\n",
       "      <td>0.007026</td>\n",
       "      <td>3.969517</td>\n",
       "    </tr>\n",
       "    <tr>\n",
       "      <th>0.050000</th>\n",
       "      <td>0.050000</td>\n",
       "      <td>1</td>\n",
       "      <td>0.018588</td>\n",
       "      <td>10.502272</td>\n",
       "    </tr>\n",
       "    <tr>\n",
       "      <th>21.216667</th>\n",
       "      <td>21.216667</td>\n",
       "      <td>1</td>\n",
       "      <td>0.002299</td>\n",
       "      <td>1.299161</td>\n",
       "    </tr>\n",
       "  </tbody>\n",
       "</table>\n",
       "<p>224 rows × 4 columns</p>\n",
       "</div>"
      ],
      "text/plain": [
       "              tiempo  observed_freq  prob_dist  expected_freq\n",
       "0.000000    0.000000            335   0.018555      10.483431\n",
       "21.866667  21.866667              2   0.002176       1.229566\n",
       "2.633333    2.633333              2   0.015983       9.030233\n",
       "2.550000    2.550000              2   0.016120       9.107559\n",
       "40.150000  40.150000              2   0.000590       0.333573\n",
       "...              ...            ...        ...            ...\n",
       "11.966667  11.966667              1   0.005532       3.125828\n",
       "5.616667    5.616667              1   0.011364       6.420669\n",
       "9.766667    9.766667              1   0.007026       3.969517\n",
       "0.050000    0.050000              1   0.018588      10.502272\n",
       "21.216667  21.216667              1   0.002299       1.299161\n",
       "\n",
       "[224 rows x 4 columns]"
      ]
     },
     "execution_count": 112,
     "metadata": {},
     "output_type": "execute_result"
    }
   ],
   "source": [
    "df_estadias_div = pd.Series(estadias_div)\n",
    "tiempos = df_estadias_div.value_counts().index\n",
    "data = {\n",
    "    'tiempo': tiempos,\n",
    "    'observed_freq': df_estadias_div.value_counts()\n",
    "}\n",
    "\n",
    "df_div = pd.DataFrame(data, index=data['tiempo'])\n",
    "prob_dist = []\n",
    "for i in range(0,len(df_div)):\n",
    "    x = df_div['tiempo'].iloc[i]\n",
    "    prob_dist.append(stats.gilbrat.pdf(x, *div_params_gilbrat))\n",
    "\n",
    "df_div['prob_dist'] = prob_dist\n",
    "df_div['prob_dist'] = df_div['prob_dist'] / df_div['prob_dist'].sum()\n",
    "df_div['expected_freq'] = df_div['observed_freq'].sum() * df_div['prob_dist']\n",
    "df_div"
   ]
  },
  {
   "cell_type": "code",
   "execution_count": 113,
   "metadata": {},
   "outputs": [
    {
     "data": {
      "text/plain": [
       "Power_divergenceResult(statistic=4127325.3937425246, pvalue=0.0)"
      ]
     },
     "execution_count": 113,
     "metadata": {},
     "output_type": "execute_result"
    }
   ],
   "source": [
    "stats.chisquare(df_div['observed_freq'], f_exp = df_div['expected_freq'])"
   ]
  },
  {
   "cell_type": "markdown",
   "metadata": {},
   "source": [
    "**Para los tiempos en URG**"
   ]
  },
  {
   "cell_type": "code",
   "execution_count": 172,
   "metadata": {},
   "outputs": [
    {
     "data": {
      "text/plain": [
       "{'loc': 0.016666666666666666, 'scale': 2.7776851149861006}"
      ]
     },
     "execution_count": 172,
     "metadata": {},
     "output_type": "execute_result"
    }
   ],
   "source": [
    "urg_params_expon = dic_distribuciones['URG']['expon']\n",
    "urg_params_expon\n"
   ]
  },
  {
   "cell_type": "code",
   "execution_count": 189,
   "metadata": {},
   "outputs": [
    {
     "name": "stderr",
     "output_type": "stream",
     "text": [
      "c:\\Users\\joaco\\AppData\\Local\\Programs\\Python\\Python38\\lib\\site-packages\\scipy\\integrate\\quadpack.py:879: IntegrationWarning: The occurrence of roundoff error is detected, which prevents \n",
      "  the requested tolerance from being achieved.  The error may be \n",
      "  underestimated.\n",
      "  quad_r = quad(f, low, high, args=args, full_output=self.full_output,\n",
      "c:\\Users\\joaco\\AppData\\Local\\Programs\\Python\\Python38\\lib\\site-packages\\scipy\\integrate\\quadpack.py:879: IntegrationWarning: The maximum number of subdivisions (50) has been achieved.\n",
      "  If increasing the limit yields no improvement it is advised to analyze \n",
      "  the integrand in order to determine the difficulties.  If the position of a \n",
      "  local difficulty can be determined (singularity, discontinuity) one will \n",
      "  probably gain from splitting up the interval and calling the integrator \n",
      "  on the subranges.  Perhaps a special-purpose integrator should be used.\n",
      "  quad_r = quad(f, low, high, args=args, full_output=self.full_output,\n"
     ]
    },
    {
     "data": {
      "text/html": [
       "<div>\n",
       "<style scoped>\n",
       "    .dataframe tbody tr th:only-of-type {\n",
       "        vertical-align: middle;\n",
       "    }\n",
       "\n",
       "    .dataframe tbody tr th {\n",
       "        vertical-align: top;\n",
       "    }\n",
       "\n",
       "    .dataframe thead th {\n",
       "        text-align: right;\n",
       "    }\n",
       "</style>\n",
       "<table border=\"1\" class=\"dataframe\">\n",
       "  <thead>\n",
       "    <tr style=\"text-align: right;\">\n",
       "      <th></th>\n",
       "      <th>tiempo</th>\n",
       "      <th>observed_freq</th>\n",
       "      <th>prob_dist</th>\n",
       "      <th>expected_freq</th>\n",
       "    </tr>\n",
       "  </thead>\n",
       "  <tbody>\n",
       "    <tr>\n",
       "      <th>0.016667</th>\n",
       "      <td>0.016667</td>\n",
       "      <td>20</td>\n",
       "      <td>0.006796</td>\n",
       "      <td>9.752914</td>\n",
       "    </tr>\n",
       "    <tr>\n",
       "      <th>0.033333</th>\n",
       "      <td>0.033333</td>\n",
       "      <td>17</td>\n",
       "      <td>0.006756</td>\n",
       "      <td>9.694570</td>\n",
       "    </tr>\n",
       "    <tr>\n",
       "      <th>0.233333</th>\n",
       "      <td>0.233333</td>\n",
       "      <td>11</td>\n",
       "      <td>0.006286</td>\n",
       "      <td>9.021075</td>\n",
       "    </tr>\n",
       "    <tr>\n",
       "      <th>0.716667</th>\n",
       "      <td>0.716667</td>\n",
       "      <td>11</td>\n",
       "      <td>0.005282</td>\n",
       "      <td>7.580338</td>\n",
       "    </tr>\n",
       "    <tr>\n",
       "      <th>0.500000</th>\n",
       "      <td>0.500000</td>\n",
       "      <td>11</td>\n",
       "      <td>0.005711</td>\n",
       "      <td>8.195296</td>\n",
       "    </tr>\n",
       "    <tr>\n",
       "      <th>...</th>\n",
       "      <td>...</td>\n",
       "      <td>...</td>\n",
       "      <td>...</td>\n",
       "      <td>...</td>\n",
       "    </tr>\n",
       "    <tr>\n",
       "      <th>3.550000</th>\n",
       "      <td>3.550000</td>\n",
       "      <td>1</td>\n",
       "      <td>0.001905</td>\n",
       "      <td>2.733338</td>\n",
       "    </tr>\n",
       "    <tr>\n",
       "      <th>4.950000</th>\n",
       "      <td>4.950000</td>\n",
       "      <td>1</td>\n",
       "      <td>0.001151</td>\n",
       "      <td>1.651208</td>\n",
       "    </tr>\n",
       "    <tr>\n",
       "      <th>2.000000</th>\n",
       "      <td>2.000000</td>\n",
       "      <td>1</td>\n",
       "      <td>0.003328</td>\n",
       "      <td>4.775708</td>\n",
       "    </tr>\n",
       "    <tr>\n",
       "      <th>2.150000</th>\n",
       "      <td>2.150000</td>\n",
       "      <td>1</td>\n",
       "      <td>0.003153</td>\n",
       "      <td>4.524651</td>\n",
       "    </tr>\n",
       "    <tr>\n",
       "      <th>13.766667</th>\n",
       "      <td>13.766667</td>\n",
       "      <td>1</td>\n",
       "      <td>0.000048</td>\n",
       "      <td>0.069072</td>\n",
       "    </tr>\n",
       "  </tbody>\n",
       "</table>\n",
       "<p>543 rows × 4 columns</p>\n",
       "</div>"
      ],
      "text/plain": [
       "              tiempo  observed_freq  prob_dist  expected_freq\n",
       "0.016667    0.016667             20   0.006796       9.752914\n",
       "0.033333    0.033333             17   0.006756       9.694570\n",
       "0.233333    0.233333             11   0.006286       9.021075\n",
       "0.716667    0.716667             11   0.005282       7.580338\n",
       "0.500000    0.500000             11   0.005711       8.195296\n",
       "...              ...            ...        ...            ...\n",
       "3.550000    3.550000              1   0.001905       2.733338\n",
       "4.950000    4.950000              1   0.001151       1.651208\n",
       "2.000000    2.000000              1   0.003328       4.775708\n",
       "2.150000    2.150000              1   0.003153       4.524651\n",
       "13.766667  13.766667              1   0.000048       0.069072\n",
       "\n",
       "[543 rows x 4 columns]"
      ]
     },
     "execution_count": 189,
     "metadata": {},
     "output_type": "execute_result"
    }
   ],
   "source": [
    "df_estadias_urg = pd.Series(estadias_urg_filtrada)\n",
    "tiempos = df_estadias_urg.value_counts().index\n",
    "\n",
    "data = {\n",
    "    'tiempo': tiempos,\n",
    "    'observed_freq': df_estadias_urg.value_counts()\n",
    "}\n",
    "\n",
    "df_urg = pd.DataFrame(data, index=data['tiempo'])\n",
    "prob_dist = []\n",
    "for i in range(0,len(df_urg)):\n",
    "    x = df_urg['tiempo'].iloc[i]\n",
    "    prob_dist.append(stats.expon.pdf(x, loc=0.016666666666666666, scale=2.7776851149861006))\n",
    "\n",
    "df_urg['prob_dist'] = prob_dist\n",
    "df_urg['prob_dist'] = df_urg['prob_dist'] / df_urg['prob_dist'].sum()\n",
    "df_urg['expected_freq'] = df_urg['observed_freq'].sum() * df_urg['prob_dist']\n",
    "df_urg"
   ]
  },
  {
   "cell_type": "code",
   "execution_count": 176,
   "metadata": {},
   "outputs": [
    {
     "data": {
      "text/plain": [
       "Power_divergenceResult(statistic=650.5022654103986, pvalue=2.4147318018233743e-10)"
      ]
     },
     "execution_count": 176,
     "metadata": {},
     "output_type": "execute_result"
    }
   ],
   "source": [
    "stats.chisquare(df_urg['observed_freq'], f_exp = df_urg['expected_freq'])"
   ]
  },
  {
   "cell_type": "markdown",
   "metadata": {},
   "source": [
    "# Ajuste a exponencial para la validación teorica de la simulación\n",
    "Con estas tasas se realiza el modelo MMK con el que se ve la tasa de ocupación y podemos saber si la simluación debería diverger o no."
   ]
  },
  {
   "cell_type": "code",
   "execution_count": 122,
   "metadata": {},
   "outputs": [
    {
     "data": {
      "text/html": [
       "<div>\n",
       "<style scoped>\n",
       "    .dataframe tbody tr th:only-of-type {\n",
       "        vertical-align: middle;\n",
       "    }\n",
       "\n",
       "    .dataframe tbody tr th {\n",
       "        vertical-align: top;\n",
       "    }\n",
       "\n",
       "    .dataframe thead th {\n",
       "        text-align: right;\n",
       "    }\n",
       "</style>\n",
       "<table border=\"1\" class=\"dataframe\">\n",
       "  <thead>\n",
       "    <tr style=\"text-align: right;\">\n",
       "      <th></th>\n",
       "      <th>sumsquare_error</th>\n",
       "      <th>aic</th>\n",
       "      <th>bic</th>\n",
       "      <th>kl_div</th>\n",
       "    </tr>\n",
       "  </thead>\n",
       "  <tbody>\n",
       "    <tr>\n",
       "      <th>expon</th>\n",
       "      <td>0.00231</td>\n",
       "      <td>3132.805283</td>\n",
       "      <td>-6997.48966</td>\n",
       "      <td>inf</td>\n",
       "    </tr>\n",
       "  </tbody>\n",
       "</table>\n",
       "</div>"
      ],
      "text/plain": [
       "       sumsquare_error          aic         bic  kl_div\n",
       "expon          0.00231  3132.805283 -6997.48966     inf"
      ]
     },
     "execution_count": 122,
     "metadata": {},
     "output_type": "execute_result"
    },
    {
     "data": {
      "image/png": "[encoded data removed]",
      "text/plain": [
       "<Figure size 432x288 with 1 Axes>"
      ]
     },
     "metadata": {
      "needs_background": "light"
     },
     "output_type": "display_data"
    }
   ],
   "source": [
    "fit_estadias_div_exp = Fitter(estadias_div, distributions=[\"expon\"])\n",
    "fit_estadias_div_exp.fit()\n",
    "fit_estadias_div_exp.summary()"
   ]
  },
  {
   "cell_type": "code",
   "execution_count": 84,
   "metadata": {},
   "outputs": [
    {
     "data": {
      "text/plain": [
       "{'expon': {'loc': 0.0, 'scale': 46.626873156342185}}"
      ]
     },
     "execution_count": 84,
     "metadata": {},
     "output_type": "execute_result"
    }
   ],
   "source": [
    "fit_estadias_div_exp.get_best(method = \"sumsquare_error\")"
   ]
  },
  {
   "cell_type": "code",
   "execution_count": 85,
   "metadata": {},
   "outputs": [
    {
     "data": {
      "text/html": [
       "<div>\n",
       "<style scoped>\n",
       "    .dataframe tbody tr th:only-of-type {\n",
       "        vertical-align: middle;\n",
       "    }\n",
       "\n",
       "    .dataframe tbody tr th {\n",
       "        vertical-align: top;\n",
       "    }\n",
       "\n",
       "    .dataframe thead th {\n",
       "        text-align: right;\n",
       "    }\n",
       "</style>\n",
       "<table border=\"1\" class=\"dataframe\">\n",
       "  <thead>\n",
       "    <tr style=\"text-align: right;\">\n",
       "      <th></th>\n",
       "      <th>sumsquare_error</th>\n",
       "      <th>aic</th>\n",
       "      <th>bic</th>\n",
       "      <th>kl_div</th>\n",
       "    </tr>\n",
       "  </thead>\n",
       "  <tbody>\n",
       "    <tr>\n",
       "      <th>expon</th>\n",
       "      <td>0.04383</td>\n",
       "      <td>1799.537581</td>\n",
       "      <td>-18699.935716</td>\n",
       "      <td>inf</td>\n",
       "    </tr>\n",
       "  </tbody>\n",
       "</table>\n",
       "</div>"
      ],
      "text/plain": [
       "       sumsquare_error          aic           bic  kl_div\n",
       "expon          0.04383  1799.537581 -18699.935716     inf"
      ]
     },
     "execution_count": 85,
     "metadata": {},
     "output_type": "execute_result"
    },
    {
     "data": {
      "image/png": "[encoded data removed]",
      "text/plain": [
       "<Figure size 432x288 with 1 Axes>"
      ]
     },
     "metadata": {
      "needs_background": "light"
     },
     "output_type": "display_data"
    }
   ],
   "source": [
    "fit_estadias_urg_exp = Fitter(estadias_urg, distributions=[\"expon\"])\n",
    "fit_estadias_urg_exp.fit()\n",
    "fit_estadias_urg_exp.summary()"
   ]
  },
  {
   "cell_type": "code",
   "execution_count": 86,
   "metadata": {},
   "outputs": [
    {
     "data": {
      "text/plain": [
       "{'expon': {'loc': 0.0, 'scale': 4.912511803588291}}"
      ]
     },
     "execution_count": 86,
     "metadata": {},
     "output_type": "execute_result"
    }
   ],
   "source": [
    "fit_estadias_urg_exp.get_best(method = \"sumsquare_error\")"
   ]
  },
  {
   "cell_type": "code",
   "execution_count": 91,
   "metadata": {},
   "outputs": [
    {
     "data": {
      "text/html": [
       "<div>\n",
       "<style scoped>\n",
       "    .dataframe tbody tr th:only-of-type {\n",
       "        vertical-align: middle;\n",
       "    }\n",
       "\n",
       "    .dataframe tbody tr th {\n",
       "        vertical-align: top;\n",
       "    }\n",
       "\n",
       "    .dataframe thead th {\n",
       "        text-align: right;\n",
       "    }\n",
       "</style>\n",
       "<table border=\"1\" class=\"dataframe\">\n",
       "  <thead>\n",
       "    <tr style=\"text-align: right;\">\n",
       "      <th></th>\n",
       "      <th>sumsquare_error</th>\n",
       "      <th>aic</th>\n",
       "      <th>bic</th>\n",
       "      <th>kl_div</th>\n",
       "    </tr>\n",
       "  </thead>\n",
       "  <tbody>\n",
       "    <tr>\n",
       "      <th>expon</th>\n",
       "      <td>29.8361</td>\n",
       "      <td>350.31629</td>\n",
       "      <td>-1069.583318</td>\n",
       "      <td>inf</td>\n",
       "    </tr>\n",
       "  </tbody>\n",
       "</table>\n",
       "</div>"
      ],
      "text/plain": [
       "       sumsquare_error        aic          bic  kl_div\n",
       "expon          29.8361  350.31629 -1069.583318     inf"
      ]
     },
     "execution_count": 91,
     "metadata": {},
     "output_type": "execute_result"
    },
    {
     "data": {
      "image/png": "[encoded data removed]",
      "text/plain": [
       "<Figure size 432x288 with 1 Axes>"
      ]
     },
     "metadata": {
      "needs_background": "light"
     },
     "output_type": "display_data"
    }
   ],
   "source": [
    "fit_estadias_opr_exp = Fitter(datos_operaciones['DURACION (hrs)'], distributions=[\"expon\"])\n",
    "fit_estadias_opr_exp.fit()\n",
    "fit_estadias_opr_exp.summary()"
   ]
  },
  {
   "cell_type": "code",
   "execution_count": 92,
   "metadata": {},
   "outputs": [
    {
     "data": {
      "text/plain": [
       "{'expon': {'loc': 0.0, 'scale': 2.4310679611650485}}"
      ]
     },
     "execution_count": 92,
     "metadata": {},
     "output_type": "execute_result"
    }
   ],
   "source": [
    "fit_estadias_opr_exp.get_best(method = \"sumsquare_error\")"
   ]
  },
  {
   "cell_type": "code",
   "execution_count": null,
   "metadata": {},
   "outputs": [],
   "source": []
  }
 ],
 "metadata": {
  "kernelspec": {
   "display_name": "Python 3.8.10 64-bit",
   "language": "python",
   "name": "python3"
  },
  "language_info": {
   "codemirror_mode": {
    "name": "ipython",
    "version": 3
   },
   "file_extension": ".py",
   "mimetype": "text/x-python",
   "name": "python",
   "nbconvert_exporter": "python",
   "pygments_lexer": "ipython3",
   "version": "3.8.10"
  },
  "vscode": {
   "interpreter": {
    "hash": "ae4c2b3b6edf159483116aa1e52121c1218932e443664ecd0a55c2d4ebccfbb6"
   }
  }
 },
 "nbformat": 4,
 "nbformat_minor": 2
}
