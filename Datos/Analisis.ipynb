{
 "cells": [
  {
   "cell_type": "markdown",
   "metadata": {},
   "source": [
    "# Importación y preprocesamiento\n"
   ]
  },
  {
   "cell_type": "code",
   "execution_count": 1,
   "metadata": {},
   "outputs": [],
   "source": [
    "import pandas as pd\n",
    "import numpy as np\n",
    "import matplotlib.pyplot as plt\n",
    "from scipy import stats\n",
    "from fitter import Fitter, get_common_distributions, get_distributions"
   ]
  },
  {
   "cell_type": "code",
   "execution_count": 2,
   "metadata": {},
   "outputs": [],
   "source": [
    "# Abrimos y ajustamos los datos para leerlos\n",
    "datos_pacientes = pd.read_csv(\"Datos.csv\",sep = \";\")\n",
    "datos_pacientes[\"Marca de tiempo\"] = pd.to_datetime(datos_pacientes[\"Marca de tiempo\"])\n",
    "datos_operaciones = pd.read_csv(\"Datos operaciones origen urgencias.csv\")\n",
    "\n",
    "datos_operaciones = datos_operaciones.iloc[:,:5]\n",
    "datos_operaciones = datos_operaciones.drop(datos_operaciones.columns[3],axis = 1)"
   ]
  },
  {
   "cell_type": "code",
   "execution_count": 3,
   "metadata": {},
   "outputs": [],
   "source": [
    "#Estas son las áreas que aparecen en el diagrama entregado\n",
    "areas_mapa_profe = [\"URG101_003\",\"DIV101_603\",\"DIV101_604\",\"DIV101_703\",\"DIV102_203\",\"DIV103_107\",\"DIV103_204\",\n",
    "\"DIV104_602\",\"OPR101_011\",\"OPR101_033\",\"OPR102_001\",\"OPR102_003\",\"End\"]"
   ]
  },
  {
   "cell_type": "code",
   "execution_count": 4,
   "metadata": {},
   "outputs": [],
   "source": [
    "# Lo primero que haremos será filtrar los datos para obtener el nodo \"Outisde\"\n",
    "filtro_fuera = (~datos_pacientes[\"Area\"].isin(areas_mapa_profe))\n",
    "datos_pacientes.loc[filtro_fuera,\"Area\"] = \"Outside\""
   ]
  },
  {
   "cell_type": "code",
   "execution_count": 5,
   "metadata": {},
   "outputs": [],
   "source": [
    "#Eliminamos las filas donde el valor actual y el anterior corresponden al nodo outside, dejamos el primero,\n",
    "#marcando así la entrada del paciente al nodo outside, pero solo una vez \n",
    "filtro_doble_fuera = (~datos_pacientes[\"Area\"].isin(areas_mapa_profe))&((~datos_pacientes[\"Area\"].shift(1).isin(areas_mapa_profe)))\n",
    "datos_pacientes = datos_pacientes[~filtro_doble_fuera]\n"
   ]
  },
  {
   "cell_type": "code",
   "execution_count": 6,
   "metadata": {},
   "outputs": [],
   "source": [
    "datos_pacientes[\"Hora derivacion\"] = datos_pacientes[\"Marca de tiempo\"].shift(-1)\n",
    "datos_pacientes[\"Estadia\"] = datos_pacientes[\"Hora derivacion\"]  - datos_pacientes[\"Marca de tiempo\"]\n",
    "datos_pacientes[\"Estadia\"] = datos_pacientes[\"Estadia\"]/np.timedelta64(1,\"h\")\n",
    "datos_pacientes[\"Siguiente Área\"] = datos_pacientes[\"Area\"].shift(-1)"
   ]
  },
  {
   "cell_type": "code",
   "execution_count": 7,
   "metadata": {},
   "outputs": [],
   "source": [
    "import pylab as pl"
   ]
  },
  {
   "cell_type": "code",
   "execution_count": 87,
   "metadata": {},
   "outputs": [],
   "source": [
    "plt.style.use('ggplot')"
   ]
  },
  {
   "cell_type": "code",
   "execution_count": 88,
   "metadata": {},
   "outputs": [
    {
     "name": "stdout",
     "output_type": "stream",
     "text": [
      "Probabilidad de transición desde la sala de urgencias (DIV101_703)\n",
      "Outside       34.680135\n",
      "End           23.456790\n",
      "DIV103_204    11.111111\n",
      "DIV104_602     7.182941\n",
      "DIV101_604     6.060606\n",
      "DIV101_603     5.162738\n",
      "DIV103_107     5.050505\n",
      "DIV102_203     4.040404\n",
      "OPR102_003     3.030303\n",
      "OPR101_033     0.112233\n",
      "OPR102_001     0.112233\n",
      "Name: Siguiente Área, dtype: float64\n"
     ]
    },
    {
     "data": {
      "text/plain": [
       "Text(0.5, 0, 'Horas')"
      ]
     },
     "execution_count": 88,
     "metadata": {},
     "output_type": "execute_result"
    },
    {
     "data": {
      "image/png": "[encoded data removed]",
      "text/plain": [
       "<Figure size 432x288 with 1 Axes>"
      ]
     },
     "metadata": {},
     "output_type": "display_data"
    }
   ],
   "source": [
    "area = \"DIV101_703\"\n",
    "derivacion_urgencia = datos_pacientes[datos_pacientes[\"Area\"] == area][\"Siguiente Área\"]\n",
    "print(f\"Probabilidad de transición desde la sala de urgencias ({area})\")\n",
    "transiciones = (derivacion_urgencia.value_counts()/derivacion_urgencia.shape[0])*100\n",
    "print(transiciones)\n",
    "estadia_urgencia = datos_pacientes[datos_pacientes[\"Area\"] == area][\"Estadia\"]\n",
    "hist = estadia_urgencia.plot.hist(title = f\"Histograma de Estadía en {area}\",bins = 20)\n",
    "hist.set_xlabel(\"Horas\")"
   ]
  },
  {
   "cell_type": "markdown",
   "metadata": {},
   "source": [
    "## Analizamos caso a a caso"
   ]
  },
  {
   "cell_type": "code",
   "execution_count": 8,
   "metadata": {},
   "outputs": [],
   "source": [
    "set_pacientes = set(datos_pacientes[\"Case ID\"])\n",
    "entrada = \"URG101_003\"\n",
    "salida = \"End\"\n",
    "dic_info_pacientes = dict.fromkeys(set_pacientes,{})\n",
    "for paciente in set_pacientes:\n",
    "    info_paciente = datos_pacientes[datos_pacientes[\"Case ID\"] == paciente]\n",
    "    hora_entrada = info_paciente.iloc[0][\"Marca de tiempo\"]\n",
    "    hora_salida = info_paciente.iloc[-1][\"Marca de tiempo\"]\n",
    "    dic_paciente ={\"Entrada\":hora_entrada,\"Salida\":hora_salida}\n",
    "    duracion = hora_salida - hora_entrada\n",
    "    dic_paciente[\"Duracion\"] = duracion/np.timedelta64(1,\"h\")\n",
    "    procedimiento = list(info_paciente[\"Area\"])\n",
    "    ruta = \"\".join(procedimiento)\n",
    "    dic_paciente[\"Ruta\"] = ruta\n",
    "    dic_info_pacientes[paciente] = dic_paciente\n",
    "    "
   ]
  },
  {
   "cell_type": "code",
   "execution_count": 9,
   "metadata": {},
   "outputs": [],
   "source": [
    "df_info_pacientes = pd.DataFrame(dic_info_pacientes).T\n"
   ]
  },
  {
   "cell_type": "markdown",
   "metadata": {},
   "source": [
    "# Estado actual de los KPI"
   ]
  },
  {
   "cell_type": "markdown",
   "metadata": {},
   "source": [
    "### Lead time promedio"
   ]
  },
  {
   "cell_type": "code",
   "execution_count": 91,
   "metadata": {},
   "outputs": [
    {
     "data": {
      "text/plain": [
       "81.9152056901192"
      ]
     },
     "execution_count": 91,
     "metadata": {},
     "output_type": "execute_result"
    }
   ],
   "source": [
    "df_info_pacientes[\"Duracion\"].mean()"
   ]
  },
  {
   "cell_type": "markdown",
   "metadata": {},
   "source": [
    "### 5% de peores casos"
   ]
  },
  {
   "cell_type": "code",
   "execution_count": 92,
   "metadata": {},
   "outputs": [
    {
     "name": "stdout",
     "output_type": "stream",
     "text": [
      "971.1093023255813\n",
      "453.93333333333334\n",
      "4517.7\n"
     ]
    }
   ],
   "source": [
    "duraciones = df_info_pacientes[\"Duracion\"].sort_values()\n",
    "n_5_peor = int(duraciones.shape[0]*0.05)\n",
    "pct_5_peores_casos = duraciones.iloc[-n_5_peor:]\n",
    "print(pct_5_peores_casos.mean())\n",
    "print(pct_5_peores_casos.min())\n",
    "print(pct_5_peores_casos.max())"
   ]
  },
  {
   "cell_type": "markdown",
   "metadata": {},
   "source": [
    "# Analizamos las llegadas"
   ]
  },
  {
   "cell_type": "markdown",
   "metadata": {},
   "source": [
    "### Histograma de llegadas(solo para llegadas en menos de 24 horas)"
   ]
  },
  {
   "cell_type": "code",
   "execution_count": 93,
   "metadata": {},
   "outputs": [
    {
     "data": {
      "text/plain": [
       "Text(0.5, 1.0, 'Tiempo entre llegadas (Para tiempos menores a 24 horas)')"
      ]
     },
     "execution_count": 93,
     "metadata": {},
     "output_type": "execute_result"
    },
    {
     "data": {
      "image/png": "[encoded data removed]",
      "text/plain": [
       "<Figure size 432x288 with 1 Axes>"
      ]
     },
     "metadata": {},
     "output_type": "display_data"
    }
   ],
   "source": [
    "llegadas = df_info_pacientes[\"Entrada\"].sort_values()\n",
    "tiempo_entre_llegadas = (llegadas.shift(-1) - llegadas)/np.timedelta64(1,\"h\")\n",
    "hist = tiempo_entre_llegadas[tiempo_entre_llegadas < 24].hist(bins = 24)\n",
    "hist.set_xlabel(\"Horas\")\n",
    "hist.set_title(\"Tiempo entre llegadas (Para tiempos menores a 24 horas)\")"
   ]
  },
  {
   "cell_type": "code",
   "execution_count": 103,
   "metadata": {},
   "outputs": [
    {
     "name": "stderr",
     "output_type": "stream",
     "text": [
      "WARNING:root:SKIPPED kstwo distribution (taking more than 30 seconds)\n",
      "WARNING:root:SKIPPED levy_stable distribution (taking more than 30 seconds)\n",
      "WARNING:root:SKIPPED ncf distribution (taking more than 30 seconds)\n",
      "WARNING:root:SKIPPED ncx2 distribution (taking more than 30 seconds)\n",
      "WARNING:root:SKIPPED recipinvgauss distribution (taking more than 30 seconds)\n",
      "WARNING:root:SKIPPED rv_continuous distribution (taking more than 30 seconds)\n",
      "WARNING:root:SKIPPED rv_histogram distribution (taking more than 30 seconds)\n"
     ]
    },
    {
     "data": {
      "text/html": [
       "<div>\n",
       "<style scoped>\n",
       "    .dataframe tbody tr th:only-of-type {\n",
       "        vertical-align: middle;\n",
       "    }\n",
       "\n",
       "    .dataframe tbody tr th {\n",
       "        vertical-align: top;\n",
       "    }\n",
       "\n",
       "    .dataframe thead th {\n",
       "        text-align: right;\n",
       "    }\n",
       "</style>\n",
       "<table border=\"1\" class=\"dataframe\">\n",
       "  <thead>\n",
       "    <tr style=\"text-align: right;\">\n",
       "      <th></th>\n",
       "      <th>sumsquare_error</th>\n",
       "      <th>aic</th>\n",
       "      <th>bic</th>\n",
       "      <th>kl_div</th>\n",
       "    </tr>\n",
       "  </thead>\n",
       "  <tbody>\n",
       "    <tr>\n",
       "      <th>halfcauchy</th>\n",
       "      <td>0.027976</td>\n",
       "      <td>820.437217</td>\n",
       "      <td>-8680.704904</td>\n",
       "      <td>inf</td>\n",
       "    </tr>\n",
       "    <tr>\n",
       "      <th>foldcauchy</th>\n",
       "      <td>0.028391</td>\n",
       "      <td>824.091098</td>\n",
       "      <td>-8661.541248</td>\n",
       "      <td>inf</td>\n",
       "    </tr>\n",
       "    <tr>\n",
       "      <th>powerlognorm</th>\n",
       "      <td>0.029278</td>\n",
       "      <td>807.510133</td>\n",
       "      <td>-8628.871488</td>\n",
       "      <td>inf</td>\n",
       "    </tr>\n",
       "    <tr>\n",
       "      <th>pareto</th>\n",
       "      <td>0.030699</td>\n",
       "      <td>807.311675</td>\n",
       "      <td>-8595.657400</td>\n",
       "      <td>inf</td>\n",
       "    </tr>\n",
       "    <tr>\n",
       "      <th>betaprime</th>\n",
       "      <td>0.031229</td>\n",
       "      <td>802.393090</td>\n",
       "      <td>-8574.490752</td>\n",
       "      <td>inf</td>\n",
       "    </tr>\n",
       "  </tbody>\n",
       "</table>\n",
       "</div>"
      ],
      "text/plain": [
       "              sumsquare_error         aic          bic  kl_div\n",
       "halfcauchy           0.027976  820.437217 -8680.704904     inf\n",
       "foldcauchy           0.028391  824.091098 -8661.541248     inf\n",
       "powerlognorm         0.029278  807.510133 -8628.871488     inf\n",
       "pareto               0.030699  807.311675 -8595.657400     inf\n",
       "betaprime            0.031229  802.393090 -8574.490752     inf"
      ]
     },
     "execution_count": 103,
     "metadata": {},
     "output_type": "execute_result"
    },
    {
     "data": {
      "image/png": "[encoded data removed]",
      "text/plain": [
       "<Figure size 432x288 with 1 Axes>"
      ]
     },
     "metadata": {},
     "output_type": "display_data"
    }
   ],
   "source": [
    "tiempo_filtrado = tiempo_entre_llegadas[tiempo_entre_llegadas < 24]\n",
    "fit_llegadas_exp = Fitter(tiempo_filtrado)\n",
    "fit_llegadas_exp.fit()\n",
    "fit_llegadas_exp.summary()"
   ]
  },
  {
   "cell_type": "code",
   "execution_count": 105,
   "metadata": {},
   "outputs": [
    {
     "data": {
      "text/html": [
       "<div>\n",
       "<style scoped>\n",
       "    .dataframe tbody tr th:only-of-type {\n",
       "        vertical-align: middle;\n",
       "    }\n",
       "\n",
       "    .dataframe tbody tr th {\n",
       "        vertical-align: top;\n",
       "    }\n",
       "\n",
       "    .dataframe thead th {\n",
       "        text-align: right;\n",
       "    }\n",
       "</style>\n",
       "<table border=\"1\" class=\"dataframe\">\n",
       "  <thead>\n",
       "    <tr style=\"text-align: right;\">\n",
       "      <th></th>\n",
       "      <th>sumsquare_error</th>\n",
       "      <th>aic</th>\n",
       "      <th>bic</th>\n",
       "      <th>kl_div</th>\n",
       "    </tr>\n",
       "  </thead>\n",
       "  <tbody>\n",
       "    <tr>\n",
       "      <th>expon</th>\n",
       "      <td>0.040003</td>\n",
       "      <td>796.096339</td>\n",
       "      <td>-8379.236682</td>\n",
       "      <td>inf</td>\n",
       "    </tr>\n",
       "  </tbody>\n",
       "</table>\n",
       "</div>"
      ],
      "text/plain": [
       "       sumsquare_error         aic          bic  kl_div\n",
       "expon         0.040003  796.096339 -8379.236682     inf"
      ]
     },
     "execution_count": 105,
     "metadata": {},
     "output_type": "execute_result"
    },
    {
     "data": {
      "image/png": "[encoded data removed]",
      "text/plain": [
       "<Figure size 432x288 with 1 Axes>"
      ]
     },
     "metadata": {},
     "output_type": "display_data"
    }
   ],
   "source": [
    "tiempo_filtrado = tiempo_entre_llegadas[tiempo_entre_llegadas < 24]\n",
    "fit_llegadas_exp = Fitter(tiempo_filtrado, distributions=[\"expon\"])\n",
    "fit_llegadas_exp.fit()\n",
    "fit_llegadas_exp.summary()"
   ]
  },
  {
   "cell_type": "code",
   "execution_count": 107,
   "metadata": {},
   "outputs": [
    {
     "data": {
      "text/plain": [
       "{'expon': (0.0, 5.058066429418743)}"
      ]
     },
     "execution_count": 107,
     "metadata": {},
     "output_type": "execute_result"
    }
   ],
   "source": [
    "ajuste_exponencial = fit_llegadas_exp.get_best(method = \"sumsquare_error\")\n",
    "ajuste_exponencial"
   ]
  },
  {
   "cell_type": "code",
   "execution_count": 15,
   "metadata": {},
   "outputs": [
    {
     "data": {
      "text/plain": [
       "Text(0.5, 0, 'Hora del día')"
      ]
     },
     "execution_count": 15,
     "metadata": {},
     "output_type": "execute_result"
    },
    {
     "data": {
      "image/png": "[encoded data removed]",
      "text/plain": [
       "<Figure size 432x288 with 1 Axes>"
      ]
     },
     "metadata": {
      "needs_background": "light"
     },
     "output_type": "display_data"
    }
   ],
   "source": [
    "horas_entrada = [entrada.hour for entrada in df_info_pacientes[\"Entrada\"]]\n",
    "df_info_pacientes[\"Hora entrada\"] = horas_entrada\n",
    "hist = df_info_pacientes[\"Hora entrada\"].plot.hist(bins = 24,title = \"Distribución de llegadas a lo largo del día\")\n",
    "hist.set_xlabel(\"Hora del día\")"
   ]
  },
  {
   "cell_type": "markdown",
   "metadata": {},
   "source": [
    "# Analisis de operaciones"
   ]
  },
  {
   "cell_type": "code",
   "execution_count": 16,
   "metadata": {},
   "outputs": [
    {
     "name": "stdout",
     "output_type": "stream",
     "text": [
      "2.4310679611650494\n",
      "4.1\n",
      "0.0\n"
     ]
    }
   ],
   "source": [
    "print(datos_operaciones[\"DURACION (hrs)\"].mean())\n",
    "print(datos_operaciones[\"DURACION (hrs)\"].max())\n",
    "print(datos_operaciones[\"DURACION (hrs)\"].min())"
   ]
  },
  {
   "cell_type": "code",
   "execution_count": 17,
   "metadata": {},
   "outputs": [
    {
     "data": {
      "text/plain": [
       "Text(0.5, 0, 'Horas')"
      ]
     },
     "execution_count": 17,
     "metadata": {},
     "output_type": "execute_result"
    },
    {
     "data": {
      "image/png": "[encoded data removed]",
      "text/plain": [
       "<Figure size 432x288 with 1 Axes>"
      ]
     },
     "metadata": {
      "needs_background": "light"
     },
     "output_type": "display_data"
    }
   ],
   "source": [
    "hist = datos_operaciones[\"DURACION (hrs)\"].plot.hist()\n",
    "hist.set_title(\"Distribución de la duración de las operaciones\")\n",
    "hist.set_xlabel(\"Horas\")"
   ]
  },
  {
   "cell_type": "code",
   "execution_count": 18,
   "metadata": {},
   "outputs": [
    {
     "data": {
      "text/plain": [
       "Text(0.5, 1.0, 'Cantidad de operaciones recibidas por paciente')"
      ]
     },
     "execution_count": 18,
     "metadata": {},
     "output_type": "execute_result"
    },
    {
     "data": {
      "image/png": "[encoded data removed]",
      "text/plain": [
       "<Figure size 432x288 with 1 Axes>"
      ]
     },
     "metadata": {
      "needs_background": "light"
     },
     "output_type": "display_data"
    }
   ],
   "source": [
    "hist = datos_operaciones[\"ID\"].value_counts().hist(bins = 20)\n",
    "hist.set_xlabel(\"Número de operaciones recibidas\")\n",
    "hist.set_title(\"Cantidad de operaciones recibidas por paciente\")"
   ]
  },
  {
   "cell_type": "code",
   "execution_count": 19,
   "metadata": {},
   "outputs": [
    {
     "data": {
      "text/plain": [
       "Text(0, 0.5, 'Número de operaciones realizadas')"
      ]
     },
     "execution_count": 19,
     "metadata": {},
     "output_type": "execute_result"
    },
    {
     "data": {
      "image/png": "[encoded data removed]",
      "text/plain": [
       "<Figure size 432x288 with 1 Axes>"
      ]
     },
     "metadata": {
      "needs_background": "light"
     },
     "output_type": "display_data"
    }
   ],
   "source": [
    "barplot = datos_operaciones[\"SALA OPERACIONES\"].value_counts().plot.bar()\n",
    "barplot.set_title(\"Salas más utilizadas para operaciones\")\n",
    "barplot.set_ylabel(\"Número de operaciones realizadas\")"
   ]
  },
  {
   "cell_type": "code",
   "execution_count": 20,
   "metadata": {},
   "outputs": [
    {
     "data": {
      "text/html": [
       "<div>\n",
       "<style scoped>\n",
       "    .dataframe tbody tr th:only-of-type {\n",
       "        vertical-align: middle;\n",
       "    }\n",
       "\n",
       "    .dataframe tbody tr th {\n",
       "        vertical-align: top;\n",
       "    }\n",
       "\n",
       "    .dataframe thead th {\n",
       "        text-align: right;\n",
       "    }\n",
       "</style>\n",
       "<table border=\"1\" class=\"dataframe\">\n",
       "  <thead>\n",
       "    <tr style=\"text-align: right;\">\n",
       "      <th></th>\n",
       "      <th>ID</th>\n",
       "      <th>SALA OPERACIONES</th>\n",
       "      <th>FECHA E INICIO</th>\n",
       "      <th>DURACION (hrs)</th>\n",
       "    </tr>\n",
       "  </thead>\n",
       "  <tbody>\n",
       "    <tr>\n",
       "      <th>0</th>\n",
       "      <td>14548704</td>\n",
       "      <td>OPR101_011</td>\n",
       "      <td>2018-01-02 10:15:00.000</td>\n",
       "      <td>2.8</td>\n",
       "    </tr>\n",
       "    <tr>\n",
       "      <th>1</th>\n",
       "      <td>14557024</td>\n",
       "      <td>OPR101_011</td>\n",
       "      <td>2017-12-22 13:37:00.000</td>\n",
       "      <td>1.6</td>\n",
       "    </tr>\n",
       "    <tr>\n",
       "      <th>2</th>\n",
       "      <td>14557024</td>\n",
       "      <td>OPR101_011</td>\n",
       "      <td>2018-01-12 15:36:00.000</td>\n",
       "      <td>1.2</td>\n",
       "    </tr>\n",
       "    <tr>\n",
       "      <th>3</th>\n",
       "      <td>14562339</td>\n",
       "      <td>OPR101_011</td>\n",
       "      <td>2018-01-03 15:56:00.000</td>\n",
       "      <td>1.3</td>\n",
       "    </tr>\n",
       "    <tr>\n",
       "      <th>4</th>\n",
       "      <td>14568735</td>\n",
       "      <td>OPR101_011</td>\n",
       "      <td>2018-01-05 18:34:00.000</td>\n",
       "      <td>3.2</td>\n",
       "    </tr>\n",
       "    <tr>\n",
       "      <th>...</th>\n",
       "      <td>...</td>\n",
       "      <td>...</td>\n",
       "      <td>...</td>\n",
       "      <td>...</td>\n",
       "    </tr>\n",
       "    <tr>\n",
       "      <th>407</th>\n",
       "      <td>14775043000</td>\n",
       "      <td>OPR102_003</td>\n",
       "      <td>2018-03-15 15:17:00.000</td>\n",
       "      <td>2.4</td>\n",
       "    </tr>\n",
       "    <tr>\n",
       "      <th>408</th>\n",
       "      <td>14799531000</td>\n",
       "      <td>OPR102_003</td>\n",
       "      <td>2018-03-26 13:02:00.000</td>\n",
       "      <td>3.3</td>\n",
       "    </tr>\n",
       "    <tr>\n",
       "      <th>409</th>\n",
       "      <td>14867095000</td>\n",
       "      <td>OPR102_003</td>\n",
       "      <td>2018-04-17 18:25:00.000</td>\n",
       "      <td>3.4</td>\n",
       "    </tr>\n",
       "    <tr>\n",
       "      <th>410</th>\n",
       "      <td>14973437000</td>\n",
       "      <td>OPR102_003</td>\n",
       "      <td>2018-05-30 13:42:00.000</td>\n",
       "      <td>2.4</td>\n",
       "    </tr>\n",
       "    <tr>\n",
       "      <th>411</th>\n",
       "      <td>15057073000</td>\n",
       "      <td>OPR102_003</td>\n",
       "      <td>2018-06-29 14:41:00.000</td>\n",
       "      <td>2.5</td>\n",
       "    </tr>\n",
       "  </tbody>\n",
       "</table>\n",
       "<p>412 rows × 4 columns</p>\n",
       "</div>"
      ],
      "text/plain": [
       "              ID SALA OPERACIONES           FECHA E INICIO  DURACION (hrs)\n",
       "0       14548704       OPR101_011  2018-01-02 10:15:00.000             2.8\n",
       "1       14557024       OPR101_011  2017-12-22 13:37:00.000             1.6\n",
       "2       14557024       OPR101_011  2018-01-12 15:36:00.000             1.2\n",
       "3       14562339       OPR101_011  2018-01-03 15:56:00.000             1.3\n",
       "4       14568735       OPR101_011  2018-01-05 18:34:00.000             3.2\n",
       "..           ...              ...                      ...             ...\n",
       "407  14775043000       OPR102_003  2018-03-15 15:17:00.000             2.4\n",
       "408  14799531000       OPR102_003  2018-03-26 13:02:00.000             3.3\n",
       "409  14867095000       OPR102_003  2018-04-17 18:25:00.000             3.4\n",
       "410  14973437000       OPR102_003  2018-05-30 13:42:00.000             2.4\n",
       "411  15057073000       OPR102_003  2018-06-29 14:41:00.000             2.5\n",
       "\n",
       "[412 rows x 4 columns]"
      ]
     },
     "execution_count": 20,
     "metadata": {},
     "output_type": "execute_result"
    }
   ],
   "source": [
    "datos_operaciones"
   ]
  },
  {
   "cell_type": "code",
   "execution_count": 21,
   "metadata": {},
   "outputs": [
    {
     "data": {
      "text/plain": [
       "['URG101_003',\n",
       " 'DIV101_603',\n",
       " 'DIV101_604',\n",
       " 'DIV101_703',\n",
       " 'DIV102_203',\n",
       " 'DIV103_107',\n",
       " 'DIV103_204',\n",
       " 'DIV104_602',\n",
       " 'OPR101_011',\n",
       " 'OPR101_033',\n",
       " 'OPR102_001',\n",
       " 'OPR102_003',\n",
       " 'End']"
      ]
     },
     "execution_count": 21,
     "metadata": {},
     "output_type": "execute_result"
    }
   ],
   "source": [
    "areas_mapa_profe"
   ]
  },
  {
   "cell_type": "markdown",
   "metadata": {},
   "source": [
    "# Distribuciones por sala"
   ]
  },
  {
   "cell_type": "code",
   "execution_count": 10,
   "metadata": {},
   "outputs": [],
   "source": [
    "from scipy import stats"
   ]
  },
  {
   "cell_type": "code",
   "execution_count": 23,
   "metadata": {
    "scrolled": false
   },
   "outputs": [
    {
     "name": "stdout",
     "output_type": "stream",
     "text": [
      "URG101_003 lista\n",
      "DIV101_603 lista\n",
      "DIV101_604 lista\n",
      "DIV101_703 lista\n",
      "DIV102_203 lista\n",
      "DIV103_107 lista\n",
      "DIV103_204 lista\n",
      "DIV104_602 lista\n",
      "OPR101_011 lista\n",
      "OPR101_033 lista\n",
      "OPR102_001 lista\n"
     ]
    },
    {
     "name": "stderr",
     "output_type": "stream",
     "text": [
      "WARNING:root:SKIPPED expon distribution (taking more than 30 seconds)\n",
      "WARNING:root:SKIPPED beta distribution (taking more than 30 seconds)\n",
      "WARNING:root:SKIPPED lognorm distribution (taking more than 30 seconds)\n"
     ]
    },
    {
     "name": "stdout",
     "output_type": "stream",
     "text": [
      "OPR102_003 lista\n"
     ]
    }
   ],
   "source": [
    "dic_distribuciones = dict.fromkeys(areas_mapa_profe)\n",
    "for area in areas_mapa_profe:\n",
    "    try : \n",
    "        estadia = datos_pacientes[datos_pacientes[\"Area\"] == area][\"Estadia\"]\n",
    "        estadia = np.array(estadia)\n",
    "        f = Fitter(estadia,distributions = [\"expon\",\"beta\",\"lognorm\",\"norm\",])\n",
    "        f.fit()\n",
    "        best = f.get_best(method = \"sumsquare_error\")\n",
    "        dic_distribuciones[area] = best\n",
    "        print(area,\"lista\")\n",
    "    \n",
    "    except:\n",
    "        continue\n",
    "        \n"
   ]
  },
  {
   "cell_type": "markdown",
   "metadata": {},
   "source": [
    "## Test de bondad \n",
    "Recordar que **si el p-value es menor a 0.05 implica que la distribución ajusta de buena manera a los datos**. Si el p-values es mayor a 0.05 significa que no hay información suficiente para justificar que la distribución ajusta de buena manera."
   ]
  },
  {
   "cell_type": "code",
   "execution_count": 24,
   "metadata": {},
   "outputs": [
    {
     "name": "stdout",
     "output_type": "stream",
     "text": [
      "URG101_003\n",
      "Estadístico:12638078.850782946 p-value: 0.0 \n",
      "\n",
      "DIV101_603\n",
      "Estadístico:619327148948223.9 p-value: 0.0 \n",
      "\n",
      "DIV101_604\n",
      "Estadístico:1936609018192349.0 p-value: 0.0 \n",
      "\n",
      "DIV101_703\n",
      "Estadístico:1867711104957.9626 p-value: 0.0 \n",
      "\n",
      "DIV102_203\n",
      "Estadístico:4.560246072839681e+17 p-value: 0.0 \n",
      "\n",
      "DIV103_107\n",
      "Estadístico:231555664610548.38 p-value: 0.0 \n",
      "\n",
      "DIV103_204\n",
      "Estadístico:577668802390145.8 p-value: 0.0 \n",
      "\n",
      "DIV104_602\n",
      "Estadístico:1.4381354933849255e+20 p-value: 0.0 \n",
      "\n",
      "OPR101_011\n",
      "Estadístico:7241.892795703271 p-value: 0.0 \n",
      "\n",
      "OPR101_033\n",
      "Estadístico:-30534.52758811228 p-value: 1.0 \n",
      "\n",
      "OPR102_001\n",
      "Estadístico:-8383.142685368659 p-value: 1.0 \n",
      "\n",
      "OPR102_003\n",
      "Estadístico:275.9708010748603 p-value: 2.3152360752580137e-09 \n",
      "\n"
     ]
    }
   ],
   "source": [
    "import math\n",
    "for area in areas_mapa_profe:\n",
    "    if area != 'End':\n",
    "        estadia = datos_pacientes[datos_pacientes[\"Area\"] == area][\"Estadia\"]\n",
    "        estadia = np.array(estadia)\n",
    "        distribucion = list(dic_distribuciones[area].keys())[0]\n",
    "\n",
    "        if distribucion == 'beta':\n",
    "            param_a = dic_distribuciones[area]['beta'][0]\n",
    "            param_b = dic_distribuciones[area]['beta'][1]\n",
    "            loc = dic_distribuciones[area]['beta'][2]\n",
    "            scale = dic_distribuciones[area]['beta'][3]\n",
    "            esperado = (np.random.beta(a=param_a, b=param_b, size=len(estadia)) - loc) / scale\n",
    "\n",
    "        elif distribucion == 'lognorm':\n",
    "            s = dic_distribuciones[area]['lognorm'][0]\n",
    "            loc = dic_distribuciones[area]['lognorm'][1]\n",
    "            scale = dic_distribuciones[area]['lognorm'][2]\n",
    "                \n",
    "            esperado = (np.random.lognormal(mean=math.log(scale), sigma=s, size=len(estadia)) - loc) / scale\n",
    "\n",
    "        else:\n",
    "            print('Distribucion desconocida')\n",
    "\n",
    "        test_bondad = stats.chisquare(f_obs = estadia, f_exp = esperado)\n",
    "        print(area)\n",
    "        resultado_test = list(test_bondad)\n",
    "        print(f'Estadístico:{resultado_test[0]} p-value: {resultado_test[1]} \\n')"
   ]
  },
  {
   "cell_type": "code",
   "execution_count": 25,
   "metadata": {},
   "outputs": [
    {
     "data": {
      "text/plain": [
       "{'URG101_003': {'beta': (0.9963865319265526,\n",
       "   7.549140779895584,\n",
       "   -5.8548793004373246e-30,\n",
       "   22.24393218386804)},\n",
       " 'DIV101_603': {'beta': (0.3616704354973971,\n",
       "   165.16296501053603,\n",
       "   -7.412371308927781e-26,\n",
       "   6922.807468149733)},\n",
       " 'DIV101_604': {'beta': (0.45703588480386004,\n",
       "   648.4486740488123,\n",
       "   -8.513612931753873e-29,\n",
       "   35054.048864844575)},\n",
       " 'DIV101_703': {'beta': (0.5703786223184792,\n",
       "   110.83109431271232,\n",
       "   -1.462673655225481e-28,\n",
       "   437.32033985936954)},\n",
       " 'DIV102_203': {'beta': (0.24377071043553353,\n",
       "   285.52176298361917,\n",
       "   -1.187635564202615e-26,\n",
       "   5018.705281761797)},\n",
       " 'DIV103_107': {'beta': (0.39836402842306595,\n",
       "   206.40113822847783,\n",
       "   -1.5712666431312037e-28,\n",
       "   10158.914732260619)},\n",
       " 'DIV103_204': {'beta': (0.4888117957179907,\n",
       "   109.8607935613231,\n",
       "   -1.5936649681747108e-28,\n",
       "   5313.91647884571)},\n",
       " 'DIV104_602': {'beta': (0.15192779271070977,\n",
       "   194.10258963560304,\n",
       "   -5.156397043984947e-29,\n",
       "   8814.947865303959)},\n",
       " 'OPR101_011': {'beta': (0.5808873886057251,\n",
       "   7.314059974137125,\n",
       "   0.016666666666666663,\n",
       "   9.742438706572912)},\n",
       " 'OPR101_033': {'beta': (0.05736478890742883,\n",
       "   3.4350433415802044,\n",
       "   0.016666666666666663,\n",
       "   6.4423590423078325)},\n",
       " 'OPR102_001': {'beta': (0.9588287571379162,\n",
       "   4.145262526109068,\n",
       "   0.4499999987184291,\n",
       "   7.6309924849021815)},\n",
       " 'OPR102_003': {'lognorm': (0.2904728151128274,\n",
       "   -2.2507735933696127,\n",
       "   4.3770553314569565)},\n",
       " 'End': None}"
      ]
     },
     "execution_count": 25,
     "metadata": {},
     "output_type": "execute_result"
    }
   ],
   "source": [
    "dic_distribuciones"
   ]
  },
  {
   "cell_type": "code",
   "execution_count": 26,
   "metadata": {},
   "outputs": [],
   "source": [
    "dic_histogramas= {}"
   ]
  },
  {
   "cell_type": "code",
   "execution_count": 27,
   "metadata": {},
   "outputs": [
    {
     "name": "stdout",
     "output_type": "stream",
     "text": [
      "{'lognorm': (1.1325392177517544, -0.1631080499945431, 3.01277091110916)}\n"
     ]
    },
    {
     "data": {
      "text/html": [
       "<div>\n",
       "<style scoped>\n",
       "    .dataframe tbody tr th:only-of-type {\n",
       "        vertical-align: middle;\n",
       "    }\n",
       "\n",
       "    .dataframe tbody tr th {\n",
       "        vertical-align: top;\n",
       "    }\n",
       "\n",
       "    .dataframe thead th {\n",
       "        text-align: right;\n",
       "    }\n",
       "</style>\n",
       "<table border=\"1\" class=\"dataframe\">\n",
       "  <thead>\n",
       "    <tr style=\"text-align: right;\">\n",
       "      <th></th>\n",
       "      <th>sumsquare_error</th>\n",
       "      <th>aic</th>\n",
       "      <th>bic</th>\n",
       "      <th>kl_div</th>\n",
       "    </tr>\n",
       "  </thead>\n",
       "  <tbody>\n",
       "    <tr>\n",
       "      <th>lognorm</th>\n",
       "      <td>0.033620</td>\n",
       "      <td>814.881030</td>\n",
       "      <td>-8519.048424</td>\n",
       "      <td>inf</td>\n",
       "    </tr>\n",
       "    <tr>\n",
       "      <th>chi2</th>\n",
       "      <td>0.037207</td>\n",
       "      <td>794.198271</td>\n",
       "      <td>-8433.592650</td>\n",
       "      <td>inf</td>\n",
       "    </tr>\n",
       "    <tr>\n",
       "      <th>beta</th>\n",
       "      <td>0.062616</td>\n",
       "      <td>758.059596</td>\n",
       "      <td>-7988.039146</td>\n",
       "      <td>inf</td>\n",
       "    </tr>\n",
       "    <tr>\n",
       "      <th>norm</th>\n",
       "      <td>0.228845</td>\n",
       "      <td>853.969495</td>\n",
       "      <td>-6908.970436</td>\n",
       "      <td>inf</td>\n",
       "    </tr>\n",
       "  </tbody>\n",
       "</table>\n",
       "</div>"
      ],
      "text/plain": [
       "         sumsquare_error         aic          bic  kl_div\n",
       "lognorm         0.033620  814.881030 -8519.048424     inf\n",
       "chi2            0.037207  794.198271 -8433.592650     inf\n",
       "beta            0.062616  758.059596 -7988.039146     inf\n",
       "norm            0.228845  853.969495 -6908.970436     inf"
      ]
     },
     "execution_count": 27,
     "metadata": {},
     "output_type": "execute_result"
    },
    {
     "data": {
      "image/png": "[encoded data removed]",
      "text/plain": [
       "<Figure size 432x288 with 1 Axes>"
      ]
     },
     "metadata": {
      "needs_background": "light"
     },
     "output_type": "display_data"
    }
   ],
   "source": [
    "llegadas = df_info_pacientes[\"Entrada\"].sort_values()\n",
    "tiempo_entre_llegadas = (llegadas.shift(-1) - llegadas)/np.timedelta64(1,\"h\")\n",
    "duracion_operaciones = tiempo_entre_llegadas[tiempo_entre_llegadas < 24]\n",
    "duracion_operaciones = np.array(duracion_operaciones)\n",
    "f = Fitter(duracion_operaciones,distributions = [\"norm\",\"beta\",\"lognorm\",\"chi2\"])\n",
    "f.fit()\n",
    "a = f.get_best(method = \"sumsquare_error\")\n",
    "print(a)\n",
    "f.summary()\n"
   ]
  },
  {
   "cell_type": "code",
   "execution_count": 28,
   "metadata": {},
   "outputs": [],
   "source": [
    "dic_histogramas[\"Tiempo_entre_llegadas\"] = a"
   ]
  },
  {
   "cell_type": "markdown",
   "metadata": {},
   "source": [
    "# Transiciones entre salas\n",
    "Aqui se realiza un mapa de calor"
   ]
  },
  {
   "cell_type": "code",
   "execution_count": 29,
   "metadata": {},
   "outputs": [],
   "source": [
    "df_heatmap = pd.DataFrame(index = areas_mapa_profe,columns = areas_mapa_profe)"
   ]
  },
  {
   "cell_type": "code",
   "execution_count": 30,
   "metadata": {},
   "outputs": [],
   "source": [
    "areas_mapa_profe.append(\"Outside\")"
   ]
  },
  {
   "cell_type": "code",
   "execution_count": 31,
   "metadata": {},
   "outputs": [],
   "source": [
    "for area in areas_mapa_profe:\n",
    "    derivacion_urgencia = datos_pacientes[datos_pacientes[\"Area\"] == area][\"Siguiente Área\"]\n",
    "    transiciones = (derivacion_urgencia.value_counts()/derivacion_urgencia.shape[0])*100\n",
    "    df_heatmap[area] = transiciones"
   ]
  },
  {
   "cell_type": "code",
   "execution_count": 32,
   "metadata": {},
   "outputs": [
    {
     "data": {
      "text/html": [
       "<div>\n",
       "<style scoped>\n",
       "    .dataframe tbody tr th:only-of-type {\n",
       "        vertical-align: middle;\n",
       "    }\n",
       "\n",
       "    .dataframe tbody tr th {\n",
       "        vertical-align: top;\n",
       "    }\n",
       "\n",
       "    .dataframe thead th {\n",
       "        text-align: right;\n",
       "    }\n",
       "</style>\n",
       "<table border=\"1\" class=\"dataframe\">\n",
       "  <thead>\n",
       "    <tr style=\"text-align: right;\">\n",
       "      <th></th>\n",
       "      <th>URG101_003</th>\n",
       "      <th>DIV101_603</th>\n",
       "      <th>DIV101_604</th>\n",
       "      <th>DIV101_703</th>\n",
       "      <th>DIV102_203</th>\n",
       "      <th>DIV103_107</th>\n",
       "      <th>DIV103_204</th>\n",
       "      <th>DIV104_602</th>\n",
       "      <th>OPR101_011</th>\n",
       "      <th>OPR101_033</th>\n",
       "      <th>OPR102_001</th>\n",
       "      <th>OPR102_003</th>\n",
       "      <th>End</th>\n",
       "      <th>Outside</th>\n",
       "    </tr>\n",
       "  </thead>\n",
       "  <tbody>\n",
       "    <tr>\n",
       "      <th>URG101_003</th>\n",
       "      <td>0.000000</td>\n",
       "      <td>0.000000</td>\n",
       "      <td>0.000000</td>\n",
       "      <td>0.000000</td>\n",
       "      <td>0.000000</td>\n",
       "      <td>0.000000</td>\n",
       "      <td>0.510204</td>\n",
       "      <td>0.826446</td>\n",
       "      <td>1.724138</td>\n",
       "      <td>2.112676</td>\n",
       "      <td>0.000000</td>\n",
       "      <td>0.657895</td>\n",
       "      <td>99.88466</td>\n",
       "      <td>0.000000</td>\n",
       "    </tr>\n",
       "    <tr>\n",
       "      <th>DIV101_603</th>\n",
       "      <td>0.000000</td>\n",
       "      <td>0.000000</td>\n",
       "      <td>0.000000</td>\n",
       "      <td>5.162738</td>\n",
       "      <td>1.408451</td>\n",
       "      <td>1.923077</td>\n",
       "      <td>0.000000</td>\n",
       "      <td>0.000000</td>\n",
       "      <td>0.000000</td>\n",
       "      <td>0.000000</td>\n",
       "      <td>0.000000</td>\n",
       "      <td>0.000000</td>\n",
       "      <td>0.00000</td>\n",
       "      <td>2.654867</td>\n",
       "    </tr>\n",
       "    <tr>\n",
       "      <th>DIV101_604</th>\n",
       "      <td>0.000000</td>\n",
       "      <td>0.000000</td>\n",
       "      <td>0.000000</td>\n",
       "      <td>6.060606</td>\n",
       "      <td>0.000000</td>\n",
       "      <td>0.000000</td>\n",
       "      <td>0.000000</td>\n",
       "      <td>0.000000</td>\n",
       "      <td>0.000000</td>\n",
       "      <td>0.000000</td>\n",
       "      <td>0.000000</td>\n",
       "      <td>0.000000</td>\n",
       "      <td>0.00000</td>\n",
       "      <td>2.433628</td>\n",
       "    </tr>\n",
       "    <tr>\n",
       "      <th>DIV101_703</th>\n",
       "      <td>99.084668</td>\n",
       "      <td>0.000000</td>\n",
       "      <td>0.000000</td>\n",
       "      <td>0.000000</td>\n",
       "      <td>0.000000</td>\n",
       "      <td>0.000000</td>\n",
       "      <td>1.020408</td>\n",
       "      <td>0.826446</td>\n",
       "      <td>1.724138</td>\n",
       "      <td>12.676056</td>\n",
       "      <td>0.000000</td>\n",
       "      <td>1.315789</td>\n",
       "      <td>0.00000</td>\n",
       "      <td>0.221239</td>\n",
       "    </tr>\n",
       "    <tr>\n",
       "      <th>DIV102_203</th>\n",
       "      <td>0.114416</td>\n",
       "      <td>1.666667</td>\n",
       "      <td>0.000000</td>\n",
       "      <td>4.040404</td>\n",
       "      <td>0.000000</td>\n",
       "      <td>0.000000</td>\n",
       "      <td>0.000000</td>\n",
       "      <td>0.000000</td>\n",
       "      <td>48.275862</td>\n",
       "      <td>0.000000</td>\n",
       "      <td>1.666667</td>\n",
       "      <td>0.000000</td>\n",
       "      <td>0.00000</td>\n",
       "      <td>0.884956</td>\n",
       "    </tr>\n",
       "    <tr>\n",
       "      <th>DIV103_107</th>\n",
       "      <td>0.000000</td>\n",
       "      <td>1.666667</td>\n",
       "      <td>0.000000</td>\n",
       "      <td>5.050505</td>\n",
       "      <td>0.000000</td>\n",
       "      <td>0.000000</td>\n",
       "      <td>0.000000</td>\n",
       "      <td>0.000000</td>\n",
       "      <td>5.172414</td>\n",
       "      <td>0.000000</td>\n",
       "      <td>1.666667</td>\n",
       "      <td>0.000000</td>\n",
       "      <td>0.00000</td>\n",
       "      <td>0.442478</td>\n",
       "    </tr>\n",
       "    <tr>\n",
       "      <th>DIV103_204</th>\n",
       "      <td>0.000000</td>\n",
       "      <td>0.000000</td>\n",
       "      <td>0.000000</td>\n",
       "      <td>11.111111</td>\n",
       "      <td>0.000000</td>\n",
       "      <td>0.000000</td>\n",
       "      <td>0.000000</td>\n",
       "      <td>0.000000</td>\n",
       "      <td>0.000000</td>\n",
       "      <td>48.591549</td>\n",
       "      <td>0.000000</td>\n",
       "      <td>9.868421</td>\n",
       "      <td>0.00000</td>\n",
       "      <td>2.876106</td>\n",
       "    </tr>\n",
       "    <tr>\n",
       "      <th>DIV104_602</th>\n",
       "      <td>0.114416</td>\n",
       "      <td>0.000000</td>\n",
       "      <td>0.000000</td>\n",
       "      <td>7.182941</td>\n",
       "      <td>0.000000</td>\n",
       "      <td>0.000000</td>\n",
       "      <td>12.755102</td>\n",
       "      <td>0.000000</td>\n",
       "      <td>1.724138</td>\n",
       "      <td>7.746479</td>\n",
       "      <td>0.000000</td>\n",
       "      <td>1.973684</td>\n",
       "      <td>0.00000</td>\n",
       "      <td>3.539823</td>\n",
       "    </tr>\n",
       "    <tr>\n",
       "      <th>OPR101_011</th>\n",
       "      <td>0.000000</td>\n",
       "      <td>0.000000</td>\n",
       "      <td>0.000000</td>\n",
       "      <td>0.000000</td>\n",
       "      <td>0.000000</td>\n",
       "      <td>0.000000</td>\n",
       "      <td>0.000000</td>\n",
       "      <td>0.826446</td>\n",
       "      <td>0.000000</td>\n",
       "      <td>0.000000</td>\n",
       "      <td>95.000000</td>\n",
       "      <td>0.000000</td>\n",
       "      <td>0.00000</td>\n",
       "      <td>0.000000</td>\n",
       "    </tr>\n",
       "    <tr>\n",
       "      <th>OPR101_033</th>\n",
       "      <td>0.000000</td>\n",
       "      <td>0.000000</td>\n",
       "      <td>0.000000</td>\n",
       "      <td>0.112233</td>\n",
       "      <td>0.000000</td>\n",
       "      <td>0.000000</td>\n",
       "      <td>4.591837</td>\n",
       "      <td>0.000000</td>\n",
       "      <td>0.000000</td>\n",
       "      <td>0.000000</td>\n",
       "      <td>0.000000</td>\n",
       "      <td>82.894737</td>\n",
       "      <td>0.00000</td>\n",
       "      <td>1.327434</td>\n",
       "    </tr>\n",
       "    <tr>\n",
       "      <th>OPR102_001</th>\n",
       "      <td>0.000000</td>\n",
       "      <td>0.000000</td>\n",
       "      <td>0.000000</td>\n",
       "      <td>0.112233</td>\n",
       "      <td>38.028169</td>\n",
       "      <td>7.692308</td>\n",
       "      <td>0.000000</td>\n",
       "      <td>0.000000</td>\n",
       "      <td>0.000000</td>\n",
       "      <td>0.000000</td>\n",
       "      <td>0.000000</td>\n",
       "      <td>0.000000</td>\n",
       "      <td>0.00000</td>\n",
       "      <td>6.194690</td>\n",
       "    </tr>\n",
       "    <tr>\n",
       "      <th>OPR102_003</th>\n",
       "      <td>0.114416</td>\n",
       "      <td>0.000000</td>\n",
       "      <td>0.000000</td>\n",
       "      <td>3.030303</td>\n",
       "      <td>0.000000</td>\n",
       "      <td>0.000000</td>\n",
       "      <td>37.244898</td>\n",
       "      <td>10.743802</td>\n",
       "      <td>0.000000</td>\n",
       "      <td>0.704225</td>\n",
       "      <td>0.000000</td>\n",
       "      <td>0.000000</td>\n",
       "      <td>0.00000</td>\n",
       "      <td>8.185841</td>\n",
       "    </tr>\n",
       "    <tr>\n",
       "      <th>End</th>\n",
       "      <td>0.114416</td>\n",
       "      <td>80.000000</td>\n",
       "      <td>78.461538</td>\n",
       "      <td>23.456790</td>\n",
       "      <td>52.112676</td>\n",
       "      <td>78.846154</td>\n",
       "      <td>34.183673</td>\n",
       "      <td>75.206612</td>\n",
       "      <td>0.000000</td>\n",
       "      <td>0.000000</td>\n",
       "      <td>0.000000</td>\n",
       "      <td>0.000000</td>\n",
       "      <td>0.00000</td>\n",
       "      <td>71.238938</td>\n",
       "    </tr>\n",
       "  </tbody>\n",
       "</table>\n",
       "</div>"
      ],
      "text/plain": [
       "            URG101_003  DIV101_603  DIV101_604  DIV101_703  DIV102_203  \\\n",
       "URG101_003    0.000000    0.000000    0.000000    0.000000    0.000000   \n",
       "DIV101_603    0.000000    0.000000    0.000000    5.162738    1.408451   \n",
       "DIV101_604    0.000000    0.000000    0.000000    6.060606    0.000000   \n",
       "DIV101_703   99.084668    0.000000    0.000000    0.000000    0.000000   \n",
       "DIV102_203    0.114416    1.666667    0.000000    4.040404    0.000000   \n",
       "DIV103_107    0.000000    1.666667    0.000000    5.050505    0.000000   \n",
       "DIV103_204    0.000000    0.000000    0.000000   11.111111    0.000000   \n",
       "DIV104_602    0.114416    0.000000    0.000000    7.182941    0.000000   \n",
       "OPR101_011    0.000000    0.000000    0.000000    0.000000    0.000000   \n",
       "OPR101_033    0.000000    0.000000    0.000000    0.112233    0.000000   \n",
       "OPR102_001    0.000000    0.000000    0.000000    0.112233   38.028169   \n",
       "OPR102_003    0.114416    0.000000    0.000000    3.030303    0.000000   \n",
       "End           0.114416   80.000000   78.461538   23.456790   52.112676   \n",
       "\n",
       "            DIV103_107  DIV103_204  DIV104_602  OPR101_011  OPR101_033  \\\n",
       "URG101_003    0.000000    0.510204    0.826446    1.724138    2.112676   \n",
       "DIV101_603    1.923077    0.000000    0.000000    0.000000    0.000000   \n",
       "DIV101_604    0.000000    0.000000    0.000000    0.000000    0.000000   \n",
       "DIV101_703    0.000000    1.020408    0.826446    1.724138   12.676056   \n",
       "DIV102_203    0.000000    0.000000    0.000000   48.275862    0.000000   \n",
       "DIV103_107    0.000000    0.000000    0.000000    5.172414    0.000000   \n",
       "DIV103_204    0.000000    0.000000    0.000000    0.000000   48.591549   \n",
       "DIV104_602    0.000000   12.755102    0.000000    1.724138    7.746479   \n",
       "OPR101_011    0.000000    0.000000    0.826446    0.000000    0.000000   \n",
       "OPR101_033    0.000000    4.591837    0.000000    0.000000    0.000000   \n",
       "OPR102_001    7.692308    0.000000    0.000000    0.000000    0.000000   \n",
       "OPR102_003    0.000000   37.244898   10.743802    0.000000    0.704225   \n",
       "End          78.846154   34.183673   75.206612    0.000000    0.000000   \n",
       "\n",
       "            OPR102_001  OPR102_003       End    Outside  \n",
       "URG101_003    0.000000    0.657895  99.88466   0.000000  \n",
       "DIV101_603    0.000000    0.000000   0.00000   2.654867  \n",
       "DIV101_604    0.000000    0.000000   0.00000   2.433628  \n",
       "DIV101_703    0.000000    1.315789   0.00000   0.221239  \n",
       "DIV102_203    1.666667    0.000000   0.00000   0.884956  \n",
       "DIV103_107    1.666667    0.000000   0.00000   0.442478  \n",
       "DIV103_204    0.000000    9.868421   0.00000   2.876106  \n",
       "DIV104_602    0.000000    1.973684   0.00000   3.539823  \n",
       "OPR101_011   95.000000    0.000000   0.00000   0.000000  \n",
       "OPR101_033    0.000000   82.894737   0.00000   1.327434  \n",
       "OPR102_001    0.000000    0.000000   0.00000   6.194690  \n",
       "OPR102_003    0.000000    0.000000   0.00000   8.185841  \n",
       "End           0.000000    0.000000   0.00000  71.238938  "
      ]
     },
     "execution_count": 32,
     "metadata": {},
     "output_type": "execute_result"
    }
   ],
   "source": [
    "df_heatmap.fillna(0)"
   ]
  },
  {
   "cell_type": "code",
   "execution_count": 33,
   "metadata": {},
   "outputs": [
    {
     "data": {
      "text/plain": [
       "<AxesSubplot:>"
      ]
     },
     "execution_count": 33,
     "metadata": {},
     "output_type": "execute_result"
    },
    {
     "data": {
      "image/png": "[encoded data removed]",
      "text/plain": [
       "<Figure size 432x288 with 2 Axes>"
      ]
     },
     "metadata": {
      "needs_background": "light"
     },
     "output_type": "display_data"
    }
   ],
   "source": [
    "import seaborn as sns\n",
    "sns.heatmap(df_heatmap.T,annot = False,cmap = \"YlOrRd\")"
   ]
  },
  {
   "cell_type": "markdown",
   "metadata": {},
   "source": [
    "# Pacientes por día"
   ]
  },
  {
   "cell_type": "code",
   "execution_count": 34,
   "metadata": {},
   "outputs": [],
   "source": [
    "salas_div  = areas_mapa_profe[:-5]"
   ]
  },
  {
   "cell_type": "code",
   "execution_count": 35,
   "metadata": {},
   "outputs": [
    {
     "name": "stdout",
     "output_type": "stream",
     "text": [
      "Media de estadia en div (suma) 17.17735714285716\n"
     ]
    }
   ],
   "source": [
    "estadias_div = []\n",
    "for paciente in set_pacientes :\n",
    "    info_pacientes = datos_pacientes[datos_pacientes[\"Case ID\"] == paciente]\n",
    "    info_hospitalizacion = info_pacientes[info_pacientes[\"Area\"].isin(salas_div)]\n",
    "    estadia = np.sum(info_pacientes[\"Estadia\"])\n",
    "    estadias_div.append(estadia)\n",
    "estadia_serie = pd.Series(estadias_div)\n",
    "estadia_serie = estadia_serie[(estadia_serie >0)]\n",
    "print(\"Media de estadia en div (suma)\",estadia_serie.mean())"
   ]
  },
  {
   "cell_type": "code",
   "execution_count": 36,
   "metadata": {},
   "outputs": [],
   "source": [
    "import datetime"
   ]
  },
  {
   "cell_type": "code",
   "execution_count": 37,
   "metadata": {},
   "outputs": [],
   "source": [
    "def convertir_fecha(date):\n",
    "    fecha = datetime.datetime.strftime(date,\"%Y-%m-%d\")\n",
    "    return fecha"
   ]
  },
  {
   "cell_type": "code",
   "execution_count": 38,
   "metadata": {},
   "outputs": [
    {
     "data": {
      "text/html": [
       "<div>\n",
       "<style scoped>\n",
       "    .dataframe tbody tr th:only-of-type {\n",
       "        vertical-align: middle;\n",
       "    }\n",
       "\n",
       "    .dataframe tbody tr th {\n",
       "        vertical-align: top;\n",
       "    }\n",
       "\n",
       "    .dataframe thead th {\n",
       "        text-align: right;\n",
       "    }\n",
       "</style>\n",
       "<table border=\"1\" class=\"dataframe\">\n",
       "  <thead>\n",
       "    <tr style=\"text-align: right;\">\n",
       "      <th></th>\n",
       "      <th>Entrada</th>\n",
       "      <th>Salida</th>\n",
       "      <th>Duracion</th>\n",
       "      <th>Ruta</th>\n",
       "      <th>Hora entrada</th>\n",
       "      <th>Fecha_entrada</th>\n",
       "    </tr>\n",
       "  </thead>\n",
       "  <tbody>\n",
       "    <tr>\n",
       "      <th>14817280</th>\n",
       "      <td>2018-03-30 18:14:00</td>\n",
       "      <td>2018-03-30 22:06:00</td>\n",
       "      <td>3.866667</td>\n",
       "      <td>URG101_003DIV101_703DIV103_204End</td>\n",
       "      <td>18</td>\n",
       "      <td>2018-03-30</td>\n",
       "    </tr>\n",
       "    <tr>\n",
       "      <th>14931970</th>\n",
       "      <td>2018-05-13 16:37:00</td>\n",
       "      <td>2018-05-14 00:14:00</td>\n",
       "      <td>7.616667</td>\n",
       "      <td>URG101_003DIV101_703DIV102_203OPR102_001OPR101...</td>\n",
       "      <td>16</td>\n",
       "      <td>2018-05-13</td>\n",
       "    </tr>\n",
       "    <tr>\n",
       "      <th>14888963</th>\n",
       "      <td>2018-04-25 16:06:00</td>\n",
       "      <td>2018-04-26 12:26:00</td>\n",
       "      <td>20.333333</td>\n",
       "      <td>URG101_003DIV101_703OutsideEnd</td>\n",
       "      <td>16</td>\n",
       "      <td>2018-04-25</td>\n",
       "    </tr>\n",
       "    <tr>\n",
       "      <th>14696460</th>\n",
       "      <td>2018-02-15 12:04:00</td>\n",
       "      <td>2018-02-16 15:55:00</td>\n",
       "      <td>27.85</td>\n",
       "      <td>URG101_003DIV101_703DIV101_604End</td>\n",
       "      <td>12</td>\n",
       "      <td>2018-02-15</td>\n",
       "    </tr>\n",
       "    <tr>\n",
       "      <th>14579725</th>\n",
       "      <td>2018-01-04 21:05:00</td>\n",
       "      <td>2018-01-04 22:46:00</td>\n",
       "      <td>1.683333</td>\n",
       "      <td>URG101_003DIV101_703End</td>\n",
       "      <td>21</td>\n",
       "      <td>2018-01-04</td>\n",
       "    </tr>\n",
       "    <tr>\n",
       "      <th>...</th>\n",
       "      <td>...</td>\n",
       "      <td>...</td>\n",
       "      <td>...</td>\n",
       "      <td>...</td>\n",
       "      <td>...</td>\n",
       "      <td>...</td>\n",
       "    </tr>\n",
       "    <tr>\n",
       "      <th>14888950</th>\n",
       "      <td>2018-04-25 17:31:00</td>\n",
       "      <td>2018-05-15 14:18:00</td>\n",
       "      <td>476.783333</td>\n",
       "      <td>URG101_003DIV101_703OutsideDIV101_603End</td>\n",
       "      <td>17</td>\n",
       "      <td>2018-04-25</td>\n",
       "    </tr>\n",
       "    <tr>\n",
       "      <th>14682104</th>\n",
       "      <td>2018-02-08 14:27:00</td>\n",
       "      <td>2018-02-09 13:53:00</td>\n",
       "      <td>23.433333</td>\n",
       "      <td>URG101_003DIV101_703DIV104_602End</td>\n",
       "      <td>14</td>\n",
       "      <td>2018-02-08</td>\n",
       "    </tr>\n",
       "    <tr>\n",
       "      <th>14716923</th>\n",
       "      <td>2018-02-23 10:13:00</td>\n",
       "      <td>2018-02-23 18:39:00</td>\n",
       "      <td>8.433333</td>\n",
       "      <td>URG101_003DIV101_703End</td>\n",
       "      <td>10</td>\n",
       "      <td>2018-02-23</td>\n",
       "    </tr>\n",
       "    <tr>\n",
       "      <th>14716925</th>\n",
       "      <td>2018-02-23 17:47:00</td>\n",
       "      <td>2018-02-24 14:22:00</td>\n",
       "      <td>20.583333</td>\n",
       "      <td>URG101_003DIV101_703OutsideEnd</td>\n",
       "      <td>17</td>\n",
       "      <td>2018-02-23</td>\n",
       "    </tr>\n",
       "    <tr>\n",
       "      <th>14870527</th>\n",
       "      <td>2018-04-18 20:37:00</td>\n",
       "      <td>2018-04-19 11:14:00</td>\n",
       "      <td>14.616667</td>\n",
       "      <td>URG101_003DIV101_703DIV104_602End</td>\n",
       "      <td>20</td>\n",
       "      <td>2018-04-18</td>\n",
       "    </tr>\n",
       "  </tbody>\n",
       "</table>\n",
       "<p>867 rows × 6 columns</p>\n",
       "</div>"
      ],
      "text/plain": [
       "                     Entrada              Salida    Duracion  \\\n",
       "14817280 2018-03-30 18:14:00 2018-03-30 22:06:00    3.866667   \n",
       "14931970 2018-05-13 16:37:00 2018-05-14 00:14:00    7.616667   \n",
       "14888963 2018-04-25 16:06:00 2018-04-26 12:26:00   20.333333   \n",
       "14696460 2018-02-15 12:04:00 2018-02-16 15:55:00       27.85   \n",
       "14579725 2018-01-04 21:05:00 2018-01-04 22:46:00    1.683333   \n",
       "...                      ...                 ...         ...   \n",
       "14888950 2018-04-25 17:31:00 2018-05-15 14:18:00  476.783333   \n",
       "14682104 2018-02-08 14:27:00 2018-02-09 13:53:00   23.433333   \n",
       "14716923 2018-02-23 10:13:00 2018-02-23 18:39:00    8.433333   \n",
       "14716925 2018-02-23 17:47:00 2018-02-24 14:22:00   20.583333   \n",
       "14870527 2018-04-18 20:37:00 2018-04-19 11:14:00   14.616667   \n",
       "\n",
       "                                                       Ruta  Hora entrada  \\\n",
       "14817280                  URG101_003DIV101_703DIV103_204End            18   \n",
       "14931970  URG101_003DIV101_703DIV102_203OPR102_001OPR101...            16   \n",
       "14888963                     URG101_003DIV101_703OutsideEnd            16   \n",
       "14696460                  URG101_003DIV101_703DIV101_604End            12   \n",
       "14579725                            URG101_003DIV101_703End            21   \n",
       "...                                                     ...           ...   \n",
       "14888950           URG101_003DIV101_703OutsideDIV101_603End            17   \n",
       "14682104                  URG101_003DIV101_703DIV104_602End            14   \n",
       "14716923                            URG101_003DIV101_703End            10   \n",
       "14716925                     URG101_003DIV101_703OutsideEnd            17   \n",
       "14870527                  URG101_003DIV101_703DIV104_602End            20   \n",
       "\n",
       "         Fecha_entrada  \n",
       "14817280    2018-03-30  \n",
       "14931970    2018-05-13  \n",
       "14888963    2018-04-25  \n",
       "14696460    2018-02-15  \n",
       "14579725    2018-01-04  \n",
       "...                ...  \n",
       "14888950    2018-04-25  \n",
       "14682104    2018-02-08  \n",
       "14716923    2018-02-23  \n",
       "14716925    2018-02-23  \n",
       "14870527    2018-04-18  \n",
       "\n",
       "[867 rows x 6 columns]"
      ]
     },
     "execution_count": 38,
     "metadata": {},
     "output_type": "execute_result"
    }
   ],
   "source": [
    "df_info_pacientes[\"Fecha_entrada\"] = [convertir_fecha(df_info_pacientes[\"Entrada\"].iloc[i]) for i in range(df_info_pacientes[\"Entrada\"].shape[0])]\n",
    "\n",
    "df_info_pacientes"
   ]
  },
  {
   "cell_type": "code",
   "execution_count": 39,
   "metadata": {},
   "outputs": [
    {
     "data": {
      "image/png": "[encoded data removed]",
      "text/plain": [
       "<Figure size 432x288 with 1 Axes>"
      ]
     },
     "metadata": {
      "needs_background": "light"
     },
     "output_type": "display_data"
    }
   ],
   "source": [
    "hist = df_info_pacientes[\"Fecha_entrada\"].value_counts().plot.hist()\n"
   ]
  },
  {
   "cell_type": "code",
   "execution_count": 40,
   "metadata": {},
   "outputs": [
    {
     "name": "stdout",
     "output_type": "stream",
     "text": [
      "Match\n",
      "Match\n",
      "Match\n",
      "Match\n",
      "Match\n",
      "Match\n",
      "Match\n",
      "Match\n",
      "Match\n",
      "Match\n",
      "Match\n",
      "Match\n",
      "Match\n",
      "Match\n",
      "Match\n",
      "Match\n",
      "Match\n",
      "Match\n",
      "Match\n",
      "Match\n",
      "Match\n",
      "Match\n",
      "Match\n",
      "Match\n",
      "Match\n",
      "Match\n",
      "Match\n",
      "Match\n",
      "Match\n",
      "Match\n",
      "Match\n",
      "Match\n",
      "Match\n",
      "Match\n",
      "Match\n",
      "Match\n",
      "Match\n",
      "Match\n",
      "Match\n",
      "Match\n",
      "Match\n",
      "Match\n",
      "Match\n",
      "Match\n",
      "Match\n",
      "Match\n",
      "Match\n",
      "Match\n",
      "Match\n",
      "Match\n",
      "Match\n",
      "Match\n",
      "Match\n",
      "Match\n",
      "Match\n",
      "Match\n",
      "Match\n",
      "Match\n",
      "Match\n",
      "Match\n",
      "Match\n",
      "Match\n",
      "Match\n",
      "Match\n",
      "Match\n",
      "Match\n",
      "Match\n",
      "Match\n",
      "Match\n",
      "Match\n",
      "Match\n",
      "Match\n",
      "Match\n",
      "Match\n",
      "Match\n",
      "Match\n",
      "Match\n",
      "Match\n",
      "Match\n",
      "Match\n",
      "Match\n",
      "Match\n",
      "Match\n",
      "Match\n",
      "Match\n",
      "Match\n",
      "Match\n",
      "Match\n",
      "Match\n",
      "Match\n",
      "Match\n",
      "Match\n",
      "Match\n",
      "Match\n",
      "Match\n",
      "Match\n",
      "Match\n",
      "Match\n",
      "Match\n",
      "Match\n",
      "Match\n",
      "Match\n",
      "Match\n",
      "Match\n",
      "Match\n",
      "Match\n",
      "Match\n",
      "Match\n",
      "Match\n",
      "Match\n",
      "Match\n",
      "Match\n",
      "Match\n",
      "Match\n",
      "Match\n",
      "Match\n",
      "Match\n",
      "Match\n",
      "Match\n",
      "Match\n",
      "Match\n",
      "Match\n",
      "Match\n",
      "Match\n",
      "Match\n",
      "Match\n",
      "Match\n",
      "Match\n",
      "Match\n",
      "Match\n",
      "Match\n",
      "Match\n",
      "Match\n",
      "Match\n",
      "Match\n",
      "Match\n",
      "Match\n",
      "Match\n",
      "Match\n",
      "Match\n",
      "Match\n",
      "Match\n",
      "Match\n",
      "Match\n",
      "Match\n",
      "Match\n",
      "Match\n",
      "Match\n",
      "Match\n",
      "Match\n",
      "Match\n",
      "Match\n",
      "Match\n",
      "Match\n",
      "Match\n",
      "Match\n",
      "Match\n",
      "Match\n",
      "Match\n",
      "Match\n",
      "Match\n",
      "Match\n",
      "Match\n",
      "Match\n",
      "Match\n",
      "Match\n",
      "Match\n",
      "Match\n",
      "Match\n",
      "Match\n",
      "Match\n",
      "Match\n",
      "Match\n",
      "Match\n",
      "Match\n",
      "Match\n",
      "Match\n",
      "Match\n",
      "Match\n",
      "Match\n",
      "Match\n",
      "Match\n",
      "Match\n",
      "Match\n",
      "Match\n",
      "Match\n",
      "Match\n",
      "Match\n",
      "Match\n",
      "Match\n",
      "Match\n",
      "Match\n",
      "Match\n",
      "Match\n",
      "Match\n",
      "Match\n",
      "Match\n",
      "Match\n",
      "Match\n",
      "Match\n",
      "Match\n",
      "Match\n",
      "Match\n",
      "Match\n",
      "Match\n",
      "Match\n",
      "Match\n",
      "Match\n",
      "Match\n",
      "Match\n",
      "Match\n",
      "Match\n",
      "Match\n",
      "Match\n",
      "Match\n",
      "Match\n",
      "Match\n",
      "Match\n",
      "Match\n",
      "Match\n",
      "Match\n",
      "Match\n",
      "Match\n",
      "Match\n",
      "Match\n",
      "Match\n",
      "Match\n",
      "Match\n",
      "Match\n",
      "Match\n",
      "Match\n",
      "Match\n",
      "Match\n",
      "Match\n",
      "Match\n",
      "Match\n",
      "Match\n",
      "Match\n",
      "Match\n",
      "Match\n",
      "Match\n",
      "Match\n",
      "Match\n",
      "Match\n",
      "Match\n",
      "Match\n",
      "Match\n",
      "Match\n",
      "Match\n",
      "Match\n",
      "Match\n",
      "Match\n",
      "Match\n",
      "Match\n",
      "Match\n",
      "Match\n",
      "Match\n",
      "Match\n",
      "Match\n",
      "Match\n",
      "Match\n",
      "Match\n",
      "Match\n",
      "Match\n",
      "Match\n",
      "Match\n",
      "Match\n",
      "Match\n",
      "Match\n",
      "Match\n",
      "Match\n",
      "Match\n",
      "Match\n",
      "Match\n",
      "Match\n",
      "Match\n",
      "Match\n",
      "Match\n",
      "Match\n",
      "Match\n",
      "Match\n",
      "Match\n",
      "Match\n",
      "Match\n",
      "Match\n",
      "Match\n",
      "Match\n",
      "Match\n",
      "Match\n",
      "Match\n",
      "Match\n",
      "Match\n",
      "Match\n",
      "Match\n",
      "Match\n",
      "Match\n",
      "Match\n",
      "Match\n",
      "Match\n",
      "Match\n",
      "Match\n",
      "Match\n",
      "Match\n",
      "Match\n",
      "Match\n",
      "Match\n",
      "Match\n",
      "Match\n",
      "Match\n",
      "Match\n",
      "Match\n",
      "Match\n",
      "Match\n",
      "Match\n",
      "Match\n",
      "Match\n",
      "Match\n",
      "Match\n",
      "Match\n",
      "Match\n",
      "Match\n",
      "Match\n",
      "Match\n",
      "Match\n",
      "Match\n",
      "Match\n",
      "Match\n",
      "Match\n",
      "Match\n",
      "Match\n",
      "Match\n",
      "Match\n",
      "Match\n",
      "Match\n",
      "Match\n",
      "Match\n",
      "Match\n",
      "Match\n",
      "Match\n",
      "Match\n",
      "Match\n",
      "Match\n",
      "Match\n",
      "Match\n",
      "Match\n",
      "Match\n",
      "Match\n",
      "Match\n",
      "Match\n",
      "Match\n",
      "Match\n",
      "Match\n",
      "Match\n",
      "Match\n",
      "Match\n",
      "Match\n",
      "Match\n",
      "Match\n",
      "Match\n",
      "Match\n",
      "Match\n",
      "Match\n",
      "Match\n",
      "Match\n",
      "Match\n",
      "Match\n",
      "Match\n",
      "Match\n",
      "Match\n",
      "Match\n",
      "Match\n",
      "Match\n",
      "Match\n",
      "Match\n",
      "Match\n",
      "Match\n",
      "Match\n",
      "Match\n",
      "Match\n",
      "Match\n",
      "Match\n",
      "Match\n",
      "Match\n",
      "Match\n",
      "Match\n",
      "Match\n",
      "Match\n",
      "Match\n",
      "Match\n",
      "Match\n",
      "Match\n",
      "Match\n",
      "Match\n",
      "Match\n",
      "Match\n",
      "Match\n",
      "Match\n",
      "Match\n",
      "Match\n",
      "Match\n",
      "Match\n",
      "Match\n",
      "Match\n",
      "Match\n",
      "Match\n",
      "Match\n",
      "Match\n",
      "Match\n",
      "Match\n",
      "Match\n",
      "Match\n",
      "Match\n",
      "Match\n",
      "Match\n",
      "Match\n",
      "Match\n",
      "Match\n",
      "Match\n",
      "Match\n",
      "Match\n",
      "Match\n",
      "Match\n",
      "Match\n",
      "Match\n",
      "Match\n",
      "Match\n",
      "Match\n",
      "Match\n",
      "Match\n",
      "Match\n",
      "Match\n",
      "Match\n",
      "Match\n",
      "Match\n",
      "Match\n",
      "Match\n",
      "Match\n",
      "Match\n",
      "Match\n",
      "Match\n",
      "Match\n",
      "Match\n",
      "Match\n",
      "Match\n",
      "Match\n",
      "Match\n",
      "Match\n",
      "Match\n",
      "Match\n",
      "Match\n",
      "Match\n",
      "Match\n",
      "Match\n",
      "Match\n",
      "Match\n",
      "Match\n",
      "Match\n",
      "Match\n",
      "Match\n",
      "Match\n",
      "Match\n",
      "Match\n",
      "Match\n",
      "Match\n",
      "Match\n",
      "Match\n",
      "Match\n",
      "Match\n",
      "Match\n",
      "Match\n",
      "Match\n",
      "Match\n",
      "Match\n",
      "Match\n",
      "Match\n",
      "Match\n",
      "Match\n",
      "Match\n",
      "Match\n",
      "Match\n",
      "Match\n",
      "Match\n",
      "Match\n",
      "Match\n",
      "Match\n",
      "Match\n",
      "Match\n",
      "Match\n",
      "Match\n",
      "Match\n",
      "Match\n",
      "Match\n",
      "Match\n",
      "Match\n",
      "Match\n",
      "Match\n",
      "Match\n",
      "Match\n",
      "Match\n",
      "Match\n",
      "Match\n",
      "Match\n",
      "Match\n",
      "Match\n",
      "Match\n",
      "Match\n",
      "Match\n",
      "Match\n",
      "Match\n",
      "Match\n",
      "Match\n",
      "Match\n",
      "Match\n",
      "Match\n",
      "Match\n",
      "Match\n",
      "Match\n",
      "Match\n",
      "Match\n",
      "Match\n",
      "Match\n",
      "Match\n",
      "Match\n",
      "Match\n",
      "Match\n",
      "Match\n",
      "Match\n",
      "Match\n",
      "Match\n",
      "Match\n",
      "Match\n",
      "Match\n",
      "Match\n",
      "Match\n",
      "Match\n",
      "Match\n",
      "Match\n",
      "Match\n",
      "Match\n",
      "Match\n",
      "Match\n",
      "Match\n",
      "Match\n",
      "Match\n",
      "Match\n",
      "Match\n",
      "Match\n",
      "Match\n",
      "Match\n",
      "Match\n",
      "Match\n",
      "Match\n",
      "Match\n",
      "Match\n",
      "Match\n",
      "Match\n",
      "Match\n",
      "Match\n",
      "Match\n",
      "Match\n",
      "Match\n",
      "Match\n",
      "Match\n",
      "Match\n",
      "Match\n",
      "Match\n",
      "Match\n",
      "Match\n",
      "Match\n",
      "Match\n",
      "Match\n",
      "Match\n",
      "Match\n",
      "Match\n",
      "Match\n",
      "Match\n",
      "Match\n",
      "Match\n",
      "Match\n",
      "Match\n",
      "Match\n",
      "Match\n",
      "Match\n",
      "Match\n",
      "Match\n",
      "Match\n",
      "Match\n",
      "Match\n",
      "Match\n",
      "Match\n",
      "Match\n",
      "Match\n",
      "Match\n",
      "Match\n",
      "Match\n",
      "Match\n",
      "Match\n",
      "Match\n",
      "Match\n",
      "Match\n",
      "Match\n",
      "Match\n",
      "Match\n",
      "Match\n",
      "Match\n",
      "Match\n",
      "Match\n",
      "Match\n",
      "Match\n",
      "Match\n",
      "Match\n",
      "Match\n",
      "Match\n",
      "Match\n",
      "Match\n",
      "Match\n",
      "Match\n",
      "Match\n",
      "Match\n",
      "Match\n",
      "Match\n",
      "Match\n",
      "Match\n",
      "Match\n",
      "Match\n",
      "Match\n",
      "Match\n",
      "Match\n",
      "Match\n",
      "Match\n",
      "Match\n",
      "Match\n",
      "Match\n",
      "Match\n",
      "Match\n",
      "Match\n",
      "Match\n",
      "Match\n",
      "Match\n",
      "Match\n",
      "Match\n",
      "Match\n",
      "Match\n",
      "Match\n",
      "Match\n",
      "Match\n",
      "Match\n",
      "Match\n",
      "Match\n",
      "Match\n",
      "Match\n",
      "Match\n",
      "Match\n",
      "Match\n",
      "Match\n",
      "Match\n",
      "Match\n",
      "Match\n",
      "Match\n",
      "Match\n",
      "Match\n",
      "Match\n",
      "Match\n",
      "Match\n",
      "Match\n",
      "Match\n",
      "Match\n",
      "Match\n",
      "Match\n",
      "Match\n",
      "Match\n",
      "Match\n",
      "Match\n",
      "Match\n",
      "Match\n",
      "Match\n",
      "Match\n",
      "Match\n",
      "Match\n",
      "Match\n",
      "Match\n",
      "Match\n",
      "Match\n",
      "Match\n",
      "Match\n",
      "Match\n",
      "Match\n",
      "Match\n",
      "Match\n",
      "Match\n",
      "Match\n",
      "Match\n",
      "Match\n",
      "Match\n",
      "Match\n",
      "Match\n",
      "Match\n",
      "Match\n",
      "Match\n",
      "Match\n",
      "Match\n",
      "Match\n",
      "Match\n",
      "Match\n",
      "Match\n",
      "Match\n",
      "Match\n",
      "Match\n",
      "Match\n",
      "Match\n",
      "Match\n",
      "Match\n",
      "Match\n",
      "Match\n",
      "Match\n",
      "Match\n",
      "Match\n",
      "Match\n",
      "Match\n",
      "Match\n",
      "Match\n",
      "Match\n",
      "Match\n",
      "Match\n",
      "Match\n",
      "Match\n",
      "Match\n",
      "Match\n",
      "Match\n",
      "Match\n",
      "Match\n",
      "Match\n",
      "Match\n",
      "Match\n",
      "Match\n",
      "Match\n",
      "Match\n",
      "Match\n",
      "Match\n",
      "Match\n",
      "Match\n",
      "Match\n",
      "Match\n",
      "Match\n",
      "Match\n",
      "Match\n",
      "Match\n",
      "Match\n",
      "Match\n",
      "Match\n",
      "Match\n",
      "Match\n",
      "Match\n",
      "Match\n",
      "Match\n",
      "Match\n",
      "Match\n",
      "Match\n",
      "Match\n",
      "Match\n",
      "Match\n",
      "Match\n",
      "Match\n",
      "Match\n",
      "Match\n",
      "Match\n",
      "Match\n",
      "Match\n",
      "Match\n",
      "Match\n",
      "Match\n",
      "Match\n",
      "Match\n",
      "Match\n",
      "Match\n",
      "Match\n",
      "Match\n",
      "Match\n",
      "Match\n",
      "Match\n",
      "Match\n",
      "Match\n",
      "Match\n",
      "Match\n",
      "Match\n",
      "Match\n",
      "Match\n",
      "Match\n",
      "Match\n",
      "Match\n",
      "Match\n",
      "Match\n",
      "Match\n",
      "Match\n",
      "Match\n",
      "Match\n",
      "Match\n",
      "Match\n",
      "Match\n",
      "Match\n",
      "Match\n",
      "Match\n",
      "Match\n",
      "Match\n",
      "Match\n",
      "Match\n",
      "Match\n",
      "Match\n",
      "Match\n",
      "Match\n",
      "Match\n",
      "Match\n",
      "Match\n",
      "Match\n",
      "Match\n",
      "Match\n",
      "Match\n",
      "Match\n",
      "Match\n",
      "Match\n",
      "Match\n",
      "Match\n",
      "Match\n",
      "Match\n",
      "Match\n",
      "Match\n",
      "Match\n",
      "Match\n",
      "Match\n",
      "Match\n",
      "Match\n",
      "Match\n",
      "Match\n",
      "Match\n",
      "Match\n",
      "Match\n",
      "Match\n",
      "Match\n",
      "Match\n",
      "Match\n",
      "Match\n",
      "Match\n",
      "Match\n",
      "Match\n",
      "Match\n",
      "Match\n",
      "Match\n",
      "Match\n",
      "Match\n",
      "Match\n",
      "Match\n",
      "Match\n",
      "Match\n",
      "Match\n",
      "Match\n",
      "Match\n",
      "Match\n",
      "Match\n",
      "Match\n",
      "Match\n",
      "Match\n",
      "Match\n",
      "Match\n",
      "Match\n",
      "Match\n",
      "Match\n",
      "Match\n"
     ]
    }
   ],
   "source": [
    "datos_atencion_urg = pd.read_csv(\"Datos_atencion_urg.csv\")\n",
    "ids_atencion = datos_atencion_urg[\"ID\"]\n",
    "set_atencion_urg = set(ids_atencion)\n",
    "for paciente in set_pacientes:\n",
    "    if paciente not in set_atencion_urg:\n",
    "        print(\"Match\")"
   ]
  },
  {
   "cell_type": "code",
   "execution_count": 41,
   "metadata": {},
   "outputs": [
    {
     "ename": "AttributeError",
     "evalue": "module 'matplotlib.pyplot' has no attribute 'set_title'",
     "output_type": "error",
     "traceback": [
      "\u001b[0;31m---------------------------------------------------------------------------\u001b[0m",
      "\u001b[0;31mAttributeError\u001b[0m                            Traceback (most recent call last)",
      "\u001b[0;32m<ipython-input-41-386f6d0c9659>\u001b[0m in \u001b[0;36m<module>\u001b[0;34m\u001b[0m\n\u001b[1;32m      4\u001b[0m \u001b[0mf\u001b[0m\u001b[0;34m.\u001b[0m\u001b[0mfit\u001b[0m\u001b[0;34m(\u001b[0m\u001b[0;34m)\u001b[0m\u001b[0;34m\u001b[0m\u001b[0;34m\u001b[0m\u001b[0m\n\u001b[1;32m      5\u001b[0m \u001b[0mhist\u001b[0m \u001b[0;34m=\u001b[0m \u001b[0mf\u001b[0m\u001b[0;34m.\u001b[0m\u001b[0msummary\u001b[0m\u001b[0;34m(\u001b[0m\u001b[0;34m)\u001b[0m\u001b[0;34m\u001b[0m\u001b[0;34m\u001b[0m\u001b[0m\n\u001b[0;32m----> 6\u001b[0;31m \u001b[0mplt\u001b[0m\u001b[0;34m.\u001b[0m\u001b[0mset_title\u001b[0m\u001b[0;34m(\u001b[0m\u001b[0;34m\"Estadia en URG101_003 distribución ajustada\"\u001b[0m\u001b[0;34m)\u001b[0m\u001b[0;34m\u001b[0m\u001b[0;34m\u001b[0m\u001b[0m\n\u001b[0m\u001b[1;32m      7\u001b[0m \u001b[0mplt\u001b[0m\u001b[0;34m.\u001b[0m\u001b[0mset_xlabel\u001b[0m\u001b[0;34m(\u001b[0m\u001b[0;34m\"Horas\"\u001b[0m\u001b[0;34m)\u001b[0m\u001b[0;34m\u001b[0m\u001b[0;34m\u001b[0m\u001b[0m\n",
      "\u001b[0;31mAttributeError\u001b[0m: module 'matplotlib.pyplot' has no attribute 'set_title'"
     ]
    },
    {
     "data": {
      "image/png": "[encoded data removed]",
      "text/plain": [
       "<Figure size 432x288 with 1 Axes>"
      ]
     },
     "metadata": {
      "needs_background": "light"
     },
     "output_type": "display_data"
    }
   ],
   "source": [
    "estadia = datos_pacientes[datos_pacientes[\"Area\"] == \"URG101_003\"][\"Estadia\"]\n",
    "estadia = np.array(estadia)\n",
    "f = Fitter(estadia,distributions = [\"beta\"])\n",
    "f.fit()\n",
    "hist = f.summary()\n",
    "plt.set_title(\"Estadia en URG101_003 distribución ajustada\")\n",
    "plt.set_xlabel(\"Horas\")"
   ]
  },
  {
   "cell_type": "code",
   "execution_count": null,
   "metadata": {},
   "outputs": [],
   "source": [
    "help(Fitter.summary)"
   ]
  },
  {
   "cell_type": "markdown",
   "metadata": {},
   "source": [
    "# Ajuste de distribuciones de estadias OPR, DIV y URG"
   ]
  },
  {
   "cell_type": "markdown",
   "metadata": {},
   "source": [
    "### Distribución Operaciones"
   ]
  },
  {
   "cell_type": "code",
   "execution_count": 63,
   "metadata": {},
   "outputs": [
    {
     "data": {
      "text/plain": [
       "OPR102_003    152\n",
       "OPR101_033    142\n",
       "OPR102_001     60\n",
       "OPR101_011     58\n",
       "Name: SALA OPERACIONES, dtype: int64"
      ]
     },
     "execution_count": 63,
     "metadata": {},
     "output_type": "execute_result"
    }
   ],
   "source": [
    "datos_operaciones['SALA OPERACIONES'].value_counts()"
   ]
  },
  {
   "cell_type": "code",
   "execution_count": 64,
   "metadata": {},
   "outputs": [
    {
     "name": "stdout",
     "output_type": "stream",
     "text": [
      "Cantidad de datos de estadias en operaciones 412\n",
      "2.4310679611650494\n"
     ]
    },
    {
     "data": {
      "text/plain": [
       "{'whiskers': [<matplotlib.lines.Line2D at 0x7fa330dbf6d0>,\n",
       "  <matplotlib.lines.Line2D at 0x7fa330b44730>],\n",
       " 'caps': [<matplotlib.lines.Line2D at 0x7fa330dbf940>,\n",
       "  <matplotlib.lines.Line2D at 0x7fa330dbfc10>],\n",
       " 'boxes': [<matplotlib.lines.Line2D at 0x7fa330dbf3a0>],\n",
       " 'medians': [<matplotlib.lines.Line2D at 0x7fa330dbfee0>],\n",
       " 'fliers': [<matplotlib.lines.Line2D at 0x7fa330dd41f0>],\n",
       " 'means': []}"
      ]
     },
     "execution_count": 64,
     "metadata": {},
     "output_type": "execute_result"
    },
    {
     "data": {
      "image/png": "[encoded data removed]",
      "text/plain": [
       "<Figure size 432x288 with 1 Axes>"
      ]
     },
     "metadata": {
      "needs_background": "light"
     },
     "output_type": "display_data"
    }
   ],
   "source": [
    "estadias_opr = datos_operaciones['DURACION (hrs)']\n",
    "print(f'Cantidad de datos de estadias en operaciones {len(datos_operaciones)}')\n",
    "print(np.mean(estadias_opr))\n",
    "plt.boxplot(estadias_opr)"
   ]
  },
  {
   "cell_type": "code",
   "execution_count": 65,
   "metadata": {},
   "outputs": [
    {
     "name": "stderr",
     "output_type": "stream",
     "text": [
      "WARNING:root:SKIPPED kstwo distribution (taking more than 30 seconds)\n",
      "WARNING:root:SKIPPED levy_stable distribution (taking more than 30 seconds)\n",
      "WARNING:root:SKIPPED rv_continuous distribution (taking more than 30 seconds)\n",
      "WARNING:root:SKIPPED rv_histogram distribution (taking more than 30 seconds)\n"
     ]
    },
    {
     "data": {
      "text/html": [
       "<div>\n",
       "<style scoped>\n",
       "    .dataframe tbody tr th:only-of-type {\n",
       "        vertical-align: middle;\n",
       "    }\n",
       "\n",
       "    .dataframe tbody tr th {\n",
       "        vertical-align: top;\n",
       "    }\n",
       "\n",
       "    .dataframe thead th {\n",
       "        text-align: right;\n",
       "    }\n",
       "</style>\n",
       "<table border=\"1\" class=\"dataframe\">\n",
       "  <thead>\n",
       "    <tr style=\"text-align: right;\">\n",
       "      <th></th>\n",
       "      <th>sumsquare_error</th>\n",
       "      <th>aic</th>\n",
       "      <th>bic</th>\n",
       "      <th>kl_div</th>\n",
       "    </tr>\n",
       "  </thead>\n",
       "  <tbody>\n",
       "    <tr>\n",
       "      <th>gennorm</th>\n",
       "      <td>19.606350</td>\n",
       "      <td>559.010495</td>\n",
       "      <td>-1236.546913</td>\n",
       "      <td>inf</td>\n",
       "    </tr>\n",
       "    <tr>\n",
       "      <th>johnsonsu</th>\n",
       "      <td>19.611286</td>\n",
       "      <td>533.397316</td>\n",
       "      <td>-1230.422174</td>\n",
       "      <td>inf</td>\n",
       "    </tr>\n",
       "    <tr>\n",
       "      <th>exponweib</th>\n",
       "      <td>19.614444</td>\n",
       "      <td>548.306045</td>\n",
       "      <td>-1230.355838</td>\n",
       "      <td>inf</td>\n",
       "    </tr>\n",
       "    <tr>\n",
       "      <th>skewnorm</th>\n",
       "      <td>19.615331</td>\n",
       "      <td>551.793813</td>\n",
       "      <td>-1236.358225</td>\n",
       "      <td>inf</td>\n",
       "    </tr>\n",
       "    <tr>\n",
       "      <th>powernorm</th>\n",
       "      <td>19.616234</td>\n",
       "      <td>548.759231</td>\n",
       "      <td>-1236.339274</td>\n",
       "      <td>inf</td>\n",
       "    </tr>\n",
       "  </tbody>\n",
       "</table>\n",
       "</div>"
      ],
      "text/plain": [
       "           sumsquare_error         aic          bic  kl_div\n",
       "gennorm          19.606350  559.010495 -1236.546913     inf\n",
       "johnsonsu        19.611286  533.397316 -1230.422174     inf\n",
       "exponweib        19.614444  548.306045 -1230.355838     inf\n",
       "skewnorm         19.615331  551.793813 -1236.358225     inf\n",
       "powernorm        19.616234  548.759231 -1236.339274     inf"
      ]
     },
     "execution_count": 65,
     "metadata": {},
     "output_type": "execute_result"
    },
    {
     "data": {
      "image/png": "[encoded data removed]",
      "text/plain": [
       "<Figure size 432x288 with 1 Axes>"
      ]
     },
     "metadata": {
      "needs_background": "light"
     },
     "output_type": "display_data"
    }
   ],
   "source": [
    "fit_opr = Fitter(estadias_opr)\n",
    "fit_opr.fit()\n",
    "fit_opr.summary()"
   ]
  },
  {
   "cell_type": "code",
   "execution_count": 66,
   "metadata": {},
   "outputs": [
    {
     "name": "stdout",
     "output_type": "stream",
     "text": [
      "The p-value approach to hypothesis testing in the decision rule\n",
      "chisquare-score is: 19.606349881457756  and p value is: 9.51524333525633e-06\n",
      "Null Hypothesis is rejected -> La distribución no ajusta los datos\n"
     ]
    },
    {
     "data": {
      "image/png": "[encoded data removed]",
      "text/plain": [
       "<Figure size 432x288 with 1 Axes>"
      ]
     },
     "metadata": {
      "needs_background": "light"
     },
     "output_type": "display_data"
    }
   ],
   "source": [
    "result_opr = fit_opr.summary()\n",
    "\n",
    "# significance level\n",
    "alpha = 0.05\n",
    "\n",
    "# Calcualtion of Chisquare\n",
    "chi_square = result_opr['sumsquare_error'][0]\n",
    "\n",
    "print(\"The p-value approach to hypothesis testing in the decision rule\")\n",
    "p_value = 1 - stats.chi2.cdf(chi_square, 1)\n",
    "conclusion = \"Failed to reject the null hypothesis -> La distribución ajusta los datos\"\n",
    "\n",
    "if p_value <= alpha:\n",
    "    conclusion = \"Null Hypothesis is rejected -> La distribución no ajusta los datos\"\n",
    "        \n",
    "print(\"chisquare-score is:\", chi_square, \" and p value is:\", p_value)\n",
    "print(conclusion)"
   ]
  },
  {
   "cell_type": "code",
   "execution_count": 81,
   "metadata": {},
   "outputs": [
    {
     "name": "stdout",
     "output_type": "stream",
     "text": [
      "Rango: [0 - 3.8499999999999996]\n",
      "0.9951456310679612\n"
     ]
    },
    {
     "data": {
      "text/plain": [
       "{'whiskers': [<matplotlib.lines.Line2D at 0x7fa32f7ce610>,\n",
       "  <matplotlib.lines.Line2D at 0x7fa32f7cedf0>],\n",
       " 'caps': [<matplotlib.lines.Line2D at 0x7fa330eee100>,\n",
       "  <matplotlib.lines.Line2D at 0x7fa330eee3d0>],\n",
       " 'boxes': [<matplotlib.lines.Line2D at 0x7fa32f7ce970>],\n",
       " 'medians': [<matplotlib.lines.Line2D at 0x7fa330eee6a0>],\n",
       " 'fliers': [<matplotlib.lines.Line2D at 0x7fa330eee970>],\n",
       " 'means': []}"
      ]
     },
     "execution_count": 81,
     "metadata": {},
     "output_type": "execute_result"
    },
    {
     "data": {
      "image/png": "[encoded data removed]",
      "text/plain": [
       "<Figure size 432x288 with 1 Axes>"
      ]
     },
     "metadata": {
      "needs_background": "light"
     },
     "output_type": "display_data"
    }
   ],
   "source": [
    "#plt.boxplot(estadias_urg)\n",
    "s = np.std(estadias_opr, ddof=1)\n",
    "mu = np.mean(estadias_opr)\n",
    "iqr = stats.iqr(estadias_opr)\n",
    "cota_superior = stats.scoreatpercentile(estadias_opr, 75) + 1.5*iqr\n",
    "cota_inferior = max(stats.scoreatpercentile(estadias_div, 25) - 1.5*iqr, 0)\n",
    "#cota_inferior = 0\n",
    "\n",
    "estadias_opr_filtrada = [x for x in estadias_opr if cota_inferior < x <= cota_superior]\n",
    "\n",
    "#iqr = stats.iqr(estadias_div_filtrada)\n",
    "#cota_superior = stats.scoreatpercentile(estadias_div_filtrada, 75) + 3*iqr\n",
    "#cota_inferior = max(stats.scoreatpercentile(estadias_div_filtrada, 75) - 3*iqr, 0)\n",
    "\n",
    "#estadias_div_filtrada = [x for x in estadias_div_filtrada if cota_inferior < x <= cota_superior]\n",
    "print(f'Rango: [{cota_inferior} - {cota_superior}]')\n",
    "print(len(estadias_opr_filtrada)/ len(estadias_opr))\n",
    "plt.boxplot(estadias_opr_filtrada)"
   ]
  },
  {
   "cell_type": "code",
   "execution_count": 82,
   "metadata": {},
   "outputs": [
    {
     "data": {
      "text/plain": [
       "(array([  2.,   7.,  23.,  43.,  67.,  97., 108.,  27.,  31.,   5.]),\n",
       " array([0.8, 1.1, 1.4, 1.7, 2. , 2.3, 2.6, 2.9, 3.2, 3.5, 3.8]),\n",
       " <BarContainer object of 10 artists>)"
      ]
     },
     "execution_count": 82,
     "metadata": {},
     "output_type": "execute_result"
    },
    {
     "data": {
      "image/png": "[encoded data removed]",
      "text/plain": [
       "<Figure size 432x288 with 1 Axes>"
      ]
     },
     "metadata": {
      "needs_background": "light"
     },
     "output_type": "display_data"
    }
   ],
   "source": [
    "plt.hist(estadias_opr_filtrada)"
   ]
  },
  {
   "cell_type": "code",
   "execution_count": 78,
   "metadata": {},
   "outputs": [
    {
     "name": "stderr",
     "output_type": "stream",
     "text": [
      "WARNING:root:SKIPPED kstwo distribution (taking more than 30 seconds)\n",
      "WARNING:root:SKIPPED levy_stable distribution (taking more than 30 seconds)\n",
      "WARNING:root:SKIPPED rv_continuous distribution (taking more than 30 seconds)\n",
      "WARNING:root:SKIPPED rv_histogram distribution (taking more than 30 seconds)\n"
     ]
    },
    {
     "data": {
      "text/html": [
       "<div>\n",
       "<style scoped>\n",
       "    .dataframe tbody tr th:only-of-type {\n",
       "        vertical-align: middle;\n",
       "    }\n",
       "\n",
       "    .dataframe tbody tr th {\n",
       "        vertical-align: top;\n",
       "    }\n",
       "\n",
       "    .dataframe thead th {\n",
       "        text-align: right;\n",
       "    }\n",
       "</style>\n",
       "<table border=\"1\" class=\"dataframe\">\n",
       "  <thead>\n",
       "    <tr style=\"text-align: right;\">\n",
       "      <th></th>\n",
       "      <th>sumsquare_error</th>\n",
       "      <th>aic</th>\n",
       "      <th>bic</th>\n",
       "      <th>kl_div</th>\n",
       "    </tr>\n",
       "  </thead>\n",
       "  <tbody>\n",
       "    <tr>\n",
       "      <th>powerlognorm</th>\n",
       "      <td>43.434011</td>\n",
       "      <td>337.659381</td>\n",
       "      <td>-896.350264</td>\n",
       "      <td>inf</td>\n",
       "    </tr>\n",
       "    <tr>\n",
       "      <th>skewnorm</th>\n",
       "      <td>43.435058</td>\n",
       "      <td>335.436631</td>\n",
       "      <td>-902.356538</td>\n",
       "      <td>inf</td>\n",
       "    </tr>\n",
       "    <tr>\n",
       "      <th>powernorm</th>\n",
       "      <td>43.436647</td>\n",
       "      <td>335.569170</td>\n",
       "      <td>-902.341530</td>\n",
       "      <td>inf</td>\n",
       "    </tr>\n",
       "    <tr>\n",
       "      <th>pearson3</th>\n",
       "      <td>43.438744</td>\n",
       "      <td>335.703135</td>\n",
       "      <td>-902.321741</td>\n",
       "      <td>inf</td>\n",
       "    </tr>\n",
       "    <tr>\n",
       "      <th>loggamma</th>\n",
       "      <td>43.439308</td>\n",
       "      <td>335.800122</td>\n",
       "      <td>-902.316415</td>\n",
       "      <td>inf</td>\n",
       "    </tr>\n",
       "  </tbody>\n",
       "</table>\n",
       "</div>"
      ],
      "text/plain": [
       "              sumsquare_error         aic         bic  kl_div\n",
       "powerlognorm        43.434011  337.659381 -896.350264     inf\n",
       "skewnorm            43.435058  335.436631 -902.356538     inf\n",
       "powernorm           43.436647  335.569170 -902.341530     inf\n",
       "pearson3            43.438744  335.703135 -902.321741     inf\n",
       "loggamma            43.439308  335.800122 -902.316415     inf"
      ]
     },
     "execution_count": 78,
     "metadata": {},
     "output_type": "execute_result"
    },
    {
     "data": {
      "image/png": "[encoded data removed]",
      "text/plain": [
       "<Figure size 432x288 with 1 Axes>"
      ]
     },
     "metadata": {
      "needs_background": "light"
     },
     "output_type": "display_data"
    }
   ],
   "source": [
    "fit_opr = Fitter(estadias_opr_filtrada)\n",
    "fit_opr.fit()\n",
    "fit_opr.summary()"
   ]
  },
  {
   "cell_type": "code",
   "execution_count": 79,
   "metadata": {},
   "outputs": [
    {
     "name": "stdout",
     "output_type": "stream",
     "text": [
      "The p-value approach to hypothesis testing in the decision rule\n",
      "chisquare-score is: 43.434010546711264  and p value is: 4.385003471440996e-11\n",
      "Null Hypothesis is rejected -> La distribución no ajusta los datos\n"
     ]
    },
    {
     "data": {
      "image/png": "[encoded data removed]",
      "text/plain": [
       "<Figure size 432x288 with 1 Axes>"
      ]
     },
     "metadata": {
      "needs_background": "light"
     },
     "output_type": "display_data"
    }
   ],
   "source": [
    "result_opr = fit_opr.summary()\n",
    "\n",
    "# significance level\n",
    "alpha = 0.05\n",
    "\n",
    "# Calcualtion of Chisquare\n",
    "chi_square = result_opr['sumsquare_error'][0]\n",
    "\n",
    "print(\"The p-value approach to hypothesis testing in the decision rule\")\n",
    "p_value = 1 - stats.chi2.cdf(chi_square, 1)\n",
    "conclusion = \"Failed to reject the null hypothesis -> La distribución ajusta los datos\"\n",
    "\n",
    "if p_value <= alpha:\n",
    "    conclusion = \"Null Hypothesis is rejected -> La distribución no ajusta los datos\"\n",
    "        \n",
    "print(\"chisquare-score is:\", chi_square, \" and p value is:\", p_value)\n",
    "print(conclusion)"
   ]
  },
  {
   "cell_type": "code",
   "execution_count": 86,
   "metadata": {},
   "outputs": [
    {
     "data": {
      "text/plain": [
       "SALA OPERACIONES\n",
       "OPR101_011    2.329310\n",
       "OPR101_033    2.462676\n",
       "OPR102_001    2.390000\n",
       "OPR102_003    2.456579\n",
       "Name: DURACION (hrs), dtype: float64"
      ]
     },
     "execution_count": 86,
     "metadata": {},
     "output_type": "execute_result"
    }
   ],
   "source": [
    "datos_operaciones.groupby(['SALA OPERACIONES'])['DURACION (hrs)'].mean()"
   ]
  },
  {
   "cell_type": "code",
   "execution_count": 89,
   "metadata": {},
   "outputs": [],
   "source": [
    "estadias_OPR101_011 = datos_operaciones[datos_operaciones['SALA OPERACIONES']=='OPR101_011']['DURACION (hrs)']\n",
    "estadias_OPR101_033 = datos_operaciones[datos_operaciones['SALA OPERACIONES']=='OPR101_033']['DURACION (hrs)']\n",
    "estadias_OPR102_001 = datos_operaciones[datos_operaciones['SALA OPERACIONES']=='OPR102_001']['DURACION (hrs)']\n",
    "estadias_OPR102_003 = datos_operaciones[datos_operaciones['SALA OPERACIONES']=='OPR102_003']['DURACION (hrs)']"
   ]
  },
  {
   "cell_type": "code",
   "execution_count": 111,
   "metadata": {},
   "outputs": [
    {
     "data": {
      "image/png": "[encoded data removed]",
      "text/plain": [
       "<Figure size 432x288 with 1 Axes>"
      ]
     },
     "metadata": {
      "needs_background": "light"
     },
     "output_type": "display_data"
    }
   ],
   "source": [
    "plt.hist(estadias_OPR101_033, alpha=0.4, label='101_033', color=\"orange\")\n",
    "plt.hist(estadias_OPR102_001, alpha=0.4, label='103_001', color=\"red\")\n",
    "plt.hist(estadias_OPR102_003, alpha=0.4, label='102_003', color='violet')\n",
    "plt.hist(estadias_OPR101_011, alpha=0.4, label='101_011', color=\"blue\")\n",
    "plt.legend(loc='upper right')\n",
    "plt.title('Estadías OPR según sala')\n",
    "plt.show()"
   ]
  },
  {
   "cell_type": "code",
   "execution_count": 112,
   "metadata": {},
   "outputs": [
    {
     "name": "stderr",
     "output_type": "stream",
     "text": [
      "WARNING:root:SKIPPED kstwo distribution (taking more than 30 seconds)\n",
      "WARNING:root:SKIPPED levy_stable distribution (taking more than 30 seconds)\n",
      "WARNING:root:SKIPPED rv_continuous distribution (taking more than 30 seconds)\n",
      "WARNING:root:SKIPPED rv_histogram distribution (taking more than 30 seconds)\n"
     ]
    },
    {
     "data": {
      "text/html": [
       "<div>\n",
       "<style scoped>\n",
       "    .dataframe tbody tr th:only-of-type {\n",
       "        vertical-align: middle;\n",
       "    }\n",
       "\n",
       "    .dataframe tbody tr th {\n",
       "        vertical-align: top;\n",
       "    }\n",
       "\n",
       "    .dataframe thead th {\n",
       "        text-align: right;\n",
       "    }\n",
       "</style>\n",
       "<table border=\"1\" class=\"dataframe\">\n",
       "  <thead>\n",
       "    <tr style=\"text-align: right;\">\n",
       "      <th></th>\n",
       "      <th>sumsquare_error</th>\n",
       "      <th>aic</th>\n",
       "      <th>bic</th>\n",
       "      <th>kl_div</th>\n",
       "    </tr>\n",
       "  </thead>\n",
       "  <tbody>\n",
       "    <tr>\n",
       "      <th>vonmises_line</th>\n",
       "      <td>96.178135</td>\n",
       "      <td>187.558806</td>\n",
       "      <td>41.515353</td>\n",
       "      <td>inf</td>\n",
       "    </tr>\n",
       "    <tr>\n",
       "      <th>triang</th>\n",
       "      <td>96.320871</td>\n",
       "      <td>200.903555</td>\n",
       "      <td>41.601366</td>\n",
       "      <td>inf</td>\n",
       "    </tr>\n",
       "    <tr>\n",
       "      <th>dgamma</th>\n",
       "      <td>96.412281</td>\n",
       "      <td>229.994644</td>\n",
       "      <td>41.656383</td>\n",
       "      <td>inf</td>\n",
       "    </tr>\n",
       "    <tr>\n",
       "      <th>gompertz</th>\n",
       "      <td>96.440067</td>\n",
       "      <td>194.602296</td>\n",
       "      <td>41.673096</td>\n",
       "      <td>inf</td>\n",
       "    </tr>\n",
       "    <tr>\n",
       "      <th>foldnorm</th>\n",
       "      <td>96.501352</td>\n",
       "      <td>200.503637</td>\n",
       "      <td>41.709941</td>\n",
       "      <td>inf</td>\n",
       "    </tr>\n",
       "  </tbody>\n",
       "</table>\n",
       "</div>"
      ],
      "text/plain": [
       "               sumsquare_error         aic        bic  kl_div\n",
       "vonmises_line        96.178135  187.558806  41.515353     inf\n",
       "triang               96.320871  200.903555  41.601366     inf\n",
       "dgamma               96.412281  229.994644  41.656383     inf\n",
       "gompertz             96.440067  194.602296  41.673096     inf\n",
       "foldnorm             96.501352  200.503637  41.709941     inf"
      ]
     },
     "execution_count": 112,
     "metadata": {},
     "output_type": "execute_result"
    },
    {
     "data": {
      "image/png": "[encoded data removed]",
      "text/plain": [
       "<Figure size 432x288 with 1 Axes>"
      ]
     },
     "metadata": {
      "needs_background": "light"
     },
     "output_type": "display_data"
    }
   ],
   "source": [
    "fit_opr_OPR101_011 = Fitter(estadias_OPR101_011)\n",
    "fit_opr_OPR101_011.fit()\n",
    "fit_opr_OPR101_011.summary()"
   ]
  },
  {
   "cell_type": "code",
   "execution_count": 113,
   "metadata": {},
   "outputs": [
    {
     "name": "stdout",
     "output_type": "stream",
     "text": [
      "The p-value approach to hypothesis testing in the decision rule\n",
      "chisquare-score is: 96.17813519042643  and p value is: 0.0\n",
      "Null Hypothesis is rejected -> La distribución no ajusta los datos\n"
     ]
    },
    {
     "data": {
      "image/png": "[encoded data removed]",
      "text/plain": [
       "<Figure size 432x288 with 1 Axes>"
      ]
     },
     "metadata": {
      "needs_background": "light"
     },
     "output_type": "display_data"
    }
   ],
   "source": [
    "result_opr = fit_opr_OPR101_011.summary()\n",
    "\n",
    "# significance level\n",
    "alpha = 0.05\n",
    "\n",
    "# Calcualtion of Chisquare\n",
    "chi_square = result_opr['sumsquare_error'][0]\n",
    "\n",
    "print(\"The p-value approach to hypothesis testing in the decision rule\")\n",
    "p_value = 1 - stats.chi2.cdf(chi_square, 1)\n",
    "conclusion = \"Failed to reject the null hypothesis -> La distribución ajusta los datos\"\n",
    "\n",
    "if p_value <= alpha:\n",
    "    conclusion = \"Null Hypothesis is rejected -> La distribución no ajusta los datos\"\n",
    "        \n",
    "print(\"chisquare-score is:\", chi_square, \" and p value is:\", p_value)\n",
    "print(conclusion)"
   ]
  },
  {
   "cell_type": "code",
   "execution_count": 114,
   "metadata": {},
   "outputs": [
    {
     "name": "stderr",
     "output_type": "stream",
     "text": [
      "WARNING:root:SKIPPED kstwo distribution (taking more than 30 seconds)\n",
      "/Users/martin/opt/anaconda3/lib/python3.8/site-packages/scipy/stats/_continuous_distns.py:4530: IntegrationWarning: The integral is probably divergent, or slowly convergent.\n",
      "  intg = integrate.quad(f, -xi, np.pi/2, **intg_kwargs)[0]\n",
      "WARNING:root:SKIPPED levy_stable distribution (taking more than 30 seconds)\n",
      "WARNING:root:SKIPPED rv_continuous distribution (taking more than 30 seconds)\n",
      "WARNING:root:SKIPPED rv_histogram distribution (taking more than 30 seconds)\n"
     ]
    },
    {
     "data": {
      "text/html": [
       "<div>\n",
       "<style scoped>\n",
       "    .dataframe tbody tr th:only-of-type {\n",
       "        vertical-align: middle;\n",
       "    }\n",
       "\n",
       "    .dataframe tbody tr th {\n",
       "        vertical-align: top;\n",
       "    }\n",
       "\n",
       "    .dataframe thead th {\n",
       "        text-align: right;\n",
       "    }\n",
       "</style>\n",
       "<table border=\"1\" class=\"dataframe\">\n",
       "  <thead>\n",
       "    <tr style=\"text-align: right;\">\n",
       "      <th></th>\n",
       "      <th>sumsquare_error</th>\n",
       "      <th>aic</th>\n",
       "      <th>bic</th>\n",
       "      <th>kl_div</th>\n",
       "    </tr>\n",
       "  </thead>\n",
       "  <tbody>\n",
       "    <tr>\n",
       "      <th>burr</th>\n",
       "      <td>40.125683</td>\n",
       "      <td>389.792079</td>\n",
       "      <td>-159.637776</td>\n",
       "      <td>inf</td>\n",
       "    </tr>\n",
       "    <tr>\n",
       "      <th>mielke</th>\n",
       "      <td>40.125687</td>\n",
       "      <td>389.792482</td>\n",
       "      <td>-159.637763</td>\n",
       "      <td>inf</td>\n",
       "    </tr>\n",
       "    <tr>\n",
       "      <th>weibull_min</th>\n",
       "      <td>40.339862</td>\n",
       "      <td>391.649228</td>\n",
       "      <td>-163.837665</td>\n",
       "      <td>inf</td>\n",
       "    </tr>\n",
       "    <tr>\n",
       "      <th>beta</th>\n",
       "      <td>40.367332</td>\n",
       "      <td>393.548979</td>\n",
       "      <td>-158.785173</td>\n",
       "      <td>inf</td>\n",
       "    </tr>\n",
       "    <tr>\n",
       "      <th>burr12</th>\n",
       "      <td>40.405268</td>\n",
       "      <td>389.857726</td>\n",
       "      <td>-158.651790</td>\n",
       "      <td>inf</td>\n",
       "    </tr>\n",
       "  </tbody>\n",
       "</table>\n",
       "</div>"
      ],
      "text/plain": [
       "             sumsquare_error         aic         bic  kl_div\n",
       "burr               40.125683  389.792079 -159.637776     inf\n",
       "mielke             40.125687  389.792482 -159.637763     inf\n",
       "weibull_min        40.339862  391.649228 -163.837665     inf\n",
       "beta               40.367332  393.548979 -158.785173     inf\n",
       "burr12             40.405268  389.857726 -158.651790     inf"
      ]
     },
     "execution_count": 114,
     "metadata": {},
     "output_type": "execute_result"
    },
    {
     "data": {
      "image/png": "[encoded data removed]",
      "text/plain": [
       "<Figure size 432x288 with 1 Axes>"
      ]
     },
     "metadata": {
      "needs_background": "light"
     },
     "output_type": "display_data"
    }
   ],
   "source": [
    "fit_opr_OPR101_033 = Fitter(estadias_OPR101_033)\n",
    "fit_opr_OPR101_033.fit()\n",
    "fit_opr_OPR101_033.summary()"
   ]
  },
  {
   "cell_type": "code",
   "execution_count": 115,
   "metadata": {},
   "outputs": [
    {
     "name": "stdout",
     "output_type": "stream",
     "text": [
      "The p-value approach to hypothesis testing in the decision rule\n",
      "chisquare-score is: 40.12568295800112  and p value is: 2.381373986892754e-10\n",
      "Null Hypothesis is rejected -> La distribución no ajusta los datos\n"
     ]
    },
    {
     "data": {
      "image/png": "[encoded data removed]",
      "text/plain": [
       "<Figure size 432x288 with 1 Axes>"
      ]
     },
     "metadata": {
      "needs_background": "light"
     },
     "output_type": "display_data"
    }
   ],
   "source": [
    "result_opr = fit_opr_OPR101_033.summary()\n",
    "\n",
    "# significance level\n",
    "alpha = 0.05\n",
    "\n",
    "# Calcualtion of Chisquare\n",
    "chi_square = result_opr['sumsquare_error'][0]\n",
    "\n",
    "print(\"The p-value approach to hypothesis testing in the decision rule\")\n",
    "p_value = 1 - stats.chi2.cdf(chi_square, 1)\n",
    "conclusion = \"Failed to reject the null hypothesis -> La distribución ajusta los datos\"\n",
    "\n",
    "if p_value <= alpha:\n",
    "    conclusion = \"Null Hypothesis is rejected -> La distribución no ajusta los datos\"\n",
    "        \n",
    "print(\"chisquare-score is:\", chi_square, \" and p value is:\", p_value)\n",
    "print(conclusion)"
   ]
  },
  {
   "cell_type": "markdown",
   "metadata": {},
   "source": [
    "Una forma de modelar esta distribución de manera muy rustica, es ajustar una distribución triangular para las estadias en las salas de operacion"
   ]
  },
  {
   "cell_type": "code",
   "execution_count": 128,
   "metadata": {},
   "outputs": [
    {
     "name": "stderr",
     "output_type": "stream",
     "text": [
      "WARNING:matplotlib.legend:No artists with labels found to put in legend.  Note that artists whose label start with an underscore are ignored when legend() is called with no argument.\n"
     ]
    },
    {
     "data": {
      "image/png": "[encoded data removed]",
      "text/plain": [
       "<Figure size 432x288 with 1 Axes>"
      ]
     },
     "metadata": {
      "needs_background": "light"
     },
     "output_type": "display_data"
    }
   ],
   "source": [
    "inf_range_opr = min(estadias_opr_filtrada)\n",
    "sup_range_opr = max(estadias_opr_filtrada)\n",
    "mean_opr = np.mean(estadias_opr_filtrada)\n",
    "\n",
    "plt.hist(np.random.triangular(inf_range_opr, mean_opr, sup_range_opr, 100000), bins=200, density=True)\n",
    "plt.legend(loc='upper right')\n",
    "plt.title('Estadías OPR según sala')\n",
    "plt.show()"
   ]
  },
  {
   "cell_type": "code",
   "execution_count": 154,
   "metadata": {},
   "outputs": [
    {
     "data": {
      "text/html": [
       "<div>\n",
       "<style scoped>\n",
       "    .dataframe tbody tr th:only-of-type {\n",
       "        vertical-align: middle;\n",
       "    }\n",
       "\n",
       "    .dataframe tbody tr th {\n",
       "        vertical-align: top;\n",
       "    }\n",
       "\n",
       "    .dataframe thead th {\n",
       "        text-align: right;\n",
       "    }\n",
       "</style>\n",
       "<table border=\"1\" class=\"dataframe\">\n",
       "  <thead>\n",
       "    <tr style=\"text-align: right;\">\n",
       "      <th></th>\n",
       "      <th>estadia</th>\n",
       "      <th>freq</th>\n",
       "      <th>prob</th>\n",
       "    </tr>\n",
       "  </thead>\n",
       "  <tbody>\n",
       "    <tr>\n",
       "      <th>0</th>\n",
       "      <td>2.4</td>\n",
       "      <td>35</td>\n",
       "      <td>0.084951</td>\n",
       "    </tr>\n",
       "    <tr>\n",
       "      <th>1</th>\n",
       "      <td>2.8</td>\n",
       "      <td>32</td>\n",
       "      <td>0.077670</td>\n",
       "    </tr>\n",
       "    <tr>\n",
       "      <th>2</th>\n",
       "      <td>2.5</td>\n",
       "      <td>32</td>\n",
       "      <td>0.077670</td>\n",
       "    </tr>\n",
       "    <tr>\n",
       "      <th>3</th>\n",
       "      <td>2.2</td>\n",
       "      <td>30</td>\n",
       "      <td>0.072816</td>\n",
       "    </tr>\n",
       "    <tr>\n",
       "      <th>4</th>\n",
       "      <td>2.3</td>\n",
       "      <td>30</td>\n",
       "      <td>0.072816</td>\n",
       "    </tr>\n",
       "    <tr>\n",
       "      <th>5</th>\n",
       "      <td>2.6</td>\n",
       "      <td>30</td>\n",
       "      <td>0.072816</td>\n",
       "    </tr>\n",
       "    <tr>\n",
       "      <th>6</th>\n",
       "      <td>2.9</td>\n",
       "      <td>25</td>\n",
       "      <td>0.060680</td>\n",
       "    </tr>\n",
       "    <tr>\n",
       "      <th>7</th>\n",
       "      <td>2.7</td>\n",
       "      <td>21</td>\n",
       "      <td>0.050971</td>\n",
       "    </tr>\n",
       "    <tr>\n",
       "      <th>8</th>\n",
       "      <td>2.0</td>\n",
       "      <td>19</td>\n",
       "      <td>0.046117</td>\n",
       "    </tr>\n",
       "    <tr>\n",
       "      <th>9</th>\n",
       "      <td>2.1</td>\n",
       "      <td>18</td>\n",
       "      <td>0.043689</td>\n",
       "    </tr>\n",
       "    <tr>\n",
       "      <th>10</th>\n",
       "      <td>1.7</td>\n",
       "      <td>16</td>\n",
       "      <td>0.038835</td>\n",
       "    </tr>\n",
       "    <tr>\n",
       "      <th>11</th>\n",
       "      <td>1.9</td>\n",
       "      <td>15</td>\n",
       "      <td>0.036408</td>\n",
       "    </tr>\n",
       "    <tr>\n",
       "      <th>12</th>\n",
       "      <td>3.1</td>\n",
       "      <td>14</td>\n",
       "      <td>0.033981</td>\n",
       "    </tr>\n",
       "    <tr>\n",
       "      <th>13</th>\n",
       "      <td>3.0</td>\n",
       "      <td>13</td>\n",
       "      <td>0.031553</td>\n",
       "    </tr>\n",
       "    <tr>\n",
       "      <th>14</th>\n",
       "      <td>1.6</td>\n",
       "      <td>13</td>\n",
       "      <td>0.031553</td>\n",
       "    </tr>\n",
       "    <tr>\n",
       "      <th>15</th>\n",
       "      <td>1.8</td>\n",
       "      <td>12</td>\n",
       "      <td>0.029126</td>\n",
       "    </tr>\n",
       "    <tr>\n",
       "      <th>16</th>\n",
       "      <td>3.2</td>\n",
       "      <td>12</td>\n",
       "      <td>0.029126</td>\n",
       "    </tr>\n",
       "    <tr>\n",
       "      <th>17</th>\n",
       "      <td>3.3</td>\n",
       "      <td>10</td>\n",
       "      <td>0.024272</td>\n",
       "    </tr>\n",
       "    <tr>\n",
       "      <th>18</th>\n",
       "      <td>3.4</td>\n",
       "      <td>9</td>\n",
       "      <td>0.021845</td>\n",
       "    </tr>\n",
       "    <tr>\n",
       "      <th>19</th>\n",
       "      <td>1.5</td>\n",
       "      <td>6</td>\n",
       "      <td>0.014563</td>\n",
       "    </tr>\n",
       "    <tr>\n",
       "      <th>20</th>\n",
       "      <td>1.4</td>\n",
       "      <td>4</td>\n",
       "      <td>0.009709</td>\n",
       "    </tr>\n",
       "    <tr>\n",
       "      <th>21</th>\n",
       "      <td>1.3</td>\n",
       "      <td>4</td>\n",
       "      <td>0.009709</td>\n",
       "    </tr>\n",
       "    <tr>\n",
       "      <th>22</th>\n",
       "      <td>3.8</td>\n",
       "      <td>2</td>\n",
       "      <td>0.004854</td>\n",
       "    </tr>\n",
       "    <tr>\n",
       "      <th>23</th>\n",
       "      <td>1.1</td>\n",
       "      <td>2</td>\n",
       "      <td>0.004854</td>\n",
       "    </tr>\n",
       "    <tr>\n",
       "      <th>24</th>\n",
       "      <td>3.5</td>\n",
       "      <td>1</td>\n",
       "      <td>0.002427</td>\n",
       "    </tr>\n",
       "    <tr>\n",
       "      <th>25</th>\n",
       "      <td>1.2</td>\n",
       "      <td>1</td>\n",
       "      <td>0.002427</td>\n",
       "    </tr>\n",
       "    <tr>\n",
       "      <th>26</th>\n",
       "      <td>4.1</td>\n",
       "      <td>1</td>\n",
       "      <td>0.002427</td>\n",
       "    </tr>\n",
       "    <tr>\n",
       "      <th>27</th>\n",
       "      <td>0.8</td>\n",
       "      <td>1</td>\n",
       "      <td>0.002427</td>\n",
       "    </tr>\n",
       "    <tr>\n",
       "      <th>28</th>\n",
       "      <td>3.6</td>\n",
       "      <td>1</td>\n",
       "      <td>0.002427</td>\n",
       "    </tr>\n",
       "    <tr>\n",
       "      <th>29</th>\n",
       "      <td>3.7</td>\n",
       "      <td>1</td>\n",
       "      <td>0.002427</td>\n",
       "    </tr>\n",
       "    <tr>\n",
       "      <th>30</th>\n",
       "      <td>1.0</td>\n",
       "      <td>1</td>\n",
       "      <td>0.002427</td>\n",
       "    </tr>\n",
       "    <tr>\n",
       "      <th>31</th>\n",
       "      <td>0.0</td>\n",
       "      <td>1</td>\n",
       "      <td>0.002427</td>\n",
       "    </tr>\n",
       "  </tbody>\n",
       "</table>\n",
       "</div>"
      ],
      "text/plain": [
       "    estadia  freq      prob\n",
       "0       2.4    35  0.084951\n",
       "1       2.8    32  0.077670\n",
       "2       2.5    32  0.077670\n",
       "3       2.2    30  0.072816\n",
       "4       2.3    30  0.072816\n",
       "5       2.6    30  0.072816\n",
       "6       2.9    25  0.060680\n",
       "7       2.7    21  0.050971\n",
       "8       2.0    19  0.046117\n",
       "9       2.1    18  0.043689\n",
       "10      1.7    16  0.038835\n",
       "11      1.9    15  0.036408\n",
       "12      3.1    14  0.033981\n",
       "13      3.0    13  0.031553\n",
       "14      1.6    13  0.031553\n",
       "15      1.8    12  0.029126\n",
       "16      3.2    12  0.029126\n",
       "17      3.3    10  0.024272\n",
       "18      3.4     9  0.021845\n",
       "19      1.5     6  0.014563\n",
       "20      1.4     4  0.009709\n",
       "21      1.3     4  0.009709\n",
       "22      3.8     2  0.004854\n",
       "23      1.1     2  0.004854\n",
       "24      3.5     1  0.002427\n",
       "25      1.2     1  0.002427\n",
       "26      4.1     1  0.002427\n",
       "27      0.8     1  0.002427\n",
       "28      3.6     1  0.002427\n",
       "29      3.7     1  0.002427\n",
       "30      1.0     1  0.002427\n",
       "31      0.0     1  0.002427"
      ]
     },
     "execution_count": 154,
     "metadata": {},
     "output_type": "execute_result"
    }
   ],
   "source": [
    "posibles_estadias_opr = list(datos_operaciones['DURACION (hrs)'].value_counts().index)\n",
    "freq_posibles_estadias_opr = datos_operaciones['DURACION (hrs)'].value_counts().reset_index(drop=True)\n",
    "\n",
    "data = {\n",
    "    'estadia': posibles_estadias_opr,\n",
    "    'freq': freq_posibles_estadias_opr\n",
    "}\n",
    "\n",
    "distr_estadias_opr = pd.DataFrame(data)\n",
    "distr_estadias_opr['prob'] = distr_estadias_opr['freq']/ distr_estadias_opr['freq'].sum()\n",
    "distr_estadias_opr"
   ]
  },
  {
   "cell_type": "code",
   "execution_count": 157,
   "metadata": {},
   "outputs": [],
   "source": [
    "#distr_estadias_opr.to_csv('Prob_estadias_OPR.csv')  "
   ]
  },
  {
   "cell_type": "markdown",
   "metadata": {},
   "source": [
    "Se almacena las posibles estadias en las operaciones y su probabilidad asociada."
   ]
  },
  {
   "cell_type": "markdown",
   "metadata": {},
   "source": [
    "### Distribución DIVs"
   ]
  },
  {
   "cell_type": "code",
   "execution_count": 40,
   "metadata": {},
   "outputs": [],
   "source": [
    "DIVs = ['DIV101_603', 'DIV101_604','DIV102_203','DIV103_107', 'DIV103_204', 'DIV104_602', 'DIV101_703']\n",
    "DIV_101_703 = ['DIV101_703']\n",
    "URGs = ['URG101_003']"
   ]
  },
  {
   "cell_type": "code",
   "execution_count": 41,
   "metadata": {},
   "outputs": [],
   "source": [
    "dic_distribuciones = dict.fromkeys(areas_mapa_profe)\n",
    "estadias_div101_603 = np.array([])\n",
    "estadias_div101_604 = np.array([])\n",
    "estadias_div101_703 = np.array([])\n",
    "estadias_div102_203 = np.array([])\n",
    "estadias_div103_107 = np.array([])\n",
    "estadias_div103_204 = np.array([])\n",
    "estadias_div104_602 = np.array([])\n",
    "estadias_div = np.array([])\n",
    "estadias_urg = np.array([])\n",
    "\n",
    "for area in areas_mapa_profe:\n",
    "    try : \n",
    "        estadia = datos_pacientes[datos_pacientes[\"Area\"] == area][\"Estadia\"]\n",
    "        estadia = np.array(estadia)\n",
    "\n",
    "        if area == 'URG101_003':\n",
    "            estadias_urg = np.append(estadias_urg, estadia)\n",
    "        elif area == 'DIV101_603':\n",
    "            estadias_div101_603 = np.append(estadias_div101_603, estadia)\n",
    "        elif area == 'DIV101_604':\n",
    "            estadias_div101_604 = np.append(estadias_div101_604, estadia)\n",
    "        elif area == 'DIV101_703':\n",
    "            estadias_div101_703 = np.append(estadias_div101_703, estadia)\n",
    "        elif area == 'DIV102_203':\n",
    "            estadias_div102_203 = np.append(estadias_div102_203, estadia)\n",
    "        elif area == 'DIV103_107':\n",
    "            estadias_div103_107 = np.append(estadias_div103_107, estadia)\n",
    "        elif area == 'DIV103_204':\n",
    "            estadias_div103_204 = np.append(estadias_div103_204, estadia)\n",
    "        elif area == 'DIV104_602':\n",
    "            estadias_div104_602 = np.append(estadias_div104_602, estadia) \n",
    "        if area in DIVs:\n",
    "            estadias_div = np.append(estadias_div, estadia)\n",
    "    \n",
    "    except:\n",
    "        print('Hubo un error')\n",
    "\n",
    "estadias_div101_603 = estadias_div101_603[estadias_div101_603 != 0]\n",
    "estadias_div101_604 = estadias_div101_604[estadias_div101_604 != 0]\n",
    "estadias_div101_703 = estadias_div101_703[estadias_div101_703 != 0]\n",
    "estadias_div102_203 = estadias_div102_203[estadias_div102_203 != 0]\n",
    "estadias_div103_107 = estadias_div103_107[estadias_div103_107 != 0]\n",
    "estadias_div103_204 = estadias_div103_204[estadias_div103_204 != 0]\n",
    "estadias_div104_602 = estadias_div104_602[estadias_div104_602 != 0]"
   ]
  },
  {
   "cell_type": "code",
   "execution_count": 36,
   "metadata": {},
   "outputs": [
    {
     "name": "stdout",
     "output_type": "stream",
     "text": [
      "Div101_603: 280.7527777777778\n",
      "Div101_604: 284.8571428571428\n",
      "Div101_703: 9.371212121212121\n",
      "Div102_203: 43.997058823529414\n",
      "Div103_107: 251.17727272727276\n",
      "Div103_204: 67.76614987080103\n",
      "Div104_602: 199.54888888888888\n"
     ]
    }
   ],
   "source": [
    "print(f'Div101_603: {np.mean(estadias_div101_603)}')\n",
    "print(f'Div101_604: {np.mean(estadias_div101_604)}')\n",
    "print(f'Div101_703: {np.mean(estadias_div101_703)}')\n",
    "print(f'Div102_203: {np.mean(estadias_div102_203)}')\n",
    "print(f'Div103_107: {np.mean(estadias_div103_107)}')\n",
    "print(f'Div103_204: {np.mean(estadias_div103_204)}')\n",
    "print(f'Div104_602: {np.mean(estadias_div104_602)}')\n",
    "\n",
    "#plt.hist(estadias_div101_603, bins=20);\n",
    "#plt.hist(estadias_div101_604, bins=20);\n",
    "#plt.hist(estadias_div101_703, bins=20);\n",
    "plt.hist(estadias_div102_203, bins=20);\n",
    "#plt.hist(estadias_div103_107, bins=20);\n",
    "#plt.hist(estadias_div103_204, bins=20);\n",
    "#plt.hist(estadias_div104_602, bins=20);\n"
   ]
  },
  {
   "cell_type": "code",
   "execution_count": 42,
   "metadata": {},
   "outputs": [
    {
     "name": "stdout",
     "output_type": "stream",
     "text": [
      "Cantidad de datos de estadias: 1456\n"
     ]
    },
    {
     "data": {
      "text/plain": [
       "(array([1.377e+03, 4.000e+01, 1.500e+01, 7.000e+00, 1.300e+01, 1.000e+00,\n",
       "        2.000e+00, 0.000e+00, 0.000e+00, 1.000e+00]),\n",
       " array([   0.        ,  110.05666667,  220.11333333,  330.17      ,\n",
       "         440.22666667,  550.28333333,  660.34      ,  770.39666667,\n",
       "         880.45333333,  990.51      , 1100.56666667]),\n",
       " <BarContainer object of 10 artists>)"
      ]
     },
     "execution_count": 42,
     "metadata": {},
     "output_type": "execute_result"
    },
    {
     "data": {
      "image/png": "[encoded data removed]",
      "text/plain": [
       "<Figure size 432x288 with 1 Axes>"
      ]
     },
     "metadata": {
      "needs_background": "light"
     },
     "output_type": "display_data"
    }
   ],
   "source": [
    "print(f'Cantidad de datos de estadias: {len(estadias_div)}')\n",
    "plt.hist(estadias_div)"
   ]
  },
  {
   "cell_type": "code",
   "execution_count": 43,
   "metadata": {},
   "outputs": [
    {
     "data": {
      "text/plain": [
       "{'whiskers': [<matplotlib.lines.Line2D at 0x7fa32f80f040>,\n",
       "  <matplotlib.lines.Line2D at 0x7fa32f80f340>],\n",
       " 'caps': [<matplotlib.lines.Line2D at 0x7fa32f80f610>,\n",
       "  <matplotlib.lines.Line2D at 0x7fa32f80f8e0>],\n",
       " 'boxes': [<matplotlib.lines.Line2D at 0x7fa32f7fee80>],\n",
       " 'medians': [<matplotlib.lines.Line2D at 0x7fa32f80fbb0>],\n",
       " 'fliers': [<matplotlib.lines.Line2D at 0x7fa32f80fe80>],\n",
       " 'means': []}"
      ]
     },
     "execution_count": 43,
     "metadata": {},
     "output_type": "execute_result"
    },
    {
     "data": {
      "image/png": "[encoded data removed]",
      "text/plain": [
       "<Figure size 432x288 with 1 Axes>"
      ]
     },
     "metadata": {
      "needs_background": "light"
     },
     "output_type": "display_data"
    }
   ],
   "source": [
    "plt.boxplot(estadias_div)"
   ]
  },
  {
   "cell_type": "code",
   "execution_count": 39,
   "metadata": {},
   "outputs": [
    {
     "name": "stdout",
     "output_type": "stream",
     "text": [
      "0.25309734513274335\n"
     ]
    },
    {
     "data": {
      "text/plain": [
       "{'whiskers': [<matplotlib.lines.Line2D at 0x7fa32fa476d0>,\n",
       "  <matplotlib.lines.Line2D at 0x7fa32fa479a0>],\n",
       " 'caps': [<matplotlib.lines.Line2D at 0x7fa32fa47c70>,\n",
       "  <matplotlib.lines.Line2D at 0x7fa32fa47f40>],\n",
       " 'boxes': [<matplotlib.lines.Line2D at 0x7fa32fa47400>],\n",
       " 'medians': [<matplotlib.lines.Line2D at 0x7fa32fa6b250>],\n",
       " 'fliers': [<matplotlib.lines.Line2D at 0x7fa32fa6b520>],\n",
       " 'means': []}"
      ]
     },
     "execution_count": 39,
     "metadata": {},
     "output_type": "execute_result"
    },
    {
     "data": {
      "image/png": "[encoded data removed]",
      "text/plain": [
       "<Figure size 432x288 with 1 Axes>"
      ]
     },
     "metadata": {
      "needs_background": "light"
     },
     "output_type": "display_data"
    }
   ],
   "source": [
    "s = np.std(estadias_div, ddof=1)\n",
    "mu = np.mean(estadias_div)\n",
    "iqr = stats.iqr(estadias_div)\n",
    "cota_superior = stats.scoreatpercentile(estadias_div, 75) + 3*iqr\n",
    "#cota_inferior = max(stats.scoreatpercentile(estadias_div, 75) - 1.5*iqr, 0)\n",
    "cota_inferior = 0\n",
    "\n",
    "estadias_div_filtrada = [x for x in estadias_div if cota_inferior < x <= cota_superior]\n",
    "\n",
    "#iqr = stats.iqr(estadias_div_filtrada)\n",
    "#cota_superior = stats.scoreatpercentile(estadias_div_filtrada, 75) + 3*iqr\n",
    "#cota_inferior = max(stats.scoreatpercentile(estadias_div_filtrada, 75) - 3*iqr, 0)\n",
    "\n",
    "#estadias_div_filtrada = [x for x in estadias_div_filtrada if cota_inferior < x <= cota_superior]\n",
    "\n",
    "print(len(estadias_div_filtrada)/ len(estadias_div))\n",
    "plt.boxplot(estadias_div_filtrada)"
   ]
  },
  {
   "cell_type": "markdown",
   "metadata": {},
   "source": [
    "Como se puede ver, luego de aplicar un filtro sobre los strong outliers, nos quedamos con el 56% de los datos de estadias en los div ya que gran parte de ellos eran valores 0s que no tenien sentido dentro del contexto de nuestro problema."
   ]
  },
  {
   "cell_type": "code",
   "execution_count": 44,
   "metadata": {},
   "outputs": [
    {
     "name": "stderr",
     "output_type": "stream",
     "text": [
      "WARNING:root:SKIPPED kstwo distribution (taking more than 30 seconds)\n",
      "/Users/martin/opt/anaconda3/lib/python3.8/site-packages/scipy/stats/_continuous_distns.py:4530: IntegrationWarning: The integral is probably divergent, or slowly convergent.\n",
      "  intg = integrate.quad(f, -xi, np.pi/2, **intg_kwargs)[0]\n",
      "WARNING:root:SKIPPED levy_stable distribution (taking more than 30 seconds)\n",
      "WARNING:root:SKIPPED rv_continuous distribution (taking more than 30 seconds)\n",
      "WARNING:root:SKIPPED rv_histogram distribution (taking more than 30 seconds)\n"
     ]
    },
    {
     "data": {
      "text/html": [
       "<div>\n",
       "<style scoped>\n",
       "    .dataframe tbody tr th:only-of-type {\n",
       "        vertical-align: middle;\n",
       "    }\n",
       "\n",
       "    .dataframe tbody tr th {\n",
       "        vertical-align: top;\n",
       "    }\n",
       "\n",
       "    .dataframe thead th {\n",
       "        text-align: right;\n",
       "    }\n",
       "</style>\n",
       "<table border=\"1\" class=\"dataframe\">\n",
       "  <thead>\n",
       "    <tr style=\"text-align: right;\">\n",
       "      <th></th>\n",
       "      <th>sumsquare_error</th>\n",
       "      <th>aic</th>\n",
       "      <th>bic</th>\n",
       "      <th>kl_div</th>\n",
       "    </tr>\n",
       "  </thead>\n",
       "  <tbody>\n",
       "    <tr>\n",
       "      <th>johnsonsb</th>\n",
       "      <td>0.016833</td>\n",
       "      <td>920.613937</td>\n",
       "      <td>-1273.910841</td>\n",
       "      <td>inf</td>\n",
       "    </tr>\n",
       "    <tr>\n",
       "      <th>bradford</th>\n",
       "      <td>0.017230</td>\n",
       "      <td>918.582133</td>\n",
       "      <td>-1275.538984</td>\n",
       "      <td>inf</td>\n",
       "    </tr>\n",
       "    <tr>\n",
       "      <th>recipinvgauss</th>\n",
       "      <td>0.017648</td>\n",
       "      <td>974.579106</td>\n",
       "      <td>-1272.109432</td>\n",
       "      <td>inf</td>\n",
       "    </tr>\n",
       "    <tr>\n",
       "      <th>levy</th>\n",
       "      <td>0.018270</td>\n",
       "      <td>1048.699686</td>\n",
       "      <td>-1272.117744</td>\n",
       "      <td>inf</td>\n",
       "    </tr>\n",
       "    <tr>\n",
       "      <th>halfgennorm</th>\n",
       "      <td>0.018410</td>\n",
       "      <td>990.533628</td>\n",
       "      <td>-1266.063296</td>\n",
       "      <td>inf</td>\n",
       "    </tr>\n",
       "  </tbody>\n",
       "</table>\n",
       "</div>"
      ],
      "text/plain": [
       "               sumsquare_error          aic          bic  kl_div\n",
       "johnsonsb             0.016833   920.613937 -1273.910841     inf\n",
       "bradford              0.017230   918.582133 -1275.538984     inf\n",
       "recipinvgauss         0.017648   974.579106 -1272.109432     inf\n",
       "levy                  0.018270  1048.699686 -1272.117744     inf\n",
       "halfgennorm           0.018410   990.533628 -1266.063296     inf"
      ]
     },
     "execution_count": 44,
     "metadata": {},
     "output_type": "execute_result"
    },
    {
     "data": {
      "image/png": "[encoded data removed]",
      "text/plain": [
       "<Figure size 432x288 with 1 Axes>"
      ]
     },
     "metadata": {
      "needs_background": "light"
     },
     "output_type": "display_data"
    }
   ],
   "source": [
    "fit_divs = Fitter(estadias_div_filtrada)\n",
    "fit_divs.fit()\n",
    "fit_divs.summary()"
   ]
  },
  {
   "cell_type": "code",
   "execution_count": 45,
   "metadata": {},
   "outputs": [
    {
     "name": "stdout",
     "output_type": "stream",
     "text": [
      "Approach 1: The p-value approach to hypothesis testing in the decision rule\n",
      "chisquare-score is: 0.016832501953262788  and p value is: 0.8967720298350979\n",
      "Failed to reject the null hypothesis.\n"
     ]
    },
    {
     "data": {
      "image/png": "[encoded data removed]",
      "text/plain": [
       "<Figure size 432x288 with 1 Axes>"
      ]
     },
     "metadata": {
      "needs_background": "light"
     },
     "output_type": "display_data"
    }
   ],
   "source": [
    "result_div = fit_divs.summary()\n",
    "\n",
    "# significance level\n",
    "alpha = 0.05\n",
    "\n",
    "# Calcualtion of Chisquare\n",
    "chi_square = result_div['sumsquare_error'][0]\n",
    "\n",
    "print(\"Approach 1: The p-value approach to hypothesis testing in the decision rule\")\n",
    "p_value = 1 - stats.chi2.cdf(chi_square, 1)\n",
    "conclusion = \"Failed to reject the null hypothesis.\"\n",
    "\n",
    "if p_value <= alpha:\n",
    "    conclusion = \"Null Hypothesis is rejected.\"\n",
    "        \n",
    "print(\"chisquare-score is:\", chi_square, \" and p value is:\", p_value)\n",
    "print(conclusion)"
   ]
  },
  {
   "cell_type": "code",
   "execution_count": 46,
   "metadata": {},
   "outputs": [
    {
     "data": {
      "text/html": [
       "<div>\n",
       "<style scoped>\n",
       "    .dataframe tbody tr th:only-of-type {\n",
       "        vertical-align: middle;\n",
       "    }\n",
       "\n",
       "    .dataframe tbody tr th {\n",
       "        vertical-align: top;\n",
       "    }\n",
       "\n",
       "    .dataframe thead th {\n",
       "        text-align: right;\n",
       "    }\n",
       "</style>\n",
       "<table border=\"1\" class=\"dataframe\">\n",
       "  <thead>\n",
       "    <tr style=\"text-align: right;\">\n",
       "      <th></th>\n",
       "      <th>sumsquare_error</th>\n",
       "      <th>aic</th>\n",
       "      <th>bic</th>\n",
       "      <th>kl_div</th>\n",
       "    </tr>\n",
       "  </thead>\n",
       "  <tbody>\n",
       "    <tr>\n",
       "      <th>gamma</th>\n",
       "      <td>0.018612</td>\n",
       "      <td>967.707132</td>\n",
       "      <td>-1264.499314</td>\n",
       "      <td>inf</td>\n",
       "    </tr>\n",
       "    <tr>\n",
       "      <th>exponpow</th>\n",
       "      <td>0.019042</td>\n",
       "      <td>948.984215</td>\n",
       "      <td>-1261.236980</td>\n",
       "      <td>inf</td>\n",
       "    </tr>\n",
       "    <tr>\n",
       "      <th>lognorm</th>\n",
       "      <td>0.021999</td>\n",
       "      <td>997.222656</td>\n",
       "      <td>-1240.592805</td>\n",
       "      <td>inf</td>\n",
       "    </tr>\n",
       "    <tr>\n",
       "      <th>expon</th>\n",
       "      <td>0.022224</td>\n",
       "      <td>956.713598</td>\n",
       "      <td>-1244.101250</td>\n",
       "      <td>inf</td>\n",
       "    </tr>\n",
       "    <tr>\n",
       "      <th>powerlaw</th>\n",
       "      <td>0.024566</td>\n",
       "      <td>884.985346</td>\n",
       "      <td>-1224.812092</td>\n",
       "      <td>inf</td>\n",
       "    </tr>\n",
       "  </tbody>\n",
       "</table>\n",
       "</div>"
      ],
      "text/plain": [
       "          sumsquare_error         aic          bic  kl_div\n",
       "gamma            0.018612  967.707132 -1264.499314     inf\n",
       "exponpow         0.019042  948.984215 -1261.236980     inf\n",
       "lognorm          0.021999  997.222656 -1240.592805     inf\n",
       "expon            0.022224  956.713598 -1244.101250     inf\n",
       "powerlaw         0.024566  884.985346 -1224.812092     inf"
      ]
     },
     "execution_count": 46,
     "metadata": {},
     "output_type": "execute_result"
    },
    {
     "data": {
      "image/png": "[encoded data removed]",
      "text/plain": [
       "<Figure size 432x288 with 1 Axes>"
      ]
     },
     "metadata": {
      "needs_background": "light"
     },
     "output_type": "display_data"
    }
   ],
   "source": [
    "fit_common_divs = Fitter(estadias_div_filtrada, distributions = get_common_distributions())\n",
    "fit_common_divs.fit()\n",
    "fit_common_divs.summary()"
   ]
  },
  {
   "cell_type": "code",
   "execution_count": 47,
   "metadata": {},
   "outputs": [
    {
     "name": "stdout",
     "output_type": "stream",
     "text": [
      "Approach 1: The p-value approach to hypothesis testing in the decision rule\n",
      "chisquare-score is: 0.018612469239901622  and p value is: 0.999997502688322\n",
      "Failed to reject the null hypothesis.\n"
     ]
    },
    {
     "data": {
      "image/png": "[encoded data removed]",
      "text/plain": [
       "<Figure size 432x288 with 1 Axes>"
      ]
     },
     "metadata": {
      "needs_background": "light"
     },
     "output_type": "display_data"
    }
   ],
   "source": [
    "result_div = fit_common_divs.summary()\n",
    "\n",
    "# significance level\n",
    "alpha = 0.05\n",
    "\n",
    "# Calcualtion of Chisquare\n",
    "chi_square = result_div['sumsquare_error'][0]\n",
    "\n",
    "print(\"Approach 1: The p-value approach to hypothesis testing in the decision rule\")\n",
    "p_value = 1 - stats.chi2.cdf(chi_square, 5)\n",
    "conclusion = \"Failed to reject the null hypothesis.\"\n",
    "\n",
    "if p_value <= alpha:\n",
    "    conclusion = \"Null Hypothesis is rejected.\"\n",
    "        \n",
    "print(\"chisquare-score is:\", chi_square, \" and p value is:\", p_value)\n",
    "print(conclusion)"
   ]
  },
  {
   "cell_type": "code",
   "execution_count": 48,
   "metadata": {},
   "outputs": [
    {
     "data": {
      "text/html": [
       "<div>\n",
       "<style scoped>\n",
       "    .dataframe tbody tr th:only-of-type {\n",
       "        vertical-align: middle;\n",
       "    }\n",
       "\n",
       "    .dataframe tbody tr th {\n",
       "        vertical-align: top;\n",
       "    }\n",
       "\n",
       "    .dataframe thead th {\n",
       "        text-align: right;\n",
       "    }\n",
       "</style>\n",
       "<table border=\"1\" class=\"dataframe\">\n",
       "  <thead>\n",
       "    <tr style=\"text-align: right;\">\n",
       "      <th></th>\n",
       "      <th>sumsquare_error</th>\n",
       "      <th>aic</th>\n",
       "      <th>bic</th>\n",
       "      <th>kl_div</th>\n",
       "    </tr>\n",
       "  </thead>\n",
       "  <tbody>\n",
       "    <tr>\n",
       "      <th>expon</th>\n",
       "      <td>0.022224</td>\n",
       "      <td>956.713598</td>\n",
       "      <td>-1244.10125</td>\n",
       "      <td>inf</td>\n",
       "    </tr>\n",
       "  </tbody>\n",
       "</table>\n",
       "</div>"
      ],
      "text/plain": [
       "       sumsquare_error         aic         bic  kl_div\n",
       "expon         0.022224  956.713598 -1244.10125     inf"
      ]
     },
     "execution_count": 48,
     "metadata": {},
     "output_type": "execute_result"
    },
    {
     "data": {
      "image/png": "[encoded data removed]",
      "text/plain": [
       "<Figure size 432x288 with 1 Axes>"
      ]
     },
     "metadata": {
      "needs_background": "light"
     },
     "output_type": "display_data"
    }
   ],
   "source": [
    "fit_expon_divs = Fitter(estadias_div_filtrada, distributions = ['expon'])\n",
    "fit_expon_divs.fit()\n",
    "fit_expon_divs.summary()"
   ]
  },
  {
   "cell_type": "code",
   "execution_count": 51,
   "metadata": {},
   "outputs": [
    {
     "name": "stdout",
     "output_type": "stream",
     "text": [
      "Approach 1: The p-value approach to hypothesis testing in the decision rule\n",
      "chisquare-score is: 0.022224177027236797  and p value is: 0.8814922786903376\n",
      "Failed to reject the null hypothesis.\n"
     ]
    },
    {
     "data": {
      "image/png": "[encoded data removed]",
      "text/plain": [
       "<Figure size 432x288 with 1 Axes>"
      ]
     },
     "metadata": {
      "needs_background": "light"
     },
     "output_type": "display_data"
    }
   ],
   "source": [
    "result_div = fit_expon_divs.summary()\n",
    "\n",
    "# significance level\n",
    "alpha = 0.05\n",
    "\n",
    "# Calcualtion of Chisquare\n",
    "chi_square = result_div['sumsquare_error'][0]\n",
    "\n",
    "print(\"Approach 1: The p-value approach to hypothesis testing in the decision rule\")\n",
    "p_value = 1 - stats.chi2.cdf(chi_square, 1)\n",
    "conclusion = \"Failed to reject the null hypothesis.\"\n",
    "\n",
    "if p_value <= alpha:\n",
    "    conclusion = \"Null Hypothesis is rejected.\"\n",
    "        \n",
    "print(\"chisquare-score is:\", chi_square, \" and p value is:\", p_value)\n",
    "print(conclusion)"
   ]
  },
  {
   "cell_type": "code",
   "execution_count": 52,
   "metadata": {},
   "outputs": [
    {
     "data": {
      "text/plain": [
       "{'expon': (0.016666666666666666, 19.637412587412584)}"
      ]
     },
     "execution_count": 52,
     "metadata": {},
     "output_type": "execute_result"
    }
   ],
   "source": [
    "dic_distribuciones['DIV'] = fit_expon_divs.get_best()\n",
    "dic_distribuciones['DIV'] # (location, scale)"
   ]
  },
  {
   "cell_type": "markdown",
   "metadata": {},
   "source": [
    "### Distribución URGs"
   ]
  },
  {
   "cell_type": "code",
   "execution_count": 54,
   "metadata": {},
   "outputs": [
    {
     "name": "stdout",
     "output_type": "stream",
     "text": [
      "2.6080282227307396\n",
      "874\n"
     ]
    },
    {
     "data": {
      "text/plain": [
       "(array([343., 196., 129.,  96.,  52.,  32.,  19.,   5.,   1.,   1.]),\n",
       " array([ 0.        ,  1.35333333,  2.70666667,  4.06      ,  5.41333333,\n",
       "         6.76666667,  8.12      ,  9.47333333, 10.82666667, 12.18      ,\n",
       "        13.53333333]),\n",
       " <BarContainer object of 10 artists>)"
      ]
     },
     "execution_count": 54,
     "metadata": {},
     "output_type": "execute_result"
    },
    {
     "data": {
      "image/png": "[encoded data removed]",
      "text/plain": [
       "<Figure size 432x288 with 1 Axes>"
      ]
     },
     "metadata": {
      "needs_background": "light"
     },
     "output_type": "display_data"
    }
   ],
   "source": [
    "print(np.mean(estadias_urg))\n",
    "print(len(estadias_urg))\n",
    "plt.hist(estadias_urg)"
   ]
  },
  {
   "cell_type": "code",
   "execution_count": 55,
   "metadata": {},
   "outputs": [
    {
     "data": {
      "text/plain": [
       "{'whiskers': [<matplotlib.lines.Line2D at 0x7fa32f948520>,\n",
       "  <matplotlib.lines.Line2D at 0x7fa32f9480a0>],\n",
       " 'caps': [<matplotlib.lines.Line2D at 0x7fa32f948c10>,\n",
       "  <matplotlib.lines.Line2D at 0x7fa32fdd4460>],\n",
       " 'boxes': [<matplotlib.lines.Line2D at 0x7fa32f948670>],\n",
       " 'medians': [<matplotlib.lines.Line2D at 0x7fa32fdd41f0>],\n",
       " 'fliers': [<matplotlib.lines.Line2D at 0x7fa32fdd42e0>],\n",
       " 'means': []}"
      ]
     },
     "execution_count": 55,
     "metadata": {},
     "output_type": "execute_result"
    },
    {
     "data": {
      "image/png": "[encoded data removed]",
      "text/plain": [
       "<Figure size 432x288 with 1 Axes>"
      ]
     },
     "metadata": {
      "needs_background": "light"
     },
     "output_type": "display_data"
    }
   ],
   "source": [
    "plt.boxplot(estadias_urg)"
   ]
  },
  {
   "cell_type": "code",
   "execution_count": 56,
   "metadata": {},
   "outputs": [
    {
     "name": "stderr",
     "output_type": "stream",
     "text": [
      "WARNING:root:SKIPPED kstwo distribution (taking more than 30 seconds)\n",
      "WARNING:root:SKIPPED levy_stable distribution (taking more than 30 seconds)\n",
      "WARNING:root:SKIPPED rv_continuous distribution (taking more than 30 seconds)\n",
      "WARNING:root:SKIPPED rv_histogram distribution (taking more than 30 seconds)\n"
     ]
    },
    {
     "data": {
      "text/html": [
       "<div>\n",
       "<style scoped>\n",
       "    .dataframe tbody tr th:only-of-type {\n",
       "        vertical-align: middle;\n",
       "    }\n",
       "\n",
       "    .dataframe tbody tr th {\n",
       "        vertical-align: top;\n",
       "    }\n",
       "\n",
       "    .dataframe thead th {\n",
       "        text-align: right;\n",
       "    }\n",
       "</style>\n",
       "<table border=\"1\" class=\"dataframe\">\n",
       "  <thead>\n",
       "    <tr style=\"text-align: right;\">\n",
       "      <th></th>\n",
       "      <th>sumsquare_error</th>\n",
       "      <th>aic</th>\n",
       "      <th>bic</th>\n",
       "      <th>kl_div</th>\n",
       "    </tr>\n",
       "  </thead>\n",
       "  <tbody>\n",
       "    <tr>\n",
       "      <th>beta</th>\n",
       "      <td>0.079694</td>\n",
       "      <td>744.406346</td>\n",
       "      <td>-8103.416814</td>\n",
       "      <td>inf</td>\n",
       "    </tr>\n",
       "    <tr>\n",
       "      <th>exponweib</th>\n",
       "      <td>0.079804</td>\n",
       "      <td>722.330845</td>\n",
       "      <td>-8102.212743</td>\n",
       "      <td>inf</td>\n",
       "    </tr>\n",
       "    <tr>\n",
       "      <th>gengamma</th>\n",
       "      <td>0.080355</td>\n",
       "      <td>752.874324</td>\n",
       "      <td>-8096.198936</td>\n",
       "      <td>inf</td>\n",
       "    </tr>\n",
       "    <tr>\n",
       "      <th>gompertz</th>\n",
       "      <td>0.081410</td>\n",
       "      <td>756.292559</td>\n",
       "      <td>-8091.571462</td>\n",
       "      <td>inf</td>\n",
       "    </tr>\n",
       "    <tr>\n",
       "      <th>genexpon</th>\n",
       "      <td>0.081590</td>\n",
       "      <td>752.989280</td>\n",
       "      <td>-8076.090195</td>\n",
       "      <td>inf</td>\n",
       "    </tr>\n",
       "  </tbody>\n",
       "</table>\n",
       "</div>"
      ],
      "text/plain": [
       "           sumsquare_error         aic          bic  kl_div\n",
       "beta              0.079694  744.406346 -8103.416814     inf\n",
       "exponweib         0.079804  722.330845 -8102.212743     inf\n",
       "gengamma          0.080355  752.874324 -8096.198936     inf\n",
       "gompertz          0.081410  756.292559 -8091.571462     inf\n",
       "genexpon          0.081590  752.989280 -8076.090195     inf"
      ]
     },
     "execution_count": 56,
     "metadata": {},
     "output_type": "execute_result"
    },
    {
     "data": {
      "image/png": "[encoded data removed]",
      "text/plain": [
       "<Figure size 432x288 with 1 Axes>"
      ]
     },
     "metadata": {
      "needs_background": "light"
     },
     "output_type": "display_data"
    }
   ],
   "source": [
    "fit_urg = Fitter(estadias_urg)\n",
    "fit_urg.fit()\n",
    "fit_urg.summary()"
   ]
  },
  {
   "cell_type": "code",
   "execution_count": 57,
   "metadata": {},
   "outputs": [
    {
     "name": "stdout",
     "output_type": "stream",
     "text": [
      "Approach 1: The p-value approach to hypothesis testing in the decision rule\n",
      "chisquare-score is: 0.07969394603527917  and p value is: 0.7777125946930997\n",
      "Failed to reject the null hypothesis.\n"
     ]
    },
    {
     "data": {
      "image/png": "[encoded data removed]",
      "text/plain": [
       "<Figure size 432x288 with 1 Axes>"
      ]
     },
     "metadata": {
      "needs_background": "light"
     },
     "output_type": "display_data"
    }
   ],
   "source": [
    "result_urg = fit_urg.summary()\n",
    "\n",
    "# significance level\n",
    "alpha = 0.05\n",
    "\n",
    "# Calcualtion of Chisquare\n",
    "chi_square = result_urg['sumsquare_error'][0]\n",
    "\n",
    "print(\"Approach 1: The p-value approach to hypothesis testing in the decision rule\")\n",
    "p_value = 1 - stats.chi2.cdf(chi_square, 1)\n",
    "conclusion = \"Failed to reject the null hypothesis.\"\n",
    "\n",
    "if p_value <= alpha:\n",
    "    conclusion = \"Null Hypothesis is rejected.\"\n",
    "        \n",
    "print(\"chisquare-score is:\", chi_square, \" and p value is:\", p_value)\n",
    "print(conclusion)"
   ]
  },
  {
   "cell_type": "code",
   "execution_count": 58,
   "metadata": {},
   "outputs": [
    {
     "data": {
      "text/html": [
       "<div>\n",
       "<style scoped>\n",
       "    .dataframe tbody tr th:only-of-type {\n",
       "        vertical-align: middle;\n",
       "    }\n",
       "\n",
       "    .dataframe tbody tr th {\n",
       "        vertical-align: top;\n",
       "    }\n",
       "\n",
       "    .dataframe thead th {\n",
       "        text-align: right;\n",
       "    }\n",
       "</style>\n",
       "<table border=\"1\" class=\"dataframe\">\n",
       "  <thead>\n",
       "    <tr style=\"text-align: right;\">\n",
       "      <th></th>\n",
       "      <th>sumsquare_error</th>\n",
       "      <th>aic</th>\n",
       "      <th>bic</th>\n",
       "      <th>kl_div</th>\n",
       "    </tr>\n",
       "  </thead>\n",
       "  <tbody>\n",
       "    <tr>\n",
       "      <th>gamma</th>\n",
       "      <td>0.083640</td>\n",
       "      <td>723.895962</td>\n",
       "      <td>-8067.952857</td>\n",
       "      <td>inf</td>\n",
       "    </tr>\n",
       "    <tr>\n",
       "      <th>expon</th>\n",
       "      <td>0.087701</td>\n",
       "      <td>714.629433</td>\n",
       "      <td>-8033.290019</td>\n",
       "      <td>inf</td>\n",
       "    </tr>\n",
       "    <tr>\n",
       "      <th>exponpow</th>\n",
       "      <td>0.091003</td>\n",
       "      <td>783.284018</td>\n",
       "      <td>-7994.207279</td>\n",
       "      <td>inf</td>\n",
       "    </tr>\n",
       "    <tr>\n",
       "      <th>lognorm</th>\n",
       "      <td>0.125726</td>\n",
       "      <td>723.348321</td>\n",
       "      <td>-7711.722933</td>\n",
       "      <td>inf</td>\n",
       "    </tr>\n",
       "    <tr>\n",
       "      <th>chi2</th>\n",
       "      <td>0.241647</td>\n",
       "      <td>757.126628</td>\n",
       "      <td>-7140.675930</td>\n",
       "      <td>inf</td>\n",
       "    </tr>\n",
       "  </tbody>\n",
       "</table>\n",
       "</div>"
      ],
      "text/plain": [
       "          sumsquare_error         aic          bic  kl_div\n",
       "gamma            0.083640  723.895962 -8067.952857     inf\n",
       "expon            0.087701  714.629433 -8033.290019     inf\n",
       "exponpow         0.091003  783.284018 -7994.207279     inf\n",
       "lognorm          0.125726  723.348321 -7711.722933     inf\n",
       "chi2             0.241647  757.126628 -7140.675930     inf"
      ]
     },
     "execution_count": 58,
     "metadata": {},
     "output_type": "execute_result"
    },
    {
     "data": {
      "image/png": "[encoded data removed]",
      "text/plain": [
       "<Figure size 432x288 with 1 Axes>"
      ]
     },
     "metadata": {
      "needs_background": "light"
     },
     "output_type": "display_data"
    }
   ],
   "source": [
    "fit_common_urg = Fitter(estadias_urg, distributions= get_common_distributions())\n",
    "fit_common_urg.fit()\n",
    "fit_common_urg.summary()"
   ]
  },
  {
   "cell_type": "code",
   "execution_count": 59,
   "metadata": {},
   "outputs": [
    {
     "name": "stdout",
     "output_type": "stream",
     "text": [
      "Approach 1: The p-value approach to hypothesis testing in the decision rule\n",
      "chisquare-score is: 0.08363982258175125  and p value is: 0.7724241214303732\n",
      "Failed to reject the null hypothesis.\n"
     ]
    },
    {
     "data": {
      "image/png": "[encoded data removed]",
      "text/plain": [
       "<Figure size 432x288 with 1 Axes>"
      ]
     },
     "metadata": {
      "needs_background": "light"
     },
     "output_type": "display_data"
    }
   ],
   "source": [
    "result_urg = fit_common_urg.summary()\n",
    "\n",
    "# significance level\n",
    "alpha = 0.05\n",
    "\n",
    "# Calcualtion of Chisquare\n",
    "chi_square = result_urg['sumsquare_error'][0]\n",
    "\n",
    "print(\"Approach 1: The p-value approach to hypothesis testing in the decision rule\")\n",
    "p_value = 1 - stats.chi2.cdf(chi_square, 1)\n",
    "conclusion = \"Failed to reject the null hypothesis.\"\n",
    "\n",
    "if p_value <= alpha:\n",
    "    conclusion = \"Null Hypothesis is rejected.\"\n",
    "        \n",
    "print(\"chisquare-score is:\", chi_square, \" and p value is:\", p_value)\n",
    "print(conclusion)"
   ]
  },
  {
   "cell_type": "code",
   "execution_count": 60,
   "metadata": {},
   "outputs": [
    {
     "data": {
      "text/html": [
       "<div>\n",
       "<style scoped>\n",
       "    .dataframe tbody tr th:only-of-type {\n",
       "        vertical-align: middle;\n",
       "    }\n",
       "\n",
       "    .dataframe tbody tr th {\n",
       "        vertical-align: top;\n",
       "    }\n",
       "\n",
       "    .dataframe thead th {\n",
       "        text-align: right;\n",
       "    }\n",
       "</style>\n",
       "<table border=\"1\" class=\"dataframe\">\n",
       "  <thead>\n",
       "    <tr style=\"text-align: right;\">\n",
       "      <th></th>\n",
       "      <th>sumsquare_error</th>\n",
       "      <th>aic</th>\n",
       "      <th>bic</th>\n",
       "      <th>kl_div</th>\n",
       "    </tr>\n",
       "  </thead>\n",
       "  <tbody>\n",
       "    <tr>\n",
       "      <th>expon</th>\n",
       "      <td>0.087701</td>\n",
       "      <td>714.629433</td>\n",
       "      <td>-8033.290019</td>\n",
       "      <td>inf</td>\n",
       "    </tr>\n",
       "  </tbody>\n",
       "</table>\n",
       "</div>"
      ],
      "text/plain": [
       "       sumsquare_error         aic          bic  kl_div\n",
       "expon         0.087701  714.629433 -8033.290019     inf"
      ]
     },
     "execution_count": 60,
     "metadata": {},
     "output_type": "execute_result"
    },
    {
     "data": {
      "image/png": "[encoded data removed]",
      "text/plain": [
       "<Figure size 432x288 with 1 Axes>"
      ]
     },
     "metadata": {
      "needs_background": "light"
     },
     "output_type": "display_data"
    }
   ],
   "source": [
    "fit_expon_urg = Fitter(estadias_urg, distributions= [\"expon\"])\n",
    "fit_expon_urg.fit()\n",
    "fit_expon_urg.summary()"
   ]
  },
  {
   "cell_type": "code",
   "execution_count": 61,
   "metadata": {},
   "outputs": [
    {
     "name": "stdout",
     "output_type": "stream",
     "text": [
      "Approach 1: The p-value approach to hypothesis testing in the decision rule\n",
      "chisquare-score is: 0.08770064641715104  and p value is: 0.7671209154163832\n",
      "Failed to reject the null hypothesis.\n"
     ]
    },
    {
     "data": {
      "image/png": "[encoded data removed]",
      "text/plain": [
       "<Figure size 432x288 with 1 Axes>"
      ]
     },
     "metadata": {
      "needs_background": "light"
     },
     "output_type": "display_data"
    }
   ],
   "source": [
    "result_urg = fit_expon_urg.summary()\n",
    "\n",
    "# significance level\n",
    "alpha = 0.05\n",
    "\n",
    "# Calcualtion of Chisquare\n",
    "chi_square = result_urg['sumsquare_error'][0]\n",
    "\n",
    "print(\"Approach 1: The p-value approach to hypothesis testing in the decision rule\")\n",
    "p_value = 1 - stats.chi2.cdf(chi_square, 1)\n",
    "conclusion = \"Failed to reject the null hypothesis.\"\n",
    "\n",
    "if p_value <= alpha:\n",
    "    conclusion = \"Null Hypothesis is rejected.\"\n",
    "        \n",
    "print(\"chisquare-score is:\", chi_square, \" and p value is:\", p_value)\n",
    "print(conclusion)"
   ]
  },
  {
   "cell_type": "code",
   "execution_count": 62,
   "metadata": {},
   "outputs": [
    {
     "data": {
      "text/plain": [
       "{'expon': (0.0, 2.6080282227307396)}"
      ]
     },
     "execution_count": 62,
     "metadata": {},
     "output_type": "execute_result"
    }
   ],
   "source": [
    "dic_distribuciones['URG'] = fit_expon_urg.get_best()\n",
    "dic_distribuciones['URG']   # (location, scale)"
   ]
  },
  {
   "cell_type": "markdown",
   "metadata": {},
   "source": [
    "# Ajuste a exponencial para la validación teorica de la simulación\n",
    "Con estas tasas se realiza el modelo MMK con el que se ve la tasa de ocupación y podemos saber si la simluación debería diverger o no."
   ]
  },
  {
   "cell_type": "code",
   "execution_count": 122,
   "metadata": {},
   "outputs": [
    {
     "data": {
      "text/html": [
       "<div>\n",
       "<style scoped>\n",
       "    .dataframe tbody tr th:only-of-type {\n",
       "        vertical-align: middle;\n",
       "    }\n",
       "\n",
       "    .dataframe tbody tr th {\n",
       "        vertical-align: top;\n",
       "    }\n",
       "\n",
       "    .dataframe thead th {\n",
       "        text-align: right;\n",
       "    }\n",
       "</style>\n",
       "<table border=\"1\" class=\"dataframe\">\n",
       "  <thead>\n",
       "    <tr style=\"text-align: right;\">\n",
       "      <th></th>\n",
       "      <th>sumsquare_error</th>\n",
       "      <th>aic</th>\n",
       "      <th>bic</th>\n",
       "      <th>kl_div</th>\n",
       "    </tr>\n",
       "  </thead>\n",
       "  <tbody>\n",
       "    <tr>\n",
       "      <th>expon</th>\n",
       "      <td>0.00231</td>\n",
       "      <td>3132.805283</td>\n",
       "      <td>-6997.48966</td>\n",
       "      <td>inf</td>\n",
       "    </tr>\n",
       "  </tbody>\n",
       "</table>\n",
       "</div>"
      ],
      "text/plain": [
       "       sumsquare_error          aic         bic  kl_div\n",
       "expon          0.00231  3132.805283 -6997.48966     inf"
      ]
     },
     "execution_count": 122,
     "metadata": {},
     "output_type": "execute_result"
    },
    {
     "data": {
      "image/png": "[encoded data removed]",
      "text/plain": [
       "<Figure size 432x288 with 1 Axes>"
      ]
     },
     "metadata": {
      "needs_background": "light"
     },
     "output_type": "display_data"
    }
   ],
   "source": [
    "fit_estadias_div_exp = Fitter(estadias_div, distributions=[\"expon\"])\n",
    "fit_estadias_div_exp.fit()\n",
    "fit_estadias_div_exp.summary()"
   ]
  },
  {
   "cell_type": "code",
   "execution_count": 84,
   "metadata": {},
   "outputs": [
    {
     "data": {
      "text/plain": [
       "{'expon': {'loc': 0.0, 'scale': 46.626873156342185}}"
      ]
     },
     "execution_count": 84,
     "metadata": {},
     "output_type": "execute_result"
    }
   ],
   "source": [
    "fit_estadias_div_exp.get_best(method = \"sumsquare_error\")"
   ]
  },
  {
   "cell_type": "code",
   "execution_count": 85,
   "metadata": {},
   "outputs": [
    {
     "data": {
      "text/html": [
       "<div>\n",
       "<style scoped>\n",
       "    .dataframe tbody tr th:only-of-type {\n",
       "        vertical-align: middle;\n",
       "    }\n",
       "\n",
       "    .dataframe tbody tr th {\n",
       "        vertical-align: top;\n",
       "    }\n",
       "\n",
       "    .dataframe thead th {\n",
       "        text-align: right;\n",
       "    }\n",
       "</style>\n",
       "<table border=\"1\" class=\"dataframe\">\n",
       "  <thead>\n",
       "    <tr style=\"text-align: right;\">\n",
       "      <th></th>\n",
       "      <th>sumsquare_error</th>\n",
       "      <th>aic</th>\n",
       "      <th>bic</th>\n",
       "      <th>kl_div</th>\n",
       "    </tr>\n",
       "  </thead>\n",
       "  <tbody>\n",
       "    <tr>\n",
       "      <th>expon</th>\n",
       "      <td>0.04383</td>\n",
       "      <td>1799.537581</td>\n",
       "      <td>-18699.935716</td>\n",
       "      <td>inf</td>\n",
       "    </tr>\n",
       "  </tbody>\n",
       "</table>\n",
       "</div>"
      ],
      "text/plain": [
       "       sumsquare_error          aic           bic  kl_div\n",
       "expon          0.04383  1799.537581 -18699.935716     inf"
      ]
     },
     "execution_count": 85,
     "metadata": {},
     "output_type": "execute_result"
    },
    {
     "data": {
      "image/png": "[encoded data removed]",
      "text/plain": [
       "<Figure size 432x288 with 1 Axes>"
      ]
     },
     "metadata": {
      "needs_background": "light"
     },
     "output_type": "display_data"
    }
   ],
   "source": [
    "fit_estadias_urg_exp = Fitter(estadias_urg, distributions=[\"expon\"])\n",
    "fit_estadias_urg_exp.fit()\n",
    "fit_estadias_urg_exp.summary()"
   ]
  },
  {
   "cell_type": "code",
   "execution_count": 86,
   "metadata": {},
   "outputs": [
    {
     "data": {
      "text/plain": [
       "{'expon': {'loc': 0.0, 'scale': 4.912511803588291}}"
      ]
     },
     "execution_count": 86,
     "metadata": {},
     "output_type": "execute_result"
    }
   ],
   "source": [
    "fit_estadias_urg_exp.get_best(method = \"sumsquare_error\")"
   ]
  },
  {
   "cell_type": "code",
   "execution_count": 91,
   "metadata": {},
   "outputs": [
    {
     "data": {
      "text/html": [
       "<div>\n",
       "<style scoped>\n",
       "    .dataframe tbody tr th:only-of-type {\n",
       "        vertical-align: middle;\n",
       "    }\n",
       "\n",
       "    .dataframe tbody tr th {\n",
       "        vertical-align: top;\n",
       "    }\n",
       "\n",
       "    .dataframe thead th {\n",
       "        text-align: right;\n",
       "    }\n",
       "</style>\n",
       "<table border=\"1\" class=\"dataframe\">\n",
       "  <thead>\n",
       "    <tr style=\"text-align: right;\">\n",
       "      <th></th>\n",
       "      <th>sumsquare_error</th>\n",
       "      <th>aic</th>\n",
       "      <th>bic</th>\n",
       "      <th>kl_div</th>\n",
       "    </tr>\n",
       "  </thead>\n",
       "  <tbody>\n",
       "    <tr>\n",
       "      <th>expon</th>\n",
       "      <td>29.8361</td>\n",
       "      <td>350.31629</td>\n",
       "      <td>-1069.583318</td>\n",
       "      <td>inf</td>\n",
       "    </tr>\n",
       "  </tbody>\n",
       "</table>\n",
       "</div>"
      ],
      "text/plain": [
       "       sumsquare_error        aic          bic  kl_div\n",
       "expon          29.8361  350.31629 -1069.583318     inf"
      ]
     },
     "execution_count": 91,
     "metadata": {},
     "output_type": "execute_result"
    },
    {
     "data": {
      "image/png": "[encoded data removed]",
      "text/plain": [
       "<Figure size 432x288 with 1 Axes>"
      ]
     },
     "metadata": {
      "needs_background": "light"
     },
     "output_type": "display_data"
    }
   ],
   "source": [
    "fit_estadias_opr_exp = Fitter(datos_operaciones['DURACION (hrs)'], distributions=[\"expon\"])\n",
    "fit_estadias_opr_exp.fit()\n",
    "fit_estadias_opr_exp.summary()"
   ]
  },
  {
   "cell_type": "code",
   "execution_count": 92,
   "metadata": {},
   "outputs": [
    {
     "data": {
      "text/plain": [
       "{'expon': {'loc': 0.0, 'scale': 2.4310679611650485}}"
      ]
     },
     "execution_count": 92,
     "metadata": {},
     "output_type": "execute_result"
    }
   ],
   "source": [
    "fit_estadias_opr_exp.get_best(method = \"sumsquare_error\")"
   ]
  }
 ],
 "metadata": {
  "interpreter": {
   "hash": "447b9f6d9193ed353982208596bd9bf11ade324ab35f2e41c29ceead09cfa85e"
  },
  "kernelspec": {
   "display_name": "Python 3.8.8 ('base')",
   "language": "python",
   "name": "python3"
  },
  "language_info": {
   "codemirror_mode": {
    "name": "ipython",
    "version": 3
   },
   "file_extension": ".py",
   "mimetype": "text/x-python",
   "name": "python",
   "nbconvert_exporter": "python",
   "pygments_lexer": "ipython3",
   "version": "3.8.8"
  },
  "vscode": {
   "interpreter": {
    "hash": "ae4c2b3b6edf159483116aa1e52121c1218932e443664ecd0a55c2d4ebccfbb6"
   }
  }
 },
 "nbformat": 4,
 "nbformat_minor": 2
}
