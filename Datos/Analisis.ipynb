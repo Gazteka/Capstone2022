{
 "cells": [
  {
   "cell_type": "markdown",
   "metadata": {},
   "source": [
    "# Primer set\n"
   ]
  },
  {
   "cell_type": "code",
   "execution_count": 2,
   "metadata": {},
   "outputs": [],
   "source": [
    "import pandas as pd\n",
    "import numpy as np\n",
    "import matplotlib.pyplot as plt\n",
    "from fitter import Fitter, get_common_distributions, get_distributions"
   ]
  },
  {
   "cell_type": "code",
   "execution_count": 3,
   "metadata": {},
   "outputs": [],
   "source": [
    "# Abrimos y ajustamos los datos para leerlos\n",
    "datos_pacientes = pd.read_csv(\"Datos.csv\",sep = \";\")\n",
    "datos_pacientes[\"Marca de tiempo\"] = pd.to_datetime(datos_pacientes[\"Marca de tiempo\"])\n",
    "datos_operaciones = pd.read_csv(\"Datos operaciones origen urgencias.csv\")\n",
    "\n",
    "datos_operaciones = datos_operaciones.iloc[:,:5]\n",
    "datos_operaciones = datos_operaciones.drop(datos_operaciones.columns[3],axis = 1)"
   ]
  },
  {
   "cell_type": "code",
   "execution_count": 4,
   "metadata": {},
   "outputs": [],
   "source": [
    "#Estas son las áreas que aparecen en el diagrama entregado\n",
    "areas_mapa_profe = [\"URG101_003\",\"DIV101_603\",\"DIV101_604\",\"DIV101_703\",\"DIV102_203\",\"DIV103_107\",\"DIV103_204\",\n",
    "\"DIV104_602\",\"OPR101_011\",\"OPR101_033\",\"OPR102_001\",\"OPR102_003\",\"End\"]"
   ]
  },
  {
   "cell_type": "code",
   "execution_count": 5,
   "metadata": {},
   "outputs": [],
   "source": [
    "# Lo primero que haremos será filtrar los datos para obtener el nodo \"Outisde\"\n",
    "filtro_fuera = (~datos_pacientes[\"Area\"].isin(areas_mapa_profe))\n",
    "datos_pacientes.loc[filtro_fuera,\"Area\"] = \"Outside\""
   ]
  },
  {
   "cell_type": "code",
   "execution_count": 6,
   "metadata": {},
   "outputs": [],
   "source": [
    "#Eliminamos las filas donde el valor actual y el anterior corresponden al nodo outside, dejamos el primero,\n",
    "#marcando así la entrada del paciente al nodo outside, pero solo una vez \n",
    "filtro_doble_fuera = (~datos_pacientes[\"Area\"].isin(areas_mapa_profe))&((~datos_pacientes[\"Area\"].shift(1).isin(areas_mapa_profe)))\n",
    "datos_pacientes = datos_pacientes[~filtro_doble_fuera]\n"
   ]
  },
  {
   "cell_type": "code",
   "execution_count": 7,
   "metadata": {},
   "outputs": [],
   "source": [
    "datos_pacientes[\"Hora derivacion\"] = datos_pacientes[\"Marca de tiempo\"].shift(-1)\n",
    "datos_pacientes[\"Estadia\"] = datos_pacientes[\"Hora derivacion\"]  - datos_pacientes[\"Marca de tiempo\"]\n",
    "datos_pacientes[\"Estadia\"] = datos_pacientes[\"Estadia\"]/np.timedelta64(1,\"h\")\n",
    "datos_pacientes[\"Siguiente Área\"] = datos_pacientes[\"Area\"].shift(-1)"
   ]
  },
  {
   "cell_type": "code",
   "execution_count": 8,
   "metadata": {},
   "outputs": [],
   "source": [
    "import pylab as pl"
   ]
  },
  {
   "cell_type": "code",
   "execution_count": 9,
   "metadata": {},
   "outputs": [],
   "source": [
    "plt.style.use('ggplot')"
   ]
  },
  {
   "cell_type": "code",
   "execution_count": 10,
   "metadata": {},
   "outputs": [
    {
     "name": "stdout",
     "output_type": "stream",
     "text": [
      "Probabilidad de transición desde la sala de urgencias (DIV101_703)\n",
      "Outside       34.680135\n",
      "End           23.456790\n",
      "DIV103_204    11.111111\n",
      "DIV104_602     7.182941\n",
      "DIV101_604     6.060606\n",
      "DIV101_603     5.162738\n",
      "DIV103_107     5.050505\n",
      "DIV102_203     4.040404\n",
      "OPR102_003     3.030303\n",
      "OPR102_001     0.112233\n",
      "OPR101_033     0.112233\n",
      "Name: Siguiente Área, dtype: float64\n"
     ]
    },
    {
     "data": {
      "text/plain": [
       "Text(0.5, 0, 'Horas')"
      ]
     },
     "execution_count": 10,
     "metadata": {},
     "output_type": "execute_result"
    },
    {
     "data": {
      "image/png": "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\n",
      "text/plain": [
       "<Figure size 432x288 with 1 Axes>"
      ]
     },
     "metadata": {},
     "output_type": "display_data"
    }
   ],
   "source": [
    "area = \"DIV101_703\"\n",
    "derivacion_urgencia = datos_pacientes[datos_pacientes[\"Area\"] == area][\"Siguiente Área\"]\n",
    "print(f\"Probabilidad de transición desde la sala de urgencias ({area})\")\n",
    "transiciones = (derivacion_urgencia.value_counts()/derivacion_urgencia.shape[0])*100\n",
    "print(transiciones)\n",
    "estadia_urgencia = datos_pacientes[datos_pacientes[\"Area\"] == area][\"Estadia\"]\n",
    "hist = estadia_urgencia.plot.hist(title = f\"Histograma de Estadía en {area}\",bins = 20)\n",
    "hist.set_xlabel(\"Horas\")"
   ]
  },
  {
   "cell_type": "markdown",
   "metadata": {},
   "source": [
    "# Analizamos caso a a caso"
   ]
  },
  {
   "cell_type": "code",
   "execution_count": 11,
   "metadata": {},
   "outputs": [],
   "source": [
    "set_pacientes = set(datos_pacientes[\"Case ID\"])\n",
    "entrada = \"URG101_003\"\n",
    "salida = \"End\"\n",
    "dic_info_pacientes = dict.fromkeys(set_pacientes,{})\n",
    "for paciente in set_pacientes:\n",
    "    info_paciente = datos_pacientes[datos_pacientes[\"Case ID\"] == paciente]\n",
    "    hora_entrada = info_paciente.iloc[0][\"Marca de tiempo\"]\n",
    "    hora_salida = info_paciente.iloc[-1][\"Marca de tiempo\"]\n",
    "    dic_paciente ={\"Entrada\":hora_entrada,\"Salida\":hora_salida}\n",
    "    duracion = hora_salida - hora_entrada\n",
    "    dic_paciente[\"Duracion\"] = duracion/np.timedelta64(1,\"h\")\n",
    "    procedimiento = list(info_paciente[\"Area\"])\n",
    "    ruta = \"\".join(procedimiento)\n",
    "    dic_paciente[\"Ruta\"] = ruta\n",
    "    dic_info_pacientes[paciente] = dic_paciente\n",
    "    "
   ]
  },
  {
   "cell_type": "code",
   "execution_count": 12,
   "metadata": {},
   "outputs": [],
   "source": [
    "df_info_pacientes = pd.DataFrame(dic_info_pacientes).T\n"
   ]
  },
  {
   "cell_type": "markdown",
   "metadata": {},
   "source": [
    "# Obtenemos el estado actual de los KPI"
   ]
  },
  {
   "cell_type": "markdown",
   "metadata": {},
   "source": [
    "### Lead time promedio"
   ]
  },
  {
   "cell_type": "code",
   "execution_count": 13,
   "metadata": {},
   "outputs": [
    {
     "data": {
      "text/plain": [
       "81.9152056901192"
      ]
     },
     "execution_count": 13,
     "metadata": {},
     "output_type": "execute_result"
    }
   ],
   "source": [
    "df_info_pacientes[\"Duracion\"].mean()"
   ]
  },
  {
   "cell_type": "markdown",
   "metadata": {},
   "source": [
    "### 5% de peores casos"
   ]
  },
  {
   "cell_type": "code",
   "execution_count": 14,
   "metadata": {},
   "outputs": [
    {
     "name": "stdout",
     "output_type": "stream",
     "text": [
      "971.1093023255813\n",
      "453.93333333333334\n",
      "4517.7\n"
     ]
    }
   ],
   "source": [
    "duraciones = df_info_pacientes[\"Duracion\"].sort_values()\n",
    "n_5_peor = int(duraciones.shape[0]*0.05)\n",
    "pct_5_peores_casos = duraciones.iloc[-n_5_peor:]\n",
    "print(pct_5_peores_casos.mean())\n",
    "print(pct_5_peores_casos.min())\n",
    "print(pct_5_peores_casos.max())"
   ]
  },
  {
   "cell_type": "markdown",
   "metadata": {},
   "source": [
    "# Analizamos las llegadas"
   ]
  },
  {
   "cell_type": "markdown",
   "metadata": {},
   "source": [
    "### Histograma de llegadas(solo para llegadas en menos de 24 horas)"
   ]
  },
  {
   "cell_type": "code",
   "execution_count": 15,
   "metadata": {},
   "outputs": [
    {
     "data": {
      "text/plain": [
       "Text(0.5, 1.0, 'Tiempo entre llegadas (Para tiempos menores a 24 horas)')"
      ]
     },
     "execution_count": 15,
     "metadata": {},
     "output_type": "execute_result"
    },
    {
     "data": {
      "image/png": "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\n",
      "text/plain": [
       "<Figure size 432x288 with 1 Axes>"
      ]
     },
     "metadata": {},
     "output_type": "display_data"
    }
   ],
   "source": [
    "llegadas = df_info_pacientes[\"Entrada\"].sort_values()\n",
    "tiempo_entre_llegadas = (llegadas.shift(-1) - llegadas)/np.timedelta64(1,\"h\")\n",
    "hist = tiempo_entre_llegadas[tiempo_entre_llegadas < 24].hist(bins = 24)\n",
    "hist.set_xlabel(\"Horas\")\n",
    "hist.set_title(\"Tiempo entre llegadas (Para tiempos menores a 24 horas)\")"
   ]
  },
  {
   "cell_type": "code",
   "execution_count": 16,
   "metadata": {},
   "outputs": [
    {
     "data": {
      "text/plain": [
       "Text(0.5, 0, 'Hora del día')"
      ]
     },
     "execution_count": 16,
     "metadata": {},
     "output_type": "execute_result"
    },
    {
     "data": {
      "image/png": "iVBORw0KGgoAAAANSUhEUgAAAYEAAAEbCAYAAAA8pDgBAAAAOXRFWHRTb2Z0d2FyZQBNYXRwbG90bGliIHZlcnNpb24zLjMuNCwgaHR0cHM6Ly9tYXRwbG90bGliLm9yZy8QVMy6AAAACXBIWXMAAAsTAAALEwEAmpwYAAAu+UlEQVR4nO3deVhT19o28DuAEBSBYFALzoIDOFVBnGOPsVq1LR5bR3yL1tM6HS2o1dpP1Fr70irGufY467Gt1qOpnTyvEYlDrVJRoYBjnagoIJHBCQPr+8OaGgEJQRJl37/r8rrcw1r72Ss7PFlrTzIhhAAREUmSg70DICIi+2ESICKSMCYBIiIJYxIgIpIwJgEiIgljEiAikjAmASrVH3/8gblz5yIzM9PeoRBVObGxsVi+fDnsfZU+k4CF5syZAz8/v0qpOy4uDjKZDGlpaSVOV5aLFy9CJpPh4MGDxZYVFBRg0KBBcHV1hbe3d6Vsf8OGDXBycqpwPY0aNcLHH39smu7ZsyfGjBlT4Xqflmctnocqq/2fF9Z8Ltbuq0wmw7///W/T9G+//YYRI0agY8eOkMlk5a7vaZJ0EggPD4dMJoNMJoOTkxO8vLzQuXNnzJ07F9nZ2WbrTp06Fb/88ovFdfv5+WHOnDkWrdulSxekp6fDx8enPOFXWP369ZGeno6QkJBiyyZOnIgePXrg/ffft2lMRFVddnY2Bg8ejC1btqBjx472DgcV/xnwnOvevTu2bduGoqIiGAwGHDlyBJ999hlWrVoFvV6PZs2aAQDc3Nzg5ub21LdfUFAAZ2dn1K1b96nXXRZHR8dSt/uvf/3LxtGQlD38HkiBl5cXUlJS7B2GiaR7AgBMf4B9fHwQGBiI0aNH4+jRo6hevTrGjh1rWu/x4aC0tDQMGjQISqUSrq6uaNKkCRYsWADgQTfz/PnzmDt3rqmncfHiRdMwzw8//IBu3bpBLpfjX//6V6nDP8ePH0fHjh0hl8sRGBiIPXv2mJaVVsbJyQkbNmwwTWdkZGDUqFGoU6cO5HI5mjdvjnXr1gEoeTjo9OnT6N+/vynpvfrqqzh37pxp+cMhhEOHDqF9+/aoXr06goODcezYsSe2sxACs2bNQu3ateHm5oahQ4fCYDAUW2/Pnj3o2rUrXF1d4evri1GjRuHGjRtPrNsSy5YtQ4sWLSCXy+Hv74/58+fDaDSalt+4cQNvvvkmatSogTp16mDWrFl46623oFarzWLr2bMnvLy84OHhAZVKhaNHj5pt59KlS+jbty9cXV3RoEEDLFu2rFgsX375JUJCQuDh4QGlUon+/fvjzJkzZut88sknaNKkCVxcXODt7Y0+ffrgzp07pe6fJXVa4scff0SHDh3g4uKC2rVrY/z48bh161a56igrlofH3ZYtW9CvXz/UqFEDM2fOBAAsXrwY9erVQ/Xq1dGnTx9s3ry52HFuTYyWfC5GoxFz5sxB48aNTd+5L774olz7DgD79u1DmzZtIJfL0aZNG+zbt6/YOo8PDy1ZsgTt2rWDm5sb6tati6FDhyI9Pb3c27aG5JNASdzd3TFu3DjExcWVelJ0/PjxyMnJgU6nQ2pqKtauXYt69eoBAHbs2IFGjRphypQpSE9PR3p6OurXr28qO2XKFLz//vtITU1FaGhoqXFERkYiKioKx48fR6dOnfDaa6/hjz/+sHg/7ty5A5VKhZMnT2LLli1ISUnBsmXLUL169VLXf/nll3H37l3o9Xro9Xrk5+ejb9++KCgoMK1XVFSEDz74AEuWLEFCQgIUCgUGDx5s9kf1cUuXLsWiRYuwYMECJCQkoH379pg7d67ZOrGxsXj99dcxdOhQJCYmQqvV4uLFixg4cGCFTp7NmTMHCxcuxP/+7/8iNTUVS5YswRdffGG2/VGjRuHkyZP4/vvvERsbi7S0NGi1WrN68vPzMWHCBPzyyy/4+eef4e/vj759+5qSlBACAwcOxI0bNxAXF4ddu3Zh165dSEhIMKvn3r17mDVrFhISErBnzx44Ojqif//+pjbesWMHoqOjsWTJEpw9exZ79uzBK6+88sR9LKtOSyQmJuK1115Djx49cOLECWzcuBHff/+92Y8hS1gay/Tp0zF8+HAkJSVhwoQJ2LFjB6ZOnYpp06bh5MmTGDZsGKZPn17hGC39XMaMGYMdO3bgiy++QGpqKqKiojB9+nSsXbvW4n2/evUqBgwYgA4dOiAhIQExMTGYPHmyRWUXLlyIpKQk7Ny5E5cvX8bQoUMt3m6FCAl76623RK9evUpc9tNPPwkA4siRI0IIIWbPni2aNm1qWt6mTRsxe/bsUutu2rRpseX79u0TAMSmTZtKnH/lyhWz6TVr1pjWuX//vmjQoIH48MMPSyzzkKOjo1i/fr0QQog1a9YIFxeXYus8dOHCBQFAHDhwwLS+q6uryMzMNK1z7do1IZfLxcaNG4UQQqxfv14AEMeOHTOtc/jwYQFAnDp1qtT28PX1FTNnzjSbN2jQIOHo6GiaVqlUYvr06WbrXLp0SQAQx48fL7Xuhg0binnz5pnV8/bbbwshhLh165ZwdXUVP/30k1mZjRs3Cg8PDyGEEGfOnBEAhE6nMy0vKCgQ9erVK/X4EEKIwsJC4enpKf79738LIYTYs2ePACBOnz5tWicjI0PI5XJTPCW5ceOGACAOHjwohBBi0aJFwt/fXxQUFJRapiyP11mS9evXm7V/WFiYCA4ONltHq9UKmUwmLl68WGo9j7d/WbE8PO4++ugjs/W6dOkiwsLCzOZNnz7d7Di3JkZLPpfff/9dyGQykZqaalZ27ty5om3bthbv64cffigaNGgg7t+/b5r33XffCQBi8+bNpnmPTz8uISFBABBpaWmlrvO0sCdQCvHnL8/Szty/9957+OSTTxASEoLp06dj//79Ftdt6cmgzp07m/7v5OSEjh07lmss8dixYwgICDD1UMqSnJyMgIAAKJVK07w6deqgefPmSE5ONs2TyWRo27atadrX1xcAcP369RLrzc3NxR9//IEuXbqYze/WrZvZdHx8PBYvXmwainJzc0NAQAAA4OzZsxbtQ0n7dOfOHQwaNMis3nfffRc5OTnIzMw0tWmnTp1M5apVq4agoCCzui5cuICRI0fCz88P7u7ucHd3R05ODi5dugQASElJgVKpNJ1HAgBvb280b97crJ4TJ05g4MCBaNy4MWrWrIkGDRoAgKmewYMH4/79+2jYsCHCw8OxefNm5OXlPXE/y6rT0rbq0aOH2TyVSgUhRLmOO0tjefx7kJKSYvYZAObfAWtjtORz+fXXXyGEQFBQkNlx8sknn5Tr2EtJSUHHjh3Nrrp6/DgvSVxcHPr06YP69eujZs2apjLl+fysJfkTw6X57bffIJPJ0KRJkxKXjxo1Cn379sXu3buxb98+vPLKKxg4cKDZOF9patSoYVVM4pEhEQcHh2LzCgsLUVRUZFamvJeflbS+EMJsvoODAxwdHYuVeXzbj8ddVixFRUWYPn06Ro4cWWyZtSfOH8b0zTffmP0ReMjLy8v0/7LiGzBgAJRKJVasWIH69evD2dkZ3bp1Mw1zPN5OJbl9+zZefvlldOvWDevWrTPtV2BgoKkeX19fnDp1Cvv27UNsbCzmzZuH6dOn48iRI2bDiuWp01KlxW/pcVSeWEr6HliynfLGaMnn8vA4+fnnn4sNl5bnO1TStsoqf/nyZfTr1w8jR45EVFQUlEol0tLSoFary/35WYM9gRLk5ubi888/R69evVCrVq1S13vhhRcwatQobNq0CWvXrsWWLVuQm5sL4MEJ58LCwgrF8eglqUajEfHx8WjZsiUAoHbt2gAejEE+dOLECbOk0KFDByQnJ1t8v0FgYCCSk5ORlZVlmnf9+nWcOXMGgYGBVu+Hh4cHfH19cejQIbP5j08HBQUhOTkZfn5+xf5Ze2VWYGAg5HI5fv/99xLrdXR0NPU2Dh8+bCpnNBrNTnbfuHEDKSkpmDFjBvr06YOAgADI5XJkZGSYbSszM9Psl2NWVpbZSdHU1FRkZmZi/vz5eOmll9CyZUsYDIZi5zxcXFzQt29ffPbZZ0hKSsLt27eLnaMob52WtJVerzebp9frIZPJTG1UlorEEhAQYPYZACh2WbY1MVryuXTo0AHAgz/Ijx8jTZs2LTP2R7d15MgRs+9+SffhPCo+Ph537tzB4sWL0bVrVzRv3rzUXnVlkHwSKCgowLVr15Ceno6UlBSsW7cOHTt2xL179/D555+XWm7ixIn48ccfcf78eSQnJ2PHjh2mrhwANG7cGIcOHcLly5eRlZVV6q/kJ4mOjsaPP/6I1NRUjBs3DtevX8e4ceMAPLgPoWHDhpgzZw5OnTqFgwcPIiIiwuxXx7Bhw9CwYUO89tpr0Ol0uHDhAvbu3YutW7eWuL3hw4fD29sbQ4YMQUJCAo4dO4ahQ4fC19cXQ4YMKXf8j5oyZQqWLFmCzZs34+zZs4iJiYFOpzNb56OPPsK3336LiIgInDhxAufPn8fu3bvx9ttvP/HKmCdxc3PDzJkzMXPmTCxfvhynT59GcnIyvv76a9NJR39/f7z66quYMGEC9Ho9UlJS8O677yI3N9fUngqFAt7e3li9ejXOnDmDw4cPY9iwYXB1dTVtq1evXmjbti3CwsJw9OhRnDhxAiNGjDAbGmjYsCFcXFywbNkynD9/Hnv37sXkyZPNPre1a9di9erVOHnyJC5duoQtW7YgLy+v1D9yltRpiWnTpiEhIQGRkZE4deoUdu/ejX/+858YMWKEaUinLBWJZcqUKfj666+xbNkynDt3Dps2bcKmTZsA/PVr2poYLflc/Pz8MHr0aPzjH//A5s2bce7cOZw8eRLr1q3Dp59+atG+A8C4ceOQmZmJd955B6mpqdi7dy8+/PDDJ5bx9/eHTCZDTEwMLly4AK1Wi48++sjibVZYpZ91eIa99dZbAoAAIBwdHYWnp6cICQkRc+fOFdnZ2WbrPn5iePz48cLf31/I5XLh5eUl+vXrJ3777TfT8vj4eNG+fXshl8sFAHHhwoVST+aWdmL422+/Fe3btxfOzs6iZcuWYvfu3WblfvnlF9M22rRpI/bv3292YlgIIdLT08XIkSNFrVq1hIuLi2jevLlp+eMnhoUQ4tSpU+KVV14RNWrUEDVq1BD9+/cXZ8+eNS1//GSiEEJcuXJFABD79u0rta0LCwvFBx98IGrVqiWqV68uBg0aJBYtWlSsrv3794tevXoJNzc3Ub16ddGiRQsxefJksxNtj3vSieGH1qxZI9q2bStcXFyEp6en6Nixo1i5cqVpeVZWlhg0aJBwdXUV3t7eYtasWeKNN94QAwYMMK0TFxcn2rRpI1xcXESzZs3E9u3bi10AcOHCBdG7d2/h4uIifH19xeLFi4vF88033wg/Pz/h4uIi2rVrJ+Li4sw+t//85z+ic+fOwtPTU7i6uorAwECziwRKUladJSnps/zhhx9Mx5xSqRRjx44V+fn5T9z24+1fViwlHXcPLVq0SPj4+Ai5XC5efvll8cUXXwgAIisrq0IxWvK5GI1G8emnn4rmzZuLatWqiVq1aokePXqIbdu2lbqvJdHpdKJVq1bC2dlZBAYGir1795Z5Ynj58uWiXr16Qi6Xi65du5ouTHnSd+ppkf0ZEBE9orCwEC1atMBrr72GmJgYe4cjWR999BGWLFnyVO4VoZLxxDARgP379yMjIwMvvvgi8vLyoNFocPHiRYSHh9s7NMm4f/8+YmJiTDeQ7du3DwsWLMCECRPsHVqVxiRAhAe//D/++GOcO3cO1apVQ6tWrbBv3z60bt3a3qFJhkwmQ1xcHGJiYpCXl4fGjRtj5syZmDZtmr1Dq9I4HEREJGE26wk8vB1fJpOhfv36GD9+PAoKCqDRaJCZmQlvb29ERERUykPaiIioZDbpCWRnZ2PWrFnQaDRwdnbGokWL0L59e6SlpcHNzQ2hoaHQarXIz89HWFhYZYdDRER/sllPoKioCAUFBXB0dERBQQEUCgV27txpeua+SqXCnDlzLEoCj94gVR5KpdLsRiipYjv8hW3xANvhgarcDqW9r8QmScDLywuvvvoqxo0bB2dnZ7Rt2xZt27ZFTk4OFAoFgAc34zy825aIiGzDJkkgPz8f8fHxWLFiBapXr45FixaV64FrOp3OdHdpdHS02QPOysPJycnqslUJ2+EvbIsH2A4PSLEdbJIEkpKSULt2bbi7uwMAQkJCcObMGXh4eMBgMEChUMBgMJiWP06tVpu93MPa7lpV7uqVB9vhL2yLB9gOD1TldihtOMgmzw5SKpU4e/Ys7t27ByEEkpKS4Ovri6CgINPDoPR6PYKDg20RDhER/ckmPQF/f3906tQJ06dPh6OjIxo1agS1Wo27d+9Co9EgNjYWSqUSkZGRtgiHiIj+9FzeLMargyqG7fAXtsUDbIcHqnI72HU4iIiInk1MAkREEsYkQEQkYXyKKFEVV/iP18pc5/GXGTqu3lU5wdAzhz0BIiIJYxIgIpIwJgEiIgljEiAikjAmASIiCWMSICKSMCYBIiIJYxIgIpIwJgEiIgljEiAikjAmASIiCWMSICKSMCYBIiIJYxIgIpIwmzxK+urVq9BoNKbpjIwMDB48GCqVChqNBpmZmfD29kZERATc3NxsERIREcFGScDHxwcLFiwAABQVFeHdd99Fx44dodVq0bp1a4SGhkKr1UKr1SIsLMwWIREREewwHJSUlIS6devC29sb8fHxUKlUAACVSoX4+Hhbh0NEJGk2TwKHDh1C165dAQA5OTlQKBQAAIVCgdzcXFuHQ0QkaTZ9vaTRaMSxY8cwfPjwcpXT6XTQ6XQAgOjoaCiVSqu27+TkZHXZqoTt8BcptMXjr460RFVvk9JI4Xh4nE2TwPHjx9G4cWN4enoCADw8PGAwGKBQKGAwGODu7l5iObVaDbVabZrOysqyavtKpdLqslUJ2+EvbIuSSbVNqvLx4OPjU+J8myaBR4eCACAoKAh6vR6hoaHQ6/UIDg62ZThE9BRZ8kL7R/Fl9s8Gm50TuHfvHhITExESEmKaFxoaisTEREyaNAmJiYkIDQ21VThERAQb9gRcXFywbt06s3k1a9ZEVFSUrUIgIqLH8I5hIiIJYxIgIpIwJgEiIgmz6dVBRM8TKV/tUt59p+cXewJERBLGJEBEJGFMAkREEsYkQEQkYUwCREQSxiRARCRhTAJERBLGJEBEJGFMAkREEsYkQEQkYUwCREQSxiRARCRhfIAcSUJpD0Sz5iXsRFUJewJERBJms57ArVu3sGrVKly5cgUymQzjxo2Dj48PNBoNMjMz4e3tjYiICLi5udkqJCIiybNZEli/fj3atWuHKVOmwGg04t69e9i5cydat26N0NBQaLVaaLVahIWF2SokIiLJs8lw0O3bt5Gamoq//e1vAAAnJyfUqFED8fHxUKlUAACVSoX4+HhbhENERH+ySU8gIyMD7u7uWLlyJS5duoQmTZogPDwcOTk5UCgUAACFQoHc3NwSy+t0Ouh0OgBAdHQ0lEqlVXE4OTlZXbYqkWI72OIE8LPaps/qye9nsb2k+N2wSRIoLCzEhQsXMHr0aPj7+2P9+vXQarUWl1er1VCr1abprKwsq+JQKpVWl61K2A6Vg21aPs9ie1Xl74aPj0+J820yHFSrVi3UqlUL/v7+AIBOnTrhwoUL8PDwgMFgAAAYDAa4u7vbIhwiIvqTTZKAp6cnatWqhatXrwIAkpKSUK9ePQQFBUGv1wMA9Ho9goODbREOERH9yWZXB40ePRpLly6F0WhE7dq1MX78eAghoNFoEBsbC6VSicjISFuFQ0REsGESaNSoEaKjo4vNj4qKslUIRET0GN4xTEQkYUwCREQSxiRARCRhfIoo0XOmtCeiElmDPQEiIgljEiAikjAmASIiCWMSICKSMCYBIiIJYxIgIpIwJgEiIgljEiAikjAmASIiCWMSICKSMCYBIiIJYxIgIpIwJgEiIgljEiAikjCbPUp6woQJkMvlcHBwgKOjI6Kjo5Gfnw+NRoPMzEx4e3sjIiICbm5utgqJiEjyLE4Cv/76K1588UU4OjpavbHZs2fD3d3dNK3VatG6dWuEhoZCq9VCq9UiLCzM6vqJiKh8LB4O2rp1K9555x2sXbsWZ8+efSobj4+Ph0qlAgCoVCrEx8c/lXqJiMgyFvcEFixYgIsXL+LAgQOIiYmBi4sLevToge7du6N27doW1TF//nwAQO/evaFWq5GTkwOFQgEAUCgUyM3NLbGcTqeDTqcDAERHR0OpVFoathknJyery1YlUmyH6zbYhjVv/Kqz8+dyl7HFvtjCs3gMSvG7Ua5zAo0aNUKjRo0QFhaGpKQkbN68Gdu2bUOLFi2gVqvRtWtXODiU3LmYN28evLy8kJOTg48//hg+Pj4Wb1etVkOtVpums7KyyhO2iVKptLpsVcJ2eHZI+XN4Fve9Kn83SvubW+4Tw9euXcOBAwdw4MAByGQyDBkyBEqlErt378aRI0cwderUEst5eXkBADw8PBAcHIxz587Bw8MDBoMBCoUCBoPB7HwBERFVPouTwO7du3HgwAFcu3YNnTt3xsSJE9GsWTPT8pCQEIwZM6bEsnfv3oUQAq6urrh79y4SExPxxhtvICgoCHq9HqGhodDr9QgODq74HhERkcUsTgInTpzAgAEDEBwcDCen4sVcXFxK7QXk5ORg4cKFAIDCwkJ069YN7dq1Q9OmTaHRaBAbGwulUonIyEgrd4OIiKwhE0IIS1YsKCiAg4ODWQIwGo0QQqBatWqVFmBJrl69alW5qjzeVx5SbAdrTtraguPqXeUu86zuS3lZs++VrSp/Nyp8TmD+/PkYMWKE2RDQ77//ji+//BJz5sypcIBEUlRV/qDT88vi+wQuXboEf39/s3l+fn64dOnSUw+KiIhsw+IkUKNGDeTk5JjNy8nJgYuLy1MPioiIbMPiJBASEoIlS5bg8uXLuHfvHi5fvozly5ejc+fOlRkfERFVIovPCQwdOhSbNm3CzJkzcf/+fTg7O6Nnz54YNmxYZcZHRESVyOIk4OzsjDFjxuDtt99GXl4eatasCZlMVpmxERFRJSvXHcO3b9/G1atXcffuXbP5rVq1eqpBERGRbVicBOLi4rB27VrI5XI4Ozub5stkMixfvrxSgiMiosplcRL46quvEBkZiRdffLEy4yEiIhuy+OqgoqIitG3btjJjISIiG7O4J/D666/jP//5DwYNGlTq46KJiCxlzd3Slf2YjetWbuN5ZnES+OGHH3Dz5k3s2rWr2HuAP//886ceGBERVT6Lk8A///nPyoyDiIjswOIkEBAQUJlxkISVd1hAat11ospkcRK4f/8+tm/fjkOHDiEvLw8bN27EyZMnkZ6ejr59+1ZmjEREVEksPsO7ceNGXLlyBZMmTTLdKVy/fn383//9X6UFR0RElcvinsDRo0exdOlSyOVyUxLw8vJCdnZ2pQVHRESVy+KegJOTE4qKiszm5ebmombNmk89KCIisg2LewKdOnXC8uXLER4eDgAwGAzYsGEDunTpYvHGioqKMGPGDHh5eWHGjBnIz8+HRqNBZmYmvL29ERERUezyUyIiqjwW9wSGDx+O2rVrY8qUKbh9+zYmTZoEhUKBN9980+KN/fjjj/D19TVNa7VatG7dGkuXLkXr1q2h1WrLFTwREVVMuYaDwsPDsXnzZqxevRqbNm1CeHi42Yvnn+TGjRtISEhAr169TPPi4+OhUqkAACqVCvHx8eUMn4iIKsLi4aDr16+bTd+5c8f0/zp16pRZfsOGDQgLCzMrl5OTA4VCAQBQKBTIzc0tsaxOp4NOpwMAREdHQ6lUWhq2GScnJ6vLViXPWjtcL3sVM9bEXt5t0LPJFp/9s/TdsAWLk8CkSZNKXbZ169Ynlj127Bg8PDzQpEkTJCcnWx7dn9RqNdRqtWk6Kyur3HUADz5ca8tWJc97OzzPsVPF2OKzr6rHl4+PT4nzLU4Cj/+hv3nzJr755hu0bNmyzLKnT5/Gr7/+iuPHj6OgoAB37tzB0qVL4eHhAYPBAIVCAYPBAHd3d0vDISKip8Dqx4F6enoiPDwcX375ZZnrDh8+HKtWrcKKFSvw3nvvoVWrVpg0aRKCgoKg1+sBAHq9HsHBwdaGQ0REVqjQM6GvXr2Ke/fuWV0+NDQUiYmJmDRpEhITExEaGlqRcIiIqJwsHg6Kiooye7H8vXv3cOXKFbzxxhvl2mBgYCACAwMBADVr1kRUVFS5yhMR0dNjcRL429/+ZjYtl8vRsGFDvPDCC089KCIisg2Lk0DPnj0rMQwiIrIHq68OKs2QIUOsDoaIiGzL4iSQnp6OI0eOwM/Pz3Sd+blz5xASEgJnZ+fKjJGIiCqJxUkAACZPnoxOnTqZpo8cOYLDhw9j/PjxTz0wIiKqfBYngePHjxe7azg4OBgrV6586kERPUl5X0dJVB7WHF/P8ytPLb5PoG7duti9e7fZvP/+97+oW7fuUw+KiIhsw+KewNixY7Fw4ULs2rXL9EYxR0dHTJkypTLjIyKiSmRxEmjcuDGWLFmCs2fPwmAwwNPTE82aNbP4UdJERPTssfqxEQEBATAajbh79+7TjIeIiGzI4p/xly9fxqeffopq1arhxo0b6NKlC1JSUqDX6xEREVGZMRIRUSWxuCewevVqDBkyBIsXLzYNAQUEBODUqVOVFhwREVUui5NAWloaunfvbjZPLpejoKDgqQdFRES2YXES8Pb2xu+//24279y5c7xElIjoOWbxOYEhQ4YgOjoavXv3htFoxM6dO7Fnzx68++67lRkfERFVIot7Ah06dMAHH3yA3NxcBAQEIDMzE1OnTkXbtm0rMz4iIqpEFvUEioqKMHnyZCxatAhjxoyp7JiIiJ4rz/OjJixKAg4ODnBwcMD9+/dRrVq1cm+koKAAs2fPhtFoRGFhITp16oTBgwcjPz8fGo0GmZmZ8Pb2RkREBNzc3MpdPxERWcficwL9+vWDRqPBwIED4eXlZfaqyTp16jyxbLVq1TB79mzI5XIYjUZERUWhXbt2OHr0KFq3bo3Q0FBotVpotVqEhYVZvzdERFQuZSaBmzdvwtPTE+vWrQMAJCYmFlunrBfOyGQyyOVyAEBhYSEKCwshk8kQHx+POXPmAABUKhXmzJnDJEBEZENlJoHJkydj48aNpj/0CxYswLRp08q9oaKiIkyfPh3Xrl1Dnz594O/vj5ycHCgUCgCAQqFAbm5uueslIiLrlZkEhBBm0ykpKVZtyMHBAQsWLMCtW7ewcOFCXL582eKyOp0OOp0OABAdHQ2lUmlVDE5OTlaXrUqetXa4bu8A6LlRld4l8ax8B8tMAo+O/T8NNWrUQEBAAE6cOAEPDw8YDAYoFAoYDAa4u7uXWEatVkOtVpums7KyrNr2w9diSh3bgcj+bP0d9PHxKXF+mUmgsLAQv/32m2m6qKjIbBoAWrVq9cQ6cnNz4ejoiBo1aqCgoABJSUl4/fXXERQUBL1ej9DQUOj1egQHB1uyL0RE9JSUmQQ8PDzw+eefm6bd3NzMpmUyGZYvX/7EOgwGA1asWIGioiIIIdC5c2d06NABzZo1g0ajQWxsLJRKJSIjIyuwK0REVF4y8fig/3Pg6tWrVpXjMMgDz1o7VKVxXiJL2fpmsdKGg6x+qQwRET3/mASIiCSMSYCISMKYBIiIJIxJgIhIwpgEiIgkjEmAiEjCmASIiCSMSYCISMIsfqkMERE9Pc/KKynZEyAikjAmASIiCWMSICKSMCYBIiIJYxIgIpIwJgEiIgljEiAikjAmASIiCbPJzWJZWVlYsWIFbt68CZlMBrVajX79+iE/Px8ajQaZmZnw9vZGREQE3NzcbBESERHBRknA0dERI0eORJMmTXDnzh3MmDEDbdq0QVxcHFq3bo3Q0FBotVpotVqEhYXZIiQiIoKNhoMUCgWaNGkCAHB1dYWvry+ys7MRHx8PlUoFAFCpVIiPj7dFOERE9CebnxPIyMjAhQsX4Ofnh5ycHCgUCgAPEkVubq6twyEikjSbPkDu7t27iImJQXh4OKpXr25xOZ1OB51OBwCIjo6GUqm0avtOTk5Wl61KnrV2uG7vAIieE5XxvbVZEjAajYiJiUH37t0REhICAPDw8IDBYIBCoYDBYIC7u3uJZdVqNdRqtWk6KyvLqhiUSqXVZasStgPR86ki31sfH58S59tkOEgIgVWrVsHX1xcDBgwwzQ8KCoJerwcA6PV6BAcH2yIcIiL6k016AqdPn8b+/fvRoEEDTJs2DQAwbNgwhIaGQqPRIDY2FkqlEpGRkbYIh4iI/mSTJNCiRQts27atxGVRUVG2CIGIiErAO4aJiCSMSYCISMKYBIiIJIxJgIhIwpgEiIgkjEmAiEjCmASIiCSMSYCISMJs+gA5qSj8x2vlWt9x9a5KioSI6MnYEyAikjAmASIiCeNwEJWqvMNaAIe2iJ437AkQEUkYkwARkYQxCRARSRiTABGRhDEJEBFJGK8OegbwKhwishebJIGVK1ciISEBHh4eiImJAQDk5+dDo9EgMzMT3t7eiIiIgJubmy3CISKiP9kkCfTs2RN9+/bFihUrTPO0Wi1at26N0NBQaLVaaLVahIWF2SKccrHmVzoR0fPCJucEAgICiv3Kj4+Ph0qlAgCoVCrEx8fbIhQiInqE3U4M5+TkQKFQAAAUCgVyc3PtFQoRkWQ9FyeGdToddDodACA6OhpKpdKqepycnMpd9rpVW6p81rYBYHk7WLPvHD4jqjwV+d6Xxm5JwMPDAwaDAQqFAgaDAe7u7qWuq1aroVarTdNZWVlWbVOpVFpd9llTkf2oSu1AJCUV+d76+PiUON9uw0FBQUHQ6/UAAL1ej+DgYHuFQkQkWTbpCSxevBgpKSnIy8vD2LFjMXjwYISGhkKj0SA2NhZKpRKRkZG2CIWIiB5hkyTw3nvvlTg/KirKFpsnIqJS8LERREQSxiRARCRhTAJERBLGJEBEJGFMAkREEsYkQEQkYc/FYyOelusDu9g7hKemIo9neFYfhUFEtseeABGRhDEJEBFJGJMAEZGEMQkQEUkYkwARkYQxCRARSRiTABGRhDEJEBFJGJMAEZGEMQkQEUkYkwARkYTZ/dlBJ06cwPr161FUVIRevXohNDTU3iEREUmGXXsCRUVFWLt2LWbOnAmNRoNDhw4hLS3NniEREUmKXZPAuXPnULduXdSpUwdOTk7o0qUL4uPj7RkSEZGk2DUJZGdno1atWqbpWrVqITs7244RERFJi13PCQghis2TyWTF5ul0Ouh0OgBAdHQ0fHx8rNvgD79aV46IqIqya0+gVq1auHHjhmn6xo0bUCgUxdZTq9WIjo5GdHR0hbY3Y8aMCpWvKtgOf2FbPMB2eECK7WDXJNC0aVOkp6cjIyMDRqMRP//8M4KCguwZEhGRpNh1OMjR0RGjR4/G/PnzUVRUhJdeegn169e3Z0hERJJi9/sE2rdvj/bt29tkW2q12ibbedaxHf7CtniA7fCAFNtBJko6O0tERJLAx0YQEUmY3YeDbIWPp3hgwoQJkMvlcHBwgKOjY4WvuHperFy5EgkJCfDw8EBMTAwAID8/HxqNBpmZmfD29kZERATc3NzsHGnlKqkdtm3bhr1798Ld3R0AMGzYMJsN0dpLVlYWVqxYgZs3b0Imk0GtVqNfv36SPCYgJKCwsFBMnDhRXLt2Tdy/f19MnTpVXLlyxd5h2cX48eNFTk6OvcOwueTkZHH+/HkRGRlpmrd582axc+dOIYQQO3fuFJs3b7ZTdLZTUjts3bpVfPvtt3aMyvays7PF+fPnhRBC3L59W0yaNElcuXJFkseEJIaD+HgKCggIKPaLLj4+HiqVCgCgUqkkcUyU1A5SpFAo0KRJEwCAq6srfH19kZ2dLcljQhLDQSU9nuLs2bN2jMi+5s+fDwDo3bu3JK+GeCgnJ8d0c6JCoUBubq6dI7Kf//73v9i/fz+aNGmC//mf/5FUosjIyMCFCxfg5+cnyWNCEklAWPh4CimYN28evLy8kJOTg48//hg+Pj4ICAiwd1hkRy+//DLeeOMNAMDWrVuxadMmjB8/3s5R2cbdu3cRExOD8PBwVK9e3d7h2IUkhoMsfTyFFHh5eQEAPDw8EBwcjHPnztk5Ivvx8PCAwWAAABgMBtOJUanx9PSEg4MDHBwc0KtXL5w/f97eIdmE0WhETEwMunfvjpCQEADSPCYkkQT4eIoH7t69izt37pj+n5iYiAYNGtg5KvsJCgqCXq8HAOj1egQHB9s5Ivt4+EcPAI4ePSqJu/aFEFi1ahV8fX0xYMAA03wpHhOSuVksISEBGzduND2e4u9//7u9Q7K569evY+HChQCAwsJCdOvWTTLtsHjxYqSkpCAvLw8eHh4YPHgwgoODodFokJWVBaVSicjIyCo/Fl5SOyQnJ+PixYuQyWTw9vbGO++8U+V7yqdOnUJUVBQaNGhgGhoeNmwY/P39JXdMSCYJEBFRcZIYDiIiopIxCRARSRiTABGRhDEJEBFJGJMAEZGEMQkQPWWDBw/GtWvXylwvOTkZY8eOtbjeOXPmYO/evabpX3/9FTNnzoTRaLQqTiKASYCecxMmTEBiYqLZvLi4OMyaNctOEdlGXl4evvrqK0RGRsLJSRJPf6FKwiRA9IiioiJ7h2CRK1eu4J133oFSqbR3KPSc408IqvLS0tKwZs0aXLx4EV5eXhg+fLjpsSErVqyAs7MzsrKykJKSgmnTpsFoNOLrr7/G9evXUb16dbz00ksYPHhwqfXv2rUL33//PWQyGYYMGWK27P79+/jqq69w+PBhGI1GBAcHIzw8HM7OzmXGnZiYiHXr1sFgMKBHjx5mD0LMyMjA3r17MW/ePADA+vXrcfToUdy+fRt169ZFeHg4WrZsaU1zkcSwJ0BVmtFoxKeffoo2bdpgzZo1GD16NJYuXYqrV6+a1jl48CAGDhyIjRs3okWLFnBxccHEiROxfv16zJgxA3v27MHRo0dLrP/EiRP47rvv8P/+3//DkiVLkJSUZLZ8y5YtSE9Px4IFC7B06VJkZ2dj+/btZcadm5uLmJgYDB06FGvXrkWdOnVw+vTpUtdv2rQpPvvsM6xbtw7dunXDokWLUFBQYGErkZQxCdBzb8GCBQgPDzf9W7NmjWnZ2bNncffuXYSGhsLJyQmtWrVC+/btcfDgQdM6wcHBaNGiBRwcHODs7IzAwEA0aNAADg4OaNiwIbp27YqUlJQSt/3zzz+jZ8+eaNCgAeRyOd58803TMiEE9u7di7feegtubm5wdXXF3//+dxw6dKjMfTp+/Djq1auHTp06wcnJCf3794enp2ep6/fo0QM1a9aEo6MjXn31VRiNRrNER1QaDgfRc2/atGlo06aNaTouLs50FY3BYIBSqYSDw1+/d7y9vZGdnW2afvSFQ8CDxPHll1/i8uXLMBqNMBqN6NSpU4nbNhgMpjdUPaz7odzcXNy7dw8zZswwzRNCWHTewWAwmMUlk8mKxfmo7777DrGxscjOzoZMJsOdO3eQl5dX5naImASoSlMoFMjKykJRUZEpEWRlZeGFF14wrfP4C4aWLl2KPn364IMPPoCzszM2bNhQ6humFAqF2bsqsrKyTP+vWbMmnJ2dsWjRItN7HCzl6elpVq8Qwmz6Uampqfj2228RFRWFevXqwcHBAaNGjSrxZUpEj+NwEFVp/v7+kMvl2LVrF4xGI5KTk3Hs2DF07dq11DJ37tyBm5sbnJ2dce7cObOho8d17twZcXFxSEtLw7179/DNN9+Ylj18ScuGDRuQk5MD4MGrTk+cOFFm3O3bt8eVK1dw5MgRFBYW4qeffsLNmzdLjdfR0RHu7u4oKirC9u3bcfv27TK3QQSwJ0BVnJOTE95//32sWbMGO3fuhJeXFyZOnAhfX99Sy4wZMwabNm3CunXrEBAQgM6dO+PWrVslrvviiy+if//+mDt3LhwcHDBkyBCzpDFixAhs374dH374IfLy8uDl5YXevXujXbt2T4zb3d0dkZGRWL9+PVauXIkePXqgefPmJa7brl07tGvXDpMnT4aLiwv69+/PS0fJYnyfABGRhHE4iIhIwpgEiIgkjEmAiEjCmASIiCSMSYCISMKYBIiIJIxJgIhIwpgEiIgkjEmAiEjC/j9NdHeFREMbIwAAAABJRU5ErkJggg==\n",
      "text/plain": [
       "<Figure size 432x288 with 1 Axes>"
      ]
     },
     "metadata": {},
     "output_type": "display_data"
    }
   ],
   "source": [
    "horas_entrada = [entrada.hour for entrada in df_info_pacientes[\"Entrada\"]]\n",
    "df_info_pacientes[\"Hora entrada\"] = horas_entrada\n",
    "hist = df_info_pacientes[\"Hora entrada\"].plot.hist(bins = 24,title = \"Distribución de llegadas a lo largo del día\")\n",
    "hist.set_xlabel(\"Hora del día\")"
   ]
  },
  {
   "cell_type": "markdown",
   "metadata": {},
   "source": [
    "# Segundo set  (Operaciones)"
   ]
  },
  {
   "cell_type": "code",
   "execution_count": 17,
   "metadata": {},
   "outputs": [
    {
     "name": "stdout",
     "output_type": "stream",
     "text": [
      "2.4310679611650494\n",
      "4.1\n",
      "0.0\n"
     ]
    }
   ],
   "source": [
    "print(datos_operaciones[\"DURACION (hrs)\"].mean())\n",
    "print(datos_operaciones[\"DURACION (hrs)\"].max())\n",
    "print(datos_operaciones[\"DURACION (hrs)\"].min())"
   ]
  },
  {
   "cell_type": "code",
   "execution_count": 18,
   "metadata": {},
   "outputs": [
    {
     "data": {
      "text/plain": [
       "Text(0.5, 0, 'Horas')"
      ]
     },
     "execution_count": 18,
     "metadata": {},
     "output_type": "execute_result"
    },
    {
     "data": {
      "image/png": "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\n",
      "text/plain": [
       "<Figure size 432x288 with 1 Axes>"
      ]
     },
     "metadata": {},
     "output_type": "display_data"
    }
   ],
   "source": [
    "hist = datos_operaciones[\"DURACION (hrs)\"].plot.hist()\n",
    "hist.set_title(\"Distribución de la duración de las operaciones\")\n",
    "hist.set_xlabel(\"Horas\")"
   ]
  },
  {
   "cell_type": "code",
   "execution_count": 19,
   "metadata": {},
   "outputs": [
    {
     "data": {
      "text/plain": [
       "Text(0.5, 1.0, 'Cantidad de operaciones recibidas por paciente')"
      ]
     },
     "execution_count": 19,
     "metadata": {},
     "output_type": "execute_result"
    },
    {
     "data": {
      "image/png": "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\n",
      "text/plain": [
       "<Figure size 432x288 with 1 Axes>"
      ]
     },
     "metadata": {},
     "output_type": "display_data"
    }
   ],
   "source": [
    "hist = datos_operaciones[\"ID\"].value_counts().hist(bins = 20)\n",
    "hist.set_xlabel(\"Número de operaciones recibidas\")\n",
    "hist.set_title(\"Cantidad de operaciones recibidas por paciente\")"
   ]
  },
  {
   "cell_type": "code",
   "execution_count": 20,
   "metadata": {},
   "outputs": [
    {
     "data": {
      "text/plain": [
       "Text(0, 0.5, 'Número de operaciones realizadas')"
      ]
     },
     "execution_count": 20,
     "metadata": {},
     "output_type": "execute_result"
    },
    {
     "data": {
      "image/png": "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\n",
      "text/plain": [
       "<Figure size 432x288 with 1 Axes>"
      ]
     },
     "metadata": {},
     "output_type": "display_data"
    }
   ],
   "source": [
    "barplot = datos_operaciones[\"SALA OPERACIONES\"].value_counts().plot.bar()\n",
    "barplot.set_title(\"Salas más utilizadas para operaciones\")\n",
    "barplot.set_ylabel(\"Número de operaciones realizadas\")"
   ]
  },
  {
   "cell_type": "code",
   "execution_count": 21,
   "metadata": {},
   "outputs": [
    {
     "data": {
      "text/html": [
       "<div>\n",
       "<style scoped>\n",
       "    .dataframe tbody tr th:only-of-type {\n",
       "        vertical-align: middle;\n",
       "    }\n",
       "\n",
       "    .dataframe tbody tr th {\n",
       "        vertical-align: top;\n",
       "    }\n",
       "\n",
       "    .dataframe thead th {\n",
       "        text-align: right;\n",
       "    }\n",
       "</style>\n",
       "<table border=\"1\" class=\"dataframe\">\n",
       "  <thead>\n",
       "    <tr style=\"text-align: right;\">\n",
       "      <th></th>\n",
       "      <th>ID</th>\n",
       "      <th>SALA OPERACIONES</th>\n",
       "      <th>FECHA E INICIO</th>\n",
       "      <th>DURACION (hrs)</th>\n",
       "    </tr>\n",
       "  </thead>\n",
       "  <tbody>\n",
       "    <tr>\n",
       "      <th>0</th>\n",
       "      <td>14548704</td>\n",
       "      <td>OPR101_011</td>\n",
       "      <td>2018-01-02 10:15:00.000</td>\n",
       "      <td>2.8</td>\n",
       "    </tr>\n",
       "    <tr>\n",
       "      <th>1</th>\n",
       "      <td>14557024</td>\n",
       "      <td>OPR101_011</td>\n",
       "      <td>2017-12-22 13:37:00.000</td>\n",
       "      <td>1.6</td>\n",
       "    </tr>\n",
       "    <tr>\n",
       "      <th>2</th>\n",
       "      <td>14557024</td>\n",
       "      <td>OPR101_011</td>\n",
       "      <td>2018-01-12 15:36:00.000</td>\n",
       "      <td>1.2</td>\n",
       "    </tr>\n",
       "    <tr>\n",
       "      <th>3</th>\n",
       "      <td>14562339</td>\n",
       "      <td>OPR101_011</td>\n",
       "      <td>2018-01-03 15:56:00.000</td>\n",
       "      <td>1.3</td>\n",
       "    </tr>\n",
       "    <tr>\n",
       "      <th>4</th>\n",
       "      <td>14568735</td>\n",
       "      <td>OPR101_011</td>\n",
       "      <td>2018-01-05 18:34:00.000</td>\n",
       "      <td>3.2</td>\n",
       "    </tr>\n",
       "    <tr>\n",
       "      <th>...</th>\n",
       "      <td>...</td>\n",
       "      <td>...</td>\n",
       "      <td>...</td>\n",
       "      <td>...</td>\n",
       "    </tr>\n",
       "    <tr>\n",
       "      <th>407</th>\n",
       "      <td>14775043000</td>\n",
       "      <td>OPR102_003</td>\n",
       "      <td>2018-03-15 15:17:00.000</td>\n",
       "      <td>2.4</td>\n",
       "    </tr>\n",
       "    <tr>\n",
       "      <th>408</th>\n",
       "      <td>14799531000</td>\n",
       "      <td>OPR102_003</td>\n",
       "      <td>2018-03-26 13:02:00.000</td>\n",
       "      <td>3.3</td>\n",
       "    </tr>\n",
       "    <tr>\n",
       "      <th>409</th>\n",
       "      <td>14867095000</td>\n",
       "      <td>OPR102_003</td>\n",
       "      <td>2018-04-17 18:25:00.000</td>\n",
       "      <td>3.4</td>\n",
       "    </tr>\n",
       "    <tr>\n",
       "      <th>410</th>\n",
       "      <td>14973437000</td>\n",
       "      <td>OPR102_003</td>\n",
       "      <td>2018-05-30 13:42:00.000</td>\n",
       "      <td>2.4</td>\n",
       "    </tr>\n",
       "    <tr>\n",
       "      <th>411</th>\n",
       "      <td>15057073000</td>\n",
       "      <td>OPR102_003</td>\n",
       "      <td>2018-06-29 14:41:00.000</td>\n",
       "      <td>2.5</td>\n",
       "    </tr>\n",
       "  </tbody>\n",
       "</table>\n",
       "<p>412 rows × 4 columns</p>\n",
       "</div>"
      ],
      "text/plain": [
       "              ID SALA OPERACIONES           FECHA E INICIO  DURACION (hrs)\n",
       "0       14548704       OPR101_011  2018-01-02 10:15:00.000             2.8\n",
       "1       14557024       OPR101_011  2017-12-22 13:37:00.000             1.6\n",
       "2       14557024       OPR101_011  2018-01-12 15:36:00.000             1.2\n",
       "3       14562339       OPR101_011  2018-01-03 15:56:00.000             1.3\n",
       "4       14568735       OPR101_011  2018-01-05 18:34:00.000             3.2\n",
       "..           ...              ...                      ...             ...\n",
       "407  14775043000       OPR102_003  2018-03-15 15:17:00.000             2.4\n",
       "408  14799531000       OPR102_003  2018-03-26 13:02:00.000             3.3\n",
       "409  14867095000       OPR102_003  2018-04-17 18:25:00.000             3.4\n",
       "410  14973437000       OPR102_003  2018-05-30 13:42:00.000             2.4\n",
       "411  15057073000       OPR102_003  2018-06-29 14:41:00.000             2.5\n",
       "\n",
       "[412 rows x 4 columns]"
      ]
     },
     "execution_count": 21,
     "metadata": {},
     "output_type": "execute_result"
    }
   ],
   "source": [
    "datos_operaciones"
   ]
  },
  {
   "cell_type": "code",
   "execution_count": 22,
   "metadata": {},
   "outputs": [
    {
     "data": {
      "text/plain": [
       "['URG101_003',\n",
       " 'DIV101_603',\n",
       " 'DIV101_604',\n",
       " 'DIV101_703',\n",
       " 'DIV102_203',\n",
       " 'DIV103_107',\n",
       " 'DIV103_204',\n",
       " 'DIV104_602',\n",
       " 'OPR101_011',\n",
       " 'OPR101_033',\n",
       " 'OPR102_001',\n",
       " 'OPR102_003',\n",
       " 'End']"
      ]
     },
     "execution_count": 22,
     "metadata": {},
     "output_type": "execute_result"
    }
   ],
   "source": [
    "areas_mapa_profe"
   ]
  },
  {
   "cell_type": "markdown",
   "metadata": {},
   "source": [
    "# Encontramos las distribuciones "
   ]
  },
  {
   "cell_type": "code",
   "execution_count": 39,
   "metadata": {},
   "outputs": [],
   "source": [
    "from scipy import stats"
   ]
  },
  {
   "cell_type": "code",
   "execution_count": 48,
   "metadata": {
    "scrolled": false
   },
   "outputs": [
    {
     "name": "stdout",
     "output_type": "stream",
     "text": [
      "URG101_003 lista\n",
      "DIV101_603 lista\n",
      "DIV101_604 lista\n",
      "DIV101_703 lista\n",
      "DIV102_203 lista\n",
      "DIV103_107 lista\n",
      "DIV103_204 lista\n",
      "DIV104_602 lista\n",
      "OPR101_011 lista\n",
      "OPR101_033 lista\n",
      "OPR102_001 lista\n"
     ]
    },
    {
     "name": "stderr",
     "output_type": "stream",
     "text": [
      "WARNING:root:SKIPPED expon distribution (taking more than 30 seconds)\n",
      "WARNING:root:SKIPPED beta distribution (taking more than 30 seconds)\n",
      "WARNING:root:SKIPPED lognorm distribution (taking more than 30 seconds)\n"
     ]
    },
    {
     "name": "stdout",
     "output_type": "stream",
     "text": [
      "OPR102_003 lista\n"
     ]
    }
   ],
   "source": [
    "dic_distribuciones = dict.fromkeys(areas_mapa_profe)\n",
    "for area in areas_mapa_profe:\n",
    "    try : \n",
    "        estadia = datos_pacientes[datos_pacientes[\"Area\"] == area][\"Estadia\"]\n",
    "        estadia = np.array(estadia)\n",
    "        f = Fitter(estadia,distributions = [\"expon\",\"beta\",\"lognorm\",\"norm\",])\n",
    "        f.fit()\n",
    "        best = f.get_best(method = \"sumsquare_error\")\n",
    "        dic_distribuciones[area] = best\n",
    "        print(area,\"lista\")\n",
    "    \n",
    "    except:\n",
    "        continue\n",
    "        \n"
   ]
  },
  {
   "cell_type": "markdown",
   "metadata": {},
   "source": [
    "## Test de bondad \n",
    "Recordar que **si el p-value es menor a 0.05 implica que la distribución ajusta de buena manera a los datos**. Si el p-values es mayor a 0.05 significa que no hay información suficiente para justificar que la distribución ajusta de buena manera."
   ]
  },
  {
   "cell_type": "code",
   "execution_count": 71,
   "metadata": {},
   "outputs": [
    {
     "name": "stdout",
     "output_type": "stream",
     "text": [
      "URG101_003\n",
      "Estadístico:18287173.02478838 p-value: 0.0 \n",
      "\n",
      "DIV101_603\n",
      "Estadístico:5651957903198271.0 p-value: 0.0 \n",
      "\n",
      "DIV101_604\n",
      "Estadístico:5928342157382116.0 p-value: 0.0 \n",
      "\n",
      "DIV101_703\n",
      "Estadístico:328828171445.0265 p-value: 0.0 \n",
      "\n",
      "DIV102_203\n",
      "Estadístico:8.543162404489474e+18 p-value: 0.0 \n",
      "\n",
      "DIV103_107\n",
      "Estadístico:129640324782195.47 p-value: 0.0 \n",
      "\n",
      "DIV103_204\n",
      "Estadístico:69619287982838.195 p-value: 0.0 \n",
      "\n",
      "DIV104_602\n",
      "Estadístico:1.3523547173350824e+16 p-value: 0.0 \n",
      "\n",
      "OPR101_011\n",
      "Estadístico:-5914.045931257143 p-value: 1.0 \n",
      "\n",
      "OPR101_033\n",
      "Estadístico:-37618.72709625437 p-value: 1.0 \n",
      "\n",
      "OPR102_001\n",
      "Estadístico:-721.1136632502987 p-value: 1.0 \n",
      "\n",
      "OPR102_003\n",
      "Estadístico:280.35679826714005 p-value: 8.221047928997144e-10 \n",
      "\n"
     ]
    }
   ],
   "source": [
    "import math\n",
    "for area in areas_mapa_profe:\n",
    "    if area != 'End':\n",
    "        estadia = datos_pacientes[datos_pacientes[\"Area\"] == area][\"Estadia\"]\n",
    "        estadia = np.array(estadia)\n",
    "        distribucion = list(dic_distribuciones[area].keys())[0]\n",
    "\n",
    "        if distribucion == 'beta':\n",
    "            param_a = dic_distribuciones[area]['beta'][0]\n",
    "            param_b = dic_distribuciones[area]['beta'][1]\n",
    "            loc = dic_distribuciones[area]['beta'][2]\n",
    "            scale = dic_distribuciones[area]['beta'][3]\n",
    "            esperado = (np.random.beta(a=param_a, b=param_b, size=len(estadia)) - loc) / scale\n",
    "\n",
    "        elif distribucion == 'lognorm':\n",
    "            s = dic_distribuciones[area]['lognorm'][0]\n",
    "            loc = dic_distribuciones[area]['lognorm'][1]\n",
    "            scale = dic_distribuciones[area]['lognorm'][2]\n",
    "                \n",
    "            esperado = (np.random.lognormal(mean=math.log(scale), sigma=s, size=len(estadia)) - loc) / scale\n",
    "\n",
    "        else:\n",
    "            print('Distribucion desconocida')\n",
    "\n",
    "        test_bondad = stats.chisquare(f_obs = estadia, f_exp = esperado)\n",
    "        print(area)\n",
    "        resultado_test = list(test_bondad)\n",
    "        print(f'Estadístico:{resultado_test[0]} p-value: {resultado_test[1]} \\n')"
   ]
  },
  {
   "cell_type": "code",
   "execution_count": 47,
   "metadata": {},
   "outputs": [
    {
     "data": {
      "text/plain": [
       "{'URG101_003': {'beta': (0.9963865319265526,\n",
       "   7.549140779895584,\n",
       "   -5.8548793004373246e-30,\n",
       "   22.24393218386804)},\n",
       " 'DIV101_603': {'beta': (0.3616704354973971,\n",
       "   165.16296501053603,\n",
       "   -7.412371308927781e-26,\n",
       "   6922.807468149733)},\n",
       " 'DIV101_604': {'beta': (0.45703588480386004,\n",
       "   648.4486740488123,\n",
       "   -8.513612931753873e-29,\n",
       "   35054.048864844575)},\n",
       " 'DIV101_703': {'beta': (0.5703786223184792,\n",
       "   110.83109431271232,\n",
       "   -1.462673655225481e-28,\n",
       "   437.32033985936954)},\n",
       " 'DIV102_203': {'beta': (0.24377071043553353,\n",
       "   285.52176298361917,\n",
       "   -1.187635564202615e-26,\n",
       "   5018.705281761797)},\n",
       " 'DIV103_107': {'beta': (0.39836402842306595,\n",
       "   206.40113822847783,\n",
       "   -1.5712666431312037e-28,\n",
       "   10158.914732260619)},\n",
       " 'DIV103_204': {'beta': (0.4888117957179907,\n",
       "   109.8607935613231,\n",
       "   -1.5936649681747108e-28,\n",
       "   5313.91647884571)},\n",
       " 'DIV104_602': {'beta': (0.15192779271070977,\n",
       "   194.10258963560304,\n",
       "   -5.156397043984947e-29,\n",
       "   8814.947865303959)},\n",
       " 'OPR101_011': {'beta': (0.5808873886057251,\n",
       "   7.314059974137125,\n",
       "   0.016666666666666663,\n",
       "   9.742438706572912)},\n",
       " 'OPR101_033': {'beta': (0.05736478890742883,\n",
       "   3.4350433415802044,\n",
       "   0.016666666666666663,\n",
       "   6.4423590423078325)},\n",
       " 'OPR102_001': {'beta': (0.9588287571379162,\n",
       "   4.145262526109068,\n",
       "   0.4499999987184291,\n",
       "   7.6309924849021815)},\n",
       " 'OPR102_003': {'lognorm': (0.2904728151128274,\n",
       "   -2.2507735933696127,\n",
       "   4.3770553314569565)},\n",
       " 'End': None}"
      ]
     },
     "execution_count": 47,
     "metadata": {},
     "output_type": "execute_result"
    }
   ],
   "source": [
    "dic_distribuciones"
   ]
  },
  {
   "cell_type": "code",
   "execution_count": 25,
   "metadata": {},
   "outputs": [],
   "source": [
    "dic_histogramas= {}"
   ]
  },
  {
   "cell_type": "code",
   "execution_count": 26,
   "metadata": {},
   "outputs": [
    {
     "name": "stdout",
     "output_type": "stream",
     "text": [
      "{'lognorm': (1.1325392177517544, -0.1631080499945431, 3.01277091110916)}\n"
     ]
    },
    {
     "ename": "AttributeError",
     "evalue": "'Fitter' object has no attribute 'fitter_param'",
     "output_type": "error",
     "traceback": [
      "\u001b[0;31m---------------------------------------------------------------------------\u001b[0m",
      "\u001b[0;31mAttributeError\u001b[0m                            Traceback (most recent call last)",
      "\u001b[0;32m<ipython-input-26-e81ab1b6860e>\u001b[0m in \u001b[0;36m<module>\u001b[0;34m\u001b[0m\n\u001b[1;32m      8\u001b[0m \u001b[0mprint\u001b[0m\u001b[0;34m(\u001b[0m\u001b[0ma\u001b[0m\u001b[0;34m)\u001b[0m\u001b[0;34m\u001b[0m\u001b[0;34m\u001b[0m\u001b[0m\n\u001b[1;32m      9\u001b[0m \u001b[0mf\u001b[0m\u001b[0;34m.\u001b[0m\u001b[0msummary\u001b[0m\u001b[0;34m(\u001b[0m\u001b[0;34m)\u001b[0m\u001b[0;34m\u001b[0m\u001b[0;34m\u001b[0m\u001b[0m\n\u001b[0;32m---> 10\u001b[0;31m \u001b[0mf\u001b[0m\u001b[0;34m.\u001b[0m\u001b[0mfitter_param\u001b[0m\u001b[0;34m[\u001b[0m\u001b[0;34m\"lognorm\"\u001b[0m\u001b[0;34m]\u001b[0m\u001b[0;34m\u001b[0m\u001b[0;34m\u001b[0m\u001b[0m\n\u001b[0m",
      "\u001b[0;31mAttributeError\u001b[0m: 'Fitter' object has no attribute 'fitter_param'"
     ]
    },
    {
     "data": {
      "image/png": "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\n",
      "text/plain": [
       "<Figure size 432x288 with 1 Axes>"
      ]
     },
     "metadata": {},
     "output_type": "display_data"
    }
   ],
   "source": [
    "llegadas = df_info_pacientes[\"Entrada\"].sort_values()\n",
    "tiempo_entre_llegadas = (llegadas.shift(-1) - llegadas)/np.timedelta64(1,\"h\")\n",
    "duracion_operaciones = tiempo_entre_llegadas[tiempo_entre_llegadas < 24]\n",
    "duracion_operaciones = np.array(duracion_operaciones)\n",
    "f = Fitter(duracion_operaciones,distributions = [\"norm\",\"beta\",\"lognorm\",\"chi2\"])\n",
    "f.fit()\n",
    "a = f.get_best(method = \"sumsquare_error\")\n",
    "print(a)\n",
    "f.summary()\n",
    "f.fitter_param[\"lognorm\"]\n"
   ]
  },
  {
   "cell_type": "code",
   "execution_count": null,
   "metadata": {},
   "outputs": [],
   "source": [
    "dic_histogramas[\"Tiempo_entre_llegadas\"] = a"
   ]
  },
  {
   "cell_type": "markdown",
   "metadata": {},
   "source": [
    "# Heatmap"
   ]
  },
  {
   "cell_type": "code",
   "execution_count": null,
   "metadata": {},
   "outputs": [],
   "source": [
    "df_heatmap = pd.DataFrame(index = areas_mapa_profe,columns = areas_mapa_profe)"
   ]
  },
  {
   "cell_type": "code",
   "execution_count": null,
   "metadata": {},
   "outputs": [],
   "source": [
    "areas_mapa_profe.append(\"Outside\")"
   ]
  },
  {
   "cell_type": "code",
   "execution_count": null,
   "metadata": {},
   "outputs": [],
   "source": [
    "for area in areas_mapa_profe:\n",
    "    derivacion_urgencia = datos_pacientes[datos_pacientes[\"Area\"] == area][\"Siguiente Área\"]\n",
    "    transiciones = (derivacion_urgencia.value_counts()/derivacion_urgencia.shape[0])*100\n",
    "    df_heatmap[area] = transiciones"
   ]
  },
  {
   "cell_type": "code",
   "execution_count": null,
   "metadata": {},
   "outputs": [],
   "source": [
    "df_heatmap.fillna(0)"
   ]
  },
  {
   "cell_type": "code",
   "execution_count": null,
   "metadata": {},
   "outputs": [],
   "source": [
    "import seaborn as sns\n",
    "sns.heatmap(df_heatmap.T,annot = True,cmap = \"YlOrRd\")"
   ]
  },
  {
   "cell_type": "markdown",
   "metadata": {},
   "source": [
    "# Pacientes por día"
   ]
  },
  {
   "cell_type": "code",
   "execution_count": null,
   "metadata": {},
   "outputs": [],
   "source": [
    "salas_div  = areas_mapa_profe[:-5]\n"
   ]
  },
  {
   "cell_type": "code",
   "execution_count": null,
   "metadata": {},
   "outputs": [],
   "source": [
    "estadias_div = []\n",
    "for paciente in set_pacientes :\n",
    "    info_pacientes = datos_pacientes[datos_pacientes[\"Case ID\"] == paciente]\n",
    "    info_hospitalizacion = info_pacientes[info_pacientes[\"Area\"].isin(salas_div)]\n",
    "    estadia = np.sum(info_pacientes[\"Estadia\"])\n",
    "    estadias_div.append(estadia)\n",
    "estadia_serie = pd.Series(estadias_div)\n",
    "estadia_serie = estadia_serie[(estadia_serie >0)]\n",
    "print(\"Media de estadia en div (suma)\",estadia_serie.mean())"
   ]
  },
  {
   "cell_type": "code",
   "execution_count": null,
   "metadata": {},
   "outputs": [],
   "source": [
    "import datetime"
   ]
  },
  {
   "cell_type": "code",
   "execution_count": null,
   "metadata": {},
   "outputs": [],
   "source": [
    "def convertir_fecha(date):\n",
    "    fecha = datetime.datetime.strftime(date,\"%Y-%m-%d\")\n",
    "    return fecha"
   ]
  },
  {
   "cell_type": "code",
   "execution_count": null,
   "metadata": {},
   "outputs": [],
   "source": [
    "df_info_pacientes[\"Fecha_entrada\"] = [convertir_fecha(df_info_pacientes[\"Entrada\"].iloc[i]) for i in range(df_info_pacientes[\"Entrada\"].shape[0])]\n",
    "\n",
    "df_info_pacientes"
   ]
  },
  {
   "cell_type": "code",
   "execution_count": null,
   "metadata": {},
   "outputs": [],
   "source": [
    "hist = df_info_pacientes[\"Fecha_entrada\"].value_counts().plot.hist()\n"
   ]
  },
  {
   "cell_type": "code",
   "execution_count": null,
   "metadata": {},
   "outputs": [],
   "source": [
    "datos_atencion_urg = pd.read_csv(\"Datos_atencion_urg.csv\")\n",
    "ids_atencion = datos_atencion_urg[\"ID\"]\n",
    "set_atencion_urg = set(ids_atencion)\n",
    "for paciente in set_pacientes:\n",
    "    if paciente not in set_atencion_urg:\n",
    "        print(\"Match\")"
   ]
  },
  {
   "cell_type": "code",
   "execution_count": null,
   "metadata": {},
   "outputs": [],
   "source": [
    "estadia = datos_pacientes[datos_pacientes[\"Area\"] == \"URG101_003\"][\"Estadia\"]\n",
    "estadia = np.array(estadia)\n",
    "f = Fitter(estadia,distributions = [\"beta\"])\n",
    "f.fit()\n",
    "hist = f.summary()\n",
    "plt.set_title(\"Estadia en URG101_003 distribución ajustada\")\n",
    "plt.set_xlabel(\"Horas\")"
   ]
  },
  {
   "cell_type": "code",
   "execution_count": null,
   "metadata": {},
   "outputs": [],
   "source": [
    "help(Fitter.summary)"
   ]
  },
  {
   "cell_type": "code",
   "execution_count": 13,
   "metadata": {},
   "outputs": [
    {
     "name": "stdout",
     "output_type": "stream",
     "text": [
      "['Analisis.ipynb', 'Datos operaciones origen urgencias.csv', 'Datos.csv', 'Datos_atencion_urg.csv', 'Datos_final.csv', 'Datos_simplificados.csv', 'Descripcion actividades servicio urgencia.xlsx', 'distribuciones.json', 'distribuciones_varias.json', 'DIV_101_703_Estadia.csv', 'recursos_salas.json', 'URG_101_003_Estadia.csv']\n"
     ]
    },
    {
     "data": {
      "text/plain": [
       "['DIV_101_703_Estadia.csv', 'URG_101_003_Estadia.csv']"
      ]
     },
     "execution_count": 13,
     "metadata": {},
     "output_type": "execute_result"
    }
   ],
   "source": [
    "import os\n",
    "# carpeta = \"Datos\"\n",
    "archivos = os.listdir()\n",
    "print(archivos)\n",
    "utiles = []\n",
    "for file in archivos:\n",
    "    if \"Estadia\" in file:\n",
    "        utiles.append(file)\n",
    "    else:\n",
    "        continue\n",
    "utiles\n"
   ]
  },
  {
   "cell_type": "code",
   "execution_count": 39,
   "metadata": {},
   "outputs": [
    {
     "data": {
      "text/html": [
       "<div>\n",
       "<style scoped>\n",
       "    .dataframe tbody tr th:only-of-type {\n",
       "        vertical-align: middle;\n",
       "    }\n",
       "\n",
       "    .dataframe tbody tr th {\n",
       "        vertical-align: top;\n",
       "    }\n",
       "\n",
       "    .dataframe thead th {\n",
       "        text-align: right;\n",
       "    }\n",
       "</style>\n",
       "<table border=\"1\" class=\"dataframe\">\n",
       "  <thead>\n",
       "    <tr style=\"text-align: right;\">\n",
       "      <th></th>\n",
       "      <th>Tiempo (min)</th>\n",
       "    </tr>\n",
       "  </thead>\n",
       "  <tbody>\n",
       "    <tr>\n",
       "      <th>0</th>\n",
       "      <td>19</td>\n",
       "    </tr>\n",
       "    <tr>\n",
       "      <th>1</th>\n",
       "      <td>36</td>\n",
       "    </tr>\n",
       "    <tr>\n",
       "      <th>2</th>\n",
       "      <td>26</td>\n",
       "    </tr>\n",
       "    <tr>\n",
       "      <th>3</th>\n",
       "      <td>22</td>\n",
       "    </tr>\n",
       "    <tr>\n",
       "      <th>4</th>\n",
       "      <td>23</td>\n",
       "    </tr>\n",
       "    <tr>\n",
       "      <th>...</th>\n",
       "      <td>...</td>\n",
       "    </tr>\n",
       "    <tr>\n",
       "      <th>543</th>\n",
       "      <td>53</td>\n",
       "    </tr>\n",
       "    <tr>\n",
       "      <th>544</th>\n",
       "      <td>39</td>\n",
       "    </tr>\n",
       "    <tr>\n",
       "      <th>545</th>\n",
       "      <td>19</td>\n",
       "    </tr>\n",
       "    <tr>\n",
       "      <th>546</th>\n",
       "      <td>9</td>\n",
       "    </tr>\n",
       "    <tr>\n",
       "      <th>547</th>\n",
       "      <td>18</td>\n",
       "    </tr>\n",
       "  </tbody>\n",
       "</table>\n",
       "<p>548 rows × 1 columns</p>\n",
       "</div>"
      ],
      "text/plain": [
       "     Tiempo (min)\n",
       "0              19\n",
       "1              36\n",
       "2              26\n",
       "3              22\n",
       "4              23\n",
       "..            ...\n",
       "543            53\n",
       "544            39\n",
       "545            19\n",
       "546             9\n",
       "547            18\n",
       "\n",
       "[548 rows x 1 columns]"
      ]
     },
     "execution_count": 39,
     "metadata": {},
     "output_type": "execute_result"
    }
   ],
   "source": [
    "div = utiles[0]\n",
    "estadias = pd.read_csv(div,sep = \";\")\n",
    "estadias = estadias.iloc[:,1:]\n",
    "estadias"

   "cell_type": "markdown",
   "metadata": {},
   "source": [
    "## Test de bondad de ajuste"
     }

   "execution_count": 40,
   "metadata": {},
   "outputs": [
    {
     "data": {
      "text/html": [
       "<div>\n",
       "<style scoped>\n",
       "    .dataframe tbody tr th:only-of-type {\n",
       "        vertical-align: middle;\n",
       "    }\n",
       "\n",
       "    .dataframe tbody tr th {\n",
       "        vertical-align: top;\n",
       "    }\n",
       "\n",
       "    .dataframe thead th {\n",
       "        text-align: right;\n",
       "    }\n",
       "</style>\n",
       "<table border=\"1\" class=\"dataframe\">\n",
       "  <thead>\n",
       "    <tr style=\"text-align: right;\">\n",
       "      <th></th>\n",
       "      <th>sumsquare_error</th>\n",
       "      <th>aic</th>\n",
       "      <th>bic</th>\n",
       "      <th>kl_div</th>\n",
       "    </tr>\n",
       "  </thead>\n",
       "  <tbody>\n",
       "    <tr>\n",
       "      <th>beta</th>\n",
       "      <td>0.000575</td>\n",
       "      <td>1714.846788</td>\n",
       "      <td>-7519.048394</td>\n",
       "      <td>inf</td>\n",
       "    </tr>\n",
       "    <tr>\n",
       "      <th>norm</th>\n",
       "      <td>0.001164</td>\n",
       "      <td>1908.772005</td>\n",
       "      <td>-7145.517357</td>\n",
       "      <td>inf</td>\n",
       "    </tr>\n",
       "    <tr>\n",
       "      <th>expon</th>\n",
       "      <td>0.001354</td>\n",
       "      <td>1327.858450</td>\n",
       "      <td>-7062.520770</td>\n",
       "      <td>inf</td>\n",
       "    </tr>\n",
       "    <tr>\n",
       "      <th>lognorm</th>\n",
       "      <td>0.012600</td>\n",
       "      <td>1436.691693</td>\n",
       "      <td>-5833.918207</td>\n",
       "      <td>inf</td>\n",
       "    </tr>\n",
       "    <tr>\n",
       "      <th>gamma</th>\n",
       "      <td>0.072949</td>\n",
       "      <td>11414.300875</td>\n",
       "      <td>-4871.583412</td>\n",
       "      <td>inf</td>\n",
       "    </tr>\n",
       "  </tbody>\n",
       "</table>\n",
       "</div>"
      ],
      "text/plain": [
       "         sumsquare_error           aic          bic  kl_div\n",
       "beta            0.000575   1714.846788 -7519.048394     inf\n",
       "norm            0.001164   1908.772005 -7145.517357     inf\n",
       "expon           0.001354   1327.858450 -7062.520770     inf\n",
       "lognorm         0.012600   1436.691693 -5833.918207     inf\n",
       "gamma           0.072949  11414.300875 -4871.583412     inf"
      ]
     },
     "execution_count": 40,
     "metadata": {},
     "output_type": "execute_result"
    },
    {
     "data": {
      "image/png": "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",
      "text/plain": [
       "<Figure size 432x288 with 1 Axes>"
      ]
     },
     "metadata": {
      "needs_background": "light"
     },
     "output_type": "display_data"
    }
   ],
   "source": [
    "f = Fitter(estadias,distributions = [\"expon\",\"beta\",\"lognorm\",\"norm\",\"gamma\"])\n",
    "f.fit()\n",
    "best = f.get_best(method = \"sumsquare_error\")\n",
    "f.summary()"
   ]
  },
  {
   "cell_type": "code",
   "execution_count": 41,
   "metadata": {},
   "outputs": [
    {
     "data": {
      "text/plain": [
       "{'beta': {'a': 4.9161197693766,\n",
       "  'b': 11302195912564.662,\n",
       "  'loc': -12.149926943602857,\n",
       "  'scale': 123986904024393.4}}"
      ]
     },
     "execution_count": 41,
     "metadata": {},
     "output_type": "execute_result"
    }
   ],
   "source": [
    "best"
   ]
  }
  }
 ],
 "metadata": {
  "interpreter": {
   "hash": "8376b097bc99cca5bfa45a6685cdab43436475c8c04b0a1fefb6690ea3d6d0b4"
  },
  "kernelspec": {
   "display_name": "Python 3",
   "language": "python",
   "name": "python3"
  },
  "language_info": {
   "codemirror_mode": {
    "name": "ipython",
    "version": 3
   },
   "file_extension": ".py",
   "mimetype": "text/x-python",
   "name": "python",
   "nbconvert_exporter": "python",
   "pygments_lexer": "ipython3",
   "version": "3.8.8"
  },
  "orig_nbformat": 4
 
 "nbformat": 4,
 "nbformat_minor": 2
}
