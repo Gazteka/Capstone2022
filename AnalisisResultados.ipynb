{
 "cells": [
  {
   "cell_type": "code",
   "execution_count": 1,
   "metadata": {},
   "outputs": [],
   "source": [
    "import matplotlib.pyplot as plt\n",
    "import numpy as np"
   ]
  },
  {
   "cell_type": "code",
   "execution_count": 2,
   "metadata": {},
   "outputs": [],
   "source": [
    "# IMPORTACIÓN SOLUCIÓN\n",
    "# BASE =\n",
    "# IDEAL = \n",
    "# ESPERADO = \n",
    "\n",
    "# BASE_MODIFICADO = \n",
    "# IDEAL_MODIFICADO = \n",
    "# ESPERADO_MODIFICADO = "
   ]
  },
  {
   "cell_type": "markdown",
   "metadata": {},
   "source": [
    "## Formato soluciones\n",
    "Para poder analizar los resultados trabajaremos con varios vectores con distintas soluciones según los datos iniciales.\n",
    "\n",
    "El formato de los vectores solución consiste en un array con los siguientes datoses el siguiente:\n",
    "\n",
    "| Indice | Valor | Rango |\n",
    "|--------|-------|-------\n",
    "| 0 | x = Cantidad de puestos de atención | 3-5  | \n",
    "| 1 | y = Cantidad de boxes de atención | 5-8  |\n",
    "| 2 | z1= Cantidad de camas en la sala DIV101_603 |  12-15 |\n",
    "| 3 | z2= Cantidad de camas en las sala DIV101_604 | 5-6 |\n",
    "| 4 | z3 = Cantidad de camas en las sala DIV101_703 | 5-8|\n",
    "| 5 | z4 = Cantidad de camas en las sala DIV102_203 | 12-15 |\n",
    "| 6 | z5 = Cantidad de camas en las sala DIV103_107 | 8-10 |\n",
    "| 7 | z6 = Cantidad de camas en las sala DIV103_204 | 10-13 |\n",
    "| 8 | z7 = Cantidad de camas en las sala DIV104_602 |14-18 |\n",
    "| 9 | e = Disponibilida de la sala OPR101_011  | 0-1 |\n",
    "\n"
   ]
  },
  {
   "cell_type": "code",
   "execution_count": 3,
   "metadata": {},
   "outputs": [],
   "source": [
    "costos_operacionales = {\n",
    "    'puesto_antencion': 150000, \n",
    "    'box_atencion': 450000,\n",
    "    'cama': 250000,\n",
    "    'horario_OPR101_011': 800000}\n",
    "\n",
    "costos_inversion = {\n",
    "    'box_atencion': 12500000,\n",
    "    'cama': 3500000,\n",
    "    'horario_OPR101_011': 25000000\n",
    "}"
   ]
  },
  {
   "cell_type": "markdown",
   "metadata": {},
   "source": [
    "# ¿Análisis estacionario? (no toy seguro del nombre)"
   ]
  },
  {
   "cell_type": "code",
   "execution_count": 11,
   "metadata": {},
   "outputs": [
    {
     "data": {
      "image/png": "[encoded data removed]",
      "text/plain": [
       "<Figure size 432x288 with 1 Axes>"
      ]
     },
     "metadata": {
      "needs_background": "light"
     },
     "output_type": "display_data"
    }
   ],
   "source": [
    "lista_lead_time_promedio = [248,245,242,241, 240.5, 240.4, 240.3]\n",
    "lista_lead_time_max = [248,245+1,242+1,241+1, 240.5+1, 240.4+1, 240.3+1]\n",
    "lista_lead_time_min = [248-1,245-1,242-1,241-1, 240.5-1, 240.4-1, 240.3-1]\n",
    "lead_time_promedio_sin_presupuesto = 248 \n",
    "lead_time_promedio_max_presupuesto = 239\n",
    "###\n",
    "\n",
    "lista_sin_presupuesto = np.resize([lead_time_promedio_sin_presupuesto], len(lista_lead_time_promedio))\n",
    "lista_max_presupuesto = np.resize([lead_time_promedio_max_presupuesto], len(lista_lead_time_promedio))\n",
    "iteraciones = range(1, len(lista_lead_time_promedio) + 1)\n",
    "\n",
    "plt.plot(iteraciones, lista_sin_presupuesto, linestyle=\"-\", color='r', label='Sin presupuesto')\n",
    "plt.plot(iteraciones, lista_lead_time_promedio, linestyle=\"-\", label='Lead time promedio', color='black')\n",
    "plt.plot(iteraciones, lista_lead_time_max, linestyle=\"--\", label='Lead time max', color='b')\n",
    "plt.plot(iteraciones, lista_lead_time_min, linestyle=\"--\", label='Lead time min', color='b')\n",
    "plt.plot(iteraciones, lista_max_presupuesto, linestyle=\"-\", label='Máximo presupuesto', color='g')\n",
    "\n",
    "\n",
    "plt.xlabel('N° iteración')\n",
    "plt.ylabel('Lead time [horas]')\n",
    "plt.title('Lead time promedio v/s N° iteraciones')\n",
    "plt.legend(loc='center right')\n",
    "\n",
    "plt.yticks([lead_time_promedio_max_presupuesto, lista_lead_time_promedio[-1] , lead_time_promedio_sin_presupuesto])\n",
    "\n",
    "plt.show()"
   ]
  },
  {
   "cell_type": "markdown",
   "metadata": {},
   "source": [
    "# Escenarios\n",
    "Se procede a comparar los resultados de distintas soluciones "
   ]
  },
  {
   "cell_type": "markdown",
   "metadata": {},
   "source": [
    "### Escenario base\n",
    "* Llegada de pacientes: “registro histórico”\n",
    "* Ruta de pacientes: “registro histórico”\n",
    "* Presupuesto: 0"
   ]
  },
  {
   "cell_type": "code",
   "execution_count": 4,
   "metadata": {},
   "outputs": [],
   "source": [
    "#lead_time_base = \n",
    "base = np.array([3, 5, 12, 5, 5, 12, 8, 10, 14, 0])\n",
    "lead_time_base_range = (200, 300)"
   ]
  },
  {
   "cell_type": "markdown",
   "metadata": {},
   "source": [
    "### Escenario Ideal\n",
    "* Llegada de pacientes: “registro histórico”\n",
    "* Ruta de pacientes: “registro histórico”\n",
    "* Presupuesto: infinito"
   ]
  },
  {
   "cell_type": "code",
   "execution_count": 5,
   "metadata": {},
   "outputs": [],
   "source": [
    "# lead_time_ideal =\n",
    "ideal = np.array([5, 8, 15, 6, 8, 15, 10, 13, 18, 1])\n",
    "lead_time_ideal_range = (50, 100)"
   ]
  },
  {
   "cell_type": "markdown",
   "metadata": {},
   "source": [
    "### Escenario Esperado\n",
    "* Llegada de pacientes: “registro histórico”\n",
    "* Ruta de pacientes: “registro histórico”\n",
    "* Presupuesto: propuesto por equipo docente\n"
   ]
  },
  {
   "cell_type": "code",
   "execution_count": 6,
   "metadata": {},
   "outputs": [],
   "source": [
    "# lead_time_esperado = \n",
    "esperado = np.array([5, 8, 12, 6, 2, 12, 10, 10, 15, 0]) # Inventado para testear\n",
    "lead_time_esperado_range = (100, 200)"
   ]
  },
  {
   "cell_type": "markdown",
   "metadata": {},
   "source": [
    "## Análisis inicial"
   ]
  },
  {
   "cell_type": "code",
   "execution_count": 7,
   "metadata": {},
   "outputs": [],
   "source": [
    "def calcular_costos(base, solucion, costos_op, costos_inv):\n",
    "    costo_op = 0\n",
    "    costo_inv = 0\n",
    "    costo_op += (solucion[0] - base[0]) * costos_op['puesto_antencion']\n",
    "    costo_op += (solucion[1] - base[1])* costos_op['box_atencion']\n",
    "    costo_inv += (solucion[1] - base[1])* costos_inv['box_atencion']\n",
    "    for i in range(2,9):\n",
    "        costo_op += (solucion[i] - base[i])* costos_op['cama']\n",
    "        costo_inv += (solucion[i] - base[i])* costos_inv['cama']\n",
    "    \n",
    "    costo_op += solucion[9] * costos_op['horario_OPR101_011']\n",
    "    costo_inv += solucion[9]* costos_inv['horario_OPR101_011']\n",
    "    return costo_op, costo_inv"
   ]
  },
  {
   "cell_type": "code",
   "execution_count": 8,
   "metadata": {},
   "outputs": [
    {
     "name": "stdout",
     "output_type": "stream",
     "text": [
      "(7200000, 129000000)\n",
      "(1900000, 41000000)\n"
     ]
    }
   ],
   "source": [
    "print(calcular_costos(base, ideal, costos_operacionales, costos_inversion))\n",
    "print(calcular_costos(base, esperado, costos_operacionales, costos_inversion))"
   ]
  },
  {
   "cell_type": "code",
   "execution_count": 9,
   "metadata": {},
   "outputs": [
    {
     "data": {
      "image/png": "[encoded data removed]",
      "text/plain": [
       "<Figure size 576x360 with 1 Axes>"
      ]
     },
     "metadata": {
      "needs_background": "light"
     },
     "output_type": "display_data"
    }
   ],
   "source": [
    "labels = ['Escenario Base', 'Escenario Esperado', 'Escenario Ideal']\n",
    "max_leadtime = [lead_time_base_range[1], \n",
    "                lead_time_esperado_range[1], \n",
    "                lead_time_ideal_range[1]]\n",
    "\n",
    "min_leadtime = [lead_time_base_range[0], \n",
    "                lead_time_esperado_range[0], \n",
    "                lead_time_ideal_range[0]]\n",
    "\n",
    "x = np.arange(len(labels))  # the label locations\n",
    "width = 0.35  # the width of the bars\n",
    "\n",
    "fig, ax = plt.subplots(figsize=(8,5))\n",
    "rects1 = ax.bar(x - width/2, max_leadtime, width, label='Max Lead Time')\n",
    "rects2 = ax.bar(x + width/2, min_leadtime, width, label='Min Lead Time')\n",
    "\n",
    "# Add some text for labels, title and custom x-axis tick labels, etc.\n",
    "ax.set_ylabel('Lead time promedio')\n",
    "ax.set_title('Lead time promedio por escenario')\n",
    "ax.set_xticks(x, labels)\n",
    "ax.legend()\n",
    "\n",
    "ax.bar_label(rects1, padding=3)\n",
    "ax.bar_label(rects2, padding=3)\n",
    "\n",
    "fig.tight_layout()\n",
    "\n",
    "plt.show()"
   ]
  },
  {
   "cell_type": "code",
   "execution_count": 10,
   "metadata": {},
   "outputs": [
    {
     "ename": "ModuleNotFoundError",
     "evalue": "No module named 'plotly'",
     "output_type": "error",
     "traceback": [
      "\u001b[1;31m---------------------------------------------------------------------------\u001b[0m",
      "\u001b[1;31mModuleNotFoundError\u001b[0m                       Traceback (most recent call last)",
      "\u001b[1;32m~\\AppData\\Local\\Temp/ipykernel_14464/4004937386.py\u001b[0m in \u001b[0;36m<module>\u001b[1;34m\u001b[0m\n\u001b[1;32m----> 1\u001b[1;33m \u001b[1;32mimport\u001b[0m \u001b[0mplotly\u001b[0m\u001b[1;33m.\u001b[0m\u001b[0mgraph_objects\u001b[0m \u001b[1;32mas\u001b[0m \u001b[0mgo\u001b[0m\u001b[1;33m\u001b[0m\u001b[1;33m\u001b[0m\u001b[0m\n\u001b[0m\u001b[0;32m      2\u001b[0m \u001b[1;32mfrom\u001b[0m \u001b[0mdatetime\u001b[0m \u001b[1;32mimport\u001b[0m \u001b[0mdatetime\u001b[0m\u001b[1;33m\u001b[0m\u001b[1;33m\u001b[0m\u001b[0m\n\u001b[0;32m      3\u001b[0m \u001b[1;33m\u001b[0m\u001b[0m\n\u001b[0;32m      4\u001b[0m fig = go.Figure(data=[go.Candlestick(x=labels,\n\u001b[0;32m      5\u001b[0m                        \u001b[0mopen\u001b[0m\u001b[1;33m=\u001b[0m\u001b[0mmin_leadtime\u001b[0m\u001b[1;33m,\u001b[0m \u001b[0mhigh\u001b[0m\u001b[1;33m=\u001b[0m\u001b[0mmax_leadtime\u001b[0m\u001b[1;33m,\u001b[0m\u001b[1;33m\u001b[0m\u001b[1;33m\u001b[0m\u001b[0m\n",
      "\u001b[1;31mModuleNotFoundError\u001b[0m: No module named 'plotly'"
     ]
    }
   ],
   "source": [
    "import plotly.graph_objects as go\n",
    "from datetime import datetime\n",
    "\n",
    "fig = go.Figure(data=[go.Candlestick(x=labels,\n",
    "                       open=min_leadtime, high=max_leadtime,\n",
    "                       low=min_leadtime, close=max_leadtime)])\n",
    "\n",
    "fig.update_layout(title = \"Rangos Lead Time promedio según escenario\")\n",
    "fig.update_xaxes(title_text='Escenario')\n",
    "fig.update_yaxes(title_text='Lead time promedio')\n",
    "fig.show()"
   ]
  },
  {
   "cell_type": "code",
   "execution_count": null,
   "metadata": {},
   "outputs": [
    {
     "name": "stderr",
     "output_type": "stream",
     "text": [
      "No artists with labels found to put in legend.  Note that artists whose label start with an underscore are ignored when legend() is called with no argument.\n"
     ]
    },
    {
     "data": {
      "image/png": "[encoded data removed]",
      "text/plain": [
       "<Figure size 576x360 with 1 Axes>"
      ]
     },
     "metadata": {
      "needs_background": "light"
     },
     "output_type": "display_data"
    }
   ],
   "source": [
    "labels = ['Escenario Base', 'Escenario Esperado', 'Escenario Ideal']\n",
    "\n",
    "op_base = calcular_costos(base, base, costos_operacionales, costos_inversion)[0]\n",
    "op_ideal = calcular_costos(base, ideal, costos_operacionales, costos_inversion)[0]\n",
    "op_esperado = calcular_costos(base, esperado, costos_operacionales, costos_inversion)[0]\n",
    "\n",
    "max_leadtime = [op_base, op_esperado, op_ideal]\n",
    "\n",
    "x = np.arange(len(labels))  # the label locations\n",
    "\n",
    "fig, ax = plt.subplots(figsize=(8,5))\n",
    "rects1 = ax.bar(x, max_leadtime, width, label='')\n",
    "\n",
    "# Add some text for labels, title and custom x-axis tick labels, etc.\n",
    "ax.set_ylabel('Gasto operacional')\n",
    "ax.set_title('Gasto operacional por escenario')\n",
    "ax.set_xticks(x, labels)\n",
    "ax.legend()\n",
    "\n",
    "ax.bar_label(rects1, padding=3)\n",
    "plt.hlines(4500000, xmin=0, xmax=3, label='Restricción')\n",
    "plt.text(1, 4700000, 'restriccion presupuestaria', ha='right', va='center')\n",
    "\n",
    "fig.tight_layout()\n",
    "\n",
    "plt.show()"
   ]
  },
  {
   "cell_type": "markdown",
   "metadata": {},
   "source": [
    "### Escenario base - Sensibilidad de llegada de pacientes\n",
    "* Llegada de pacientes: “registro histórico” + valor por determinar\n",
    "* Ruta de pacientes: “registro histórico”\n",
    "* Presupuesto: 0\n"
   ]
  },
  {
   "cell_type": "markdown",
   "metadata": {},
   "source": [
    "### Escenario Ideal - Sensibilidad de llegada de pacientes\n",
    "* Llegada de pacientes: “registro histórico” + valor por determinar\n",
    "* Ruta de pacientes: “registro histórico”\n",
    "* Presupuesto: Infinito\n"
   ]
  },
  {
   "cell_type": "markdown",
   "metadata": {},
   "source": [
    "### Escenario Esperado - Sensibilidad de llegada de pacientes\n",
    "* Llegada de pacientes: “registro histórico” + valor por determinar\n",
    "* Ruta de pacientes: “registro histórico”\n",
    "* Presupuesto: propuesto por equipo docente\n"
   ]
  },
  {
   "cell_type": "code",
   "execution_count": null,
   "metadata": {},
   "outputs": [],
   "source": []
  },
  {
   "cell_type": "code",
   "execution_count": null,
   "metadata": {},
   "outputs": [],
   "source": []
  },
  {
   "cell_type": "code",
   "execution_count": null,
   "metadata": {},
   "outputs": [],
   "source": []
  }
 ],
 "metadata": {
  "kernelspec": {
   "display_name": "Python 3.8.10 64-bit",
   "language": "python",
   "name": "python3"
  },
  "language_info": {
   "codemirror_mode": {
    "name": "ipython",
    "version": 3
   },
   "file_extension": ".py",
   "mimetype": "text/x-python",
   "name": "python",
   "nbconvert_exporter": "python",
   "pygments_lexer": "ipython3",
   "version": "3.8.10"
  },
  "orig_nbformat": 4,
  "vscode": {
   "interpreter": {
    "hash": "ae4c2b3b6edf159483116aa1e52121c1218932e443664ecd0a55c2d4ebccfbb6"
   }
  }
 },
 "nbformat": 4,
 "nbformat_minor": 2
}
