{
 "cells": [
  {
   "cell_type": "code",
   "execution_count": 1,
   "metadata": {},
   "outputs": [],
   "source": [
    "import matplotlib.pyplot as plt\n",
    "import numpy as np\n",
    "import plotly.express as px\n",
    "import plotly.graph_objects as go\n",
    "import csv\n",
    "import pandas as pd"
   ]
  },
  {
   "cell_type": "code",
   "execution_count": 2,
   "metadata": {},
   "outputs": [
    {
     "name": "stdout",
     "output_type": "stream",
     "text": [
      "[0, 1, 2, 3, 4, 5, 6, 7, 8, 9, 10, 11, 12, 13, 14, 15, 16, 17, 18, 19, 20, 21, 22, 23, 24, 25, 26, 27, 28, 29, 30, 31, 32, 33, 34, 35, 36, 37, 38, 39, 40, 41, 42, 43, 44, 45, 46, 47, 48, 49]\n",
      "[297.0999416892863, 822.9907704324025, 822.9907704324025, 815.4110071169359, 815.4110071169359, 815.4110071169359, 815.4110071169359, 815.4110071169359, 815.4110071169359, 815.4110071169359, 815.4110071169359, 815.4110071169359, 815.4110071169359, 815.4110071169359, 815.4110071169359, 815.4110071169359, 815.4110071169359, 815.4110071169359, 815.4110071169359, 815.4110071169359, 815.4110071169359, 815.4110071169359, 815.4110071169359, 815.4110071169359, 815.4110071169359, 815.4110071169359, 815.4110071169359, 815.4110071169359, 815.4110071169359, 815.4110071169359, 815.4110071169359, 257.0546309615574, 257.0546309615574, 257.0546309615574, 257.0546309615574, 257.0546309615574, 257.0546309615574, 257.0546309615574, 257.0546309615574, 257.0546309615574, 257.0546309615574, 257.0546309615574, 257.0546309615574, 257.0546309615574, 257.0546309615574, 257.0546309615574, 257.0546309615574, 257.0546309615574, 257.0546309615574, 257.0546309615574]\n",
      "[1108.4889811324756, 800.2484801444793, 669.1157748811544, 605.9284868773028, 603.9263211291428, 603.9263211291428, 603.9263211291428, 603.9263211291428, 603.9263211291428, 603.9263211291428, 603.9263211291428, 603.9263211291428, 603.9263211291428, 603.9263211291428, 603.9263211291428, 603.9263211291428, 603.9263211291428, 603.9263211291428, 603.9263211291428, 603.9263211291428, 603.9263211291428, 603.9263211291428, 603.9263211291428, 603.9263211291428, 603.9263211291428, 603.9263211291428, 603.9263211291428, 603.9263211291428, 603.9263211291428, 603.9263211291428, 603.9263211291428, 322.19267446128293, 322.19267446128293, 322.19267446128293, 322.19267446128293, 322.19267446128293, 322.19267446128293, 322.19267446128293, 322.19267446128293, 322.19267446128293, 322.19267446128293, 322.19267446128293, 322.19267446128293, 322.19267446128293, 322.19267446128293, 322.19267446128293, 322.19267446128293, 322.19267446128293, 322.19267446128293, 322.19267446128293]\n",
      "[429.83992686263605, 2455.3874378925775, 2455.3874378925775, 2334.4625604166604, 2334.4625604166604, 2334.4625604166604, 2334.4625604166604, 2334.4625604166604, 2334.4625604166604, 2334.4625604166604, 2334.4625604166604, 2334.4625604166604, 2334.4625604166604, 2334.4625604166604, 2334.4625604166604, 2334.4625604166604, 2334.4625604166604, 2334.4625604166604, 2334.4625604166604, 2334.4625604166604, 2334.4625604166604, 2334.4625604166604, 2334.4625604166604, 2334.4625604166604, 2334.4625604166604, 2334.4625604166604, 2334.4625604166604, 2334.4625604166604, 2334.4625604166604, 2334.4625604166604, 2334.4625604166604, 387.3307179610085, 387.3307179610085, 387.3307179610085, 387.3307179610085, 387.3307179610085, 387.3307179610085, 387.3307179610085, 387.3307179610085, 387.3307179610085, 387.3307179610085, 387.3307179610085, 387.3307179610085, 387.3307179610085, 387.3307179610085, 387.3307179610085, 387.3307179610085, 387.3307179610085, 387.3307179610085, 387.3307179610085]\n",
      "['[3, 7, 13, 6, 15, 10, 10, 14, 0]', '[3, 7, 13, 6, 12, 9, 11, 15, 0]', '[3, 7, 13, 6, 12, 9, 11, 15, 0]', '[4, 7, 13, 6, 12, 9, 11, 15, 0]', '[4, 7, 13, 6, 12, 9, 11, 15, 0]', '0', '0', '0', '0', '0', '0', '0', '0', '0', '0', '0', '0', '0', '0', '0', '0', '0', '0', '0', '0', '0', '0', '0', '0', '0', '0', '[4, 8, 12, 5, 12, 8, 11, 14, 0]', '0', '0', '0', '0', '0', '0', '0', '0', '0', '0', '0', '0', '0', '0', '0', '0', '0', '0']\n"
     ]
    }
   ],
   "source": [
    "# IMPORTACIÓN SOLUCIÓN\n",
    "# BASE =\n",
    "# IDEAL = \n",
    "# ESPERADO = \n",
    "\n",
    "# BASE_MODIFICADO = \n",
    "# IDEAL_MODIFICADO = \n",
    "# ESPERADO_MODIFICADO = \n",
    "\n",
    "\n",
    "with open('resultados_algoritmo_domingo.csv') as file:\n",
    "    csv_reader = csv.reader(file, delimiter=';')\n",
    "    iteraciones = list()\n",
    "    min_algoritmo = list()\n",
    "    mean_algoritmo = list()\n",
    "    max_algoritmo = list()\n",
    "    best_algoritmo = list()\n",
    "    generacion_algoritmo = list()\n",
    "\n",
    "    header = next(csv_reader) # Para que no se considere en el loop\n",
    "    for linea in csv_reader:\n",
    "        iteraciones.append(int(linea[0]))\n",
    "        best_algoritmo.append(linea[4])\n",
    "\n",
    "        if linea[4] == '0':\n",
    "            min_algoritmo.append(min_algoritmo[-1])\n",
    "            mean_algoritmo.append(mean_algoritmo[-1])\n",
    "            max_algoritmo.append(max_algoritmo[-1])\n",
    "            generacion_algoritmo.append(generacion_algoritmo[-1])\n",
    "            \n",
    "        else:\n",
    "            min_algoritmo.append(float(linea[1]))\n",
    "            mean_algoritmo.append(float(linea[2]))\n",
    "            max_algoritmo.append(float(linea[3]))\n",
    "            generacion_algoritmo.append(linea[5])\n",
    "\n",
    "print(iteraciones)\n",
    "print(min_algoritmo)\n",
    "print(mean_algoritmo)\n",
    "print(max_algoritmo)\n",
    "print(best_algoritmo)"
   ]
  },
  {
   "cell_type": "markdown",
   "metadata": {},
   "source": [
    "## Formato soluciones\n",
    "Para poder analizar los resultados trabajaremos con varios vectores con distintas soluciones según los datos iniciales.\n",
    "\n",
    "El formato de los vectores solución consiste en un array con los siguientes datoses el siguiente:\n",
    "\n",
    "| Indice | Valor | Rango |\n",
    "|--------|-------|-------\n",
    "| 0 | x = Cantidad de puestos de atención | 3-5  | \n",
    "| 1 | y = Cantidad de boxes de atención | 5-8  |\n",
    "| 2 | z1= Cantidad de camas en la sala DIV101_603 |  12-15 |\n",
    "| 3 | z2= Cantidad de camas en las sala DIV101_604 | 5-6 |\n",
    "| 4 | z3 = Cantidad de camas en las sala DIV101_703 | 5-8|\n",
    "| 5 | z4 = Cantidad de camas en las sala DIV102_203 | 12-15 |\n",
    "| 6 | z5 = Cantidad de camas en las sala DIV103_107 | 8-10 |\n",
    "| 7 | z6 = Cantidad de camas en las sala DIV103_204 | 10-13 |\n",
    "| 8 | z7 = Cantidad de camas en las sala DIV104_602 |14-18 |\n",
    "| 9 | e = Disponibilida de la sala OPR101_011  | 0-1 |\n",
    "\n"
   ]
  },
  {
   "cell_type": "code",
   "execution_count": 3,
   "metadata": {},
   "outputs": [],
   "source": [
    "costos_operacionales = {\n",
    "    'puesto_antencion': 150000, \n",
    "    'box_atencion': 450000,\n",
    "    'cama': 250000,\n",
    "    'horario_OPR101_011': 800000}\n",
    "\n",
    "costos_inversion = {\n",
    "    'box_atencion': 12500000,\n",
    "    'cama': 3500000,\n",
    "    'horario_OPR101_011': 25000000\n",
    "}"
   ]
  },
  {
   "cell_type": "markdown",
   "metadata": {},
   "source": [
    "# ¿Análisis estacionario? (no toy seguro del nombre)"
   ]
  },
  {
   "cell_type": "code",
   "execution_count": 3,
   "metadata": {},
   "outputs": [
    {
     "data": {
      "application/vnd.plotly.v1+json": {
       "config": {
        "plotlyServerURL": "https://plot.ly"
       },
       "data": [
        {
         "marker": {
          "color": "dodgerblue",
          "size": 20
         },
         "mode": "lines",
         "name": "Con presupuesto_min",
         "type": "scatter",
         "x": [
          0,
          1,
          2,
          3,
          4,
          5,
          6,
          7,
          8,
          9,
          10,
          11,
          12,
          13,
          14,
          15,
          16,
          17,
          18,
          19,
          20,
          21,
          22,
          23,
          24,
          25,
          26,
          27,
          28,
          29,
          30,
          31,
          32,
          33,
          34,
          35,
          36,
          37,
          38,
          39,
          40,
          41,
          42,
          43,
          44,
          45,
          46,
          47,
          48,
          49
         ],
         "y": [
          297.0999416892863,
          822.9907704324025,
          822.9907704324025,
          815.4110071169359,
          815.4110071169359,
          815.4110071169359,
          815.4110071169359,
          815.4110071169359,
          815.4110071169359,
          815.4110071169359,
          815.4110071169359,
          815.4110071169359,
          815.4110071169359,
          815.4110071169359,
          815.4110071169359,
          815.4110071169359,
          815.4110071169359,
          815.4110071169359,
          815.4110071169359,
          815.4110071169359,
          815.4110071169359,
          815.4110071169359,
          815.4110071169359,
          815.4110071169359,
          815.4110071169359,
          815.4110071169359,
          815.4110071169359,
          815.4110071169359,
          815.4110071169359,
          815.4110071169359,
          815.4110071169359,
          257.0546309615574,
          257.0546309615574,
          257.0546309615574,
          257.0546309615574,
          257.0546309615574,
          257.0546309615574,
          257.0546309615574,
          257.0546309615574,
          257.0546309615574,
          257.0546309615574,
          257.0546309615574,
          257.0546309615574,
          257.0546309615574,
          257.0546309615574,
          257.0546309615574,
          257.0546309615574,
          257.0546309615574,
          257.0546309615574,
          257.0546309615574
         ]
        },
        {
         "marker": {
          "color": "dodgerblue",
          "size": 20
         },
         "mode": "lines",
         "name": "Con presupuesto_max",
         "type": "scatter",
         "x": [
          0,
          1,
          2,
          3,
          4,
          5,
          6,
          7,
          8,
          9,
          10,
          11,
          12,
          13,
          14,
          15,
          16,
          17,
          18,
          19,
          20,
          21,
          22,
          23,
          24,
          25,
          26,
          27,
          28,
          29,
          30,
          31,
          32,
          33,
          34,
          35,
          36,
          37,
          38,
          39,
          40,
          41,
          42,
          43,
          44,
          45,
          46,
          47,
          48,
          49
         ],
         "y": [
          429.83992686263605,
          2455.3874378925775,
          2455.3874378925775,
          2334.4625604166604,
          2334.4625604166604,
          2334.4625604166604,
          2334.4625604166604,
          2334.4625604166604,
          2334.4625604166604,
          2334.4625604166604,
          2334.4625604166604,
          2334.4625604166604,
          2334.4625604166604,
          2334.4625604166604,
          2334.4625604166604,
          2334.4625604166604,
          2334.4625604166604,
          2334.4625604166604,
          2334.4625604166604,
          2334.4625604166604,
          2334.4625604166604,
          2334.4625604166604,
          2334.4625604166604,
          2334.4625604166604,
          2334.4625604166604,
          2334.4625604166604,
          2334.4625604166604,
          2334.4625604166604,
          2334.4625604166604,
          2334.4625604166604,
          2334.4625604166604,
          387.3307179610085,
          387.3307179610085,
          387.3307179610085,
          387.3307179610085,
          387.3307179610085,
          387.3307179610085,
          387.3307179610085,
          387.3307179610085,
          387.3307179610085,
          387.3307179610085,
          387.3307179610085,
          387.3307179610085,
          387.3307179610085,
          387.3307179610085,
          387.3307179610085,
          387.3307179610085,
          387.3307179610085,
          387.3307179610085,
          387.3307179610085
         ]
        },
        {
         "marker": {
          "color": "green",
          "size": 20
         },
         "mode": "lines",
         "name": "Infinito presupuesto_max",
         "type": "scatter",
         "x": [
          0,
          1,
          2,
          3,
          4,
          5,
          6,
          7,
          8,
          9,
          10,
          11,
          12,
          13,
          14,
          15,
          16,
          17,
          18,
          19,
          20,
          21,
          22,
          23,
          24,
          25,
          26,
          27,
          28,
          29,
          30,
          31,
          32,
          33,
          34,
          35,
          36,
          37,
          38,
          39,
          40,
          41,
          42,
          43,
          44,
          45,
          46,
          47,
          48,
          49
         ],
         "y": [
          447.2317648842544,
          447.2317648842544,
          447.2317648842544,
          447.2317648842544,
          447.2317648842544,
          447.2317648842544,
          447.2317648842544,
          447.2317648842544,
          447.2317648842544,
          447.2317648842544,
          447.2317648842544,
          447.2317648842544,
          447.2317648842544,
          447.2317648842544,
          447.2317648842544,
          447.2317648842544,
          447.2317648842544,
          447.2317648842544,
          447.2317648842544,
          447.2317648842544,
          447.2317648842544,
          447.2317648842544,
          447.2317648842544,
          447.2317648842544,
          447.2317648842544,
          447.2317648842544,
          447.2317648842544,
          447.2317648842544,
          447.2317648842544,
          447.2317648842544,
          447.2317648842544,
          447.2317648842544,
          447.2317648842544,
          447.2317648842544,
          447.2317648842544,
          447.2317648842544,
          447.2317648842544,
          447.2317648842544,
          447.2317648842544,
          447.2317648842544,
          447.2317648842544,
          447.2317648842544,
          447.2317648842544,
          447.2317648842544,
          447.2317648842544,
          447.2317648842544,
          447.2317648842544,
          447.2317648842544,
          447.2317648842544,
          447.2317648842544
         ]
        },
        {
         "marker": {
          "color": "green",
          "size": 20
         },
         "mode": "lines",
         "name": "Infinito presupuesto_min",
         "type": "scatter",
         "x": [
          0,
          1,
          2,
          3,
          4,
          5,
          6,
          7,
          8,
          9,
          10,
          11,
          12,
          13,
          14,
          15,
          16,
          17,
          18,
          19,
          20,
          21,
          22,
          23,
          24,
          25,
          26,
          27,
          28,
          29,
          30,
          31,
          32,
          33,
          34,
          35,
          36,
          37,
          38,
          39,
          40,
          41,
          42,
          43,
          44,
          45,
          46,
          47,
          48,
          49
         ],
         "y": [
          248.24500807954746,
          248.24500807954746,
          248.24500807954746,
          248.24500807954746,
          248.24500807954746,
          248.24500807954746,
          248.24500807954746,
          248.24500807954746,
          248.24500807954746,
          248.24500807954746,
          248.24500807954746,
          248.24500807954746,
          248.24500807954746,
          248.24500807954746,
          248.24500807954746,
          248.24500807954746,
          248.24500807954746,
          248.24500807954746,
          248.24500807954746,
          248.24500807954746,
          248.24500807954746,
          248.24500807954746,
          248.24500807954746,
          248.24500807954746,
          248.24500807954746,
          248.24500807954746,
          248.24500807954746,
          248.24500807954746,
          248.24500807954746,
          248.24500807954746,
          248.24500807954746,
          248.24500807954746,
          248.24500807954746,
          248.24500807954746,
          248.24500807954746,
          248.24500807954746,
          248.24500807954746,
          248.24500807954746,
          248.24500807954746,
          248.24500807954746,
          248.24500807954746,
          248.24500807954746,
          248.24500807954746,
          248.24500807954746,
          248.24500807954746,
          248.24500807954746,
          248.24500807954746,
          248.24500807954746,
          248.24500807954746,
          248.24500807954746
         ]
        }
       ],
       "layout": {
        "template": {
         "data": {
          "bar": [
           {
            "error_x": {
             "color": "#2a3f5f"
            },
            "error_y": {
             "color": "#2a3f5f"
            },
            "marker": {
             "line": {
              "color": "#E5ECF6",
              "width": 0.5
             },
             "pattern": {
              "fillmode": "overlay",
              "size": 10,
              "solidity": 0.2
             }
            },
            "type": "bar"
           }
          ],
          "barpolar": [
           {
            "marker": {
             "line": {
              "color": "#E5ECF6",
              "width": 0.5
             },
             "pattern": {
              "fillmode": "overlay",
              "size": 10,
              "solidity": 0.2
             }
            },
            "type": "barpolar"
           }
          ],
          "carpet": [
           {
            "aaxis": {
             "endlinecolor": "#2a3f5f",
             "gridcolor": "white",
             "linecolor": "white",
             "minorgridcolor": "white",
             "startlinecolor": "#2a3f5f"
            },
            "baxis": {
             "endlinecolor": "#2a3f5f",
             "gridcolor": "white",
             "linecolor": "white",
             "minorgridcolor": "white",
             "startlinecolor": "#2a3f5f"
            },
            "type": "carpet"
           }
          ],
          "choropleth": [
           {
            "colorbar": {
             "outlinewidth": 0,
             "ticks": ""
            },
            "type": "choropleth"
           }
          ],
          "contour": [
           {
            "colorbar": {
             "outlinewidth": 0,
             "ticks": ""
            },
            "colorscale": [
             [
              0,
              "#0d0887"
             ],
             [
              0.1111111111111111,
              "#46039f"
             ],
             [
              0.2222222222222222,
              "#7201a8"
             ],
             [
              0.3333333333333333,
              "#9c179e"
             ],
             [
              0.4444444444444444,
              "#bd3786"
             ],
             [
              0.5555555555555556,
              "#d8576b"
             ],
             [
              0.6666666666666666,
              "#ed7953"
             ],
             [
              0.7777777777777778,
              "#fb9f3a"
             ],
             [
              0.8888888888888888,
              "#fdca26"
             ],
             [
              1,
              "#f0f921"
             ]
            ],
            "type": "contour"
           }
          ],
          "contourcarpet": [
           {
            "colorbar": {
             "outlinewidth": 0,
             "ticks": ""
            },
            "type": "contourcarpet"
           }
          ],
          "heatmap": [
           {
            "colorbar": {
             "outlinewidth": 0,
             "ticks": ""
            },
            "colorscale": [
             [
              0,
              "#0d0887"
             ],
             [
              0.1111111111111111,
              "#46039f"
             ],
             [
              0.2222222222222222,
              "#7201a8"
             ],
             [
              0.3333333333333333,
              "#9c179e"
             ],
             [
              0.4444444444444444,
              "#bd3786"
             ],
             [
              0.5555555555555556,
              "#d8576b"
             ],
             [
              0.6666666666666666,
              "#ed7953"
             ],
             [
              0.7777777777777778,
              "#fb9f3a"
             ],
             [
              0.8888888888888888,
              "#fdca26"
             ],
             [
              1,
              "#f0f921"
             ]
            ],
            "type": "heatmap"
           }
          ],
          "heatmapgl": [
           {
            "colorbar": {
             "outlinewidth": 0,
             "ticks": ""
            },
            "colorscale": [
             [
              0,
              "#0d0887"
             ],
             [
              0.1111111111111111,
              "#46039f"
             ],
             [
              0.2222222222222222,
              "#7201a8"
             ],
             [
              0.3333333333333333,
              "#9c179e"
             ],
             [
              0.4444444444444444,
              "#bd3786"
             ],
             [
              0.5555555555555556,
              "#d8576b"
             ],
             [
              0.6666666666666666,
              "#ed7953"
             ],
             [
              0.7777777777777778,
              "#fb9f3a"
             ],
             [
              0.8888888888888888,
              "#fdca26"
             ],
             [
              1,
              "#f0f921"
             ]
            ],
            "type": "heatmapgl"
           }
          ],
          "histogram": [
           {
            "marker": {
             "pattern": {
              "fillmode": "overlay",
              "size": 10,
              "solidity": 0.2
             }
            },
            "type": "histogram"
           }
          ],
          "histogram2d": [
           {
            "colorbar": {
             "outlinewidth": 0,
             "ticks": ""
            },
            "colorscale": [
             [
              0,
              "#0d0887"
             ],
             [
              0.1111111111111111,
              "#46039f"
             ],
             [
              0.2222222222222222,
              "#7201a8"
             ],
             [
              0.3333333333333333,
              "#9c179e"
             ],
             [
              0.4444444444444444,
              "#bd3786"
             ],
             [
              0.5555555555555556,
              "#d8576b"
             ],
             [
              0.6666666666666666,
              "#ed7953"
             ],
             [
              0.7777777777777778,
              "#fb9f3a"
             ],
             [
              0.8888888888888888,
              "#fdca26"
             ],
             [
              1,
              "#f0f921"
             ]
            ],
            "type": "histogram2d"
           }
          ],
          "histogram2dcontour": [
           {
            "colorbar": {
             "outlinewidth": 0,
             "ticks": ""
            },
            "colorscale": [
             [
              0,
              "#0d0887"
             ],
             [
              0.1111111111111111,
              "#46039f"
             ],
             [
              0.2222222222222222,
              "#7201a8"
             ],
             [
              0.3333333333333333,
              "#9c179e"
             ],
             [
              0.4444444444444444,
              "#bd3786"
             ],
             [
              0.5555555555555556,
              "#d8576b"
             ],
             [
              0.6666666666666666,
              "#ed7953"
             ],
             [
              0.7777777777777778,
              "#fb9f3a"
             ],
             [
              0.8888888888888888,
              "#fdca26"
             ],
             [
              1,
              "#f0f921"
             ]
            ],
            "type": "histogram2dcontour"
           }
          ],
          "mesh3d": [
           {
            "colorbar": {
             "outlinewidth": 0,
             "ticks": ""
            },
            "type": "mesh3d"
           }
          ],
          "parcoords": [
           {
            "line": {
             "colorbar": {
              "outlinewidth": 0,
              "ticks": ""
             }
            },
            "type": "parcoords"
           }
          ],
          "pie": [
           {
            "automargin": true,
            "type": "pie"
           }
          ],
          "scatter": [
           {
            "fillpattern": {
             "fillmode": "overlay",
             "size": 10,
             "solidity": 0.2
            },
            "type": "scatter"
           }
          ],
          "scatter3d": [
           {
            "line": {
             "colorbar": {
              "outlinewidth": 0,
              "ticks": ""
             }
            },
            "marker": {
             "colorbar": {
              "outlinewidth": 0,
              "ticks": ""
             }
            },
            "type": "scatter3d"
           }
          ],
          "scattercarpet": [
           {
            "marker": {
             "colorbar": {
              "outlinewidth": 0,
              "ticks": ""
             }
            },
            "type": "scattercarpet"
           }
          ],
          "scattergeo": [
           {
            "marker": {
             "colorbar": {
              "outlinewidth": 0,
              "ticks": ""
             }
            },
            "type": "scattergeo"
           }
          ],
          "scattergl": [
           {
            "marker": {
             "colorbar": {
              "outlinewidth": 0,
              "ticks": ""
             }
            },
            "type": "scattergl"
           }
          ],
          "scattermapbox": [
           {
            "marker": {
             "colorbar": {
              "outlinewidth": 0,
              "ticks": ""
             }
            },
            "type": "scattermapbox"
           }
          ],
          "scatterpolar": [
           {
            "marker": {
             "colorbar": {
              "outlinewidth": 0,
              "ticks": ""
             }
            },
            "type": "scatterpolar"
           }
          ],
          "scatterpolargl": [
           {
            "marker": {
             "colorbar": {
              "outlinewidth": 0,
              "ticks": ""
             }
            },
            "type": "scatterpolargl"
           }
          ],
          "scatterternary": [
           {
            "marker": {
             "colorbar": {
              "outlinewidth": 0,
              "ticks": ""
             }
            },
            "type": "scatterternary"
           }
          ],
          "surface": [
           {
            "colorbar": {
             "outlinewidth": 0,
             "ticks": ""
            },
            "colorscale": [
             [
              0,
              "#0d0887"
             ],
             [
              0.1111111111111111,
              "#46039f"
             ],
             [
              0.2222222222222222,
              "#7201a8"
             ],
             [
              0.3333333333333333,
              "#9c179e"
             ],
             [
              0.4444444444444444,
              "#bd3786"
             ],
             [
              0.5555555555555556,
              "#d8576b"
             ],
             [
              0.6666666666666666,
              "#ed7953"
             ],
             [
              0.7777777777777778,
              "#fb9f3a"
             ],
             [
              0.8888888888888888,
              "#fdca26"
             ],
             [
              1,
              "#f0f921"
             ]
            ],
            "type": "surface"
           }
          ],
          "table": [
           {
            "cells": {
             "fill": {
              "color": "#EBF0F8"
             },
             "line": {
              "color": "white"
             }
            },
            "header": {
             "fill": {
              "color": "#C8D4E3"
             },
             "line": {
              "color": "white"
             }
            },
            "type": "table"
           }
          ]
         },
         "layout": {
          "annotationdefaults": {
           "arrowcolor": "#2a3f5f",
           "arrowhead": 0,
           "arrowwidth": 1
          },
          "autotypenumbers": "strict",
          "coloraxis": {
           "colorbar": {
            "outlinewidth": 0,
            "ticks": ""
           }
          },
          "colorscale": {
           "diverging": [
            [
             0,
             "#8e0152"
            ],
            [
             0.1,
             "#c51b7d"
            ],
            [
             0.2,
             "#de77ae"
            ],
            [
             0.3,
             "#f1b6da"
            ],
            [
             0.4,
             "#fde0ef"
            ],
            [
             0.5,
             "#f7f7f7"
            ],
            [
             0.6,
             "#e6f5d0"
            ],
            [
             0.7,
             "#b8e186"
            ],
            [
             0.8,
             "#7fbc41"
            ],
            [
             0.9,
             "#4d9221"
            ],
            [
             1,
             "#276419"
            ]
           ],
           "sequential": [
            [
             0,
             "#0d0887"
            ],
            [
             0.1111111111111111,
             "#46039f"
            ],
            [
             0.2222222222222222,
             "#7201a8"
            ],
            [
             0.3333333333333333,
             "#9c179e"
            ],
            [
             0.4444444444444444,
             "#bd3786"
            ],
            [
             0.5555555555555556,
             "#d8576b"
            ],
            [
             0.6666666666666666,
             "#ed7953"
            ],
            [
             0.7777777777777778,
             "#fb9f3a"
            ],
            [
             0.8888888888888888,
             "#fdca26"
            ],
            [
             1,
             "#f0f921"
            ]
           ],
           "sequentialminus": [
            [
             0,
             "#0d0887"
            ],
            [
             0.1111111111111111,
             "#46039f"
            ],
            [
             0.2222222222222222,
             "#7201a8"
            ],
            [
             0.3333333333333333,
             "#9c179e"
            ],
            [
             0.4444444444444444,
             "#bd3786"
            ],
            [
             0.5555555555555556,
             "#d8576b"
            ],
            [
             0.6666666666666666,
             "#ed7953"
            ],
            [
             0.7777777777777778,
             "#fb9f3a"
            ],
            [
             0.8888888888888888,
             "#fdca26"
            ],
            [
             1,
             "#f0f921"
            ]
           ]
          },
          "colorway": [
           "#636efa",
           "#EF553B",
           "#00cc96",
           "#ab63fa",
           "#FFA15A",
           "#19d3f3",
           "#FF6692",
           "#B6E880",
           "#FF97FF",
           "#FECB52"
          ],
          "font": {
           "color": "#2a3f5f"
          },
          "geo": {
           "bgcolor": "white",
           "lakecolor": "white",
           "landcolor": "#E5ECF6",
           "showlakes": true,
           "showland": true,
           "subunitcolor": "white"
          },
          "hoverlabel": {
           "align": "left"
          },
          "hovermode": "closest",
          "mapbox": {
           "style": "light"
          },
          "paper_bgcolor": "white",
          "plot_bgcolor": "#E5ECF6",
          "polar": {
           "angularaxis": {
            "gridcolor": "white",
            "linecolor": "white",
            "ticks": ""
           },
           "bgcolor": "#E5ECF6",
           "radialaxis": {
            "gridcolor": "white",
            "linecolor": "white",
            "ticks": ""
           }
          },
          "scene": {
           "xaxis": {
            "backgroundcolor": "#E5ECF6",
            "gridcolor": "white",
            "gridwidth": 2,
            "linecolor": "white",
            "showbackground": true,
            "ticks": "",
            "zerolinecolor": "white"
           },
           "yaxis": {
            "backgroundcolor": "#E5ECF6",
            "gridcolor": "white",
            "gridwidth": 2,
            "linecolor": "white",
            "showbackground": true,
            "ticks": "",
            "zerolinecolor": "white"
           },
           "zaxis": {
            "backgroundcolor": "#E5ECF6",
            "gridcolor": "white",
            "gridwidth": 2,
            "linecolor": "white",
            "showbackground": true,
            "ticks": "",
            "zerolinecolor": "white"
           }
          },
          "shapedefaults": {
           "line": {
            "color": "#2a3f5f"
           }
          },
          "ternary": {
           "aaxis": {
            "gridcolor": "white",
            "linecolor": "white",
            "ticks": ""
           },
           "baxis": {
            "gridcolor": "white",
            "linecolor": "white",
            "ticks": ""
           },
           "bgcolor": "#E5ECF6",
           "caxis": {
            "gridcolor": "white",
            "linecolor": "white",
            "ticks": ""
           }
          },
          "title": {
           "x": 0.05
          },
          "xaxis": {
           "automargin": true,
           "gridcolor": "white",
           "linecolor": "white",
           "ticks": "",
           "title": {
            "standoff": 15
           },
           "zerolinecolor": "white",
           "zerolinewidth": 2
          },
          "yaxis": {
           "automargin": true,
           "gridcolor": "white",
           "linecolor": "white",
           "ticks": "",
           "title": {
            "standoff": 15
           },
           "zerolinecolor": "white",
           "zerolinewidth": 2
          }
         }
        },
        "title": {
         "text": "Resultados Algoritmo Genético"
        },
        "xaxis": {
         "title": {
          "text": "N° Iteraciones"
         }
        },
        "yaxis": {
         "title": {
          "text": "Lead Time [horas]"
         }
        }
       }
      }
     },
     "metadata": {},
     "output_type": "display_data"
    }
   ],
   "source": [
    "df_resultados_algoritmo_1 = pd.DataFrame(list(zip(iteraciones, min_algoritmo, mean_algoritmo, max_algoritmo)),\n",
    "               columns =['Iteracion', 'Min', 'Mean', 'Max'])\n",
    "\n",
    "df_resultados_algoritmo_1['Min_0_presupuesto'] = 1231.902265331893\n",
    "df_resultados_algoritmo_1['Max_0_presupuesto'] = 3385.8509100386877\n",
    "df_resultados_algoritmo_1['Min_Infinito_presupuesto'] = 248.24500807954746\n",
    "df_resultados_algoritmo_1['Max_Infinito_presupuesto'] = 447.2317648842544\n",
    "\n",
    "fig = go.Figure()\n",
    "\n",
    "fig.update_layout(title = 'Resultados Algoritmo Genético')\n",
    "fig.update_xaxes(title_text=\"N° Iteraciones\")\n",
    "fig.update_yaxes(title_text=\"Lead Time [horas]\")\n",
    "\n",
    "\n",
    "fig.add_trace(go.Scatter(x=df_resultados_algoritmo_1[\"Iteracion\"], y=df_resultados_algoritmo_1[\"Min\"],\n",
    "                    mode='lines',\n",
    "                    name='Con presupuesto_min', marker=dict(color='dodgerblue',size=20)))\n",
    "fig.add_trace(go.Scatter(x=df_resultados_algoritmo_1[\"Iteracion\"], y=df_resultados_algoritmo_1[\"Max\"],\n",
    "                    mode='lines',\n",
    "                    name='Con presupuesto_max', marker=dict(color='dodgerblue',size=20)))\n",
    "\n",
    "\n",
    "#fig.add_trace(go.Scatter(x=df_resultados_algoritmo_1[\"Iteracion\"], y=df_resultados_algoritmo_1[\"Min_0_presupuesto\"],\n",
    "#                    mode='lines',\n",
    "#                    name='Sin presupuesto_min', marker=dict(color='darkgrey',size=20)))\n",
    "#fig.add_trace(go.Scatter(x=df_resultados_algoritmo_1[\"Iteracion\"], y=df_resultados_algoritmo_1[\"Max_0_presupuesto\"],\n",
    "#                    mode='lines', name='Sin presupuesto_max', marker=dict(color='darkgrey',size=20)))\n",
    "\n",
    "\n",
    "fig.add_trace(go.Scatter(x=df_resultados_algoritmo_1[\"Iteracion\"], y=df_resultados_algoritmo_1[\"Max_Infinito_presupuesto\"],\n",
    "                    mode='lines', name='Infinito presupuesto_max', marker=dict(color='green',size=20)))\n",
    "fig.add_trace(go.Scatter(x=df_resultados_algoritmo_1[\"Iteracion\"], y=df_resultados_algoritmo_1[\"Min_Infinito_presupuesto\"],\n",
    "                    mode='lines',\n",
    "                    name='Infinito presupuesto_min', marker=dict(color='green',size=20)))\n",
    "\n",
    "\n",
    "fig.show()\n",
    "\n",
    "\n",
    "\n"
   ]
  },
  {
   "cell_type": "code",
   "execution_count": 7,
   "metadata": {},
   "outputs": [
    {
     "data": {
      "image/png": "[encoded data removed]",
      "text/plain": [
       "<Figure size 432x288 with 1 Axes>"
      ]
     },
     "metadata": {
      "needs_background": "light"
     },
     "output_type": "display_data"
    }
   ],
   "source": [
    "lista_lead_time_max = max_algoritmo\n",
    "lista_lead_time_min = min_algoritmo\n",
    "lead_time_promedio_sin_presupuesto_max = 3385.8509100386877\n",
    "lead_time_promedio_sin_presupuesto_min = 1231.902265331893\n",
    "lead_time_promedio_max_presupuesto_max = 2051.8472240894216\n",
    "lead_time_promedio_max_presupuesto_min = 701.148734801536\n",
    "#\n",
    "\n",
    "lista_sin_presupuesto_max = np.resize([lead_time_promedio_sin_presupuesto_max], len(lista_lead_time_max))\n",
    "lista_sin_presupuesto_min = np.resize([lead_time_promedio_sin_presupuesto_min], len(lista_lead_time_max))\n",
    "lista_max_presupuesto_max = np.resize([lead_time_promedio_max_presupuesto_max], len(lista_lead_time_max))\n",
    "lista_max_presupuesto_min = np.resize([lead_time_promedio_max_presupuesto_min], len(lista_lead_time_max))\n",
    "iteraciones = range(1, len(lista_lead_time_max) + 1)\n",
    "\n",
    "plt.plot(iteraciones, lista_sin_presupuesto_max, linestyle=\"-\", label='Sin presupuesto', color='r')\n",
    "plt.plot(iteraciones, lista_sin_presupuesto_min, linestyle=\"-\", label='Sin presupuesto', color='r')\n",
    "plt.plot(iteraciones, lista_lead_time_max, linestyle=\"--\", label='Con presupuesto', color='blue')\n",
    "plt.plot(iteraciones, lista_lead_time_min, linestyle=\"--\", label='Con presupuesto', color='blue')\n",
    "plt.plot(iteraciones, lista_max_presupuesto_max, linestyle=\"-\", label='Presupuesto infinito', color='g')\n",
    "plt.plot(iteraciones, lista_max_presupuesto_min, linestyle=\"-\", label='Presupuesto', color='g')\n",
    "\n",
    "\n",
    "plt.xlabel('N° iteración')\n",
    "plt.ylabel('Lead time promedio [horas]')\n",
    "plt.title('Lead time promedio v/s N° iteraciones')\n",
    "plt.legend(loc='upper left')\n",
    "\n",
    "#plt.yticks([lista_lead_time_promedio[0] , lista_lead_time_promedio[-1], lista_lead_time_max[-1]])\n",
    "#ax = plt.gca()\n",
    "#ax.invert_yaxis()\n",
    "plt.show()"
   ]
  },
  {
   "cell_type": "markdown",
   "metadata": {},
   "source": [
    "# Escenarios\n",
    "Se procede a comparar los resultados de distintas soluciones "
   ]
  },
  {
   "cell_type": "markdown",
   "metadata": {},
   "source": [
    "### Escenario base\n",
    "* Llegada de pacientes: “registro histórico”\n",
    "* Ruta de pacientes: “registro histórico”\n",
    "* Presupuesto: 0"
   ]
  },
  {
   "cell_type": "code",
   "execution_count": 4,
   "metadata": {},
   "outputs": [],
   "source": [
    "#lead_time_base = \n",
    "base = np.array([3, 5, 12, 5, 5, 12, 8, 10, 14, 0])\n",
    "lead_time_base_range = (200, 300)"
   ]
  },
  {
   "cell_type": "markdown",
   "metadata": {},
   "source": [
    "### Escenario Ideal\n",
    "* Llegada de pacientes: “registro histórico”\n",
    "* Ruta de pacientes: “registro histórico”\n",
    "* Presupuesto: infinito"
   ]
  },
  {
   "cell_type": "code",
   "execution_count": 5,
   "metadata": {},
   "outputs": [],
   "source": [
    "# lead_time_ideal =\n",
    "ideal = np.array([5, 8, 15, 6, 8, 15, 10, 13, 18, 1])\n",
    "lead_time_ideal_range = (50, 100)"
   ]
  },
  {
   "cell_type": "markdown",
   "metadata": {},
   "source": [
    "### Escenario Esperado\n",
    "* Llegada de pacientes: “registro histórico”\n",
    "* Ruta de pacientes: “registro histórico”\n",
    "* Presupuesto: propuesto por equipo docente\n"
   ]
  },
  {
   "cell_type": "code",
   "execution_count": 6,
   "metadata": {},
   "outputs": [],
   "source": [
    "# lead_time_esperado = \n",
    "esperado = np.array([5, 8, 12, 6, 2, 12, 10, 10, 15, 0]) # Inventado para testear\n",
    "lead_time_esperado_range = (100, 200)"
   ]
  },
  {
   "cell_type": "markdown",
   "metadata": {},
   "source": [
    "## Análisis inicial"
   ]
  },
  {
   "cell_type": "code",
   "execution_count": 7,
   "metadata": {},
   "outputs": [],
   "source": [
    "def calcular_costos(base, solucion, costos_op, costos_inv):\n",
    "    costo_op = 0\n",
    "    costo_inv = 0\n",
    "    costo_op += (solucion[0] - base[0]) * costos_op['puesto_antencion']\n",
    "    costo_op += (solucion[1] - base[1])* costos_op['box_atencion']\n",
    "    costo_inv += (solucion[1] - base[1])* costos_inv['box_atencion']\n",
    "    for i in range(2,9):\n",
    "        costo_op += (solucion[i] - base[i])* costos_op['cama']\n",
    "        costo_inv += (solucion[i] - base[i])* costos_inv['cama']\n",
    "    \n",
    "    costo_op += solucion[9] * costos_op['horario_OPR101_011']\n",
    "    costo_inv += solucion[9]* costos_inv['horario_OPR101_011']\n",
    "    return costo_op, costo_inv"
   ]
  },
  {
   "cell_type": "code",
   "execution_count": 8,
   "metadata": {},
   "outputs": [
    {
     "name": "stdout",
     "output_type": "stream",
     "text": [
      "(7200000, 129000000)\n",
      "(1900000, 41000000)\n"
     ]
    }
   ],
   "source": [
    "print(calcular_costos(base, ideal, costos_operacionales, costos_inversion))\n",
    "print(calcular_costos(base, esperado, costos_operacionales, costos_inversion))"
   ]
  },
  {
   "cell_type": "code",
   "execution_count": 9,
   "metadata": {},
   "outputs": [
    {
     "data": {
      "image/png": "[encoded data removed]",
      "text/plain": [
       "<Figure size 576x360 with 1 Axes>"
      ]
     },
     "metadata": {
      "needs_background": "light"
     },
     "output_type": "display_data"
    }
   ],
   "source": [
    "labels = ['Escenario Base', 'Escenario Esperado', 'Escenario Ideal']\n",
    "max_leadtime = [lead_time_base_range[1], \n",
    "                lead_time_esperado_range[1], \n",
    "                lead_time_ideal_range[1]]\n",
    "\n",
    "min_leadtime = [lead_time_base_range[0], \n",
    "                lead_time_esperado_range[0], \n",
    "                lead_time_ideal_range[0]]\n",
    "\n",
    "x = np.arange(len(labels))  # the label locations\n",
    "width = 0.35  # the width of the bars\n",
    "\n",
    "fig, ax = plt.subplots(figsize=(8,5))\n",
    "rects1 = ax.bar(x - width/2, max_leadtime, width, label='Max Lead Time')\n",
    "rects2 = ax.bar(x + width/2, min_leadtime, width, label='Min Lead Time')\n",
    "\n",
    "# Add some text for labels, title and custom x-axis tick labels, etc.\n",
    "ax.set_ylabel('Lead time promedio')\n",
    "ax.set_title('Lead time promedio por escenario')\n",
    "ax.set_xticks(x, labels)\n",
    "ax.legend()\n",
    "\n",
    "ax.bar_label(rects1, padding=3)\n",
    "ax.bar_label(rects2, padding=3)\n",
    "\n",
    "fig.tight_layout()\n",
    "\n",
    "plt.show()"
   ]
  },
  {
   "cell_type": "code",
   "execution_count": 10,
   "metadata": {},
   "outputs": [
    {
     "ename": "ModuleNotFoundError",
     "evalue": "No module named 'plotly'",
     "output_type": "error",
     "traceback": [
      "\u001b[1;31m---------------------------------------------------------------------------\u001b[0m",
      "\u001b[1;31mModuleNotFoundError\u001b[0m                       Traceback (most recent call last)",
      "\u001b[1;32m~\\AppData\\Local\\Temp/ipykernel_14464/4004937386.py\u001b[0m in \u001b[0;36m<module>\u001b[1;34m\u001b[0m\n\u001b[1;32m----> 1\u001b[1;33m \u001b[1;32mimport\u001b[0m \u001b[0mplotly\u001b[0m\u001b[1;33m.\u001b[0m\u001b[0mgraph_objects\u001b[0m \u001b[1;32mas\u001b[0m \u001b[0mgo\u001b[0m\u001b[1;33m\u001b[0m\u001b[1;33m\u001b[0m\u001b[0m\n\u001b[0m\u001b[0;32m      2\u001b[0m \u001b[1;32mfrom\u001b[0m \u001b[0mdatetime\u001b[0m \u001b[1;32mimport\u001b[0m \u001b[0mdatetime\u001b[0m\u001b[1;33m\u001b[0m\u001b[1;33m\u001b[0m\u001b[0m\n\u001b[0;32m      3\u001b[0m \u001b[1;33m\u001b[0m\u001b[0m\n\u001b[0;32m      4\u001b[0m fig = go.Figure(data=[go.Candlestick(x=labels,\n\u001b[0;32m      5\u001b[0m                        \u001b[0mopen\u001b[0m\u001b[1;33m=\u001b[0m\u001b[0mmin_leadtime\u001b[0m\u001b[1;33m,\u001b[0m \u001b[0mhigh\u001b[0m\u001b[1;33m=\u001b[0m\u001b[0mmax_leadtime\u001b[0m\u001b[1;33m,\u001b[0m\u001b[1;33m\u001b[0m\u001b[1;33m\u001b[0m\u001b[0m\n",
      "\u001b[1;31mModuleNotFoundError\u001b[0m: No module named 'plotly'"
     ]
    }
   ],
   "source": [
    "import plotly.graph_objects as go\n",
    "from datetime import datetime\n",
    "\n",
    "fig = go.Figure(data=[go.Candlestick(x=labels,\n",
    "                       open=min_leadtime, high=max_leadtime,\n",
    "                       low=min_leadtime, close=max_leadtime)])\n",
    "\n",
    "fig.update_layout(title = \"Rangos Lead Time promedio según escenario\")\n",
    "fig.update_xaxes(title_text='Escenario')\n",
    "fig.update_yaxes(title_text='Lead time promedio')\n",
    "fig.show()"
   ]
  },
  {
   "cell_type": "code",
   "execution_count": null,
   "metadata": {},
   "outputs": [
    {
     "name": "stderr",
     "output_type": "stream",
     "text": [
      "No artists with labels found to put in legend.  Note that artists whose label start with an underscore are ignored when legend() is called with no argument.\n"
     ]
    },
    {
     "data": {
      "image/png": "[encoded data removed]",
      "text/plain": [
       "<Figure size 576x360 with 1 Axes>"
      ]
     },
     "metadata": {
      "needs_background": "light"
     },
     "output_type": "display_data"
    }
   ],
   "source": [
    "labels = ['Escenario Base', 'Escenario Esperado', 'Escenario Ideal']\n",
    "\n",
    "op_base = calcular_costos(base, base, costos_operacionales, costos_inversion)[0]\n",
    "op_ideal = calcular_costos(base, ideal, costos_operacionales, costos_inversion)[0]\n",
    "op_esperado = calcular_costos(base, esperado, costos_operacionales, costos_inversion)[0]\n",
    "\n",
    "max_leadtime = [op_base, op_esperado, op_ideal]\n",
    "\n",
    "x = np.arange(len(labels))  # the label locations\n",
    "\n",
    "fig, ax = plt.subplots(figsize=(8,5))\n",
    "rects1 = ax.bar(x, max_leadtime, width, label='')\n",
    "\n",
    "# Add some text for labels, title and custom x-axis tick labels, etc.\n",
    "ax.set_ylabel('Gasto operacional')\n",
    "ax.set_title('Gasto operacional por escenario')\n",
    "ax.set_xticks(x, labels)\n",
    "ax.legend()\n",
    "\n",
    "ax.bar_label(rects1, padding=3)\n",
    "plt.hlines(4500000, xmin=0, xmax=3, label='Restricción')\n",
    "plt.text(1, 4700000, 'restriccion presupuestaria', ha='right', va='center')\n",
    "\n",
    "fig.tight_layout()\n",
    "\n",
    "plt.show()"
   ]
  },
  {
   "cell_type": "markdown",
   "metadata": {},
   "source": [
    "### Escenario base - Sensibilidad de llegada de pacientes\n",
    "* Llegada de pacientes: “registro histórico” + valor por determinar\n",
    "* Ruta de pacientes: “registro histórico”\n",
    "* Presupuesto: 0\n"
   ]
  },
  {
   "cell_type": "markdown",
   "metadata": {},
   "source": [
    "### Escenario Ideal - Sensibilidad de llegada de pacientes\n",
    "* Llegada de pacientes: “registro histórico” + valor por determinar\n",
    "* Ruta de pacientes: “registro histórico”\n",
    "* Presupuesto: Infinito\n"
   ]
  },
  {
   "cell_type": "markdown",
   "metadata": {},
   "source": [
    "### Escenario Esperado - Sensibilidad de llegada de pacientes\n",
    "* Llegada de pacientes: “registro histórico” + valor por determinar\n",
    "* Ruta de pacientes: “registro histórico”\n",
    "* Presupuesto: propuesto por equipo docente\n"
   ]
  },
  {
   "cell_type": "code",
   "execution_count": null,
   "metadata": {},
   "outputs": [],
   "source": []
  },
  {
   "cell_type": "code",
   "execution_count": null,
   "metadata": {},
   "outputs": [],
   "source": []
  },
  {
   "cell_type": "code",
   "execution_count": null,
   "metadata": {},
   "outputs": [],
   "source": []
  }
 ],
 "metadata": {
  "kernelspec": {
   "display_name": "Python 3.8.10 64-bit",
   "language": "python",
   "name": "python3"
  },
  "language_info": {
   "codemirror_mode": {
    "name": "ipython",
    "version": 3
   },
   "file_extension": ".py",
   "mimetype": "text/x-python",
   "name": "python",
   "nbconvert_exporter": "python",
   "pygments_lexer": "ipython3",
   "version": "3.8.10"
  },
  "orig_nbformat": 4,
  "vscode": {
   "interpreter": {
    "hash": "ae4c2b3b6edf159483116aa1e52121c1218932e443664ecd0a55c2d4ebccfbb6"
   }
  }
 },
 "nbformat": 4,
 "nbformat_minor": 2
}
