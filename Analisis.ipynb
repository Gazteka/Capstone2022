{
 "cells": [
  {
   "cell_type": "markdown",
   "metadata": {},
   "source": [
    "# Primer set\n"
   ]
  },
  {
   "cell_type": "code",
   "execution_count": 87,
   "metadata": {},
   "outputs": [],
   "source": [
    "import pandas as pd\n",
    "import numpy as np\n",
    "import matplotlib.pyplot as plt"
   ]
  },
  {
   "cell_type": "code",
   "execution_count": 94,
   "metadata": {},
   "outputs": [],
   "source": [
    "# Abrimos y ajustamos los datos para leerlos\n",
    "datos_pacientes = pd.read_csv(\"Datos.csv\",sep = \";\")\n",
    "datos_pacientes[\"Marca de tiempo\"] = pd.to_datetime(datos_pacientes[\"Marca de tiempo\"])\n",
    "datos_operaciones = pd.read_csv(\"Datos operaciones origen urgencias.csv\")\n",
    "\n",
    "datos_operaciones = datos_operaciones.iloc[:,:5]\n",
    "datos_operaciones = datos_operaciones.drop(datos_operaciones.columns[3],axis = 1)"
   ]
  },
  {
   "cell_type": "code",
   "execution_count": 95,
   "metadata": {},
   "outputs": [],
   "source": [
    "#Estas son las áreas que aparecen en el diagrama entregado\n",
    "areas_mapa_profe = [\"URG101_003\",\"DIV101_603\",\"DIV101_604\",\"DIV101_703\",\"DIV102_203\",\"DIV103_107\",\"DIV103_204\",\n",
    "\"DIV104_602\",\"OPR101_011\",\"OPR101_033\",\"OPR102_001\",\"OPR102_003\",\"End\"]"
   ]
  },
  {
   "cell_type": "code",
   "execution_count": 96,
   "metadata": {},
   "outputs": [],
   "source": [
    "# Lo primero que haremos será filtrar los datos para obtener el nodo \"Outisde\"\n",
    "filtro_fuera = (~datos_pacientes[\"Area\"].isin(areas_mapa_profe))\n",
    "datos_pacientes.loc[filtro_fuera,\"Area\"] = \"Outside\""
   ]
  },
  {
   "cell_type": "code",
   "execution_count": 97,
   "metadata": {},
   "outputs": [],
   "source": [
    "#Eliminamos las filas donde el valor actual y el anterior corresponden al nodo outside, dejamos el primero,\n",
    "#marcando así la entrada del paciente al nodo outside, pero solo una vez \n",
    "filtro_doble_fuera = (~datos_pacientes[\"Area\"].isin(areas_mapa_profe))&((~datos_pacientes[\"Area\"].shift(1).isin(areas_mapa_profe)))\n",
    "datos_pacientes = datos_pacientes[~filtro_doble_fuera]\n"
   ]
  },
  {
   "cell_type": "code",
   "execution_count": 98,
   "metadata": {},
   "outputs": [],
   "source": [
    "datos_pacientes[\"Hora derivacion\"] = datos_pacientes[\"Marca de tiempo\"].shift(-1)\n",
    "datos_pacientes[\"Estadia\"] = datos_pacientes[\"Hora derivacion\"]  - datos_pacientes[\"Marca de tiempo\"]\n",
    "datos_pacientes[\"Estadia\"] = datos_pacientes[\"Estadia\"]/np.timedelta64(1,\"h\")\n",
    "datos_pacientes[\"Siguiente Área\"] = datos_pacientes[\"Area\"].shift(-1)"
   ]
  },
  {
   "cell_type": "code",
   "execution_count": 112,
   "metadata": {},
   "outputs": [],
   "source": [
    "import pylab as pl"
   ]
  },
  {
   "cell_type": "code",
   "execution_count": 114,
   "metadata": {},
   "outputs": [],
   "source": [
    "plt.style.use('ggplot')"
   ]
  },
  {
   "cell_type": "code",
   "execution_count": 130,
   "metadata": {},
   "outputs": [
    {
     "name": "stdout",
     "output_type": "stream",
     "text": [
      "Probabilidad de transición desde la sala de urgencias (Outside)\n",
      "End           71.238938\n",
      "OPR102_003     8.185841\n",
      "OPR102_001     6.194690\n",
      "DIV104_602     3.539823\n",
      "DIV103_204     2.876106\n",
      "DIV101_603     2.654867\n",
      "DIV101_604     2.433628\n",
      "OPR101_033     1.327434\n",
      "DIV102_203     0.884956\n",
      "DIV103_107     0.442478\n",
      "DIV101_703     0.221239\n",
      "Name: Siguiente Área, dtype: float64\n"
     ]
    },
    {
     "data": {
      "text/plain": [
       "Text(0.5, 0, 'Horas')"
      ]
     },
     "execution_count": 130,
     "metadata": {},
     "output_type": "execute_result"
    },
    {
     "data": {
      "image/png": "[encoded data removed]",
      "text/plain": [
       "<Figure size 432x288 with 1 Axes>"
      ]
     },
     "metadata": {},
     "output_type": "display_data"
    }
   ],
   "source": [
    "area = \"Outside\"\n",
    "derivacion_urgencia = datos_pacientes[datos_pacientes[\"Area\"] == area][\"Siguiente Área\"]\n",
    "print(f\"Probabilidad de transición desde la sala de urgencias ({area})\")\n",
    "transiciones = (derivacion_urgencia.value_counts()/derivacion_urgencia.shape[0])*100\n",
    "print(transiciones)\n",
    "estadia_urgencia = datos_pacientes[datos_pacientes[\"Area\"] == area][\"Estadia\"]\n",
    "hist = estadia_urgencia.plot.hist(title = f\"Histograma de Estadía en {area}\")\n",
    "hist.set_xlabel(\"Horas\")"
   ]
  }
 ],
 "metadata": {
  "interpreter": {
   "hash": "8376b097bc99cca5bfa45a6685cdab43436475c8c04b0a1fefb6690ea3d6d0b4"
  },
  "kernelspec": {
   "display_name": "Python 3.8.8 64-bit",
   "language": "python",
   "name": "python3"
  },
  "language_info": {
   "codemirror_mode": {
    "name": "ipython",
    "version": 3
   },
   "file_extension": ".py",
   "mimetype": "text/x-python",
   "name": "python",
   "nbconvert_exporter": "python",
   "pygments_lexer": "ipython3",
   "version": "3.8.8"
  },
  "orig_nbformat": 4
 },
 "nbformat": 4,
 "nbformat_minor": 2
}
