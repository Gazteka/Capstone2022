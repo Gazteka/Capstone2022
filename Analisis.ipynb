{
 "cells": [
  {
   "cell_type": "markdown",
   "metadata": {},
   "source": [
    "# Primer set\n"
   ]
  },
  {
   "cell_type": "code",
   "execution_count": 1,
   "metadata": {},
   "outputs": [],
   "source": [
    "import pandas as pd\n",
    "import numpy as np\n",
    "import matplotlib.pyplot as plt"
   ]
  },
  {
   "cell_type": "code",
   "execution_count": 19,
   "metadata": {},
   "outputs": [],
   "source": [
    "# Abrimos y ajustamos los datos para leerlos\n",
    "datos_pacientes = pd.read_csv(\"Datos.csv\",sep = \";\")\n",
    "datos_pacientes[\"Marca de tiempo\"] = pd.to_datetime(datos_pacientes[\"Marca de tiempo\"])\n",
    "datos_operaciones = pd.read_csv(\"Datos operaciones origen urgencias.csv\")\n",
    "\n",
    "datos_operaciones = datos_operaciones.iloc[:,:5]\n",
    "datos_operaciones = datos_operaciones.drop(datos_operaciones.columns[3],axis = 1)"
   ]
  },
  {
   "cell_type": "code",
   "execution_count": 20,
   "metadata": {},
   "outputs": [],
   "source": [
    "#Estas son las áreas que aparecen en el diagrama entregado\n",
    "areas_mapa_profe = [\"URG101_003\",\"DIV101_603\",\"DIV101_604\",\"DIV101_703\",\"DIV102_203\",\"DIV103_107\",\"DIV103_204\",\n",
    "\"DIV104_602\",\"OPR101_011\",\"OPR101_033\",\"OPR102_001\",\"OPR102_003\",\"End\"]"
   ]
  },
  {
   "cell_type": "code",
   "execution_count": 21,
   "metadata": {},
   "outputs": [],
   "source": [
    "# Lo primero que haremos será filtrar los datos para obtener el nodo \"Outisde\"\n",
    "filtro_fuera = (~datos_pacientes[\"Area\"].isin(areas_mapa_profe))\n",
    "datos_pacientes.loc[filtro_fuera,\"Area\"] = \"Outside\""
   ]
  },
  {
   "cell_type": "code",
   "execution_count": 22,
   "metadata": {},
   "outputs": [],
   "source": [
    "#Eliminamos las filas donde el valor actual y el anterior corresponden al nodo outside, dejamos el primero,\n",
    "#marcando así la entrada del paciente al nodo outside, pero solo una vez \n",
    "filtro_doble_fuera = (~datos_pacientes[\"Area\"].isin(areas_mapa_profe))&((~datos_pacientes[\"Area\"].shift(1).isin(areas_mapa_profe)))\n",
    "datos_pacientes = datos_pacientes[~filtro_doble_fuera]\n"
   ]
  },
  {
   "cell_type": "code",
   "execution_count": 23,
   "metadata": {},
   "outputs": [],
   "source": [
    "datos_pacientes[\"Hora derivacion\"] = datos_pacientes[\"Marca de tiempo\"].shift(-1)\n",
    "datos_pacientes[\"Estadia\"] = datos_pacientes[\"Hora derivacion\"]  - datos_pacientes[\"Marca de tiempo\"]\n",
    "datos_pacientes[\"Estadia\"] = datos_pacientes[\"Estadia\"]/np.timedelta64(1,\"h\")\n",
    "datos_pacientes[\"Siguiente Área\"] = datos_pacientes[\"Area\"].shift(-1)"
   ]
  },
  {
   "cell_type": "code",
   "execution_count": 24,
   "metadata": {},
   "outputs": [],
   "source": [
    "import pylab as pl"
   ]
  },
  {
   "cell_type": "code",
   "execution_count": 25,
   "metadata": {},
   "outputs": [],
   "source": [
    "plt.style.use('ggplot')"
   ]
  },
  {
   "cell_type": "code",
   "execution_count": 26,
   "metadata": {},
   "outputs": [
    {
     "name": "stdout",
     "output_type": "stream",
     "text": [
      "Probabilidad de transición desde la sala de urgencias (Outside)\n",
      "End           71.238938\n",
      "OPR102_003     8.185841\n",
      "OPR102_001     6.194690\n",
      "DIV104_602     3.539823\n",
      "DIV103_204     2.876106\n",
      "DIV101_603     2.654867\n",
      "DIV101_604     2.433628\n",
      "OPR101_033     1.327434\n",
      "DIV102_203     0.884956\n",
      "DIV103_107     0.442478\n",
      "DIV101_703     0.221239\n",
      "Name: Siguiente Área, dtype: float64\n"
     ]
    },
    {
     "data": {
      "text/plain": [
       "Text(0.5, 0, 'Horas')"
      ]
     },
     "execution_count": 26,
     "metadata": {},
     "output_type": "execute_result"
    },
    {
     "data": {
      "image/png": "[encoded data removed]",
      "text/plain": [
       "<Figure size 432x288 with 1 Axes>"
      ]
     },
     "metadata": {},
     "output_type": "display_data"
    }
   ],
   "source": [
    "area = \"Outside\"\n",
    "derivacion_urgencia = datos_pacientes[datos_pacientes[\"Area\"] == area][\"Siguiente Área\"]\n",
    "print(f\"Probabilidad de transición desde la sala de urgencias ({area})\")\n",
    "transiciones = (derivacion_urgencia.value_counts()/derivacion_urgencia.shape[0])*100\n",
    "print(transiciones)\n",
    "estadia_urgencia = datos_pacientes[datos_pacientes[\"Area\"] == area][\"Estadia\"]\n",
    "hist = estadia_urgencia.plot.hist(title = f\"Histograma de Estadía en {area}\")\n",
    "hist.set_xlabel(\"Horas\")"
   ]
  },
  {
   "cell_type": "markdown",
   "metadata": {},
   "source": [
    "# Analizamos caso a a caso"
   ]
  },
  {
   "cell_type": "code",
   "execution_count": 41,
   "metadata": {},
   "outputs": [],
   "source": [
    "set_pacientes = set(datos_pacientes[\"Case ID\"])\n",
    "entrada = \"URG101_003\"\n",
    "salida = \"End\"\n",
    "dic_info_pacientes = dict.fromkeys(set_pacientes,{})\n",
    "for paciente in set_pacientes:\n",
    "    info_paciente = datos_pacientes[datos_pacientes[\"Case ID\"] == paciente]\n",
    "    hora_entrada = info_paciente.iloc[0][\"Marca de tiempo\"]\n",
    "    hora_salida = info_paciente.iloc[-1][\"Marca de tiempo\"]\n",
    "    dic_paciente ={\"Entrada\":hora_entrada,\"Salida\":hora_salida}\n",
    "    duracion = hora_salida - hora_entrada\n",
    "    dic_paciente[\"Duracion\"] = duracion/np.timedelta64(1,\"h\")\n",
    "    procedimiento = list(info_paciente[\"Area\"])\n",
    "    ruta = \"\".join(procedimiento)\n",
    "    dic_paciente[\"Ruta\"] = ruta\n",
    "    dic_info_pacientes[paciente] = dic_paciente\n",
    "    "
   ]
  },
  {
   "cell_type": "code",
   "execution_count": 46,
   "metadata": {},
   "outputs": [
    {
     "data": {
      "text/html": [
       "<div>\n",
       "<style scoped>\n",
       "    .dataframe tbody tr th:only-of-type {\n",
       "        vertical-align: middle;\n",
       "    }\n",
       "\n",
       "    .dataframe tbody tr th {\n",
       "        vertical-align: top;\n",
       "    }\n",
       "\n",
       "    .dataframe thead th {\n",
       "        text-align: right;\n",
       "    }\n",
       "</style>\n",
       "<table border=\"1\" class=\"dataframe\">\n",
       "  <thead>\n",
       "    <tr style=\"text-align: right;\">\n",
       "      <th></th>\n",
       "      <th>Entrada</th>\n",
       "      <th>Salida</th>\n",
       "      <th>Duracion</th>\n",
       "      <th>Ruta</th>\n",
       "    </tr>\n",
       "  </thead>\n",
       "  <tbody>\n",
       "    <tr>\n",
       "      <th>14817280</th>\n",
       "      <td>2018-03-30 18:14:00</td>\n",
       "      <td>2018-03-30 22:06:00</td>\n",
       "      <td>3.86667</td>\n",
       "      <td>URG101_003DIV101_703DIV103_204End</td>\n",
       "    </tr>\n",
       "    <tr>\n",
       "      <th>14931970</th>\n",
       "      <td>2018-05-13 16:37:00</td>\n",
       "      <td>2018-05-14 00:14:00</td>\n",
       "      <td>7.61667</td>\n",
       "      <td>URG101_003DIV101_703DIV102_203OPR102_001OPR101...</td>\n",
       "    </tr>\n",
       "    <tr>\n",
       "      <th>14888963</th>\n",
       "      <td>2018-04-25 16:06:00</td>\n",
       "      <td>2018-04-26 12:26:00</td>\n",
       "      <td>20.3333</td>\n",
       "      <td>URG101_003DIV101_703OutsideEnd</td>\n",
       "    </tr>\n",
       "    <tr>\n",
       "      <th>14696460</th>\n",
       "      <td>2018-02-15 12:04:00</td>\n",
       "      <td>2018-02-16 15:55:00</td>\n",
       "      <td>27.85</td>\n",
       "      <td>URG101_003DIV101_703DIV101_604End</td>\n",
       "    </tr>\n",
       "    <tr>\n",
       "      <th>14579725</th>\n",
       "      <td>2018-01-04 21:05:00</td>\n",
       "      <td>2018-01-04 22:46:00</td>\n",
       "      <td>1.68333</td>\n",
       "      <td>URG101_003DIV101_703End</td>\n",
       "    </tr>\n",
       "    <tr>\n",
       "      <th>...</th>\n",
       "      <td>...</td>\n",
       "      <td>...</td>\n",
       "      <td>...</td>\n",
       "      <td>...</td>\n",
       "    </tr>\n",
       "    <tr>\n",
       "      <th>14888950</th>\n",
       "      <td>2018-04-25 17:31:00</td>\n",
       "      <td>2018-05-15 14:18:00</td>\n",
       "      <td>476.783</td>\n",
       "      <td>URG101_003DIV101_703OutsideDIV101_603End</td>\n",
       "    </tr>\n",
       "    <tr>\n",
       "      <th>14682104</th>\n",
       "      <td>2018-02-08 14:27:00</td>\n",
       "      <td>2018-02-09 13:53:00</td>\n",
       "      <td>23.4333</td>\n",
       "      <td>URG101_003DIV101_703DIV104_602End</td>\n",
       "    </tr>\n",
       "    <tr>\n",
       "      <th>14716923</th>\n",
       "      <td>2018-02-23 10:13:00</td>\n",
       "      <td>2018-02-23 18:39:00</td>\n",
       "      <td>8.43333</td>\n",
       "      <td>URG101_003DIV101_703End</td>\n",
       "    </tr>\n",
       "    <tr>\n",
       "      <th>14716925</th>\n",
       "      <td>2018-02-23 17:47:00</td>\n",
       "      <td>2018-02-24 14:22:00</td>\n",
       "      <td>20.5833</td>\n",
       "      <td>URG101_003DIV101_703OutsideEnd</td>\n",
       "    </tr>\n",
       "    <tr>\n",
       "      <th>14870527</th>\n",
       "      <td>2018-04-18 20:37:00</td>\n",
       "      <td>2018-04-19 11:14:00</td>\n",
       "      <td>14.6167</td>\n",
       "      <td>URG101_003DIV101_703DIV104_602End</td>\n",
       "    </tr>\n",
       "  </tbody>\n",
       "</table>\n",
       "<p>867 rows × 4 columns</p>\n",
       "</div>"
      ],
      "text/plain": [
       "                     Entrada              Salida Duracion  \\\n",
       "14817280 2018-03-30 18:14:00 2018-03-30 22:06:00  3.86667   \n",
       "14931970 2018-05-13 16:37:00 2018-05-14 00:14:00  7.61667   \n",
       "14888963 2018-04-25 16:06:00 2018-04-26 12:26:00  20.3333   \n",
       "14696460 2018-02-15 12:04:00 2018-02-16 15:55:00    27.85   \n",
       "14579725 2018-01-04 21:05:00 2018-01-04 22:46:00  1.68333   \n",
       "...                      ...                 ...      ...   \n",
       "14888950 2018-04-25 17:31:00 2018-05-15 14:18:00  476.783   \n",
       "14682104 2018-02-08 14:27:00 2018-02-09 13:53:00  23.4333   \n",
       "14716923 2018-02-23 10:13:00 2018-02-23 18:39:00  8.43333   \n",
       "14716925 2018-02-23 17:47:00 2018-02-24 14:22:00  20.5833   \n",
       "14870527 2018-04-18 20:37:00 2018-04-19 11:14:00  14.6167   \n",
       "\n",
       "                                                       Ruta  \n",
       "14817280                  URG101_003DIV101_703DIV103_204End  \n",
       "14931970  URG101_003DIV101_703DIV102_203OPR102_001OPR101...  \n",
       "14888963                     URG101_003DIV101_703OutsideEnd  \n",
       "14696460                  URG101_003DIV101_703DIV101_604End  \n",
       "14579725                            URG101_003DIV101_703End  \n",
       "...                                                     ...  \n",
       "14888950           URG101_003DIV101_703OutsideDIV101_603End  \n",
       "14682104                  URG101_003DIV101_703DIV104_602End  \n",
       "14716923                            URG101_003DIV101_703End  \n",
       "14716925                     URG101_003DIV101_703OutsideEnd  \n",
       "14870527                  URG101_003DIV101_703DIV104_602End  \n",
       "\n",
       "[867 rows x 4 columns]"
      ]
     },
     "execution_count": 46,
     "metadata": {},
     "output_type": "execute_result"
    }
   ],
   "source": [
    "df_info_pacientes = pd.DataFrame(dic_info_pacientes).T\n"
   ]
  },
  {
   "cell_type": "markdown",
   "metadata": {},
   "source": [
    "# Obtenemos el estado actual de los KPI"
   ]
  },
  {
   "cell_type": "markdown",
   "metadata": {},
   "source": [
    "### Lead time promedio"
   ]
  },
  {
   "cell_type": "code",
   "execution_count": 48,
   "metadata": {},
   "outputs": [
    {
     "data": {
      "text/plain": [
       "81.9152056901192"
      ]
     },
     "execution_count": 48,
     "metadata": {},
     "output_type": "execute_result"
    }
   ],
   "source": [
    "df_info_pacientes[\"Duracion\"].mean()"
   ]
  },
  {
   "cell_type": "markdown",
   "metadata": {},
   "source": [
    "### 5% de peores casos"
   ]
  },
  {
   "cell_type": "code",
   "execution_count": 63,
   "metadata": {},
   "outputs": [
    {
     "name": "stdout",
     "output_type": "stream",
     "text": [
      "971.1093023255813\n",
      "453.93333333333334\n",
      "4517.7\n"
     ]
    }
   ],
   "source": [
    "duraciones = df_info_pacientes[\"Duracion\"].sort_values()\n",
    "n_5_peor = int(duraciones.shape[0]*0.05)\n",
    "pct_5_peores_casos = duraciones.iloc[-n_5_peor:]\n",
    "print(pct_5_peores_casos.mean())\n",
    "print(pct_5_peores_casos.min())\n",
    "print(pct_5_peores_casos.max())"
   ]
  },
  {
   "cell_type": "markdown",
   "metadata": {},
   "source": [
    "# Analizamos las llegadas"
   ]
  },
  {
   "cell_type": "markdown",
   "metadata": {},
   "source": [
    "### Histograma de llegadas(solo para llegadas en menos de 24 horas)"
   ]
  },
  {
   "cell_type": "code",
   "execution_count": 113,
   "metadata": {},
   "outputs": [
    {
     "data": {
      "text/plain": [
       "Text(0.5, 1.0, 'Tiempo entre llegadas (Para tiempos menores a 24 horas)')"
      ]
     },
     "execution_count": 113,
     "metadata": {},
     "output_type": "execute_result"
    },
    {
     "data": {
      "image/png": "[encoded data removed]",
      "text/plain": [
       "<Figure size 432x288 with 1 Axes>"
      ]
     },
     "metadata": {},
     "output_type": "display_data"
    }
   ],
   "source": [
    "llegadas = df_info_pacientes[\"Entrada\"].sort_values()\n",
    "tiempo_entre_llegadas = (llegadas.shift(-1) - llegadas)/np.timedelta64(1,\"h\")\n",
    "hist = tiempo_entre_llegadas[tiempo_entre_llegadas < 24].hist(bins = 24)\n",
    "hist.set_xlabel(\"Horas\")\n",
    "hist.set_title(\"Tiempo entre llegadas (Para tiempos menores a 24 horas)\")"
   ]
  },
  {
   "cell_type": "code",
   "execution_count": 114,
   "metadata": {},
   "outputs": [
    {
     "data": {
      "text/plain": [
       "Text(0.5, 0, 'Hora del día')"
      ]
     },
     "execution_count": 114,
     "metadata": {},
     "output_type": "execute_result"
    },
    {
     "data": {
      "image/png": "[encoded data removed]",
      "text/plain": [
       "<Figure size 432x288 with 1 Axes>"
      ]
     },
     "metadata": {},
     "output_type": "display_data"
    }
   ],
   "source": [
    "horas_entrada = [entrada.hour for entrada in df_info_pacientes[\"Entrada\"]]\n",
    "df_info_pacientes[\"Hora entrada\"] = horas_entrada\n",
    "hist = df_info_pacientes[\"Hora entrada\"].plot.hist(bins = 24,title = \"Distribución de llegadas a lo largo del día\")\n",
    "hist.set_xlabel(\"Hora del día\")"
   ]
  },
  {
   "cell_type": "markdown",
   "metadata": {},
   "source": [
    "# Segundo set  (Operaciones)"
   ]
  },
  {
   "cell_type": "code",
   "execution_count": 133,
   "metadata": {},
   "outputs": [
    {
     "name": "stdout",
     "output_type": "stream",
     "text": [
      "2.4310679611650485\n",
      "4.1\n",
      "0.0\n"
     ]
    }
   ],
   "source": [
    "print(datos_operaciones[\"DURACION (hrs)\"].mean())\n",
    "print(datos_operaciones[\"DURACION (hrs)\"].max())\n",
    "print(datos_operaciones[\"DURACION (hrs)\"].min())"
   ]
  },
  {
   "cell_type": "code",
   "execution_count": 135,
   "metadata": {},
   "outputs": [
    {
     "data": {
      "text/plain": [
       "Text(0.5, 0, 'Horas')"
      ]
     },
     "execution_count": 135,
     "metadata": {},
     "output_type": "execute_result"
    },
    {
     "data": {
      "image/png": "[encoded data removed]",
      "text/plain": [
       "<Figure size 432x288 with 1 Axes>"
      ]
     },
     "metadata": {},
     "output_type": "display_data"
    }
   ],
   "source": [
    "hist = datos_operaciones[\"DURACION (hrs)\"].plot.hist()\n",
    "hist.set_title(\"Distribución de la duración de las operaciones\")\n",
    "hist.set_xlabel(\"Horas\")"
   ]
  },
  {
   "cell_type": "code",
   "execution_count": 129,
   "metadata": {},
   "outputs": [
    {
     "data": {
      "text/plain": [
       "Text(0.5, 1.0, 'Cantidad de operaciones recibidas por paciente')"
      ]
     },
     "execution_count": 129,
     "metadata": {},
     "output_type": "execute_result"
    },
    {
     "data": {
      "image/png": "[encoded data removed]",
      "text/plain": [
       "<Figure size 432x288 with 1 Axes>"
      ]
     },
     "metadata": {},
     "output_type": "display_data"
    }
   ],
   "source": [
    "hist = datos_operaciones[\"ID\"].value_counts().hist(bins = 20)\n",
    "hist.set_xlabel(\"Número de operaciones recibidas\")\n",
    "hist.set_title(\"Cantidad de operaciones recibidas por paciente\")"
   ]
  },
  {
   "cell_type": "code",
   "execution_count": 128,
   "metadata": {},
   "outputs": [
    {
     "data": {
      "text/plain": [
       "Text(0, 0.5, 'Número de operaciones realizadas')"
      ]
     },
     "execution_count": 128,
     "metadata": {},
     "output_type": "execute_result"
    },
    {
     "data": {
      "image/png": "[encoded data removed]",
      "text/plain": [
       "<Figure size 432x288 with 1 Axes>"
      ]
     },
     "metadata": {},
     "output_type": "display_data"
    }
   ],
   "source": [
    "barplot = datos_operaciones[\"SALA OPERACIONES\"].value_counts().plot.bar()\n",
    "barplot.set_title(\"Salas más utilizadas para operaciones\")\n",
    "barplot.set_ylabel(\"Número de operaciones realizadas\")"
   ]
  },
  {
   "cell_type": "code",
   "execution_count": 130,
   "metadata": {},
   "outputs": [
    {
     "data": {
      "text/html": [
       "<div>\n",
       "<style scoped>\n",
       "    .dataframe tbody tr th:only-of-type {\n",
       "        vertical-align: middle;\n",
       "    }\n",
       "\n",
       "    .dataframe tbody tr th {\n",
       "        vertical-align: top;\n",
       "    }\n",
       "\n",
       "    .dataframe thead th {\n",
       "        text-align: right;\n",
       "    }\n",
       "</style>\n",
       "<table border=\"1\" class=\"dataframe\">\n",
       "  <thead>\n",
       "    <tr style=\"text-align: right;\">\n",
       "      <th></th>\n",
       "      <th>ID</th>\n",
       "      <th>SALA OPERACIONES</th>\n",
       "      <th>FECHA E INICIO</th>\n",
       "      <th>DURACION (hrs)</th>\n",
       "    </tr>\n",
       "  </thead>\n",
       "  <tbody>\n",
       "    <tr>\n",
       "      <th>0</th>\n",
       "      <td>14548704</td>\n",
       "      <td>OPR101_011</td>\n",
       "      <td>2018-01-02 10:15:00.000</td>\n",
       "      <td>2.8</td>\n",
       "    </tr>\n",
       "    <tr>\n",
       "      <th>1</th>\n",
       "      <td>14557024</td>\n",
       "      <td>OPR101_011</td>\n",
       "      <td>2017-12-22 13:37:00.000</td>\n",
       "      <td>1.6</td>\n",
       "    </tr>\n",
       "    <tr>\n",
       "      <th>2</th>\n",
       "      <td>14557024</td>\n",
       "      <td>OPR101_011</td>\n",
       "      <td>2018-01-12 15:36:00.000</td>\n",
       "      <td>1.2</td>\n",
       "    </tr>\n",
       "    <tr>\n",
       "      <th>3</th>\n",
       "      <td>14562339</td>\n",
       "      <td>OPR101_011</td>\n",
       "      <td>2018-01-03 15:56:00.000</td>\n",
       "      <td>1.3</td>\n",
       "    </tr>\n",
       "    <tr>\n",
       "      <th>4</th>\n",
       "      <td>14568735</td>\n",
       "      <td>OPR101_011</td>\n",
       "      <td>2018-01-05 18:34:00.000</td>\n",
       "      <td>3.2</td>\n",
       "    </tr>\n",
       "    <tr>\n",
       "      <th>...</th>\n",
       "      <td>...</td>\n",
       "      <td>...</td>\n",
       "      <td>...</td>\n",
       "      <td>...</td>\n",
       "    </tr>\n",
       "    <tr>\n",
       "      <th>407</th>\n",
       "      <td>14775043000</td>\n",
       "      <td>OPR102_003</td>\n",
       "      <td>2018-03-15 15:17:00.000</td>\n",
       "      <td>2.4</td>\n",
       "    </tr>\n",
       "    <tr>\n",
       "      <th>408</th>\n",
       "      <td>14799531000</td>\n",
       "      <td>OPR102_003</td>\n",
       "      <td>2018-03-26 13:02:00.000</td>\n",
       "      <td>3.3</td>\n",
       "    </tr>\n",
       "    <tr>\n",
       "      <th>409</th>\n",
       "      <td>14867095000</td>\n",
       "      <td>OPR102_003</td>\n",
       "      <td>2018-04-17 18:25:00.000</td>\n",
       "      <td>3.4</td>\n",
       "    </tr>\n",
       "    <tr>\n",
       "      <th>410</th>\n",
       "      <td>14973437000</td>\n",
       "      <td>OPR102_003</td>\n",
       "      <td>2018-05-30 13:42:00.000</td>\n",
       "      <td>2.4</td>\n",
       "    </tr>\n",
       "    <tr>\n",
       "      <th>411</th>\n",
       "      <td>15057073000</td>\n",
       "      <td>OPR102_003</td>\n",
       "      <td>2018-06-29 14:41:00.000</td>\n",
       "      <td>2.5</td>\n",
       "    </tr>\n",
       "  </tbody>\n",
       "</table>\n",
       "<p>412 rows × 4 columns</p>\n",
       "</div>"
      ],
      "text/plain": [
       "              ID SALA OPERACIONES           FECHA E INICIO  DURACION (hrs)\n",
       "0       14548704       OPR101_011  2018-01-02 10:15:00.000             2.8\n",
       "1       14557024       OPR101_011  2017-12-22 13:37:00.000             1.6\n",
       "2       14557024       OPR101_011  2018-01-12 15:36:00.000             1.2\n",
       "3       14562339       OPR101_011  2018-01-03 15:56:00.000             1.3\n",
       "4       14568735       OPR101_011  2018-01-05 18:34:00.000             3.2\n",
       "..           ...              ...                      ...             ...\n",
       "407  14775043000       OPR102_003  2018-03-15 15:17:00.000             2.4\n",
       "408  14799531000       OPR102_003  2018-03-26 13:02:00.000             3.3\n",
       "409  14867095000       OPR102_003  2018-04-17 18:25:00.000             3.4\n",
       "410  14973437000       OPR102_003  2018-05-30 13:42:00.000             2.4\n",
       "411  15057073000       OPR102_003  2018-06-29 14:41:00.000             2.5\n",
       "\n",
       "[412 rows x 4 columns]"
      ]
     },
     "execution_count": 130,
     "metadata": {},
     "output_type": "execute_result"
    }
   ],
   "source": [
    "datos_operaciones"
   ]
  },
  {
   "cell_type": "code",
   "execution_count": null,
   "metadata": {},
   "outputs": [],
   "source": []
  }
 ],
 "metadata": {
  "interpreter": {
   "hash": "8376b097bc99cca5bfa45a6685cdab43436475c8c04b0a1fefb6690ea3d6d0b4"
  },
  "kernelspec": {
   "display_name": "Python 3.8.8 64-bit",
   "language": "python",
   "name": "python3"
  },
  "language_info": {
   "codemirror_mode": {
    "name": "ipython",
    "version": 3
   },
   "file_extension": ".py",
   "mimetype": "text/x-python",
   "name": "python",
   "nbconvert_exporter": "python",
   "pygments_lexer": "ipython3",
   "version": "3.8.8"
  },
  "orig_nbformat": 4
 },
 "nbformat": 4,
 "nbformat_minor": 2
}
